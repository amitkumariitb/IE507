{
  "nbformat": 4,
  "nbformat_minor": 0,
  "metadata": {
    "colab": {
      "name": "20i190005_IE507_Lab7_Ex3.ipynb",
      "provenance": []
    },
    "kernelspec": {
      "name": "python3",
      "display_name": "Python 3"
    }
  },
  "cells": [
    {
      "cell_type": "code",
      "metadata": {
        "id": "40AhS_l8K-VK",
        "outputId": "f070bcc7-cefa-4a78-98dd-6157fdb13adb",
        "colab": {
          "base_uri": "https://localhost:8080/",
          "height": 170
        }
      },
      "source": [
        "%%bash\n",
        "rm -fv ipopt*\n",
        "apt install -q -yy libgfortran5\n",
        "sleep 1\n",
        "wget -q https://www.ieor.iitb.ac.in/files/faculty/amahajan/ipopt\n",
        "wget -q https://www.ieor.iitb.ac.in/files/faculty/amahajan/test.nl\n",
        "chmod u+rx ipopt"
      ],
      "execution_count": null,
      "outputs": [
        {
          "output_type": "stream",
          "text": [
            "removed 'ipopt'\n",
            "Reading package lists...\n",
            "Building dependency tree...\n",
            "Reading state information...\n",
            "libgfortran5 is already the newest version (8.4.0-1ubuntu1~18.04).\n",
            "0 upgraded, 0 newly installed, 0 to remove and 21 not upgraded.\n"
          ],
          "name": "stdout"
        },
        {
          "output_type": "stream",
          "text": [
            "\n",
            "WARNING: apt does not have a stable CLI interface. Use with caution in scripts.\n",
            "\n"
          ],
          "name": "stderr"
        }
      ]
    },
    {
      "cell_type": "code",
      "metadata": {
        "id": "CQlfTMSxLgdg",
        "outputId": "77747e3e-fcc3-40ef-b94b-0e5b3c5c2312",
        "colab": {
          "base_uri": "https://localhost:8080/",
          "height": 986
        }
      },
      "source": [
        "!./ipopt test.nl"
      ],
      "execution_count": null,
      "outputs": [
        {
          "output_type": "stream",
          "text": [
            "\n",
            "\n",
            "******************************************************************************\n",
            "This program contains Ipopt, a library for large-scale nonlinear optimization.\n",
            " Ipopt is released as open source code under the Eclipse Public License (EPL).\n",
            "         For more information visit http://projects.coin-or.org/Ipopt\n",
            "******************************************************************************\n",
            "\n",
            "This is Ipopt version 3.13.2, running with linear solver mumps.\n",
            "NOTE: Other linear solvers might be more efficient (see Ipopt documentation).\n",
            "\n",
            "Number of nonzeros in equality constraint Jacobian...:        0\n",
            "Number of nonzeros in inequality constraint Jacobian.:        0\n",
            "Number of nonzeros in Lagrangian Hessian.............:      230\n",
            "\n",
            "Total number of variables............................:       30\n",
            "                     variables with only lower bounds:       30\n",
            "                variables with lower and upper bounds:        0\n",
            "                     variables with only upper bounds:        0\n",
            "Total number of equality constraints.................:        0\n",
            "Total number of inequality constraints...............:        0\n",
            "        inequality constraints with only lower bounds:        0\n",
            "   inequality constraints with lower and upper bounds:        0\n",
            "        inequality constraints with only upper bounds:        0\n",
            "\n",
            "iter    objective    inf_pr   inf_du lg(mu)  ||d||  lg(rg) alpha_du alpha_pr  ls\n",
            "   0  1.7201186e+00 0.00e+00 1.00e+00  -1.0 0.00e+00    -  0.00e+00 0.00e+00   0\n",
            "   1  1.7260509e+00 0.00e+00 1.01e-02  -1.0 3.61e-01    -  9.90e-01 1.00e+00f  1\n",
            "   2  1.7538885e+00 0.00e+00 1.00e-06  -1.0 5.55e+00    -  1.00e+00 1.00e+00f  1\n",
            "   3  1.7211737e+00 0.00e+00 1.55e-02  -2.5 4.25e+00    -  9.50e-01 1.00e+00f  1\n",
            "   4  1.7201208e+00 0.00e+00 1.50e-09  -3.8 1.59e+00    -  1.00e+00 1.00e+00f  1\n",
            "   5  1.7201186e+00 0.00e+00 2.22e-11  -5.7 7.22e-02    -  1.00e+00 1.00e+00f  1\n",
            "   6  1.7201186e+00 0.00e+00 3.08e-12  -8.6 3.43e-04    -  1.00e+00 1.00e+00f  1\n",
            "\n",
            "Number of Iterations....: 6\n",
            "\n",
            "                                   (scaled)                 (unscaled)\n",
            "Objective...............:   1.7201185696472858e+00    1.7201185696472858e+00\n",
            "Dual infeasibility......:   3.0848629611540733e-12    3.0848629611540733e-12\n",
            "Constraint violation....:   0.0000000000000000e+00    0.0000000000000000e+00\n",
            "Complementarity.........:   2.5414705854774420e-09    2.5414705854774420e-09\n",
            "Overall NLP error.......:   2.5414705854774420e-09    2.5414705854774420e-09\n",
            "\n",
            "\n",
            "Number of objective function evaluations             = 7\n",
            "Number of objective gradient evaluations             = 7\n",
            "Number of equality constraint evaluations            = 0\n",
            "Number of inequality constraint evaluations          = 0\n",
            "Number of equality constraint Jacobian evaluations   = 0\n",
            "Number of inequality constraint Jacobian evaluations = 0\n",
            "Number of Lagrangian Hessian evaluations             = 6\n",
            "Total CPU secs in IPOPT (w/o function evaluations)   =      0.005\n",
            "Total CPU secs in NLP function evaluations           =      0.000\n",
            "\n",
            "EXIT: Optimal Solution Found.\n",
            " \n",
            "Ipopt 3.13.2: Optimal Solution Found\n"
          ],
          "name": "stdout"
        }
      ]
    },
    {
      "cell_type": "code",
      "metadata": {
        "id": "8dHmieKmLlNO"
      },
      "source": [
        "!pip install -q pyomo\n",
        "import numpy as np\n",
        "from pyomo.environ import *\n",
        "import pandas as pd"
      ],
      "execution_count": null,
      "outputs": []
    },
    {
      "cell_type": "markdown",
      "metadata": {
        "id": "Z1EMKYltOZ2u"
      },
      "source": [
        "**1. ANSWER:** \\\n",
        "**We have the following optimization problem from lab6 :**\n",
        "\n",
        " \\begin{array}{l}\n",
        "Here\\ b_{0} \\ ,\\ b_{1} \\ and\\ b_{2} \\ are\\ the\\ decision\\ variables\\ as\\ described\\ in\\ the\\ question.\\\\\n",
        "\\bf{Min}\\\\\n",
        "\\> \\> \\> \\ \\ \\ \\ \\ \\  \\ \\ \\sum ^{6}_{i=1} |R_{i} | \\\\\n",
        "where\\  \\ R_{i} =\\ P_{i} \\ -\\widetilde{P_{i}}\\\\\n",
        "and\\ \\ \\ \\ \\ \\tilde{P}_{i} \\ =b_{0} +b_{1} L_{i} +b_{2} E_{i} \\ \\ \\ \\ \\ ;\\ \\ i=\\ 1,2,\\ .\\ .\\ .\\ ,6.\\\\\n",
        "\\\\\n",
        "s.t\\\\\n",
        "b_{0}\\geqslant 0 \\ , \\ and \\ b_{1},\\ b_{2}\\ \\epsilon\\ \\bf{R}\\ \\\\\n",
        "\\end{array}"
      ]
    },
    {
      "cell_type": "markdown",
      "metadata": {
        "id": "e2myfLPdUvhy"
      },
      "source": [
        "**Now, Problem solving Approach for lab7 is as follows:** \n",
        "\n",
        " \\begin{array}{l}\n",
        "Let\\ \\ \\ \\ \\ \\ \\ \\ \\ \\ e_{i} \\ =\\ R_{i} \\\\\n",
        "Then\\ the\\ objective\\ funtion\\ reduces \\ to\\ :\\\\\n",
        "\\\\\n",
        "\\bf{Min}\\ \\ \\ \\ \\ \\ \\sum ^{6}_{i=1} e_{i}^2 \\\\\n",
        "b_{0}\\geqslant 0 \\ , \\ and \\ b_{1},\\ b_{2}\\ \\epsilon\\ \\bf{R}\n",
        "\\end{array}"
      ]
    },
    {
      "cell_type": "code",
      "metadata": {
        "id": "um21KyIdOD6b",
        "outputId": "49b85f5b-641e-404f-bb46-c589ff055640",
        "colab": {
          "base_uri": "https://localhost:8080/",
          "height": 343
        }
      },
      "source": [
        "model = ConcreteModel()\n",
        "M=[0,1,2]\n",
        "model.b = Var(M)\n",
        "model.b[0].setlb(0)\n",
        "\n",
        "\n",
        "model.obj = Objective(expr = (175000-(model.b[0]+1800*model.b[1]+250*model.b[2]))**2+(150000-(model.b[0]+2800*model.b[1]+400*model.b[2]))**2+\n",
        "                             (125000-(model.b[0]+3500*model.b[1]+450*model.b[2]))**2+(90000-(model.b[0]+800*model.b[1]+100*model.b[2]))**2+\n",
        "                              (80000-(model.b[0]+700*model.b[1]+200*model.b[2]))**2+(120000-(model.b[0]+500*model.b[1]+50*model.b[2]))**2, sense=minimize)\n",
        "\n",
        "model.pprint()"
      ],
      "execution_count": null,
      "outputs": [
        {
          "output_type": "stream",
          "text": [
            "1 Set Declarations\n",
            "    b_index : Size=1, Index=None, Ordered=Insertion\n",
            "        Key  : Dimen : Domain : Size : Members\n",
            "        None :     1 :    Any :    3 : {0, 1, 2}\n",
            "\n",
            "1 Var Declarations\n",
            "    b : Size=3, Index=b_index\n",
            "        Key : Lower : Value : Upper : Fixed : Stale : Domain\n",
            "          0 :     0 :  None :  None : False :  True :  Reals\n",
            "          1 :  None :  None :  None : False :  True :  Reals\n",
            "          2 :  None :  None :  None : False :  True :  Reals\n",
            "\n",
            "1 Objective Declarations\n",
            "    obj : Size=1, Index=None, Active=True\n",
            "        Key  : Active : Sense    : Expression\n",
            "        None :   True : minimize : (175000 - (b[0] + 1800*b[1] + 250*b[2]))**2 + (150000 - (b[0] + 2800*b[1] + 400*b[2]))**2 + (125000 - (b[0] + 3500*b[1] + 450*b[2]))**2 + (90000 - (b[0] + 800*b[1] + 100*b[2]))**2 + (80000 - (b[0] + 700*b[1] + 200*b[2]))**2 + (120000 - (b[0] + 500*b[1] + 50*b[2]))**2\n",
            "\n",
            "3 Declarations: b_index b obj\n"
          ],
          "name": "stdout"
        }
      ]
    },
    {
      "cell_type": "code",
      "metadata": {
        "id": "CMN2oC-Oi8aH",
        "outputId": "9e12f81c-ebc5-40a9-b282-3301a890944e",
        "colab": {
          "base_uri": "https://localhost:8080/",
          "height": 187
        }
      },
      "source": [
        "opt_ipopt = SolverFactory('ipopt')\n",
        "result = opt_ipopt.solve(model)\n",
        "print('Status :',result.solver.status)\n",
        "print('Termination Condition :',result.solver.termination_condition)\n",
        "print('\\nThe optimal value of the objective function is :',model.obj())\n",
        "print('\\nThe value of the decision variables are : ')\n",
        "print()\n",
        "for i in range(3):\n",
        "  print('b[',i,'] = ', model.b[i].value)"
      ],
      "execution_count": null,
      "outputs": [
        {
          "output_type": "stream",
          "text": [
            "Status : ok\n",
            "Termination Condition : optimal\n",
            "\n",
            "The optimal value of the objective function is : 4291134028.8074555\n",
            "\n",
            "The value of the decision variables are : \n",
            "\n",
            "b[ 0 ] =  104904.4164371955\n",
            "b[ 1 ] =  38.702075831391646\n",
            "b[ 2 ] =  -193.3223893242956\n"
          ],
          "name": "stdout"
        }
      ]
    },
    {
      "cell_type": "markdown",
      "metadata": {
        "id": "qZnIjoizmgc2"
      },
      "source": [
        "**2.ANSWER:**\\\n",
        "The optimal value of the objective function is : 4291134028.8074555 \\\n",
        "The value of the decision variables are : \\\n",
        "**b[ 0 ] =  104904.4164371955 ,\n",
        "b[ 1 ] =  38.702075831391646 ,\n",
        "b[ 2 ] =  -193.3223893242956** \\\n",
        "\n",
        "in lab6 the absolute value\n",
        "of the residuals was **125454.545** whereas in lab7 the value is **4291134028.8074555**, a huge difference we have because of the introduction of the squares of the residuals,which are more sensitive to any slight changes. \n"
      ]
    }
  ]
}