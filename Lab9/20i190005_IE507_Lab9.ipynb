{
  "nbformat": 4,
  "nbformat_minor": 0,
  "metadata": {
    "colab": {
      "name": "20i190005_IE507_Lab9.ipynb",
      "provenance": [],
      "collapsed_sections": []
    },
    "kernelspec": {
      "name": "python3",
      "display_name": "Python 3"
    }
  },
  "cells": [
    {
      "cell_type": "markdown",
      "metadata": {
        "id": "FPxAWvFVfYaM"
      },
      "source": [
        "**1.ANSWER**"
      ]
    },
    {
      "cell_type": "code",
      "metadata": {
        "id": "50aqHXqmcDFl",
        "outputId": "fa5e1b68-d29a-413e-869b-2643ae8634f0",
        "colab": {
          "base_uri": "https://localhost:8080/",
          "height": 314
        }
      },
      "source": [
        "#generating 100 random numbers uniformly distributed between 0 and 5.\n",
        "import numpy as np \n",
        "import random as rand\n",
        "\n",
        "import matplotlib.pyplot as plt  # for plotting.\n",
        "\n",
        "#rand.seed(a=1.5)\n",
        "Sum = []\n",
        "j=1\n",
        "while j<=50000:\n",
        "  l = []\n",
        "  for i in range(100):\n",
        "    r = rand.uniform(0,5)\n",
        "    l.append(r)\n",
        "  else:\n",
        "    Sum.append(sum(l))\n",
        "  j=j+1\n",
        "\n",
        "fig, ax = plt.subplots(tight_layout=True)\n",
        "hist = ax.hist(Sum, bins=50)\n",
        "ax.set_ylabel('Frequency')\n",
        "ax.set_xlabel('Value')\n",
        "\n",
        "ax.set_title('Distribution of the sums of random numbers in [0,5]')"
      ],
      "execution_count": null,
      "outputs": [
        {
          "output_type": "execute_result",
          "data": {
            "text/plain": [
              "Text(0.5, 1.0, 'Distribution of the sums of random numbers in [0,5]')"
            ]
          },
          "metadata": {
            "tags": []
          },
          "execution_count": 34
        },
        {
          "output_type": "display_data",
          "data": {
            "image/png": "[encoded data removed]",
            "text/plain": [
              "<Figure size 432x288 with 1 Axes>"
            ]
          },
          "metadata": {
            "tags": [],
            "needs_background": "light"
          }
        }
      ]
    },
    {
      "cell_type": "markdown",
      "metadata": {
        "id": "l4i6O8eRkGcF"
      },
      "source": [
        "**COMMENTS:** \\\\\n",
        "It is bell-shaped, which is similar to the pdf of standard normal distribution. \\\\\n",
        "It is what we have expected. \\\\\n",
        "Since, for sample size, extremely large the graph tends to look like standard normal density."
      ]
    },
    {
      "cell_type": "markdown",
      "metadata": {
        "id": "yk50uN5MU4lw"
      },
      "source": [
        "**2.ANSWER** \\\\\n",
        "\\begin{array}{1}\n",
        "CASE \\ I:\\ \\ For \\ \\ Independent \\ \\ rvs >>\n",
        "\\ \\ \n",
        "Since \\ \\ x\\ \\ , \\ \\ y \\ , \\ and \\ \\ z \\\\\n",
        "are \\ \\ Exponentially \\ \\ distributed \\ rvs \\\\\n",
        "with \\ mean \\ 2 \\ , \\ 4 \\  \\ and \\  \\ 8  \\ \\ respectively \\\\\n",
        "Therefore \\ , \\\\\n",
        "\\ \\ \\ \\ \\ w \\ = \\ min \\ ( \\ x , \\ y , \\ z )  \\\\\n",
        "is  \\ \\ Exponentially \\  distributed \\ random \\ \\ variable\\ with \\ mean \\ = \\ 2+4+8=14.\n",
        "\\end{array}"
      ]
    },
    {
      "cell_type": "code",
      "metadata": {
        "id": "oe7wyNHUcV7L",
        "outputId": "b0ae0355-b4d4-4281-fc1f-4826784323e9",
        "colab": {
          "base_uri": "https://localhost:8080/",
          "height": 346
        }
      },
      "source": [
        "##CASE II: FOR NON-INDEPENDENCE\n",
        "#generating random samples from exponential distribution \n",
        "from numpy import random\n",
        "import matplotlib.pyplot as plt\n",
        "w=[]\n",
        "j=0\n",
        "while j<50000:\n",
        "  x = random.exponential(scale=2)#if we remove size by default it takes size 1\n",
        "  y = random.exponential(scale=4)\n",
        "  z = random.exponential(scale=8)\n",
        "  w.append(min(x,y,z))\n",
        "  j=j+1\n",
        "\n",
        "##plotting graph of w\n",
        "plt.figure(figsize=(10,5))\n",
        "plt.hist(w,bins=50)\n",
        "plt.xlabel(r'$w$', fontsize=20,color='r')\n",
        "plt.ylabel(r'Frequency',fontsize=20,color='r')\n",
        "plt.show()\n"
      ],
      "execution_count": null,
      "outputs": [
        {
          "output_type": "display_data",
          "data": {
            "image/png": "[encoded data removed]",
            "text/plain": [
              "<Figure size 720x360 with 1 Axes>"
            ]
          },
          "metadata": {
            "tags": [],
            "needs_background": "light"
          }
        }
      ]
    },
    {
      "cell_type": "markdown",
      "metadata": {
        "id": "0yApQB50qetY"
      },
      "source": [
        "This is similar to the pdf of an exponentially distributed rv. \\\\\n",
        "Its exactly what we have expected,"
      ]
    },
    {
      "cell_type": "markdown",
      "metadata": {
        "id": "2jrpUnGWQeK_"
      },
      "source": [
        "**3.ANSWER**"
      ]
    },
    {
      "cell_type": "code",
      "metadata": {
        "id": "C2sQhAVAx7f-"
      },
      "source": [
        "C=35\n",
        "P=45\n",
        "S=30\n",
        "##CRITICAL RATIO\n",
        "CR=2/3   ##10/(10+5)"
      ],
      "execution_count": null,
      "outputs": []
    },
    {
      "cell_type": "code",
      "metadata": {
        "id": "t7ih0SmPRnI3",
        "outputId": "1ec7af77-fb27-43ba-fe41-dedfca946ef2",
        "colab": {
          "base_uri": "https://localhost:8080/"
        }
      },
      "source": [
        "## d=100+100*b , where b has beta dist. with alpha=5,beta=2\n",
        "from scipy.stats import beta\n",
        "value = beta.ppf(2/3, 5, 2)\n",
        "print('value = ',value)\n",
        "Q = 100 + 100*value  ## here Q is the economic order quantity\n",
        "print('Q = Economic order Quantity = ',Q , ' i.e approximately = ',int(Q)+1)"
      ],
      "execution_count": null,
      "outputs": [
        {
          "output_type": "stream",
          "text": [
            "value =  0.8046012061939081\n",
            "Q = Economic order Quantity =  180.4601206193908  i.e approximately =  181\n"
          ],
          "name": "stdout"
        }
      ]
    },
    {
      "cell_type": "code",
      "metadata": {
        "id": "tchjxl-JZGl5",
        "outputId": "84a5d49a-7b16-4c9e-b466-8e5245704317",
        "colab": {
          "base_uri": "https://localhost:8080/"
        }
      },
      "source": [
        "## Since b is between zero and one, we can try different stock levels between 100 and 200 ,let us for this we generate 1000 random samples.\n",
        "b=[]\n",
        "for i in range(1000):\n",
        "  random_num=rand.betavariate(5,2)\n",
        "  b.append(random_num)\n",
        "\n",
        "d=[]\n",
        "for i in b:\n",
        "  dem=100+100*i\n",
        "  d.append(dem)\n",
        "m=np.mean(d)       #this value is not fixed.\n",
        "print(m)"
      ],
      "execution_count": null,
      "outputs": [
        {
          "output_type": "stream",
          "text": [
            "170.4415402041184\n"
          ],
          "name": "stdout"
        }
      ]
    },
    {
      "cell_type": "code",
      "metadata": {
        "id": "TKV_eA5uhoQ6"
      },
      "source": [
        "short_invt=[]\n",
        "for i in d:\n",
        "  if i-m>=0:\n",
        "    short_invt.append(i-m)\n",
        "  else:\n",
        "    short_invt.append(0)\n",
        "demand=np.array(d)\n",
        "shortage=np.array(short_invt)\n",
        "sale=demand-shortage\n",
        "  \n",
        "  \n",
        "  \n",
        "\n"
      ],
      "execution_count": null,
      "outputs": []
    },
    {
      "cell_type": "code",
      "metadata": {
        "id": "SLdXdU25t7Tm"
      },
      "source": [
        "k=[]\n",
        "for i in d:\n",
        "  k.append(i-m) \n",
        "l_invt=[]\n",
        "for i in k:\n",
        "  if i<=0:\n",
        "    l_invt.append(abs(i))\n",
        "  else:\n",
        "    l_invt.append(0)\n",
        "leftover_invt=np.array(l_invt)"
      ],
      "execution_count": null,
      "outputs": []
    },
    {
      "cell_type": "code",
      "metadata": {
        "id": "qXEbAI9SvjUw",
        "outputId": "223f6655-9048-4547-84a1-c54b52caba18",
        "colab": {
          "base_uri": "https://localhost:8080/"
        }
      },
      "source": [
        "profit = (45-35)*sale-(35-30)*leftover_invt\n",
        "print(profit)"
      ],
      "execution_count": null,
      "outputs": [
        {
          "output_type": "stream",
          "text": [
            "[1704.41540204 1704.41540204 1668.90120783 1239.59262557 1704.41540204\n",
            " 1551.66952249 1704.41540204 1704.41540204 1704.41540204 1704.41540204\n",
            " 1704.41540204 1693.24793454 1669.23658926 1621.20440764 1351.19321649\n",
            " 1704.41540204 1458.97702583 1234.12456624 1246.76555137 1471.12225109\n",
            " 1704.41540204 1688.99490571 1704.41540204 1704.41540204 1274.12955503\n",
            " 1665.38755583 1704.41540204 1477.51690124 1704.41540204 1366.38118386\n",
            " 1704.41540204 1704.41540204 1621.94656054 1704.41540204 1704.41540204\n",
            " 1704.41540204 1425.12922095 1262.83748672 1583.26810485 1465.20950665\n",
            " 1343.62148177 1454.56873931 1704.41540204 1399.70231116 1704.41540204\n",
            " 1704.41540204 1362.74864606 1704.41540204 1704.41540204 1558.62745381\n",
            " 1678.27828609 1704.41540204 1704.41540204 1704.41540204 1206.64943656\n",
            " 1571.03842809 1704.41540204 1371.74787138 1704.41540204 1652.10989698\n",
            " 1221.17819815 1704.41540204 1704.41540204 1704.41540204 1619.11989212\n",
            " 1704.41540204 1704.41540204 1704.41540204 1666.70542588 1704.41540204\n",
            " 1704.41540204 1517.0392888  1704.41540204 1471.04934999 1641.24353521\n",
            " 1704.41540204 1704.41540204 1704.41540204 1704.41540204 1360.59221559\n",
            " 1704.41540204 1462.77424646 1682.76705129 1704.41540204 1585.93967894\n",
            " 1672.14417245 1704.41540204 1089.79504618 1704.41540204 1695.62376855\n",
            " 1581.14994452 1704.41540204 1704.41540204 1550.73639411 1398.47904235\n",
            " 1704.41540204 1704.41540204 1470.74873339 1704.41540204 1542.13901617\n",
            " 1527.05733988 1704.41540204 1389.42963639 1586.1658174  1704.41540204\n",
            " 1704.41540204 1439.28401281 1704.41540204 1704.41540204 1661.95904311\n",
            " 1445.35420823 1704.41540204 1626.06208445 1667.93246383 1689.88915733\n",
            " 1704.41540204 1661.45048133 1440.89136461 1704.41540204 1704.41540204\n",
            " 1704.41540204 1704.41540204 1704.41540204 1704.41540204 1704.41540204\n",
            " 1704.41540204 1693.01544962 1704.41540204 1617.25743462 1440.84492431\n",
            " 1704.41540204 1704.41540204 1704.41540204 1704.41540204 1704.41540204\n",
            " 1670.55561262 1704.41540204 1704.41540204 1704.41540204 1704.41540204\n",
            " 1704.41540204 1704.41540204 1565.20210004 1704.41540204 1385.46212452\n",
            " 1677.73707779 1704.41540204 1704.41540204 1704.41540204 1704.41540204\n",
            " 1392.04399659 1676.30811162 1704.41540204 1691.41642507 1338.5481604\n",
            " 1704.41540204 1704.41540204 1704.41540204 1662.38579585 1286.65934152\n",
            " 1704.41540204 1704.41540204 1704.41540204 1704.41540204 1704.41540204\n",
            " 1309.16479531 1655.54440728 1704.41540204 1253.36928514 1415.90492863\n",
            " 1704.41540204 1704.41540204 1645.78370989 1704.41540204 1704.41540204\n",
            " 1704.41540204 1491.79030334 1488.95225819 1704.41540204 1674.08890077\n",
            " 1704.41540204 1704.41540204 1704.41540204 1694.51310153 1584.88250069\n",
            " 1704.41540204 1673.29963006 1484.30723473 1578.3144556  1690.11841892\n",
            " 1393.90245121 1704.41540204 1614.50505451 1629.01687095 1637.60485085\n",
            " 1094.95922268 1704.41540204 1704.41540204 1704.41540204 1704.41540204\n",
            " 1704.41540204 1704.41540204 1704.41540204 1704.41540204 1288.20823285\n",
            " 1704.41540204 1682.2490105  1704.41540204 1704.41540204 1704.41540204\n",
            " 1704.41540204 1508.74795302 1704.41540204 1704.41540204 1704.41540204\n",
            " 1541.75051166 1704.41540204 1704.41540204 1704.41540204 1615.55606588\n",
            " 1704.41540204 1687.78175512 1667.12226895 1471.17037025 1704.41540204\n",
            " 1521.7534593  1704.41540204 1450.47347282 1452.88801248 1704.41540204\n",
            " 1681.51843618 1182.36490583 1704.41540204 1704.41540204 1327.87392225\n",
            " 1704.41540204 1704.41540204 1670.63937505 1704.41540204 1312.32518228\n",
            " 1624.34817108 1704.41540204 1449.71262986 1704.41540204 1704.41540204\n",
            " 1704.41540204 1704.41540204 1672.20959038 1704.41540204 1704.41540204\n",
            " 1704.41540204 1302.31588937 1687.34016214 1332.97409181 1704.41540204\n",
            " 1704.41540204 1651.28313044 1646.71199141 1431.86969051 1623.6366186\n",
            " 1659.95072575 1275.64365892 1704.41540204 1704.41540204 1547.38321985\n",
            " 1704.41540204 1704.41540204 1480.45645071 1564.51030346 1704.41540204\n",
            " 1704.41540204 1704.41540204 1704.41540204 1660.54749759 1704.41540204\n",
            " 1560.17764805 1443.07003063 1175.15681013 1704.41540204 1011.23192558\n",
            " 1704.41540204 1447.51575219 1704.41540204 1412.60187144 1704.41540204\n",
            " 1704.41540204 1550.98125449 1704.41540204 1600.68664195 1591.79029221\n",
            " 1704.41540204 1639.06040041 1704.41540204 1704.41540204 1554.50457156\n",
            " 1704.41540204 1675.19383497 1704.41540204 1602.20311091 1704.41540204\n",
            " 1704.41540204 1704.41540204 1702.67581057 1567.45102277 1574.75447614\n",
            " 1222.66078056 1704.41540204 1633.51173323 1704.41540204 1704.41540204\n",
            " 1704.41540204 1704.41540204 1360.54526487 1704.41540204 1704.41540204\n",
            " 1704.41540204 1502.81058413 1704.41540204 1509.32396617 1704.41540204\n",
            " 1702.10955137 1615.37722708 1704.41540204 1704.41540204 1421.02572924\n",
            " 1704.41540204 1704.41540204 1704.41540204 1598.101416   1704.41540204\n",
            " 1704.41540204 1673.30745787 1704.41540204 1704.41540204 1617.4512924\n",
            " 1473.70804538 1588.85317419 1704.41540204 1190.85231608 1704.41540204\n",
            " 1704.41540204 1704.41540204 1585.17343746 1704.41540204 1704.41540204\n",
            " 1428.38571999 1704.41540204 1594.01747391 1704.41540204 1704.41540204\n",
            " 1704.41540204 1464.95281115 1531.76280707 1704.41540204 1487.630403\n",
            " 1704.41540204 1704.41540204 1181.20967405 1704.41540204 1702.72271899\n",
            " 1204.35415497 1704.41540204 1704.41540204 1059.54637685 1704.41540204\n",
            " 1704.41540204 1305.88850448 1704.41540204 1704.41540204 1704.41540204\n",
            " 1704.41540204 1704.41540204 1603.28561271 1413.29341771 1538.01822113\n",
            " 1656.75965025 1308.38423521 1704.41540204 1421.4236133  1429.73389677\n",
            " 1704.41540204 1400.89714397 1704.41540204 1704.41540204 1704.41540204\n",
            " 1704.41540204 1246.70167626 1303.18028918 1555.0747712  1683.84953528\n",
            " 1704.41540204 1704.41540204 1704.41540204 1704.41540204 1697.32012776\n",
            " 1441.24592725 1704.41540204 1565.56647958 1704.41540204 1704.41540204\n",
            " 1704.41540204 1501.50724106 1704.41540204 1704.41540204 1499.268968\n",
            " 1704.41540204 1151.31659261 1704.41540204 1704.41540204 1660.8889004\n",
            " 1615.74713776 1704.41540204 1463.93271546 1704.41540204 1690.94015166\n",
            " 1522.57351615 1552.46041563 1704.41540204 1666.94283734 1467.75995712\n",
            " 1704.41540204 1704.41540204 1128.01220893 1700.91029563 1704.41540204\n",
            " 1704.41540204 1704.41540204 1699.81296592 1696.56192708 1567.7151808\n",
            " 1673.09591836 1699.24594822 1704.41540204 1663.88148994 1423.40299761\n",
            " 1704.41540204 1463.77569979 1704.41540204 1646.80402869 1284.83754452\n",
            " 1704.41540204 1677.12053997 1629.44425818 1704.41540204 1704.41540204\n",
            " 1544.06215631 1623.71385316 1544.80017032 1704.41540204 1393.89301916\n",
            " 1704.41540204 1643.57710826 1302.93012281 1704.41540204 1704.41540204\n",
            " 1529.67296027 1506.60958867 1704.41540204 1704.41540204 1704.41540204\n",
            " 1696.19730564 1412.1977041  1308.09403041 1704.41540204 1704.41540204\n",
            " 1704.41540204 1704.41540204 1491.61824713 1696.94404034 1704.41540204\n",
            " 1704.41540204 1704.41540204 1704.41540204 1600.16348996 1665.82625092\n",
            " 1704.41540204 1256.48695851 1396.29825154 1704.41540204 1704.41540204\n",
            " 1704.41540204 1359.62574691 1704.41540204 1704.41540204 1648.4638624\n",
            " 1704.41540204 1553.74741735 1704.41540204 1339.97017161 1157.08673126\n",
            " 1704.41540204 1704.41540204 1556.16696308 1704.41540204 1553.34672235\n",
            " 1704.41540204 1704.41540204 1512.32477154 1610.14957899 1704.41540204\n",
            " 1704.41540204 1704.41540204 1704.41540204 1704.41540204 1680.98569696\n",
            " 1463.50206795 1634.83906025 1704.41540204 1704.41540204 1704.41540204\n",
            " 1704.41540204 1704.41540204 1704.41540204 1595.52387178 1704.41540204\n",
            " 1503.97238116 1704.41540204 1704.41540204 1704.41540204 1704.41540204\n",
            " 1605.64994166 1406.78968454 1704.41540204 1203.01219082 1704.41540204\n",
            " 1704.41540204 1704.41540204 1637.53017776 1704.41540204 1402.54004208\n",
            " 1638.40922278 1704.41540204 1464.97129531 1381.66206273 1704.41540204\n",
            " 1704.41540204 1635.55882377 1704.41540204 1704.41540204 1638.90851664\n",
            " 1365.17474996 1704.41540204 1704.41540204 1486.68835532 1704.41540204\n",
            " 1704.41540204 1704.41540204 1704.41540204 1704.41540204 1360.90508123\n",
            " 1680.4253116  1704.41540204 1457.12754316 1200.64367885 1704.41540204\n",
            " 1704.41540204 1507.23923801 1652.95056381 1683.10098939 1699.29435616\n",
            " 1704.41540204 1325.2975639  1704.41540204 1605.42475809 1704.41540204\n",
            " 1704.41540204 1344.19608907 1493.66852795 1704.41540204 1704.41540204\n",
            " 1704.41540204 1704.41540204 1433.25263875 1704.41540204 1273.85507725\n",
            " 1516.65052486 1270.38008333 1704.41540204 1379.98535792 1224.7962411\n",
            " 1685.80985331 1704.41540204 1704.41540204 1654.94286407 1704.41540204\n",
            " 1586.99759545 1701.70070116 1096.54307507 1481.98695003 1660.93881033\n",
            " 1153.05827662 1704.41540204 1704.41540204 1503.06735206 1704.41540204\n",
            " 1704.41540204 1704.41540204 1704.41540204 1645.48021432 1479.97144477\n",
            " 1704.41540204 1530.0631595  1644.80107988 1704.41540204 1704.41540204\n",
            " 1704.41540204 1704.41540204 1704.41540204 1704.41540204 1704.41540204\n",
            " 1402.76461463 1704.41540204 1704.41540204 1704.41540204 1704.41540204\n",
            " 1704.41540204 1704.41540204 1636.91338068 1704.41540204 1704.41540204\n",
            " 1704.41540204 1704.41540204 1641.58801927 1255.7374686  1344.11492458\n",
            " 1704.41540204 1540.76838617 1704.41540204 1704.41540204 1704.41540204\n",
            "  848.66572571 1517.44820538 1704.41540204 1648.48758656 1675.20365381\n",
            " 1704.41540204 1521.38014082 1704.41540204 1377.60297907 1700.49649115\n",
            " 1679.56916944 1704.41540204 1360.24606424 1268.44616583 1090.39774746\n",
            " 1704.41540204 1497.8842581  1377.60066678 1704.41540204 1704.41540204\n",
            " 1704.41540204 1704.41540204 1704.41540204 1704.41540204 1504.01618421\n",
            " 1704.41540204 1704.41540204 1704.41540204 1456.72869577 1704.41540204\n",
            " 1603.36641885 1704.41540204 1704.41540204 1454.57716678 1555.75356673\n",
            " 1644.84124064 1704.41540204 1704.41540204 1460.25365346 1704.01565398\n",
            " 1704.41540204 1635.49326275 1704.41540204 1704.41540204 1626.01391689\n",
            " 1539.58945024 1690.26773285 1704.41540204 1202.32435853 1704.41540204\n",
            " 1704.41540204 1704.41540204 1622.51930361 1535.74592362 1704.41540204\n",
            " 1704.41540204 1704.41540204 1704.41540204 1654.82077053 1450.41279407\n",
            " 1704.41540204 1684.37438037 1679.87323317 1431.48619271 1704.41540204\n",
            " 1704.41540204 1158.80268721 1704.41540204 1607.66351088 1538.60637164\n",
            " 1115.54273147 1704.41540204 1498.51178567 1601.01517518 1704.41540204\n",
            " 1704.41540204 1704.41540204 1686.81862723 1688.27222482 1704.41540204\n",
            " 1704.41540204 1704.41540204 1704.41540204 1547.70908795 1704.41540204\n",
            " 1704.41540204 1677.58314244 1704.41540204 1704.41540204 1704.41540204\n",
            " 1704.41540204 1663.52732711 1704.41540204 1704.41540204 1704.41540204\n",
            " 1704.41540204 1511.1181979  1704.41540204 1260.86758547 1704.41540204\n",
            " 1585.49523743 1704.41540204 1505.64470618 1659.24387483 1704.41540204\n",
            " 1288.12548444 1704.41540204 1475.22520104 1414.48117171 1704.41540204\n",
            " 1704.41540204 1585.27112128 1282.8436074  1599.7575446  1704.41540204\n",
            " 1689.88541054 1704.41540204 1704.41540204 1704.41540204 1704.41540204\n",
            " 1704.41540204 1483.64500608 1704.41540204 1704.41540204 1634.22811743\n",
            " 1704.41540204 1571.25285124 1171.56717201 1694.09134882 1704.41540204\n",
            " 1667.42071602 1704.41540204 1650.15040819 1305.52326971 1704.41540204\n",
            " 1704.41540204 1704.41540204 1699.15678485 1478.9124927  1087.23334434\n",
            " 1704.41540204 1560.49058993 1704.41540204 1704.41540204 1620.9060193\n",
            " 1704.41540204 1632.17211011 1317.47095315 1704.41540204 1704.41540204\n",
            " 1507.22725054 1704.41540204 1704.41540204 1704.41540204 1704.41540204\n",
            " 1704.41540204 1704.41540204 1704.41540204 1427.21429894 1454.63216465\n",
            " 1704.41540204 1704.41540204 1551.81865061 1704.41540204 1704.41540204\n",
            " 1519.56744399 1181.28680419 1704.41540204 1704.41540204 1671.86863869\n",
            " 1704.41540204 1337.63407038 1704.41540204 1704.41540204 1570.59874068\n",
            " 1305.12472091 1586.75854419 1542.23051729 1704.41540204 1324.18822303\n",
            " 1398.24989007 1704.41540204 1504.36351861 1637.00693793 1335.84836666\n",
            " 1704.41540204 1704.41540204 1704.41540204 1704.41540204 1704.41540204\n",
            " 1548.67699947 1581.33756719 1194.52102274 1459.50297763 1618.29104919\n",
            " 1613.78185018 1503.33891815 1672.2828786  1704.41540204 1704.41540204\n",
            " 1704.41540204 1704.41540204 1532.09644161 1704.41540204 1704.41540204\n",
            " 1704.41540204 1373.91987681 1325.49336673 1523.23491971 1700.87026079\n",
            " 1704.41540204 1704.41540204 1626.52135185 1704.41540204 1704.41540204\n",
            " 1704.41540204 1358.2356706  1704.41540204 1704.41540204 1564.09129705\n",
            " 1704.41540204 1704.41540204 1600.22676649 1704.41540204 1144.85974133\n",
            " 1704.41540204 1704.41540204 1348.74660696 1704.41540204 1643.86853198\n",
            " 1704.41540204 1462.85582495 1136.85599797 1213.25933567 1704.41540204\n",
            " 1357.83321392 1425.06367581 1704.41540204 1704.41540204 1704.41540204\n",
            " 1704.41540204 1704.41540204 1704.41540204 1319.00534208 1704.41540204\n",
            " 1704.41540204 1704.41540204 1704.41540204 1704.41540204 1629.61862767\n",
            " 1704.41540204 1704.41540204 1627.51929479 1704.41540204 1637.0093955\n",
            " 1563.13617095 1704.41540204 1590.99689856 1584.10096655 1704.41540204\n",
            " 1642.69980972 1335.8901978   993.17502792 1704.41540204 1681.82139647\n",
            " 1704.41540204 1416.97376241 1668.13887367 1285.75748587 1704.41540204\n",
            " 1205.13628671 1641.31216627 1513.034744   1704.41540204 1704.41540204\n",
            " 1704.41540204 1678.24224083 1704.41540204 1457.40975585 1704.41540204\n",
            " 1704.41540204 1577.54113845 1380.64822136 1323.77949377 1704.41540204\n",
            " 1704.41540204 1316.48728144 1630.22055346 1224.01335035 1704.41540204\n",
            " 1704.41540204 1547.68358511 1704.41540204 1704.41540204 1473.32334445\n",
            " 1701.70883189 1545.72241768 1704.41540204 1468.14507368 1704.41540204\n",
            " 1704.41540204 1599.108384   1704.41540204 1704.41540204 1704.41540204\n",
            " 1536.45582591 1395.89654794 1661.70617845 1704.41540204 1537.55584171\n",
            " 1620.94393039 1704.41540204 1472.37772419 1704.41540204 1182.92357949\n",
            " 1373.84632399 1144.8554765  1704.41540204 1701.55115614 1447.89970176\n",
            " 1642.45832965 1431.22284392 1528.61216919 1121.63929476 1489.42949936\n",
            " 1393.67897055 1552.49779742 1704.41540204 1704.41540204 1704.41540204\n",
            " 1704.41540204 1510.02386012 1704.41540204 1359.67210146 1650.75375266\n",
            " 1373.91109425 1133.89940888 1704.41540204 1704.41540204 1375.79932862\n",
            "  949.84593319 1390.14324873 1704.41540204 1390.88158037 1704.41540204\n",
            " 1704.41540204 1704.41540204 1704.41540204 1704.41540204 1704.41540204\n",
            " 1601.74662663 1237.55500778 1704.41540204 1704.41540204 1621.90911203\n",
            " 1686.95853527 1704.41540204 1704.41540204 1683.85398235 1612.00428942\n",
            " 1704.41540204 1704.41540204 1704.41540204 1683.0203482  1585.70689868\n",
            " 1421.88953553 1386.80002294 1704.41540204 1190.18031545 1433.75679827]\n"
          ],
          "name": "stdout"
        }
      ]
    },
    {
      "cell_type": "code",
      "metadata": {
        "id": "G3HYcR0NwFao",
        "outputId": "ad31cbf4-bc38-466e-f9d9-c8e775d91bda",
        "colab": {
          "base_uri": "https://localhost:8080/"
        }
      },
      "source": [
        "print('expected profit = ',np.mean(profit))\n",
        "print('variance of profit = ',np.var(profit))\n",
        "print('\\n expected shortage will be = ',np.mean(short_invt))"
      ],
      "execution_count": null,
      "outputs": [
        {
          "output_type": "stream",
          "text": [
            "expected profit =  1606.7903016543055\n",
            "variance of profit =  23685.683598964148\n",
            "\n",
            " expected shortage will be =  6.508340025791896\n"
          ],
          "name": "stdout"
        }
      ]
    },
    {
      "cell_type": "code",
      "metadata": {
        "id": "MhuiwCkow_iD"
      },
      "source": [
        ""
      ],
      "execution_count": null,
      "outputs": []
    }
  ]
}