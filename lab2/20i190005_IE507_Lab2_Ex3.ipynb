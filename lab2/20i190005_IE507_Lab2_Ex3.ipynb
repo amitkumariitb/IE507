{
  "nbformat": 4,
  "nbformat_minor": 0,
  "metadata": {
    "colab": {
      "name": "20i190005_IE507_Lab2_Ex3.ipynb",
      "provenance": []
    },
    "kernelspec": {
      "name": "python3",
      "display_name": "Python 3"
    }
  },
  "cells": [
    {
      "cell_type": "code",
      "metadata": {
        "id": "otvEKSLDY2yD",
        "colab": {
          "base_uri": "https://localhost:8080/",
          "height": 34
        },
        "outputId": "e2d87f61-5339-42e5-b586-3d453ffb52fd"
      },
      "source": [
        "print('welcome to Lab2_Ex3_Solution!!')"
      ],
      "execution_count": null,
      "outputs": [
        {
          "output_type": "stream",
          "text": [
            "welcome to Lab2_Ex3_Solution!!\n"
          ],
          "name": "stdout"
        }
      ]
    },
    {
      "cell_type": "code",
      "metadata": {
        "id": "CP38zA7dzhPn"
      },
      "source": [
        "!pip install -q pyomo"
      ],
      "execution_count": null,
      "outputs": []
    },
    {
      "cell_type": "markdown",
      "metadata": {
        "id": "PdWII243zsi0"
      },
      "source": [
        "Let u1, u2, . . . ,u10 denotes the amount(in tons) utilized from the availabe stock respectively for Alloys A1, A2, ... ,A10 and u11, u12, . . . ,u20 denotes the amount purchased(in tons) respectively for Alloys A1, A2, ... ,A10. "
      ]
    },
    {
      "cell_type": "code",
      "metadata": {
        "id": "42PxzSG94i_Z"
      },
      "source": [
        "from pyomo.environ import *"
      ],
      "execution_count": null,
      "outputs": []
    },
    {
      "cell_type": "code",
      "metadata": {
        "id": "z0ozmczi4-hz"
      },
      "source": [
        "import numpy as np"
      ],
      "execution_count": null,
      "outputs": []
    },
    {
      "cell_type": "code",
      "metadata": {
        "id": "XV8DFsx27Htw"
      },
      "source": [
        "# create a model\n",
        "model = ConcreteModel()"
      ],
      "execution_count": null,
      "outputs": []
    },
    {
      "cell_type": "code",
      "metadata": {
        "id": "6u0y-SLI7buE"
      },
      "source": [
        "obj_coef_c = np.array([35,50,58,60,44,39,45,55,35,40,72,95,110,125,88,74,95,115,60,84])"
      ],
      "execution_count": null,
      "outputs": []
    },
    {
      "cell_type": "code",
      "metadata": {
        "id": "kLSRPWOp9PaB",
        "colab": {
          "base_uri": "https://localhost:8080/",
          "height": 34
        },
        "outputId": "5de4f5a3-6a0e-4416-8fa9-833477246d23"
      },
      "source": [
        "col_indices = np.arange(20)\n",
        "print(col_indices)"
      ],
      "execution_count": null,
      "outputs": [
        {
          "output_type": "stream",
          "text": [
            "[ 0  1  2  3  4  5  6  7  8  9 10 11 12 13 14 15 16 17 18 19]\n"
          ],
          "name": "stdout"
        }
      ]
    },
    {
      "cell_type": "code",
      "metadata": {
        "id": "fJiGPZluPZwj",
        "colab": {
          "base_uri": "https://localhost:8080/",
          "height": 34
        },
        "outputId": "a23fdcdc-f3e3-47af-ebf6-021b6e123a0d"
      },
      "source": [
        "row_indices = np.arange(4)\n",
        "print(row_indices)"
      ],
      "execution_count": null,
      "outputs": [
        {
          "output_type": "stream",
          "text": [
            "[0 1 2 3]\n"
          ],
          "name": "stdout"
        }
      ]
    },
    {
      "cell_type": "code",
      "metadata": {
        "id": "YlyfLUqD8Vk5"
      },
      "source": [
        "constr_coef_A = np.array([[0.80,0.75,0.75,0.60,0.55,0.55,0.40,0.35,0.30,0.30,0.80,0.75,0.75,0.60,0.55,0.55,0.40,0.35,0.30,0.30],\n",
        "                          [0.15,0.15,0.10,0.20,0.25,0.10,0.50,0.15,0.30,0.55,0.15,0.15,0.10,0.20,0.25,0.10,0.50,0.15,0.30,0.55],\n",
        "                          [0.05,0.10,0.15,0.20,0.20,0.35,0.10,0.50,0.40,0.15,0.05,0.10,0.15,0.20,0.20,0.35,0.10,0.50,0.40,0.15],\n",
        "                          [1,1,1,1,1,1,1,1,1,1,1,1,1,1,1,1,1,1,1,1]])\n",
        "\n",
        "#declaring RHS of the constraints as variables\n",
        "b = np.array([112.5,87.5,50,250])"
      ],
      "execution_count": null,
      "outputs": []
    },
    {
      "cell_type": "code",
      "metadata": {
        "id": "D0k40bc1N-jT"
      },
      "source": [
        "#setting the lower bound and upper bounds for the variables\n",
        "lower_bound = np.array([0,0,0,0,0,0,0,0,0,0,0,0,0,0,0,0,0,0,0,0])\n",
        "upper_bound = np.array([10,7,8,15,8,15,12,10,0,9,np.inf,np.inf,np.inf,np.inf,np.inf,np.inf,np.inf,np.inf,np.inf,np.inf])"
      ],
      "execution_count": null,
      "outputs": []
    },
    {
      "cell_type": "code",
      "metadata": {
        "id": "Es8bRblCPCWa"
      },
      "source": [
        "#declaration of the decision variables in the model.\n",
        "model.u = Var(col_indices)"
      ],
      "execution_count": null,
      "outputs": []
    },
    {
      "cell_type": "code",
      "metadata": {
        "id": "eS_-MTbSPrAY"
      },
      "source": [
        "# creation a ConstraintList to hold multiple constraints\n",
        "model.constraints = ConstraintList()"
      ],
      "execution_count": null,
      "outputs": []
    },
    {
      "cell_type": "code",
      "metadata": {
        "id": "unRMHdroQxIf"
      },
      "source": [
        "for i in row_indices:\n",
        "  model.constraints.add(sum(constr_coef_A[i,j]*model.u[j] for j in col_indices) >= b[i])"
      ],
      "execution_count": null,
      "outputs": []
    },
    {
      "cell_type": "code",
      "metadata": {
        "id": "BI-L_ncrRAbO"
      },
      "source": [
        "for j in col_indices:\n",
        "  model.u[j].setlb(lower_bound[j])\n",
        "  model.u[j].setub(upper_bound[j])"
      ],
      "execution_count": null,
      "outputs": []
    },
    {
      "cell_type": "code",
      "metadata": {
        "id": "rBWUe4MqRURl"
      },
      "source": [
        "#adding the model objective\n",
        "model.objective = Objective(expr = sum(obj_coef_c[j]*model.u[j] for j in col_indices), sense=minimize)"
      ],
      "execution_count": null,
      "outputs": []
    },
    {
      "cell_type": "code",
      "metadata": {
        "id": "Tna-2fZ7RoPf",
        "colab": {
          "base_uri": "https://localhost:8080/",
          "height": 819
        },
        "outputId": "43e45a25-f25a-4cd2-e461-0af83a90636e"
      },
      "source": [
        "model.pprint()"
      ],
      "execution_count": null,
      "outputs": [
        {
          "output_type": "stream",
          "text": [
            "2 Set Declarations\n",
            "    constraints_index : Size=1, Index=None, Ordered=Insertion\n",
            "        Key  : Dimen : Domain : Size : Members\n",
            "        None :     1 :    Any :    4 : {1, 2, 3, 4}\n",
            "    u_index : Size=1, Index=None, Ordered=False\n",
            "        Key  : Dimen : Domain : Size : Members\n",
            "        None :     1 :    Any :   20 : {0, 1, 2, 3, 4, 5, 6, 7, 8, 9, 10, 11, 12, 13, 14, 15, 16, 17, 18, 19}\n",
            "\n",
            "1 Var Declarations\n",
            "    u : Size=20, Index=u_index\n",
            "        Key : Lower : Value : Upper : Fixed : Stale : Domain\n",
            "          0 :     0 :  None :  10.0 : False :  True :  Reals\n",
            "          1 :     0 :  None :   7.0 : False :  True :  Reals\n",
            "          2 :     0 :  None :   8.0 : False :  True :  Reals\n",
            "          3 :     0 :  None :  15.0 : False :  True :  Reals\n",
            "          4 :     0 :  None :   8.0 : False :  True :  Reals\n",
            "          5 :     0 :  None :  15.0 : False :  True :  Reals\n",
            "          6 :     0 :  None :  12.0 : False :  True :  Reals\n",
            "          7 :     0 :  None :  10.0 : False :  True :  Reals\n",
            "          8 :     0 :  None :   0.0 : False :  True :  Reals\n",
            "          9 :     0 :  None :   9.0 : False :  True :  Reals\n",
            "         10 :     0 :  None :   inf : False :  True :  Reals\n",
            "         11 :     0 :  None :   inf : False :  True :  Reals\n",
            "         12 :     0 :  None :   inf : False :  True :  Reals\n",
            "         13 :     0 :  None :   inf : False :  True :  Reals\n",
            "         14 :     0 :  None :   inf : False :  True :  Reals\n",
            "         15 :     0 :  None :   inf : False :  True :  Reals\n",
            "         16 :     0 :  None :   inf : False :  True :  Reals\n",
            "         17 :     0 :  None :   inf : False :  True :  Reals\n",
            "         18 :     0 :  None :   inf : False :  True :  Reals\n",
            "         19 :     0 :  None :   inf : False :  True :  Reals\n",
            "\n",
            "1 Objective Declarations\n",
            "    objective : Size=1, Index=None, Active=True\n",
            "        Key  : Active : Sense    : Expression\n",
            "        None :   True : minimize : 35*u[0] + 50*u[1] + 58*u[2] + 60*u[3] + 44*u[4] + 39*u[5] + 45*u[6] + 55*u[7] + 35*u[8] + 40*u[9] + 72*u[10] + 95*u[11] + 110*u[12] + 125*u[13] + 88*u[14] + 74*u[15] + 95*u[16] + 115*u[17] + 60*u[18] + 84*u[19]\n",
            "\n",
            "1 Constraint Declarations\n",
            "    constraints : Size=4, Index=constraints_index, Active=True\n",
            "        Key : Lower : Body                                                                                                                                                                                                                                          : Upper : Active\n",
            "          1 : 112.5 : 0.8*u[0] + 0.75*u[1] + 0.75*u[2] + 0.6*u[3] + 0.55*u[4] + 0.55*u[5] + 0.4*u[6] + 0.35*u[7] + 0.3*u[8] + 0.3*u[9] + 0.8*u[10] + 0.75*u[11] + 0.75*u[12] + 0.6*u[13] + 0.55*u[14] + 0.55*u[15] + 0.4*u[16] + 0.35*u[17] + 0.3*u[18] + 0.3*u[19] :  +Inf :   True\n",
            "          2 :  87.5 : 0.15*u[0] + 0.15*u[1] + 0.1*u[2] + 0.2*u[3] + 0.25*u[4] + 0.1*u[5] + 0.5*u[6] + 0.15*u[7] + 0.3*u[8] + 0.55*u[9] + 0.15*u[10] + 0.15*u[11] + 0.1*u[12] + 0.2*u[13] + 0.25*u[14] + 0.1*u[15] + 0.5*u[16] + 0.15*u[17] + 0.3*u[18] + 0.55*u[19] :  +Inf :   True\n",
            "          3 :  50.0 :   0.05*u[0] + 0.1*u[1] + 0.15*u[2] + 0.2*u[3] + 0.2*u[4] + 0.35*u[5] + 0.1*u[6] + 0.5*u[7] + 0.4*u[8] + 0.15*u[9] + 0.05*u[10] + 0.1*u[11] + 0.15*u[12] + 0.2*u[13] + 0.2*u[14] + 0.35*u[15] + 0.1*u[16] + 0.5*u[17] + 0.4*u[18] + 0.15*u[19] :  +Inf :   True\n",
            "          4 : 250.0 :                                                                                           u[0] + u[1] + u[2] + u[3] + u[4] + u[5] + u[6] + u[7] + u[8] + u[9] + u[10] + u[11] + u[12] + u[13] + u[14] + u[15] + u[16] + u[17] + u[18] + u[19] :  +Inf :   True\n",
            "\n",
            "5 Declarations: u_index u constraints_index constraints objective\n"
          ],
          "name": "stdout"
        }
      ]
    },
    {
      "cell_type": "code",
      "metadata": {
        "id": "ctLjGaWSR2Qw"
      },
      "source": [
        "!apt-get install -y -qq glpk-utils"
      ],
      "execution_count": null,
      "outputs": []
    },
    {
      "cell_type": "code",
      "metadata": {
        "id": "1SXivSj3SM9C",
        "colab": {
          "base_uri": "https://localhost:8080/",
          "height": 578
        },
        "outputId": "a14b612f-f988-4392-b76a-8131501827e8"
      },
      "source": [
        "SolverFactory('glpk', executable='/usr/bin/glpsol').solve(model).write()"
      ],
      "execution_count": null,
      "outputs": [
        {
          "output_type": "stream",
          "text": [
            "# ==========================================================\n",
            "# = Solver Results                                         =\n",
            "# ==========================================================\n",
            "# ----------------------------------------------------------\n",
            "#   Problem Information\n",
            "# ----------------------------------------------------------\n",
            "Problem: \n",
            "- Name: unknown\n",
            "  Lower bound: 16238.44\n",
            "  Upper bound: 16238.44\n",
            "  Number of objectives: 1\n",
            "  Number of constraints: 5\n",
            "  Number of variables: 21\n",
            "  Number of nonzeros: 81\n",
            "  Sense: minimize\n",
            "# ----------------------------------------------------------\n",
            "#   Solver Information\n",
            "# ----------------------------------------------------------\n",
            "Solver: \n",
            "- Status: ok\n",
            "  Termination condition: optimal\n",
            "  Statistics: \n",
            "    Branch and bound: \n",
            "      Number of bounded subproblems: 0\n",
            "      Number of created subproblems: 0\n",
            "  Error rc: 0\n",
            "  Time: 0.019652843475341797\n",
            "# ----------------------------------------------------------\n",
            "#   Solution Information\n",
            "# ----------------------------------------------------------\n",
            "Solution: \n",
            "- number of solutions: 0\n",
            "  number of solutions displayed: 0\n"
          ],
          "name": "stdout"
        }
      ]
    },
    {
      "cell_type": "code",
      "metadata": {
        "id": "a5j38UN2STi3",
        "colab": {
          "base_uri": "https://localhost:8080/",
          "height": 561
        },
        "outputId": "3f565536-0f2c-44a4-ff16-32c0e518d647"
      },
      "source": [
        "# display solution\n",
        "print('\\nObjective = ', model.objective())\n",
        "\n",
        "print('\\nDecision Variables')\n",
        "for i in col_indices:\n",
        "  print('u[',i,'] = ', model.u[i].value)\n",
        "\n",
        "print('\\nConstraints')\n",
        "model.constraints.display()"
      ],
      "execution_count": null,
      "outputs": [
        {
          "output_type": "stream",
          "text": [
            "\n",
            "Objective =  16238.44\n",
            "\n",
            "Decision Variables\n",
            "u[ 0 ] =  10.0\n",
            "u[ 1 ] =  7.0\n",
            "u[ 2 ] =  8.0\n",
            "u[ 3 ] =  15.0\n",
            "u[ 4 ] =  8.0\n",
            "u[ 5 ] =  15.0\n",
            "u[ 6 ] =  12.0\n",
            "u[ 7 ] =  0.0\n",
            "u[ 8 ] =  0.0\n",
            "u[ 9 ] =  9.0\n",
            "u[ 10 ] =  28.6\n",
            "u[ 11 ] =  0.0\n",
            "u[ 12 ] =  0.0\n",
            "u[ 13 ] =  0.0\n",
            "u[ 14 ] =  0.0\n",
            "u[ 15 ] =  0.0\n",
            "u[ 16 ] =  0.0\n",
            "u[ 17 ] =  0.0\n",
            "u[ 18 ] =  52.64\n",
            "u[ 19 ] =  84.76\n",
            "\n",
            "Constraints\n",
            "constraints : Size=4\n",
            "    Key : Lower : Body  : Upper\n",
            "      1 : 112.5 : 112.5 :  None\n",
            "      2 :  87.5 :  87.5 :  None\n",
            "      3 :  50.0 :  50.0 :  None\n",
            "      4 : 250.0 : 250.0 :  None\n"
          ],
          "name": "stdout"
        }
      ]
    },
    {
      "cell_type": "markdown",
      "metadata": {
        "id": "XL5CREvWYipA"
      },
      "source": [
        "EXERCISE_3(3):The optimal solution and the value of objective function are: \n",
        "u1 =  10.0 ,\n",
        "u2 =  7.0 ,\n",
        "u3 =  8.0 ,\n",
        "u4 =  15.0 ,\n",
        "u5 =  8.0 ,\n",
        "u6 =  15.0 ,\n",
        "u7 =  12.0 ,\n",
        "u8 =  0.0 ,\n",
        "u9 =  0.0 ,\n",
        "u10 =  9.0 ,\n",
        "u11 =  28.6 , \n",
        "u12 =  0.0 ,\n",
        "u13 =  0.0 ,\n",
        "u14 =  0.0 ,\n",
        "u15 =  0.0 ,\n",
        "u16 =  0.0 ,\n",
        "u17 =  0.0 ,\n",
        "u18 =  0.0 ,\n",
        "u19 =  52.64 ,\n",
        "u20 =  84.76 ;\n",
        "Objective =  16238.44\n"
      ]
    },
    {
      "cell_type": "markdown",
      "metadata": {
        "id": "Axdxkj5JbhjE"
      },
      "source": [
        "EXERCISE_3(4):Three alloys ranked high(decreasing order) in terms of the quantities to be bought are A-10, A-9, A-1 and the alloys ranked low are A-2, A3,A-4"
      ]
    },
    {
      "cell_type": "markdown",
      "metadata": {
        "id": "iqdkYl7LeC-G"
      },
      "source": [
        "EXERCISE_3(5):Alloy whose stock is completely utilized are:A1,A2,A3,A4,A5,A6,A7,A10  its obvious from the corresponding values of the variables u1,u2,u3,u4,u5,u6,u7,u10 which shows that amount available in the stock is completely utilized."
      ]
    },
    {
      "cell_type": "markdown",
      "metadata": {
        "id": "mxR2msc9ikBz"
      },
      "source": [
        "EXERCISE_3(6):alloy which need not be acquired from market are A2,A3,A4,A5,A6,A7,A8 because the corresponding variables u12,...,u18 representing the amount to be purchased from the market has value zero(0)."
      ]
    }
  ]
}