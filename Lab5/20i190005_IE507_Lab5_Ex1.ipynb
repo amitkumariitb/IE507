{
  "nbformat": 4,
  "nbformat_minor": 0,
  "metadata": {
    "colab": {
      "name": "20i190005_IE507_Lab5_Ex1.ipynb",
      "provenance": [],
      "collapsed_sections": []
    },
    "kernelspec": {
      "name": "python3",
      "display_name": "Python 3"
    }
  },
  "cells": [
    {
      "cell_type": "code",
      "metadata": {
        "id": "OMxkacXxLVg5"
      },
      "source": [
        "!pip install -q pyomo"
      ],
      "execution_count": null,
      "outputs": []
    },
    {
      "cell_type": "code",
      "metadata": {
        "id": "aAERI6UxLbY_"
      },
      "source": [
        "from pyomo.environ import * "
      ],
      "execution_count": null,
      "outputs": []
    },
    {
      "cell_type": "code",
      "metadata": {
        "id": "hE-ktwr9Ld27"
      },
      "source": [
        "import numpy as np"
      ],
      "execution_count": null,
      "outputs": []
    },
    {
      "cell_type": "markdown",
      "metadata": {
        "id": "Jv-do3-whxTz"
      },
      "source": [
        "1.ANSWER:\\\n",
        "The Mathematical model of the Trasportation problem is given as:\\\n",
        "Let $C_{wm}$ be the cost of transporting one truck-load of ACUs and $x_{wm}$ be the number of transporting trucks from Warehouse $\\textbf{w}$ to Market $\\textbf{m}$ respectively.Then our optimization problem is :\n",
        "\n",
        "\n",
        "$\\textbf{Minimize:}$\n",
        "\\begin{align}\n",
        "\\sum_{w}\\sum_{m} C_{wm} x_{wm}\n",
        "\\end{align}\n",
        "\n",
        "$\\textbf{Subject to:}$\n",
        "\\begin{align}\n",
        "\\sum_{m} x_{wm} &\\leq \\text{Avail. Stock at Warehouse w}&&\\forall\\text{  w }\\\\\n",
        "\\sum_{w} x_{wm} &= \\text{Demand at Market m}&&\\forall\\text{   m }\n",
        "\\end{align}\n",
        "\n",
        "$\\text{where decision variables}\\text{  }\\  x_{wm} \\text{ are non-negative integers .}$\n",
        "\n"
      ]
    },
    {
      "cell_type": "code",
      "metadata": {
        "id": "_AcPOkEZLjZ8"
      },
      "source": [
        "import pandas as pd"
      ],
      "execution_count": null,
      "outputs": []
    },
    {
      "cell_type": "code",
      "metadata": {
        "id": "r3ypMsfALqik"
      },
      "source": [
        "data_csvfile = pd.read_csv('lab5_ex1.csv')"
      ],
      "execution_count": null,
      "outputs": []
    },
    {
      "cell_type": "code",
      "metadata": {
        "id": "IrgwK-Ctajk3",
        "colab": {
          "base_uri": "https://localhost:8080/",
          "height": 34
        },
        "outputId": "c270ea00-167a-4ee5-beb2-742105da702d"
      },
      "source": [
        "data_csvfile.index"
      ],
      "execution_count": null,
      "outputs": [
        {
          "output_type": "execute_result",
          "data": {
            "text/plain": [
              "RangeIndex(start=0, stop=9, step=1)"
            ]
          },
          "metadata": {
            "tags": []
          },
          "execution_count": 55
        }
      ]
    },
    {
      "cell_type": "code",
      "metadata": {
        "id": "fESN0QNPa3Mi",
        "colab": {
          "base_uri": "https://localhost:8080/",
          "height": 34
        },
        "outputId": "0f97008f-2dcc-472b-df20-43cfe61fdb45"
      },
      "source": [
        "print('num rows:', len(data_csvfile.index))"
      ],
      "execution_count": null,
      "outputs": [
        {
          "output_type": "stream",
          "text": [
            "num rows: 9\n"
          ],
          "name": "stdout"
        }
      ]
    },
    {
      "cell_type": "code",
      "metadata": {
        "id": "o6APGBn6bByV",
        "colab": {
          "base_uri": "https://localhost:8080/",
          "height": 204
        },
        "outputId": "b192aee6-de0e-472a-83f3-db5f40373739"
      },
      "source": [
        "print(data_csvfile.iloc[0,:])"
      ],
      "execution_count": null,
      "outputs": [
        {
          "output_type": "stream",
          "text": [
            "Warehouse       Ahmedabad\n",
            "Indore                427\n",
            "Jodhpur               617\n",
            "Vellore              1270\n",
            "Kanpur                982\n",
            "Hyderabad             915\n",
            "Patna                 943\n",
            "Raipur                974\n",
            "Cuttack              1265\n",
            "Avail. Stock          100\n",
            "Name: 0, dtype: object\n"
          ],
          "name": "stdout"
        }
      ]
    },
    {
      "cell_type": "code",
      "metadata": {
        "id": "7mhA_lm7dYMa",
        "colab": {
          "base_uri": "https://localhost:8080/",
          "height": 204
        },
        "outputId": "bd0d6a85-0629-45eb-898f-eaa43b708245"
      },
      "source": [
        "print(data_csvfile.iloc[1,:])"
      ],
      "execution_count": null,
      "outputs": [
        {
          "output_type": "stream",
          "text": [
            "Warehouse       Bengaluru\n",
            "Indore               1179\n",
            "Jodhpur              1623\n",
            "Vellore               372\n",
            "Kanpur               2072\n",
            "Hyderabad             257\n",
            "Patna                1373\n",
            "Raipur               1052\n",
            "Cuttack               959\n",
            "Avail. Stock          250\n",
            "Name: 1, dtype: object\n"
          ],
          "name": "stdout"
        }
      ]
    },
    {
      "cell_type": "code",
      "metadata": {
        "id": "9nGT0ZvmfKMn",
        "colab": {
          "base_uri": "https://localhost:8080/",
          "height": 204
        },
        "outputId": "e7bc71db-1aaa-44c9-dd55-c7fb685cab25"
      },
      "source": [
        "print(data_csvfile.iloc[2,:])"
      ],
      "execution_count": null,
      "outputs": [
        {
          "output_type": "stream",
          "text": [
            "Warehouse       Chennai\n",
            "Indore             1409\n",
            "Jodhpur            1823\n",
            "Vellore              59\n",
            "Kanpur             2127\n",
            "Hyderabad           358\n",
            "Patna              1422\n",
            "Raipur             1304\n",
            "Cuttack             811\n",
            "Avail. Stock        200\n",
            "Name: 2, dtype: object\n"
          ],
          "name": "stdout"
        }
      ]
    },
    {
      "cell_type": "code",
      "metadata": {
        "id": "Hv2BiHAAfVIg",
        "colab": {
          "base_uri": "https://localhost:8080/",
          "height": 204
        },
        "outputId": "6333c982-da5c-42ab-8109-869710e5ed51"
      },
      "source": [
        "print(data_csvfile.iloc[3,:])"
      ],
      "execution_count": null,
      "outputs": [
        {
          "output_type": "stream",
          "text": [
            "Warehouse       Delhi\n",
            "Indore           1123\n",
            "Jodhpur           533\n",
            "Vellore          2265\n",
            "Kanpur            467\n",
            "Hyderabad        1896\n",
            "Patna             941\n",
            "Raipur           1232\n",
            "Cuttack          1348\n",
            "Avail. Stock      200\n",
            "Name: 3, dtype: object\n"
          ],
          "name": "stdout"
        }
      ]
    },
    {
      "cell_type": "code",
      "metadata": {
        "id": "JLeJJ1QZfqSI",
        "colab": {
          "base_uri": "https://localhost:8080/",
          "height": 204
        },
        "outputId": "8b14f193-8bcc-4b73-9f12-dc857f26057d"
      },
      "source": [
        "print(data_csvfile.iloc[4,:])"
      ],
      "execution_count": null,
      "outputs": [
        {
          "output_type": "stream",
          "text": [
            "Warehouse       kolkata\n",
            "Indore             1712\n",
            "Jodhpur            2079\n",
            "Vellore            1830\n",
            "Kanpur             1499\n",
            "Hyderabad          1929\n",
            "Patna               439\n",
            "Raipur              691\n",
            "Cuttack             128\n",
            "Avail. Stock        150\n",
            "Name: 4, dtype: object\n"
          ],
          "name": "stdout"
        }
      ]
    },
    {
      "cell_type": "code",
      "metadata": {
        "id": "SBbSgYY3fs7W",
        "colab": {
          "base_uri": "https://localhost:8080/",
          "height": 204
        },
        "outputId": "8f25f5e9-6a73-4496-f599-cc031aadde90"
      },
      "source": [
        "print(data_csvfile.iloc[5,:])"
      ],
      "execution_count": null,
      "outputs": [
        {
          "output_type": "stream",
          "text": [
            "Warehouse       lucknow\n",
            "Indore              886\n",
            "Jodhpur             760\n",
            "Vellore            1965\n",
            "Kanpur               83\n",
            "Hyderabad          1759\n",
            "Patna               395\n",
            "Raipur              795\n",
            "Cuttack            1332\n",
            "Avail. Stock         90\n",
            "Name: 5, dtype: object\n"
          ],
          "name": "stdout"
        }
      ]
    },
    {
      "cell_type": "code",
      "metadata": {
        "id": "sYNo8ZQ0fwXT",
        "colab": {
          "base_uri": "https://localhost:8080/",
          "height": 204
        },
        "outputId": "388117e4-b783-402c-89b1-909c8004271b"
      },
      "source": [
        "print(data_csvfile.iloc[6,:])"
      ],
      "execution_count": null,
      "outputs": [
        {
          "output_type": "stream",
          "text": [
            "Warehouse       Mumbai\n",
            "Indore             546\n",
            "Jodhpur            817\n",
            "Vellore           1045\n",
            "Kanpur            1232\n",
            "Hyderabad          905\n",
            "Patna             1211\n",
            "Raipur            1187\n",
            "Cuttack           1487\n",
            "Avail. Stock       290\n",
            "Name: 6, dtype: object\n"
          ],
          "name": "stdout"
        }
      ]
    },
    {
      "cell_type": "code",
      "metadata": {
        "id": "8LQAKEIZfy_L",
        "colab": {
          "base_uri": "https://localhost:8080/",
          "height": 204
        },
        "outputId": "38b6ae44-388b-47c4-9bb3-d2d00b917524"
      },
      "source": [
        "print(data_csvfile.iloc[7,:])"
      ],
      "execution_count": null,
      "outputs": [
        {
          "output_type": "stream",
          "text": [
            "Warehouse       Nagpur\n",
            "Indore             495\n",
            "Jodhpur           1062\n",
            "Vellore           1113\n",
            "Kanpur            1121\n",
            "Hyderabad          802\n",
            "Patna             1125\n",
            "Raipur             474\n",
            "Cuttack            801\n",
            "Avail. Stock       200\n",
            "Name: 7, dtype: object\n"
          ],
          "name": "stdout"
        }
      ]
    },
    {
      "cell_type": "code",
      "metadata": {
        "id": "CMiks8GKf43U",
        "colab": {
          "base_uri": "https://localhost:8080/",
          "height": 68
        },
        "outputId": "9bf7e467-0ca4-471a-d994-a60f1e2b4ecb"
      },
      "source": [
        "data_csvfile.columns"
      ],
      "execution_count": null,
      "outputs": [
        {
          "output_type": "execute_result",
          "data": {
            "text/plain": [
              "Index(['Warehouse', 'Indore', 'Jodhpur', 'Vellore', 'Kanpur', 'Hyderabad',\n",
              "       'Patna', 'Raipur', 'Cuttack', 'Avail. Stock'],\n",
              "      dtype='object')"
            ]
          },
          "metadata": {
            "tags": []
          },
          "execution_count": 65
        }
      ]
    },
    {
      "cell_type": "code",
      "metadata": {
        "id": "npCh8QUagIva",
        "colab": {
          "base_uri": "https://localhost:8080/",
          "height": 34
        },
        "outputId": "e687ae8b-027d-4ab8-8384-60ea8d97dd99"
      },
      "source": [
        "print('num  columns: ',len(data_csvfile.columns))"
      ],
      "execution_count": null,
      "outputs": [
        {
          "output_type": "stream",
          "text": [
            "num  columns:  10\n"
          ],
          "name": "stdout"
        }
      ]
    },
    {
      "cell_type": "code",
      "metadata": {
        "id": "yHF2f6VQgPSA",
        "colab": {
          "base_uri": "https://localhost:8080/",
          "height": 187
        },
        "outputId": "0f94d68e-3941-4f7d-aef1-075bb763d1d8"
      },
      "source": [
        "print(data_csvfile.iloc[:,1])"
      ],
      "execution_count": null,
      "outputs": [
        {
          "output_type": "stream",
          "text": [
            "0     427\n",
            "1    1179\n",
            "2    1409\n",
            "3    1123\n",
            "4    1712\n",
            "5     886\n",
            "6     546\n",
            "7     495\n",
            "8      75\n",
            "Name: Indore, dtype: int64\n"
          ],
          "name": "stdout"
        }
      ]
    },
    {
      "cell_type": "code",
      "metadata": {
        "id": "zL8wk3pJgaB2",
        "colab": {
          "base_uri": "https://localhost:8080/",
          "height": 187
        },
        "outputId": "e0c0fc5d-3e49-4c7e-8c4f-76a818d7c7b3"
      },
      "source": [
        "print(data_csvfile.iloc[:,2])"
      ],
      "execution_count": null,
      "outputs": [
        {
          "output_type": "stream",
          "text": [
            "0     617\n",
            "1    1623\n",
            "2    1823\n",
            "3     533\n",
            "4    2079\n",
            "5     760\n",
            "6     817\n",
            "7    1062\n",
            "8     300\n",
            "Name: Jodhpur, dtype: int64\n"
          ],
          "name": "stdout"
        }
      ]
    },
    {
      "cell_type": "code",
      "metadata": {
        "id": "N6FLt-g7ggTu",
        "colab": {
          "base_uri": "https://localhost:8080/",
          "height": 187
        },
        "outputId": "00f0d7b1-99fd-437b-8ebe-589cdd5eccb6"
      },
      "source": [
        "print(data_csvfile.iloc[:,3])"
      ],
      "execution_count": null,
      "outputs": [
        {
          "output_type": "stream",
          "text": [
            "0    1270\n",
            "1     372\n",
            "2      59\n",
            "3    2265\n",
            "4    1830\n",
            "5    1965\n",
            "6    1045\n",
            "7    1113\n",
            "8     250\n",
            "Name: Vellore, dtype: int64\n"
          ],
          "name": "stdout"
        }
      ]
    },
    {
      "cell_type": "code",
      "metadata": {
        "id": "F2wZfoIhglS5",
        "colab": {
          "base_uri": "https://localhost:8080/",
          "height": 187
        },
        "outputId": "da598e5b-e97b-4d59-dacf-2eaeefae0182"
      },
      "source": [
        "print(data_csvfile.iloc[:,4])"
      ],
      "execution_count": null,
      "outputs": [
        {
          "output_type": "stream",
          "text": [
            "0     982\n",
            "1    2072\n",
            "2    2127\n",
            "3     467\n",
            "4    1499\n",
            "5      83\n",
            "6    1232\n",
            "7    1121\n",
            "8     200\n",
            "Name: Kanpur, dtype: int64\n"
          ],
          "name": "stdout"
        }
      ]
    },
    {
      "cell_type": "code",
      "metadata": {
        "id": "2KcNJCncgrZ7",
        "colab": {
          "base_uri": "https://localhost:8080/",
          "height": 187
        },
        "outputId": "f4ee8ec2-a420-451f-80b5-1b76dc9e6e9b"
      },
      "source": [
        "print(data_csvfile.iloc[:,5])"
      ],
      "execution_count": null,
      "outputs": [
        {
          "output_type": "stream",
          "text": [
            "0     915\n",
            "1     257\n",
            "2     358\n",
            "3    1896\n",
            "4    1929\n",
            "5    1759\n",
            "6     905\n",
            "7     802\n",
            "8     400\n",
            "Name: Hyderabad, dtype: int64\n"
          ],
          "name": "stdout"
        }
      ]
    },
    {
      "cell_type": "code",
      "metadata": {
        "id": "vs_GhvOpgwfv",
        "colab": {
          "base_uri": "https://localhost:8080/",
          "height": 187
        },
        "outputId": "d044d8fa-9c11-4fdc-f568-d287af61e344"
      },
      "source": [
        "print(data_csvfile.iloc[:,6])"
      ],
      "execution_count": null,
      "outputs": [
        {
          "output_type": "stream",
          "text": [
            "0     943\n",
            "1    1373\n",
            "2    1422\n",
            "3     941\n",
            "4     439\n",
            "5     395\n",
            "6    1211\n",
            "7    1125\n",
            "8     100\n",
            "Name: Patna, dtype: int64\n"
          ],
          "name": "stdout"
        }
      ]
    },
    {
      "cell_type": "code",
      "metadata": {
        "id": "wTzmM-1ogy2A",
        "colab": {
          "base_uri": "https://localhost:8080/",
          "height": 187
        },
        "outputId": "81bea417-b25f-4a7f-9414-ef61c123e7c0"
      },
      "source": [
        "print(data_csvfile.iloc[:,7])"
      ],
      "execution_count": null,
      "outputs": [
        {
          "output_type": "stream",
          "text": [
            "0     974\n",
            "1    1052\n",
            "2    1304\n",
            "3    1232\n",
            "4     691\n",
            "5     795\n",
            "6    1187\n",
            "7     474\n",
            "8      50\n",
            "Name: Raipur, dtype: int64\n"
          ],
          "name": "stdout"
        }
      ]
    },
    {
      "cell_type": "code",
      "metadata": {
        "id": "v-fBdtDyg1Ix",
        "colab": {
          "base_uri": "https://localhost:8080/",
          "height": 187
        },
        "outputId": "ed3ac5ee-50a4-4188-f57f-d1f1bb821d70"
      },
      "source": [
        "print(data_csvfile.iloc[:,8])"
      ],
      "execution_count": null,
      "outputs": [
        {
          "output_type": "stream",
          "text": [
            "0    1265\n",
            "1     959\n",
            "2     811\n",
            "3    1348\n",
            "4     128\n",
            "5    1332\n",
            "6    1487\n",
            "7     801\n",
            "8      70\n",
            "Name: Cuttack, dtype: int64\n"
          ],
          "name": "stdout"
        }
      ]
    },
    {
      "cell_type": "code",
      "metadata": {
        "id": "rvR0agQuhCTL"
      },
      "source": [
        "model = ConcreteModel()"
      ],
      "execution_count": null,
      "outputs": []
    },
    {
      "cell_type": "code",
      "metadata": {
        "id": "eApXwRNyhJ1R",
        "colab": {
          "base_uri": "https://localhost:8080/",
          "height": 34
        },
        "outputId": "643b22d9-ff5a-4c09-8d74-b0168603dd79"
      },
      "source": [
        "M = len(data_csvfile.index)-1 #we declare a Python variable M denoting the number of Warehouses\n",
        "print('num warehouse: ',M)"
      ],
      "execution_count": null,
      "outputs": [
        {
          "output_type": "stream",
          "text": [
            "num warehouse:  8\n"
          ],
          "name": "stdout"
        }
      ]
    },
    {
      "cell_type": "code",
      "metadata": {
        "id": "T4UmufIJoJjq",
        "colab": {
          "base_uri": "https://localhost:8080/",
          "height": 34
        },
        "outputId": "da1f2845-d7f4-45a5-d6f0-245308a63752"
      },
      "source": [
        "N = len(data_csvfile.columns)-2 #we declare a Python variable N denoting the number of Markets\n",
        "print('num markets: ',N)"
      ],
      "execution_count": null,
      "outputs": [
        {
          "output_type": "stream",
          "text": [
            "num markets:  8\n"
          ],
          "name": "stdout"
        }
      ]
    },
    {
      "cell_type": "code",
      "metadata": {
        "id": "7A042q1posvp",
        "colab": {
          "base_uri": "https://localhost:8080/",
          "height": 51
        },
        "outputId": "0a336c20-1d33-46b1-c874-2e8958dfe06c"
      },
      "source": [
        "row_indices = range(M)\n",
        "col_indices = range(N)\n",
        "\n",
        "print(row_indices)\n",
        "print(col_indices)"
      ],
      "execution_count": null,
      "outputs": [
        {
          "output_type": "stream",
          "text": [
            "range(0, 8)\n",
            "range(0, 8)\n"
          ],
          "name": "stdout"
        }
      ]
    },
    {
      "cell_type": "code",
      "metadata": {
        "id": "d5L4X-R-ouBg",
        "colab": {
          "base_uri": "https://localhost:8080/",
          "height": 1000
        },
        "outputId": "c9f7ce4d-c80a-49e6-dc2b-ed6536133fe6"
      },
      "source": [
        "# the contents of costs\n",
        "for row_idx in row_indices:\n",
        "  for col_idx in col_indices:\n",
        "    print('cost[',row_idx,'][',col_idx+1,']:',data_csvfile.iloc[row_idx, col_idx+1])"
      ],
      "execution_count": null,
      "outputs": [
        {
          "output_type": "stream",
          "text": [
            "cost[ 0 ][ 1 ]: 427\n",
            "cost[ 0 ][ 2 ]: 617\n",
            "cost[ 0 ][ 3 ]: 1270\n",
            "cost[ 0 ][ 4 ]: 982\n",
            "cost[ 0 ][ 5 ]: 915\n",
            "cost[ 0 ][ 6 ]: 943\n",
            "cost[ 0 ][ 7 ]: 974\n",
            "cost[ 0 ][ 8 ]: 1265\n",
            "cost[ 1 ][ 1 ]: 1179\n",
            "cost[ 1 ][ 2 ]: 1623\n",
            "cost[ 1 ][ 3 ]: 372\n",
            "cost[ 1 ][ 4 ]: 2072\n",
            "cost[ 1 ][ 5 ]: 257\n",
            "cost[ 1 ][ 6 ]: 1373\n",
            "cost[ 1 ][ 7 ]: 1052\n",
            "cost[ 1 ][ 8 ]: 959\n",
            "cost[ 2 ][ 1 ]: 1409\n",
            "cost[ 2 ][ 2 ]: 1823\n",
            "cost[ 2 ][ 3 ]: 59\n",
            "cost[ 2 ][ 4 ]: 2127\n",
            "cost[ 2 ][ 5 ]: 358\n",
            "cost[ 2 ][ 6 ]: 1422\n",
            "cost[ 2 ][ 7 ]: 1304\n",
            "cost[ 2 ][ 8 ]: 811\n",
            "cost[ 3 ][ 1 ]: 1123\n",
            "cost[ 3 ][ 2 ]: 533\n",
            "cost[ 3 ][ 3 ]: 2265\n",
            "cost[ 3 ][ 4 ]: 467\n",
            "cost[ 3 ][ 5 ]: 1896\n",
            "cost[ 3 ][ 6 ]: 941\n",
            "cost[ 3 ][ 7 ]: 1232\n",
            "cost[ 3 ][ 8 ]: 1348\n",
            "cost[ 4 ][ 1 ]: 1712\n",
            "cost[ 4 ][ 2 ]: 2079\n",
            "cost[ 4 ][ 3 ]: 1830\n",
            "cost[ 4 ][ 4 ]: 1499\n",
            "cost[ 4 ][ 5 ]: 1929\n",
            "cost[ 4 ][ 6 ]: 439\n",
            "cost[ 4 ][ 7 ]: 691\n",
            "cost[ 4 ][ 8 ]: 128\n",
            "cost[ 5 ][ 1 ]: 886\n",
            "cost[ 5 ][ 2 ]: 760\n",
            "cost[ 5 ][ 3 ]: 1965\n",
            "cost[ 5 ][ 4 ]: 83\n",
            "cost[ 5 ][ 5 ]: 1759\n",
            "cost[ 5 ][ 6 ]: 395\n",
            "cost[ 5 ][ 7 ]: 795\n",
            "cost[ 5 ][ 8 ]: 1332\n",
            "cost[ 6 ][ 1 ]: 546\n",
            "cost[ 6 ][ 2 ]: 817\n",
            "cost[ 6 ][ 3 ]: 1045\n",
            "cost[ 6 ][ 4 ]: 1232\n",
            "cost[ 6 ][ 5 ]: 905\n",
            "cost[ 6 ][ 6 ]: 1211\n",
            "cost[ 6 ][ 7 ]: 1187\n",
            "cost[ 6 ][ 8 ]: 1487\n",
            "cost[ 7 ][ 1 ]: 495\n",
            "cost[ 7 ][ 2 ]: 1062\n",
            "cost[ 7 ][ 3 ]: 1113\n",
            "cost[ 7 ][ 4 ]: 1121\n",
            "cost[ 7 ][ 5 ]: 802\n",
            "cost[ 7 ][ 6 ]: 1125\n",
            "cost[ 7 ][ 7 ]: 474\n",
            "cost[ 7 ][ 8 ]: 801\n"
          ],
          "name": "stdout"
        }
      ]
    },
    {
      "cell_type": "code",
      "metadata": {
        "id": "AcSsRLuZpyck"
      },
      "source": [
        "model.x = Var(row_indices, col_indices, domain= NonNegativeIntegers)"
      ],
      "execution_count": null,
      "outputs": []
    },
    {
      "cell_type": "code",
      "metadata": {
        "id": "SKz6HN6htqGv"
      },
      "source": [
        "model.objective = Objective(expr=sum(data_csvfile.iloc[i,j+1]*model.x[i,j] for i in row_indices for j in col_indices),sense=minimize)"
      ],
      "execution_count": null,
      "outputs": []
    },
    {
      "cell_type": "code",
      "metadata": {
        "id": "hNs_o-owvZvM"
      },
      "source": [
        "model.constraints = ConstraintList()"
      ],
      "execution_count": null,
      "outputs": []
    },
    {
      "cell_type": "code",
      "metadata": {
        "id": "aKWt5Ig2vgyb",
        "colab": {
          "base_uri": "https://localhost:8080/",
          "height": 170
        },
        "outputId": "4c7d55a5-903a-462d-d5e1-640219dc1fae"
      },
      "source": [
        "#to get the Available-stock limit at different markets from the file we can use the following\n",
        "print(data_csvfile.iloc[:8,N+1])"
      ],
      "execution_count": null,
      "outputs": [
        {
          "output_type": "stream",
          "text": [
            "0    100.0\n",
            "1    250.0\n",
            "2    200.0\n",
            "3    200.0\n",
            "4    150.0\n",
            "5     90.0\n",
            "6    290.0\n",
            "7    200.0\n",
            "Name: Avail. Stock, dtype: float64\n"
          ],
          "name": "stdout"
        }
      ]
    },
    {
      "cell_type": "code",
      "metadata": {
        "id": "ZyXtnUoJwt3n",
        "colab": {
          "base_uri": "https://localhost:8080/",
          "height": 34
        },
        "outputId": "d92f13d5-a639-41ab-b3ae-dee9a952c908"
      },
      "source": [
        "#the Available-stock limit constraints\n",
        "model.constraints.add(expr=sum(model.x[0,j] for j in col_indices) <= data_csvfile.iloc[0,N+1]) \n",
        "model.constraints.add(expr=sum(model.x[1,j] for j in col_indices) <= data_csvfile.iloc[1,N+1])\n",
        "model.constraints.add(expr=sum(model.x[2,j] for j in col_indices) <= data_csvfile.iloc[2,N+1]) \n",
        "model.constraints.add(expr=sum(model.x[3,j] for j in col_indices) <= data_csvfile.iloc[3,N+1])\n",
        "model.constraints.add(expr=sum(model.x[4,j] for j in col_indices) <= data_csvfile.iloc[4,N+1])\n",
        "model.constraints.add(expr=sum(model.x[5,j] for j in col_indices) <= data_csvfile.iloc[5,N+1])\n",
        "model.constraints.add(expr=sum(model.x[6,j] for j in col_indices) <= data_csvfile.iloc[6,N+1])\n",
        "model.constraints.add(expr=sum(model.x[7,j] for j in col_indices) <= data_csvfile.iloc[7,N+1])"
      ],
      "execution_count": null,
      "outputs": [
        {
          "output_type": "execute_result",
          "data": {
            "text/plain": [
              "<pyomo.core.base.constraint._GeneralConstraintData at 0x7f43a6d5a0a8>"
            ]
          },
          "metadata": {
            "tags": []
          },
          "execution_count": 84
        }
      ]
    },
    {
      "cell_type": "code",
      "metadata": {
        "id": "L064_h7pxvP4",
        "colab": {
          "base_uri": "https://localhost:8080/",
          "height": 34
        },
        "outputId": "b339be7a-e26b-4552-aa9d-520fd9168e05"
      },
      "source": [
        "#the demand constraints\n",
        "model.constraints.add(expr=sum(model.x[i,0] for i in row_indices) == data_csvfile.iloc[M,1])\n",
        "model.constraints.add(expr=sum(model.x[i,1] for i in row_indices) == data_csvfile.iloc[M,2])\n",
        "model.constraints.add(expr=sum(model.x[i,2] for i in row_indices) == data_csvfile.iloc[M,3])\n",
        "model.constraints.add(expr=sum(model.x[i,3] for i in row_indices) == data_csvfile.iloc[M,4])\n",
        "model.constraints.add(expr=sum(model.x[i,4] for i in row_indices) == data_csvfile.iloc[M,5])\n",
        "model.constraints.add(expr=sum(model.x[i,5] for i in row_indices) == data_csvfile.iloc[M,6])\n",
        "model.constraints.add(expr=sum(model.x[i,6] for i in row_indices) == data_csvfile.iloc[M,7])\n",
        "model.constraints.add(expr=sum(model.x[i,7] for i in row_indices) == data_csvfile.iloc[M,8])\n"
      ],
      "execution_count": null,
      "outputs": [
        {
          "output_type": "execute_result",
          "data": {
            "text/plain": [
              "<pyomo.core.base.constraint._GeneralConstraintData at 0x7f43a6d14288>"
            ]
          },
          "metadata": {
            "tags": []
          },
          "execution_count": 85
        }
      ]
    },
    {
      "cell_type": "code",
      "metadata": {
        "id": "nRu8ptIhzbfS",
        "colab": {
          "base_uri": "https://localhost:8080/",
          "height": 1000
        },
        "outputId": "28b97107-2d31-4141-88f4-a43c4a33645a"
      },
      "source": [
        "model.pprint()"
      ],
      "execution_count": null,
      "outputs": [
        {
          "output_type": "stream",
          "text": [
            "4 Set Declarations\n",
            "    constraints_index : Size=1, Index=None, Ordered=Insertion\n",
            "        Key  : Dimen : Domain : Size : Members\n",
            "        None :     1 :    Any :   16 : {1, 2, 3, 4, 5, 6, 7, 8, 9, 10, 11, 12, 13, 14, 15, 16}\n",
            "    x_index : Size=1, Index=None, Ordered=False\n",
            "        Key  : Dimen : Domain              : Size : Members\n",
            "        None :     2 : x_index_0*x_index_1 :   64 : {(0, 0), (0, 1), (0, 2), (0, 3), (0, 4), (0, 5), (0, 6), (0, 7), (1, 0), (1, 1), (1, 2), (1, 3), (1, 4), (1, 5), (1, 6), (1, 7), (2, 0), (2, 1), (2, 2), (2, 3), (2, 4), (2, 5), (2, 6), (2, 7), (3, 0), (3, 1), (3, 2), (3, 3), (3, 4), (3, 5), (3, 6), (3, 7), (4, 0), (4, 1), (4, 2), (4, 3), (4, 4), (4, 5), (4, 6), (4, 7), (5, 0), (5, 1), (5, 2), (5, 3), (5, 4), (5, 5), (5, 6), (5, 7), (6, 0), (6, 1), (6, 2), (6, 3), (6, 4), (6, 5), (6, 6), (6, 7), (7, 0), (7, 1), (7, 2), (7, 3), (7, 4), (7, 5), (7, 6), (7, 7)}\n",
            "    x_index_0 : Size=1, Index=None, Ordered=False\n",
            "        Key  : Dimen : Domain : Size : Members\n",
            "        None :     1 :    Any :    8 : {0, 1, 2, 3, 4, 5, 6, 7}\n",
            "    x_index_1 : Size=1, Index=None, Ordered=False\n",
            "        Key  : Dimen : Domain : Size : Members\n",
            "        None :     1 :    Any :    8 : {0, 1, 2, 3, 4, 5, 6, 7}\n",
            "\n",
            "1 Var Declarations\n",
            "    x : Size=64, Index=x_index\n",
            "        Key    : Lower : Value : Upper : Fixed : Stale : Domain\n",
            "        (0, 0) :     0 :  None :  None : False :  True : NonNegativeIntegers\n",
            "        (0, 1) :     0 :  None :  None : False :  True : NonNegativeIntegers\n",
            "        (0, 2) :     0 :  None :  None : False :  True : NonNegativeIntegers\n",
            "        (0, 3) :     0 :  None :  None : False :  True : NonNegativeIntegers\n",
            "        (0, 4) :     0 :  None :  None : False :  True : NonNegativeIntegers\n",
            "        (0, 5) :     0 :  None :  None : False :  True : NonNegativeIntegers\n",
            "        (0, 6) :     0 :  None :  None : False :  True : NonNegativeIntegers\n",
            "        (0, 7) :     0 :  None :  None : False :  True : NonNegativeIntegers\n",
            "        (1, 0) :     0 :  None :  None : False :  True : NonNegativeIntegers\n",
            "        (1, 1) :     0 :  None :  None : False :  True : NonNegativeIntegers\n",
            "        (1, 2) :     0 :  None :  None : False :  True : NonNegativeIntegers\n",
            "        (1, 3) :     0 :  None :  None : False :  True : NonNegativeIntegers\n",
            "        (1, 4) :     0 :  None :  None : False :  True : NonNegativeIntegers\n",
            "        (1, 5) :     0 :  None :  None : False :  True : NonNegativeIntegers\n",
            "        (1, 6) :     0 :  None :  None : False :  True : NonNegativeIntegers\n",
            "        (1, 7) :     0 :  None :  None : False :  True : NonNegativeIntegers\n",
            "        (2, 0) :     0 :  None :  None : False :  True : NonNegativeIntegers\n",
            "        (2, 1) :     0 :  None :  None : False :  True : NonNegativeIntegers\n",
            "        (2, 2) :     0 :  None :  None : False :  True : NonNegativeIntegers\n",
            "        (2, 3) :     0 :  None :  None : False :  True : NonNegativeIntegers\n",
            "        (2, 4) :     0 :  None :  None : False :  True : NonNegativeIntegers\n",
            "        (2, 5) :     0 :  None :  None : False :  True : NonNegativeIntegers\n",
            "        (2, 6) :     0 :  None :  None : False :  True : NonNegativeIntegers\n",
            "        (2, 7) :     0 :  None :  None : False :  True : NonNegativeIntegers\n",
            "        (3, 0) :     0 :  None :  None : False :  True : NonNegativeIntegers\n",
            "        (3, 1) :     0 :  None :  None : False :  True : NonNegativeIntegers\n",
            "        (3, 2) :     0 :  None :  None : False :  True : NonNegativeIntegers\n",
            "        (3, 3) :     0 :  None :  None : False :  True : NonNegativeIntegers\n",
            "        (3, 4) :     0 :  None :  None : False :  True : NonNegativeIntegers\n",
            "        (3, 5) :     0 :  None :  None : False :  True : NonNegativeIntegers\n",
            "        (3, 6) :     0 :  None :  None : False :  True : NonNegativeIntegers\n",
            "        (3, 7) :     0 :  None :  None : False :  True : NonNegativeIntegers\n",
            "        (4, 0) :     0 :  None :  None : False :  True : NonNegativeIntegers\n",
            "        (4, 1) :     0 :  None :  None : False :  True : NonNegativeIntegers\n",
            "        (4, 2) :     0 :  None :  None : False :  True : NonNegativeIntegers\n",
            "        (4, 3) :     0 :  None :  None : False :  True : NonNegativeIntegers\n",
            "        (4, 4) :     0 :  None :  None : False :  True : NonNegativeIntegers\n",
            "        (4, 5) :     0 :  None :  None : False :  True : NonNegativeIntegers\n",
            "        (4, 6) :     0 :  None :  None : False :  True : NonNegativeIntegers\n",
            "        (4, 7) :     0 :  None :  None : False :  True : NonNegativeIntegers\n",
            "        (5, 0) :     0 :  None :  None : False :  True : NonNegativeIntegers\n",
            "        (5, 1) :     0 :  None :  None : False :  True : NonNegativeIntegers\n",
            "        (5, 2) :     0 :  None :  None : False :  True : NonNegativeIntegers\n",
            "        (5, 3) :     0 :  None :  None : False :  True : NonNegativeIntegers\n",
            "        (5, 4) :     0 :  None :  None : False :  True : NonNegativeIntegers\n",
            "        (5, 5) :     0 :  None :  None : False :  True : NonNegativeIntegers\n",
            "        (5, 6) :     0 :  None :  None : False :  True : NonNegativeIntegers\n",
            "        (5, 7) :     0 :  None :  None : False :  True : NonNegativeIntegers\n",
            "        (6, 0) :     0 :  None :  None : False :  True : NonNegativeIntegers\n",
            "        (6, 1) :     0 :  None :  None : False :  True : NonNegativeIntegers\n",
            "        (6, 2) :     0 :  None :  None : False :  True : NonNegativeIntegers\n",
            "        (6, 3) :     0 :  None :  None : False :  True : NonNegativeIntegers\n",
            "        (6, 4) :     0 :  None :  None : False :  True : NonNegativeIntegers\n",
            "        (6, 5) :     0 :  None :  None : False :  True : NonNegativeIntegers\n",
            "        (6, 6) :     0 :  None :  None : False :  True : NonNegativeIntegers\n",
            "        (6, 7) :     0 :  None :  None : False :  True : NonNegativeIntegers\n",
            "        (7, 0) :     0 :  None :  None : False :  True : NonNegativeIntegers\n",
            "        (7, 1) :     0 :  None :  None : False :  True : NonNegativeIntegers\n",
            "        (7, 2) :     0 :  None :  None : False :  True : NonNegativeIntegers\n",
            "        (7, 3) :     0 :  None :  None : False :  True : NonNegativeIntegers\n",
            "        (7, 4) :     0 :  None :  None : False :  True : NonNegativeIntegers\n",
            "        (7, 5) :     0 :  None :  None : False :  True : NonNegativeIntegers\n",
            "        (7, 6) :     0 :  None :  None : False :  True : NonNegativeIntegers\n",
            "        (7, 7) :     0 :  None :  None : False :  True : NonNegativeIntegers\n",
            "\n",
            "1 Objective Declarations\n",
            "    objective : Size=1, Index=None, Active=True\n",
            "        Key  : Active : Sense    : Expression\n",
            "        None :   True : minimize : 427*x[0,0] + 617*x[0,1] + 1270*x[0,2] + 982*x[0,3] + 915*x[0,4] + 943*x[0,5] + 974*x[0,6] + 1265*x[0,7] + 1179*x[1,0] + 1623*x[1,1] + 372*x[1,2] + 2072*x[1,3] + 257*x[1,4] + 1373*x[1,5] + 1052*x[1,6] + 959*x[1,7] + 1409*x[2,0] + 1823*x[2,1] + 59*x[2,2] + 2127*x[2,3] + 358*x[2,4] + 1422*x[2,5] + 1304*x[2,6] + 811*x[2,7] + 1123*x[3,0] + 533*x[3,1] + 2265*x[3,2] + 467*x[3,3] + 1896*x[3,4] + 941*x[3,5] + 1232*x[3,6] + 1348*x[3,7] + 1712*x[4,0] + 2079*x[4,1] + 1830*x[4,2] + 1499*x[4,3] + 1929*x[4,4] + 439*x[4,5] + 691*x[4,6] + 128*x[4,7] + 886*x[5,0] + 760*x[5,1] + 1965*x[5,2] + 83*x[5,3] + 1759*x[5,4] + 395*x[5,5] + 795*x[5,6] + 1332*x[5,7] + 546*x[6,0] + 817*x[6,1] + 1045*x[6,2] + 1232*x[6,3] + 905*x[6,4] + 1211*x[6,5] + 1187*x[6,6] + 1487*x[6,7] + 495*x[7,0] + 1062*x[7,1] + 1113*x[7,2] + 1121*x[7,3] + 802*x[7,4] + 1125*x[7,5] + 474*x[7,6] + 801*x[7,7]\n",
            "\n",
            "1 Constraint Declarations\n",
            "    constraints : Size=16, Index=constraints_index, Active=True\n",
            "        Key : Lower : Body                                                                  : Upper : Active\n",
            "          1 :  -Inf : x[0,0] + x[0,1] + x[0,2] + x[0,3] + x[0,4] + x[0,5] + x[0,6] + x[0,7] : 100.0 :   True\n",
            "          2 :  -Inf : x[1,0] + x[1,1] + x[1,2] + x[1,3] + x[1,4] + x[1,5] + x[1,6] + x[1,7] : 250.0 :   True\n",
            "          3 :  -Inf : x[2,0] + x[2,1] + x[2,2] + x[2,3] + x[2,4] + x[2,5] + x[2,6] + x[2,7] : 200.0 :   True\n",
            "          4 :  -Inf : x[3,0] + x[3,1] + x[3,2] + x[3,3] + x[3,4] + x[3,5] + x[3,6] + x[3,7] : 200.0 :   True\n",
            "          5 :  -Inf : x[4,0] + x[4,1] + x[4,2] + x[4,3] + x[4,4] + x[4,5] + x[4,6] + x[4,7] : 150.0 :   True\n",
            "          6 :  -Inf : x[5,0] + x[5,1] + x[5,2] + x[5,3] + x[5,4] + x[5,5] + x[5,6] + x[5,7] :  90.0 :   True\n",
            "          7 :  -Inf : x[6,0] + x[6,1] + x[6,2] + x[6,3] + x[6,4] + x[6,5] + x[6,6] + x[6,7] : 290.0 :   True\n",
            "          8 :  -Inf : x[7,0] + x[7,1] + x[7,2] + x[7,3] + x[7,4] + x[7,5] + x[7,6] + x[7,7] : 200.0 :   True\n",
            "          9 :  75.0 : x[0,0] + x[1,0] + x[2,0] + x[3,0] + x[4,0] + x[5,0] + x[6,0] + x[7,0] :  75.0 :   True\n",
            "         10 : 300.0 : x[0,1] + x[1,1] + x[2,1] + x[3,1] + x[4,1] + x[5,1] + x[6,1] + x[7,1] : 300.0 :   True\n",
            "         11 : 250.0 : x[0,2] + x[1,2] + x[2,2] + x[3,2] + x[4,2] + x[5,2] + x[6,2] + x[7,2] : 250.0 :   True\n",
            "         12 : 200.0 : x[0,3] + x[1,3] + x[2,3] + x[3,3] + x[4,3] + x[5,3] + x[6,3] + x[7,3] : 200.0 :   True\n",
            "         13 : 400.0 : x[0,4] + x[1,4] + x[2,4] + x[3,4] + x[4,4] + x[5,4] + x[6,4] + x[7,4] : 400.0 :   True\n",
            "         14 : 100.0 : x[0,5] + x[1,5] + x[2,5] + x[3,5] + x[4,5] + x[5,5] + x[6,5] + x[7,5] : 100.0 :   True\n",
            "         15 :  50.0 : x[0,6] + x[1,6] + x[2,6] + x[3,6] + x[4,6] + x[5,6] + x[6,6] + x[7,6] :  50.0 :   True\n",
            "         16 :  70.0 : x[0,7] + x[1,7] + x[2,7] + x[3,7] + x[4,7] + x[5,7] + x[6,7] + x[7,7] :  70.0 :   True\n",
            "\n",
            "7 Declarations: x_index_0 x_index_1 x_index x objective constraints_index constraints\n"
          ],
          "name": "stdout"
        }
      ]
    },
    {
      "cell_type": "code",
      "metadata": {
        "id": "d5iasRKlzhbb"
      },
      "source": [
        "!apt-get install -y -qq coinor-cbc"
      ],
      "execution_count": null,
      "outputs": []
    },
    {
      "cell_type": "code",
      "metadata": {
        "id": "6hes-Vgy1gr5"
      },
      "source": [
        "opt_cbc = SolverFactory('cbc')"
      ],
      "execution_count": null,
      "outputs": []
    },
    {
      "cell_type": "code",
      "metadata": {
        "id": "-yNbhq1i1krC",
        "colab": {
          "base_uri": "https://localhost:8080/",
          "height": 51
        },
        "outputId": "7bb1dd84-85f9-48cd-f5af-e117b202be14"
      },
      "source": [
        "result = opt_cbc.solve(model)\n",
        "print('Solver status:', result.solver.status)\n",
        "print('Solver termination condition:',result.solver.termination_condition)"
      ],
      "execution_count": null,
      "outputs": [
        {
          "output_type": "stream",
          "text": [
            "Solver status: ok\n",
            "Solver termination condition: optimal\n"
          ],
          "name": "stdout"
        }
      ]
    },
    {
      "cell_type": "code",
      "metadata": {
        "id": "I4j3Pk5I10s6",
        "colab": {
          "base_uri": "https://localhost:8080/",
          "height": 340
        },
        "outputId": "ec17e954-d76f-4715-dd60-fc252a9f70cc"
      },
      "source": [
        "# solution display\n",
        "print('\\nObjective = ', model.objective())\n",
        "\n",
        "print('\\nDecision Variables with non zero values')\n",
        "for i in row_indices:\n",
        "  for j in col_indices:\n",
        "    if model.x[i,j].value != 0 :\n",
        "      print('Num of truck-loads of ACUs transported between ',data_csvfile['Warehouse'][i],' and ', data_csvfile.columns[j+1],':', model.x[i,j].value)\n",
        "    else:\n",
        "      pass"
      ],
      "execution_count": null,
      "outputs": [
        {
          "output_type": "stream",
          "text": [
            "\n",
            "Objective =  635720.0\n",
            "\n",
            "Decision Variables with non zero values\n",
            "Num of truck-loads of ACUs transported between  Ahmedabad  and  Jodhpur : 100.0\n",
            "Num of truck-loads of ACUs transported between  Bengaluru  and  Vellore : 50.0\n",
            "Num of truck-loads of ACUs transported between  Bengaluru  and  Hyderabad : 200.0\n",
            "Num of truck-loads of ACUs transported between  Chennai  and  Vellore : 200.0\n",
            "Num of truck-loads of ACUs transported between  Delhi  and  Jodhpur : 70.0\n",
            "Num of truck-loads of ACUs transported between  Delhi  and  Kanpur : 130.0\n",
            "Num of truck-loads of ACUs transported between  kolkata  and  Patna : 80.0\n",
            "Num of truck-loads of ACUs transported between  kolkata  and  Cuttack : 70.0\n",
            "Num of truck-loads of ACUs transported between  lucknow  and  Kanpur : 70.0\n",
            "Num of truck-loads of ACUs transported between  lucknow  and  Patna : 20.0\n",
            "Num of truck-loads of ACUs transported between  Mumbai  and  Indore : 75.0\n",
            "Num of truck-loads of ACUs transported between  Mumbai  and  Jodhpur : 130.0\n",
            "Num of truck-loads of ACUs transported between  Mumbai  and  Hyderabad : 50.0\n",
            "Num of truck-loads of ACUs transported between  Nagpur  and  Hyderabad : 150.0\n",
            "Num of truck-loads of ACUs transported between  Nagpur  and  Raipur : 50.0\n"
          ],
          "name": "stdout"
        }
      ]
    },
    {
      "cell_type": "markdown",
      "metadata": {
        "id": "25c5BSGmw9Nw"
      },
      "source": [
        "7.ANSWER:\\\n",
        "Objective (Total Cost) =  635720.0\n",
        "\n",
        "Decision Variables with non zero values \\\n",
        "Num of truck-loads of ACUs transported between  Ahmedabad  and  Jodhpur : 100.0 \\\n",
        "Num of truck-loads of ACUs transported between  Bengaluru  and  Vellore : 50.0 \\\n",
        "Num of truck-loads of ACUs transported between  Bengaluru  and  Hyderabad : 200.0 \\\n",
        "Num of truck-loads of ACUs transported between  Chennai  and  Vellore : 200.0 \\\n",
        "Num of truck-loads of ACUs transported between  Delhi  and  Jodhpur : 70.0 \\\n",
        "Num of truck-loads of ACUs transported between  Delhi  and  Kanpur : 130.0 \\\n",
        "Num of truck-loads of ACUs transported between  kolkata  and  Patna : 80.0 \\\n",
        "Num of truck-loads of ACUs transported between  kolkata  and  Cuttack : 70.0 \\\n",
        "Num of truck-loads of ACUs transported between  lucknow  and  Kanpur : 70.0 \\\n",
        "Num of truck-loads of ACUs transported between  lucknow  and  Patna : 20.0 \\\n",
        "Num of truck-loads of ACUs transported between  Mumbai  and  Indore : 75.0 \\\n",
        "Num of truck-loads of ACUs transported between  Mumbai  and  Jodhpur : 130.0 \\\n",
        "Num of truck-loads of ACUs transported between  Mumbai  and  Hyderabad : 50.0 \\\n",
        "Num of truck-loads of ACUs transported between  Nagpur  and  Hyderabad : 150.0 \\\n",
        "Num of truck-loads of ACUs transported between  Nagpur  and  Raipur : 50.0 "
      ]
    },
    {
      "cell_type": "markdown",
      "metadata": {
        "id": "BjjNwG2ktrIo"
      },
      "source": [
        "8.ANSWER:\\\n",
        "In case the Bengaluru-Patna link is disrupted and no transportation is possible on the\n",
        "link. Without changing the pyomo model, here i have solved this problem simply by increasing the cost of Bangaluru-Patna link in the .csv file to a level which is greater than the cost of every link between Bangaluru and other markets.This will force the optimization problem to neglect Bangaluru-Patna link in order to achieve the minimum cost."
      ]
    },
    {
      "cell_type": "code",
      "metadata": {
        "id": "8AdT0cqr3d0Q"
      },
      "source": [
        "data_csvfile = pd.read_csv('lab5_ex1_1.csv')"
      ],
      "execution_count": null,
      "outputs": []
    },
    {
      "cell_type": "code",
      "metadata": {
        "id": "AkL_nfpBzgmv"
      },
      "source": [
        "#deactivate the old objective\n",
        "model.objective.deactivate()"
      ],
      "execution_count": null,
      "outputs": []
    },
    {
      "cell_type": "code",
      "metadata": {
        "id": "k4ye-xmt0Nhy"
      },
      "source": [
        "model.new_objective = Objective(expr=sum(data_csvfile.iloc[i,j+1]*model.x[i,j] for i in row_indices for j in col_indices),sense=minimize)"
      ],
      "execution_count": null,
      "outputs": []
    },
    {
      "cell_type": "code",
      "metadata": {
        "id": "mB0omTQc0zwF",
        "colab": {
          "base_uri": "https://localhost:8080/",
          "height": 1000
        },
        "outputId": "528e1d80-aa3e-4d9a-f17a-fb054881a980"
      },
      "source": [
        "model.pprint()"
      ],
      "execution_count": null,
      "outputs": [
        {
          "output_type": "stream",
          "text": [
            "4 Set Declarations\n",
            "    constraints_index : Size=1, Index=None, Ordered=Insertion\n",
            "        Key  : Dimen : Domain : Size : Members\n",
            "        None :     1 :    Any :   16 : {1, 2, 3, 4, 5, 6, 7, 8, 9, 10, 11, 12, 13, 14, 15, 16}\n",
            "    x_index : Size=1, Index=None, Ordered=False\n",
            "        Key  : Dimen : Domain              : Size : Members\n",
            "        None :     2 : x_index_0*x_index_1 :   64 : {(0, 0), (0, 1), (0, 2), (0, 3), (0, 4), (0, 5), (0, 6), (0, 7), (1, 0), (1, 1), (1, 2), (1, 3), (1, 4), (1, 5), (1, 6), (1, 7), (2, 0), (2, 1), (2, 2), (2, 3), (2, 4), (2, 5), (2, 6), (2, 7), (3, 0), (3, 1), (3, 2), (3, 3), (3, 4), (3, 5), (3, 6), (3, 7), (4, 0), (4, 1), (4, 2), (4, 3), (4, 4), (4, 5), (4, 6), (4, 7), (5, 0), (5, 1), (5, 2), (5, 3), (5, 4), (5, 5), (5, 6), (5, 7), (6, 0), (6, 1), (6, 2), (6, 3), (6, 4), (6, 5), (6, 6), (6, 7), (7, 0), (7, 1), (7, 2), (7, 3), (7, 4), (7, 5), (7, 6), (7, 7)}\n",
            "    x_index_0 : Size=1, Index=None, Ordered=False\n",
            "        Key  : Dimen : Domain : Size : Members\n",
            "        None :     1 :    Any :    8 : {0, 1, 2, 3, 4, 5, 6, 7}\n",
            "    x_index_1 : Size=1, Index=None, Ordered=False\n",
            "        Key  : Dimen : Domain : Size : Members\n",
            "        None :     1 :    Any :    8 : {0, 1, 2, 3, 4, 5, 6, 7}\n",
            "\n",
            "1 Var Declarations\n",
            "    x : Size=64, Index=x_index\n",
            "        Key    : Lower : Value : Upper : Fixed : Stale : Domain\n",
            "        (0, 0) :     0 :   0.0 :  None : False : False : NonNegativeIntegers\n",
            "        (0, 1) :     0 : 100.0 :  None : False : False : NonNegativeIntegers\n",
            "        (0, 2) :     0 :   0.0 :  None : False : False : NonNegativeIntegers\n",
            "        (0, 3) :     0 :   0.0 :  None : False : False : NonNegativeIntegers\n",
            "        (0, 4) :     0 :   0.0 :  None : False : False : NonNegativeIntegers\n",
            "        (0, 5) :     0 :   0.0 :  None : False : False : NonNegativeIntegers\n",
            "        (0, 6) :     0 :   0.0 :  None : False : False : NonNegativeIntegers\n",
            "        (0, 7) :     0 :   0.0 :  None : False : False : NonNegativeIntegers\n",
            "        (1, 0) :     0 :   0.0 :  None : False : False : NonNegativeIntegers\n",
            "        (1, 1) :     0 :   0.0 :  None : False : False : NonNegativeIntegers\n",
            "        (1, 2) :     0 :  50.0 :  None : False : False : NonNegativeIntegers\n",
            "        (1, 3) :     0 :   0.0 :  None : False : False : NonNegativeIntegers\n",
            "        (1, 4) :     0 : 200.0 :  None : False : False : NonNegativeIntegers\n",
            "        (1, 5) :     0 :   0.0 :  None : False : False : NonNegativeIntegers\n",
            "        (1, 6) :     0 :   0.0 :  None : False : False : NonNegativeIntegers\n",
            "        (1, 7) :     0 :   0.0 :  None : False : False : NonNegativeIntegers\n",
            "        (2, 0) :     0 :   0.0 :  None : False : False : NonNegativeIntegers\n",
            "        (2, 1) :     0 :   0.0 :  None : False : False : NonNegativeIntegers\n",
            "        (2, 2) :     0 : 200.0 :  None : False : False : NonNegativeIntegers\n",
            "        (2, 3) :     0 :   0.0 :  None : False : False : NonNegativeIntegers\n",
            "        (2, 4) :     0 :   0.0 :  None : False : False : NonNegativeIntegers\n",
            "        (2, 5) :     0 :   0.0 :  None : False : False : NonNegativeIntegers\n",
            "        (2, 6) :     0 :   0.0 :  None : False : False : NonNegativeIntegers\n",
            "        (2, 7) :     0 :   0.0 :  None : False : False : NonNegativeIntegers\n",
            "        (3, 0) :     0 :   0.0 :  None : False : False : NonNegativeIntegers\n",
            "        (3, 1) :     0 :  70.0 :  None : False : False : NonNegativeIntegers\n",
            "        (3, 2) :     0 :   0.0 :  None : False : False : NonNegativeIntegers\n",
            "        (3, 3) :     0 : 130.0 :  None : False : False : NonNegativeIntegers\n",
            "        (3, 4) :     0 :   0.0 :  None : False : False : NonNegativeIntegers\n",
            "        (3, 5) :     0 :   0.0 :  None : False : False : NonNegativeIntegers\n",
            "        (3, 6) :     0 :   0.0 :  None : False : False : NonNegativeIntegers\n",
            "        (3, 7) :     0 :   0.0 :  None : False : False : NonNegativeIntegers\n",
            "        (4, 0) :     0 :   0.0 :  None : False : False : NonNegativeIntegers\n",
            "        (4, 1) :     0 :   0.0 :  None : False : False : NonNegativeIntegers\n",
            "        (4, 2) :     0 :   0.0 :  None : False : False : NonNegativeIntegers\n",
            "        (4, 3) :     0 :   0.0 :  None : False : False : NonNegativeIntegers\n",
            "        (4, 4) :     0 :   0.0 :  None : False : False : NonNegativeIntegers\n",
            "        (4, 5) :     0 :  80.0 :  None : False : False : NonNegativeIntegers\n",
            "        (4, 6) :     0 :   0.0 :  None : False : False : NonNegativeIntegers\n",
            "        (4, 7) :     0 :  70.0 :  None : False : False : NonNegativeIntegers\n",
            "        (5, 0) :     0 :   0.0 :  None : False : False : NonNegativeIntegers\n",
            "        (5, 1) :     0 :   0.0 :  None : False : False : NonNegativeIntegers\n",
            "        (5, 2) :     0 :   0.0 :  None : False : False : NonNegativeIntegers\n",
            "        (5, 3) :     0 :  70.0 :  None : False : False : NonNegativeIntegers\n",
            "        (5, 4) :     0 :   0.0 :  None : False : False : NonNegativeIntegers\n",
            "        (5, 5) :     0 :  20.0 :  None : False : False : NonNegativeIntegers\n",
            "        (5, 6) :     0 :   0.0 :  None : False : False : NonNegativeIntegers\n",
            "        (5, 7) :     0 :   0.0 :  None : False : False : NonNegativeIntegers\n",
            "        (6, 0) :     0 :  75.0 :  None : False : False : NonNegativeIntegers\n",
            "        (6, 1) :     0 : 130.0 :  None : False : False : NonNegativeIntegers\n",
            "        (6, 2) :     0 :   0.0 :  None : False : False : NonNegativeIntegers\n",
            "        (6, 3) :     0 :   0.0 :  None : False : False : NonNegativeIntegers\n",
            "        (6, 4) :     0 :  50.0 :  None : False : False : NonNegativeIntegers\n",
            "        (6, 5) :     0 :   0.0 :  None : False : False : NonNegativeIntegers\n",
            "        (6, 6) :     0 :   0.0 :  None : False : False : NonNegativeIntegers\n",
            "        (6, 7) :     0 :   0.0 :  None : False : False : NonNegativeIntegers\n",
            "        (7, 0) :     0 :   0.0 :  None : False : False : NonNegativeIntegers\n",
            "        (7, 1) :     0 :   0.0 :  None : False : False : NonNegativeIntegers\n",
            "        (7, 2) :     0 :   0.0 :  None : False : False : NonNegativeIntegers\n",
            "        (7, 3) :     0 :   0.0 :  None : False : False : NonNegativeIntegers\n",
            "        (7, 4) :     0 : 150.0 :  None : False : False : NonNegativeIntegers\n",
            "        (7, 5) :     0 :   0.0 :  None : False : False : NonNegativeIntegers\n",
            "        (7, 6) :     0 :  50.0 :  None : False : False : NonNegativeIntegers\n",
            "        (7, 7) :     0 :   0.0 :  None : False : False : NonNegativeIntegers\n",
            "\n",
            "2 Objective Declarations\n",
            "    new_objective : Size=1, Index=None, Active=True\n",
            "        Key  : Active : Sense    : Expression\n",
            "        None :   True : minimize : 427*x[0,0] + 617*x[0,1] + 1270*x[0,2] + 982*x[0,3] + 915*x[0,4] + 943*x[0,5] + 974*x[0,6] + 1265*x[0,7] + 1179*x[1,0] + 1623*x[1,1] + 372*x[1,2] + 2072*x[1,3] + 257*x[1,4] + 2073*x[1,5] + 1052*x[1,6] + 959*x[1,7] + 1409*x[2,0] + 1823*x[2,1] + 59*x[2,2] + 2127*x[2,3] + 358*x[2,4] + 1422*x[2,5] + 1304*x[2,6] + 811*x[2,7] + 1123*x[3,0] + 533*x[3,1] + 2265*x[3,2] + 467*x[3,3] + 1896*x[3,4] + 941*x[3,5] + 1232*x[3,6] + 1348*x[3,7] + 1712*x[4,0] + 2079*x[4,1] + 1830*x[4,2] + 1499*x[4,3] + 1929*x[4,4] + 439*x[4,5] + 691*x[4,6] + 128*x[4,7] + 886*x[5,0] + 760*x[5,1] + 1965*x[5,2] + 83*x[5,3] + 1759*x[5,4] + 395*x[5,5] + 795*x[5,6] + 1332*x[5,7] + 546*x[6,0] + 817*x[6,1] + 1045*x[6,2] + 1232*x[6,3] + 905*x[6,4] + 1211*x[6,5] + 1187*x[6,6] + 1487*x[6,7] + 495*x[7,0] + 1062*x[7,1] + 1113*x[7,2] + 1121*x[7,3] + 802*x[7,4] + 1125*x[7,5] + 474*x[7,6] + 801*x[7,7]\n",
            "    objective : Size=1, Index=None, Active=False\n",
            "        Key  : Active : Sense    : Expression\n",
            "        None :  False : minimize : 427*x[0,0] + 617*x[0,1] + 1270*x[0,2] + 982*x[0,3] + 915*x[0,4] + 943*x[0,5] + 974*x[0,6] + 1265*x[0,7] + 1179*x[1,0] + 1623*x[1,1] + 372*x[1,2] + 2072*x[1,3] + 257*x[1,4] + 1373*x[1,5] + 1052*x[1,6] + 959*x[1,7] + 1409*x[2,0] + 1823*x[2,1] + 59*x[2,2] + 2127*x[2,3] + 358*x[2,4] + 1422*x[2,5] + 1304*x[2,6] + 811*x[2,7] + 1123*x[3,0] + 533*x[3,1] + 2265*x[3,2] + 467*x[3,3] + 1896*x[3,4] + 941*x[3,5] + 1232*x[3,6] + 1348*x[3,7] + 1712*x[4,0] + 2079*x[4,1] + 1830*x[4,2] + 1499*x[4,3] + 1929*x[4,4] + 439*x[4,5] + 691*x[4,6] + 128*x[4,7] + 886*x[5,0] + 760*x[5,1] + 1965*x[5,2] + 83*x[5,3] + 1759*x[5,4] + 395*x[5,5] + 795*x[5,6] + 1332*x[5,7] + 546*x[6,0] + 817*x[6,1] + 1045*x[6,2] + 1232*x[6,3] + 905*x[6,4] + 1211*x[6,5] + 1187*x[6,6] + 1487*x[6,7] + 495*x[7,0] + 1062*x[7,1] + 1113*x[7,2] + 1121*x[7,3] + 802*x[7,4] + 1125*x[7,5] + 474*x[7,6] + 801*x[7,7]\n",
            "\n",
            "1 Constraint Declarations\n",
            "    constraints : Size=16, Index=constraints_index, Active=True\n",
            "        Key : Lower : Body                                                                  : Upper : Active\n",
            "          1 :  -Inf : x[0,0] + x[0,1] + x[0,2] + x[0,3] + x[0,4] + x[0,5] + x[0,6] + x[0,7] : 100.0 :   True\n",
            "          2 :  -Inf : x[1,0] + x[1,1] + x[1,2] + x[1,3] + x[1,4] + x[1,5] + x[1,6] + x[1,7] : 250.0 :   True\n",
            "          3 :  -Inf : x[2,0] + x[2,1] + x[2,2] + x[2,3] + x[2,4] + x[2,5] + x[2,6] + x[2,7] : 200.0 :   True\n",
            "          4 :  -Inf : x[3,0] + x[3,1] + x[3,2] + x[3,3] + x[3,4] + x[3,5] + x[3,6] + x[3,7] : 200.0 :   True\n",
            "          5 :  -Inf : x[4,0] + x[4,1] + x[4,2] + x[4,3] + x[4,4] + x[4,5] + x[4,6] + x[4,7] : 150.0 :   True\n",
            "          6 :  -Inf : x[5,0] + x[5,1] + x[5,2] + x[5,3] + x[5,4] + x[5,5] + x[5,6] + x[5,7] :  90.0 :   True\n",
            "          7 :  -Inf : x[6,0] + x[6,1] + x[6,2] + x[6,3] + x[6,4] + x[6,5] + x[6,6] + x[6,7] : 290.0 :   True\n",
            "          8 :  -Inf : x[7,0] + x[7,1] + x[7,2] + x[7,3] + x[7,4] + x[7,5] + x[7,6] + x[7,7] : 200.0 :   True\n",
            "          9 :  75.0 : x[0,0] + x[1,0] + x[2,0] + x[3,0] + x[4,0] + x[5,0] + x[6,0] + x[7,0] :  75.0 :   True\n",
            "         10 : 300.0 : x[0,1] + x[1,1] + x[2,1] + x[3,1] + x[4,1] + x[5,1] + x[6,1] + x[7,1] : 300.0 :   True\n",
            "         11 : 250.0 : x[0,2] + x[1,2] + x[2,2] + x[3,2] + x[4,2] + x[5,2] + x[6,2] + x[7,2] : 250.0 :   True\n",
            "         12 : 200.0 : x[0,3] + x[1,3] + x[2,3] + x[3,3] + x[4,3] + x[5,3] + x[6,3] + x[7,3] : 200.0 :   True\n",
            "         13 : 400.0 : x[0,4] + x[1,4] + x[2,4] + x[3,4] + x[4,4] + x[5,4] + x[6,4] + x[7,4] : 400.0 :   True\n",
            "         14 : 100.0 : x[0,5] + x[1,5] + x[2,5] + x[3,5] + x[4,5] + x[5,5] + x[6,5] + x[7,5] : 100.0 :   True\n",
            "         15 :  50.0 : x[0,6] + x[1,6] + x[2,6] + x[3,6] + x[4,6] + x[5,6] + x[6,6] + x[7,6] :  50.0 :   True\n",
            "         16 :  70.0 : x[0,7] + x[1,7] + x[2,7] + x[3,7] + x[4,7] + x[5,7] + x[6,7] + x[7,7] :  70.0 :   True\n",
            "\n",
            "8 Declarations: x_index_0 x_index_1 x_index x objective constraints_index constraints new_objective\n"
          ],
          "name": "stdout"
        }
      ]
    },
    {
      "cell_type": "code",
      "metadata": {
        "id": "4LqeKsjR1ydL"
      },
      "source": [
        "!apt-get install -y -qq coinor-cbc"
      ],
      "execution_count": null,
      "outputs": []
    },
    {
      "cell_type": "code",
      "metadata": {
        "id": "sv-Cfxds1KRX"
      },
      "source": [
        "opt_cbc = SolverFactory('cbc')"
      ],
      "execution_count": null,
      "outputs": []
    },
    {
      "cell_type": "code",
      "metadata": {
        "id": "sTjW8CKf15jJ",
        "colab": {
          "base_uri": "https://localhost:8080/",
          "height": 51
        },
        "outputId": "131bec9d-0654-45eb-cbb9-9fbc8dd8d4c7"
      },
      "source": [
        "new_result = opt_cbc.solve(model)\n",
        "print('Solver status:', new_result.solver.status)\n",
        "print('Solver termination condition:',new_result.solver.termination_condition)"
      ],
      "execution_count": null,
      "outputs": [
        {
          "output_type": "stream",
          "text": [
            "Solver status: ok\n",
            "Solver termination condition: optimal\n"
          ],
          "name": "stdout"
        }
      ]
    },
    {
      "cell_type": "code",
      "metadata": {
        "id": "6aoTsIQQ2DSF",
        "colab": {
          "base_uri": "https://localhost:8080/",
          "height": 340
        },
        "outputId": "a8c32058-2161-4b1b-e110-f0574c9c78f9"
      },
      "source": [
        "# solution display\n",
        "print('\\nObjective = ', model.new_objective())\n",
        "\n",
        "print('\\nDecision Variables with non zero values')\n",
        "for i in row_indices:\n",
        "  for j in col_indices:\n",
        "    if model.x[i,j].value != 0 :\n",
        "      print('Num of truck-loads of ACUs transported between ',data_csvfile['Warehouse'][i],' and ', data_csvfile.columns[j+1],':', model.x[i,j].value)\n",
        "    else:\n",
        "      pass"
      ],
      "execution_count": null,
      "outputs": [
        {
          "output_type": "stream",
          "text": [
            "\n",
            "Objective =  635720.0\n",
            "\n",
            "Decision Variables with non zero values\n",
            "Num of truck-loads of ACUs transported between  Ahmedabad  and  Jodhpur : 100.0\n",
            "Num of truck-loads of ACUs transported between  Bengaluru  and  Vellore : 50.0\n",
            "Num of truck-loads of ACUs transported between  Bengaluru  and  Hyderabad : 200.0\n",
            "Num of truck-loads of ACUs transported between  Chennai  and  Vellore : 200.0\n",
            "Num of truck-loads of ACUs transported between  Delhi  and  Jodhpur : 70.0\n",
            "Num of truck-loads of ACUs transported between  Delhi  and  Kanpur : 130.0\n",
            "Num of truck-loads of ACUs transported between  kolkata  and  Patna : 80.0\n",
            "Num of truck-loads of ACUs transported between  kolkata  and  Cuttack : 70.0\n",
            "Num of truck-loads of ACUs transported between  lucknow  and  Kanpur : 70.0\n",
            "Num of truck-loads of ACUs transported between  lucknow  and  Patna : 20.0\n",
            "Num of truck-loads of ACUs transported between  Mumbai  and  Indore : 75.0\n",
            "Num of truck-loads of ACUs transported between  Mumbai  and  Jodhpur : 130.0\n",
            "Num of truck-loads of ACUs transported between  Mumbai  and  Hyderabad : 50.0\n",
            "Num of truck-loads of ACUs transported between  Nagpur  and  Hyderabad : 150.0\n",
            "Num of truck-loads of ACUs transported between  Nagpur  and  Raipur : 50.0\n"
          ],
          "name": "stdout"
        }
      ]
    },
    {
      "cell_type": "markdown",
      "metadata": {
        "id": "B6Ii0CV7w7pD"
      },
      "source": [
        "9.ANSWER:\\\n",
        "Objective (Total Cost) =  635720.0\n",
        "\n",
        "Decision Variables with non zero values \\\n",
        "Num of truck-loads of ACUs transported between  Ahmedabad  and  Jodhpur : 100.0 \\\n",
        "Num of truck-loads of ACUs transported between  Bengaluru  and  Vellore : 50.0\\\n",
        "Num of truck-loads of ACUs transported between  Bengaluru  and  Hyderabad : 200.0\\\n",
        "Num of truck-loads of ACUs transported between  Chennai  and  Vellore : 200.0\\\n",
        "Num of truck-loads of ACUs transported between  Delhi  and  Jodhpur : 70.0\\\n",
        "Num of truck-loads of ACUs transported between  Delhi  and  Kanpur : 130.0\\\n",
        "Num of truck-loads of ACUs transported between  kolkata  and  Patna : 80.0\\\n",
        "Num of truck-loads of ACUs transported between  kolkata  and  Cuttack : 70.0\\\n",
        "Num of truck-loads of ACUs transported between  lucknow  and  Kanpur : 70.0\\\n",
        "Num of truck-loads of ACUs transported between  lucknow  and  Patna : 20.0\\\n",
        "Num of truck-loads of ACUs transported between  Mumbai  and  Indore : 75.0\\\n",
        "Num of truck-loads of ACUs transported between  Mumbai  and  Jodhpur : 130.0\\\n",
        "Num of truck-loads of ACUs transported between  Mumbai  and  Hyderabad : 50.0\\\n",
        "Num of truck-loads of ACUs transported between  Nagpur  and  Hyderabad : 150.0\\\n",
        "Num of truck-loads of ACUs transported between  Nagpur  and  Raipur : 50.0"
      ]
    },
    {
      "cell_type": "code",
      "metadata": {
        "id": "WP4C3xvA2feF"
      },
      "source": [
        ""
      ],
      "execution_count": null,
      "outputs": []
    }
  ]
}