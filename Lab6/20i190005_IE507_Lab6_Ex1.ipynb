{
  "nbformat": 4,
  "nbformat_minor": 0,
  "metadata": {
    "colab": {
      "name": "20i190005_IE507_Lab6_Ex1.ipynb",
      "provenance": [],
      "collapsed_sections": []
    },
    "kernelspec": {
      "name": "python3",
      "display_name": "Python 3"
    }
  },
  "cells": [
    {
      "cell_type": "code",
      "metadata": {
        "id": "tF2BHjI03Qnj"
      },
      "source": [
        "!pip install -q pyomo"
      ],
      "execution_count": null,
      "outputs": []
    },
    {
      "cell_type": "code",
      "metadata": {
        "id": "4KYHkWS62zDg"
      },
      "source": [
        "from pyomo.environ import * "
      ],
      "execution_count": null,
      "outputs": []
    },
    {
      "cell_type": "code",
      "metadata": {
        "id": "VQMZhDeJ3THi"
      },
      "source": [
        "import numpy as np"
      ],
      "execution_count": null,
      "outputs": []
    },
    {
      "cell_type": "code",
      "metadata": {
        "id": "2PWe9zbI3Yqf"
      },
      "source": [
        "coef = np.loadtxt('lab6_practice_coef.txt', delimiter=',')"
      ],
      "execution_count": null,
      "outputs": []
    },
    {
      "cell_type": "code",
      "metadata": {
        "id": "QBbCagqp3bIl",
        "colab": {
          "base_uri": "https://localhost:8080/",
          "height": 68
        },
        "outputId": "d55548d0-afd7-486f-d00f-c2dfc767a03d"
      },
      "source": [
        "print(coef.shape)\n",
        "print('Num rows:',coef.shape[0])\n",
        "print('Num cols:',coef.shape[1])"
      ],
      "execution_count": null,
      "outputs": [
        {
          "output_type": "stream",
          "text": [
            "(17, 11)\n",
            "Num rows: 17\n",
            "Num cols: 11\n"
          ],
          "name": "stdout"
        }
      ]
    },
    {
      "cell_type": "code",
      "metadata": {
        "id": "IR4YtoXk3eAg",
        "colab": {
          "base_uri": "https://localhost:8080/",
          "height": 306
        },
        "outputId": "d99e547e-70c5-456b-83b8-7b6ebf4eb95e"
      },
      "source": [
        "print(coef)"
      ],
      "execution_count": null,
      "outputs": [
        {
          "output_type": "stream",
          "text": [
            "[[  0.   0.   0.   0.   0.   1.   1.   1.   1.   1.   0.]\n",
            " [ 85.  92.  45.  27.  31.   0.   0.   0.   0.   0.   1.]\n",
            " [ 92.  54.  22.  20.   7.   0.   0.   0.   0.   0.   1.]\n",
            " [ 96.  67.  29.  20.  11.   0.   0.   0.   0.   0.   1.]\n",
            " [-91. -57. -33. -23. -12.   0.   0.   0.   0.   0.   1.]\n",
            " [-99. -75. -26. -24. -41.   0.   0.   0.   0.   0.   1.]\n",
            " [-98. -99. -57. -45. -65.   0.   0.   0.   0.   0.   1.]\n",
            " [ -1.   0.   0.   0.   0.   1.   0.   0.   0.   0.   0.]\n",
            " [  0.  -1.   0.   0.   0.   0.   1.   0.   0.   0.   0.]\n",
            " [  0.   0.  -1.   0.   0.   0.   0.   1.   0.   0.   0.]\n",
            " [  0.   0.   0.  -1.   0.   0.   0.   0.   1.   0.   0.]\n",
            " [  0.   0.   0.   0.  -1.   0.   0.   0.   0.   1.   0.]\n",
            " [  1.   0.   0.   0.   0.   1.   0.   0.   0.   0.   0.]\n",
            " [  0.   1.   0.   0.   0.   0.   1.   0.   0.   0.   0.]\n",
            " [  0.   0.   1.   0.   0.   0.   0.   1.   0.   0.   0.]\n",
            " [  0.   0.   0.   1.   0.   0.   0.   0.   1.   0.   0.]\n",
            " [  0.   0.   0.   0.   1.   0.   0.   0.   0.   1.   0.]]\n"
          ],
          "name": "stdout"
        }
      ]
    },
    {
      "cell_type": "code",
      "metadata": {
        "id": "vQ6u5ckK4XMI"
      },
      "source": [
        "model_lab6 = ConcreteModel()"
      ],
      "execution_count": null,
      "outputs": []
    },
    {
      "cell_type": "code",
      "metadata": {
        "id": "0IZsOOgI4byg"
      },
      "source": [
        "N = coef.shape[1]-1\n",
        "M = coef.shape[0]-1"
      ],
      "execution_count": null,
      "outputs": []
    },
    {
      "cell_type": "code",
      "metadata": {
        "id": "tPBjxq5G4l9o",
        "colab": {
          "base_uri": "https://localhost:8080/",
          "height": 51
        },
        "outputId": "ec2d044a-7ae9-4443-dbdb-dd2b04e32978"
      },
      "source": [
        "obj_coef = coef[0,:-1]\n",
        "print(obj_coef.shape)\n",
        "print(obj_coef)"
      ],
      "execution_count": null,
      "outputs": [
        {
          "output_type": "stream",
          "text": [
            "(10,)\n",
            "[0. 0. 0. 0. 0. 1. 1. 1. 1. 1.]\n"
          ],
          "name": "stdout"
        }
      ]
    },
    {
      "cell_type": "code",
      "metadata": {
        "id": "jdKMM6wL4pjB",
        "colab": {
          "base_uri": "https://localhost:8080/",
          "height": 306
        },
        "outputId": "96cd74c6-0790-44ea-faa6-c63a504875ac"
      },
      "source": [
        "constr_coef = coef[1:,:-1]\n",
        "print(constr_coef.shape)\n",
        "print(constr_coef)"
      ],
      "execution_count": null,
      "outputs": [
        {
          "output_type": "stream",
          "text": [
            "(16, 10)\n",
            "[[ 85.  92.  45.  27.  31.   0.   0.   0.   0.   0.]\n",
            " [ 92.  54.  22.  20.   7.   0.   0.   0.   0.   0.]\n",
            " [ 96.  67.  29.  20.  11.   0.   0.   0.   0.   0.]\n",
            " [-91. -57. -33. -23. -12.   0.   0.   0.   0.   0.]\n",
            " [-99. -75. -26. -24. -41.   0.   0.   0.   0.   0.]\n",
            " [-98. -99. -57. -45. -65.   0.   0.   0.   0.   0.]\n",
            " [ -1.   0.   0.   0.   0.   1.   0.   0.   0.   0.]\n",
            " [  0.  -1.   0.   0.   0.   0.   1.   0.   0.   0.]\n",
            " [  0.   0.  -1.   0.   0.   0.   0.   1.   0.   0.]\n",
            " [  0.   0.   0.  -1.   0.   0.   0.   0.   1.   0.]\n",
            " [  0.   0.   0.   0.  -1.   0.   0.   0.   0.   1.]\n",
            " [  1.   0.   0.   0.   0.   1.   0.   0.   0.   0.]\n",
            " [  0.   1.   0.   0.   0.   0.   1.   0.   0.   0.]\n",
            " [  0.   0.   1.   0.   0.   0.   0.   1.   0.   0.]\n",
            " [  0.   0.   0.   1.   0.   0.   0.   0.   1.   0.]\n",
            " [  0.   0.   0.   0.   1.   0.   0.   0.   0.   1.]]\n"
          ],
          "name": "stdout"
        }
      ]
    },
    {
      "cell_type": "code",
      "metadata": {
        "id": "Tfvuudyn5WDl",
        "colab": {
          "base_uri": "https://localhost:8080/",
          "height": 51
        },
        "outputId": "86367522-b1ef-4c73-b698-1ef101657180"
      },
      "source": [
        "constr_rhs = coef[1:,-1]\n",
        "print(constr_rhs.shape)\n",
        "print(constr_rhs)"
      ],
      "execution_count": null,
      "outputs": [
        {
          "output_type": "stream",
          "text": [
            "(16,)\n",
            "[1. 1. 1. 1. 1. 1. 0. 0. 0. 0. 0. 0. 0. 0. 0. 0.]\n"
          ],
          "name": "stdout"
        }
      ]
    },
    {
      "cell_type": "code",
      "metadata": {
        "id": "X_WqwKxf5go0",
        "colab": {
          "base_uri": "https://localhost:8080/",
          "height": 34
        },
        "outputId": "35ae7bdf-0a11-44ab-8539-e180bf304980"
      },
      "source": [
        "col_indices_x = np.arange(int(N/2))\n",
        "print(col_indices_x)\n",
        "\n",
        "model_lab6.x = Var(col_indices_x)"
      ],
      "execution_count": null,
      "outputs": [
        {
          "output_type": "stream",
          "text": [
            "[0 1 2 3 4]\n"
          ],
          "name": "stdout"
        }
      ]
    },
    {
      "cell_type": "code",
      "metadata": {
        "id": "UNal0RY_5lbr",
        "colab": {
          "base_uri": "https://localhost:8080/",
          "height": 34
        },
        "outputId": "11905202-e8db-4c09-c50d-69964dd4f357"
      },
      "source": [
        "col_indices_u = np.arange(int(N/2))\n",
        "print(col_indices_u)\n",
        "\n",
        "model_lab6.u = Var(col_indices_u, domain=NonNegativeReals)"
      ],
      "execution_count": null,
      "outputs": [
        {
          "output_type": "stream",
          "text": [
            "[0 1 2 3 4]\n"
          ],
          "name": "stdout"
        }
      ]
    },
    {
      "cell_type": "code",
      "metadata": {
        "id": "mSh_fsl_5rk8",
        "colab": {
          "base_uri": "https://localhost:8080/",
          "height": 34
        },
        "outputId": "07aef9a9-bf85-4e27-cd63-82aad555f652"
      },
      "source": [
        "row_indices = np.arange(M)\n",
        "print(row_indices)"
      ],
      "execution_count": null,
      "outputs": [
        {
          "output_type": "stream",
          "text": [
            "[ 0  1  2  3  4  5  6  7  8  9 10 11 12 13 14 15]\n"
          ],
          "name": "stdout"
        }
      ]
    },
    {
      "cell_type": "code",
      "metadata": {
        "id": "fNiu7O0K5uio"
      },
      "source": [
        "model_lab6.constraints = ConstraintList()"
      ],
      "execution_count": null,
      "outputs": []
    },
    {
      "cell_type": "code",
      "metadata": {
        "id": "HuVzwRiI5xxS"
      },
      "source": [
        "for i in row_indices:\n",
        "  model_lab6.constraints.add(summation(constr_coef[i][0:int(N/2)],model_lab6.x) + summation(constr_coef[i][int(N/2):N],model_lab6.u)  >= constr_rhs[i])"
      ],
      "execution_count": null,
      "outputs": []
    },
    {
      "cell_type": "code",
      "metadata": {
        "id": "H4vowbmV542a"
      },
      "source": [
        "model_lab6.objective = Objective(expr = summation(obj_coef[0:int(N/2)],model_lab6.x) + summation(obj_coef[int(N/2):N],model_lab6.u), sense=minimize)"
      ],
      "execution_count": null,
      "outputs": []
    },
    {
      "cell_type": "code",
      "metadata": {
        "id": "tVdvKjrL58np",
        "colab": {
          "base_uri": "https://localhost:8080/",
          "height": 918
        },
        "outputId": "80caa87e-31f5-48fe-aa4c-b4e72b7f2d38"
      },
      "source": [
        "model_lab6.pprint()"
      ],
      "execution_count": null,
      "outputs": [
        {
          "output_type": "stream",
          "text": [
            "3 Set Declarations\n",
            "    constraints_index : Size=1, Index=None, Ordered=Insertion\n",
            "        Key  : Dimen : Domain : Size : Members\n",
            "        None :     1 :    Any :   16 : {1, 2, 3, 4, 5, 6, 7, 8, 9, 10, 11, 12, 13, 14, 15, 16}\n",
            "    u_index : Size=1, Index=None, Ordered=False\n",
            "        Key  : Dimen : Domain : Size : Members\n",
            "        None :     1 :    Any :    5 : {0, 1, 2, 3, 4}\n",
            "    x_index : Size=1, Index=None, Ordered=False\n",
            "        Key  : Dimen : Domain : Size : Members\n",
            "        None :     1 :    Any :    5 : {0, 1, 2, 3, 4}\n",
            "\n",
            "2 Var Declarations\n",
            "    u : Size=5, Index=u_index\n",
            "        Key : Lower : Value : Upper : Fixed : Stale : Domain\n",
            "          0 :     0 :  None :  None : False :  True : NonNegativeReals\n",
            "          1 :     0 :  None :  None : False :  True : NonNegativeReals\n",
            "          2 :     0 :  None :  None : False :  True : NonNegativeReals\n",
            "          3 :     0 :  None :  None : False :  True : NonNegativeReals\n",
            "          4 :     0 :  None :  None : False :  True : NonNegativeReals\n",
            "    x : Size=5, Index=x_index\n",
            "        Key : Lower : Value : Upper : Fixed : Stale : Domain\n",
            "          0 :  None :  None :  None : False :  True :  Reals\n",
            "          1 :  None :  None :  None : False :  True :  Reals\n",
            "          2 :  None :  None :  None : False :  True :  Reals\n",
            "          3 :  None :  None :  None : False :  True :  Reals\n",
            "          4 :  None :  None :  None : False :  True :  Reals\n",
            "\n",
            "1 Objective Declarations\n",
            "    objective : Size=1, Index=None, Active=True\n",
            "        Key  : Active : Sense    : Expression\n",
            "        None :   True : minimize :  + (u[0] + u[1] + u[2] + u[3] + u[4])\n",
            "\n",
            "1 Constraint Declarations\n",
            "    constraints : Size=16, Index=constraints_index, Active=True\n",
            "        Key : Lower : Body                                                             : Upper : Active\n",
            "          1 :   1.0 :   85.0*x[0] + 92.0*x[1] + 45.0*x[2] + 27.0*x[3] + 31.0*x[4] + () :  +Inf :   True\n",
            "          2 :   1.0 :    92.0*x[0] + 54.0*x[1] + 22.0*x[2] + 20.0*x[3] + 7.0*x[4] + () :  +Inf :   True\n",
            "          3 :   1.0 :   96.0*x[0] + 67.0*x[1] + 29.0*x[2] + 20.0*x[3] + 11.0*x[4] + () :  +Inf :   True\n",
            "          4 :   1.0 : - 91.0*x[0] - 57.0*x[1] - 33.0*x[2] - 23.0*x[3] - 12.0*x[4] + () :  +Inf :   True\n",
            "          5 :   1.0 : - 99.0*x[0] - 75.0*x[1] - 26.0*x[2] - 24.0*x[3] - 41.0*x[4] + () :  +Inf :   True\n",
            "          6 :   1.0 : - 98.0*x[0] - 99.0*x[1] - 57.0*x[2] - 45.0*x[3] - 65.0*x[4] + () :  +Inf :   True\n",
            "          7 :   0.0 :                                                  - x[0] + (u[0]) :  +Inf :   True\n",
            "          8 :   0.0 :                                                  - x[1] + (u[1]) :  +Inf :   True\n",
            "          9 :   0.0 :                                                  - x[2] + (u[2]) :  +Inf :   True\n",
            "         10 :   0.0 :                                                  - x[3] + (u[3]) :  +Inf :   True\n",
            "         11 :   0.0 :                                                  - x[4] + (u[4]) :  +Inf :   True\n",
            "         12 :   0.0 :                                                    x[0] + (u[0]) :  +Inf :   True\n",
            "         13 :   0.0 :                                                    x[1] + (u[1]) :  +Inf :   True\n",
            "         14 :   0.0 :                                                    x[2] + (u[2]) :  +Inf :   True\n",
            "         15 :   0.0 :                                                    x[3] + (u[3]) :  +Inf :   True\n",
            "         16 :   0.0 :                                                    x[4] + (u[4]) :  +Inf :   True\n",
            "\n",
            "7 Declarations: x_index x u_index u constraints_index constraints objective\n"
          ],
          "name": "stdout"
        }
      ]
    },
    {
      "cell_type": "code",
      "metadata": {
        "id": "pxFCNSDP5_tE"
      },
      "source": [
        "!apt-get install -y -qq coinor-cbc"
      ],
      "execution_count": null,
      "outputs": []
    },
    {
      "cell_type": "code",
      "metadata": {
        "id": "XjrAnHPY6mU1"
      },
      "source": [
        "opt_cbc = SolverFactory('cbc')"
      ],
      "execution_count": null,
      "outputs": []
    },
    {
      "cell_type": "code",
      "metadata": {
        "id": "FfxYLOVV6tWi",
        "colab": {
          "base_uri": "https://localhost:8080/",
          "height": 510
        },
        "outputId": "4626ed74-a43e-4c96-9aa2-77b55cad5803"
      },
      "source": [
        "result = opt_cbc.solve(model_lab6)\n",
        "print(result)"
      ],
      "execution_count": null,
      "outputs": [
        {
          "output_type": "stream",
          "text": [
            "\n",
            "Problem: \n",
            "- Name: unknown\n",
            "  Lower bound: 0.5479557323\n",
            "  Upper bound: 0.5479557323\n",
            "  Number of objectives: 1\n",
            "  Number of constraints: 17\n",
            "  Number of variables: 11\n",
            "  Number of nonzeros: 5\n",
            "  Sense: minimize\n",
            "Solver: \n",
            "- Status: ok\n",
            "  User time: -1.0\n",
            "  System time: 0.0\n",
            "  Wallclock time: 0.0\n",
            "  Termination condition: optimal\n",
            "  Termination message: Model was solved to optimality (subject to tolerances), and an optimal solution is available.\n",
            "  Statistics: \n",
            "    Branch and bound: \n",
            "      Number of bounded subproblems: None\n",
            "      Number of created subproblems: None\n",
            "    Black box: \n",
            "      Number of iterations: 21\n",
            "  Error rc: 0\n",
            "  Time: 0.024240732192993164\n",
            "Solution: \n",
            "- number of solutions: 0\n",
            "  number of solutions displayed: 0\n",
            "\n"
          ],
          "name": "stdout"
        }
      ]
    },
    {
      "cell_type": "code",
      "metadata": {
        "id": "rG4LSbFq7C5d",
        "colab": {
          "base_uri": "https://localhost:8080/",
          "height": 85
        },
        "outputId": "a982c5a1-2906-494a-c39e-92443e1ef833"
      },
      "source": [
        "print(\"2.ANSWER:\")\n",
        "print('Solver status:', result.solver.status)\n",
        "print('Solver termination condition:',result.solver.termination_condition)\n",
        "print(\"Yes the solver yields an optimal solution\")\n"
      ],
      "execution_count": null,
      "outputs": [
        {
          "output_type": "stream",
          "text": [
            "2.ANSWER:\n",
            "Solver status: ok\n",
            "Solver termination condition: optimal\n",
            "Yes the solver yields an optimal solution\n"
          ],
          "name": "stdout"
        }
      ]
    },
    {
      "cell_type": "code",
      "metadata": {
        "id": "wkwhEgEB4s88",
        "colab": {
          "base_uri": "https://localhost:8080/",
          "height": 612
        },
        "outputId": "eaafa608-3215-42e0-f840-14ceb8bbdb7c"
      },
      "source": [
        "print(\"3.ANSWER:\")\n",
        "# display solution\n",
        "print('\\nObjective = ', model_lab6.objective())\n",
        "\n",
        "print('\\nDecision Variables')\n",
        "for i in range(5):\n",
        "  print('x[',i,'] = ', model_lab6.x[i].value)\n",
        "  print('u[',i,'] = ', model_lab6.u[i].value)\n",
        "print('\\n Constraints')\n",
        "model_lab6.constraints.display()"
      ],
      "execution_count": null,
      "outputs": [
        {
          "output_type": "stream",
          "text": [
            "3.ANSWER:\n",
            "\n",
            "Objective =  0.547955725\n",
            "\n",
            "Decision Variables\n",
            "x[ 0 ] =  -0.046448575\n",
            "u[ 0 ] =  0.046448575\n",
            "x[ 1 ] =  0.18612441\n",
            "u[ 1 ] =  0.18612441\n",
            "x[ 2 ] =  -0.17131802\n",
            "u[ 2 ] =  0.17131802\n",
            "x[ 3 ] =  0.0\n",
            "u[ 3 ] =  0.0\n",
            "x[ 4 ] =  -0.14406472\n",
            "u[ 4 ] =  0.14406472\n",
            "\n",
            " Constraints\n",
            "constraints : Size=16\n",
            "    Key : Lower : Body               : Upper\n",
            "      1 :   1.0 : 0.9999996250000001 :  None\n",
            "      2 :   1.0 : 0.9999997599999997 :  None\n",
            "      3 :   1.0 :  1.458337769999999 :  None\n",
            "      4 :   1.0 : 1.0000002550000002 :  None\n",
            "      5 :   1.0 :  1.000000215000001 :  None\n",
            "      6 :   1.0 : 5.2549776999999995 :  None\n",
            "      7 :   0.0 :         0.09289715 :  None\n",
            "      8 :   0.0 :                0.0 :  None\n",
            "      9 :   0.0 :         0.34263604 :  None\n",
            "     10 :   0.0 :                0.0 :  None\n",
            "     11 :   0.0 :         0.28812944 :  None\n",
            "     12 :   0.0 :                0.0 :  None\n",
            "     13 :   0.0 :         0.37224882 :  None\n",
            "     14 :   0.0 :                0.0 :  None\n",
            "     15 :   0.0 :                0.0 :  None\n",
            "     16 :   0.0 :                0.0 :  None\n"
          ],
          "name": "stdout"
        }
      ]
    },
    {
      "cell_type": "markdown",
      "metadata": {
        "id": "2zYYF96n58JN"
      },
      "source": [
        "$\\textbf{Approach 2:}$\n",
        "\n",
        "In this approach we will use some fundamental properties of real numbers. Indeed, for any real number $x$, we can write $x=a-b$ where $a\\geq 0, b\\geq 0$. \n",
        "\n",
        "Hence we can substitute $|x| = |a-b|, \\ a\\geq 0, b\\geq 0$. \n",
        "\n",
        "Now we will consider another interesting property of real numbers: \n",
        "$|u-v| = u+v \\iff u\\geq 0, v\\geq 0, uv = 0$. \n",
        "\n",
        "Using this property we can write $|x| = a+b, \\ a\\geq 0, \\ b\\geq 0$. Note that this replacement will imply that $ab=0$. \n",
        "\n",
        "Thus we can transform the optimization problem $\\textbf{(OP)}$ into a new optimization problem $\\textbf{(OP2)}$ where $x_i = a_i - b_i, \\text{ and } |x_i| = a_i + b_i, \\ \\forall i \\in \\{1,\\ldots,5\\}$ where $a_i \\geq 0, b_i \\geq 0, \\forall i \\in \\{1,\\ldots,5\\}$. Thus we have the new optimization problem $\\textbf{(OP2)}$: \n",
        "\n",
        "\\begin{align}\n",
        "\\min \\ (a_1 + b_1) +  (a_2 + b_2) + (a_3 + b_3) + (a_4 + b_4) + (a_5 + b_5) &  \\nonumber \\\\\n",
        "{\\rm{s.t.}} \\ 85 (a_1-b_1) + 92 (a_2-b_2) + 45 (a_3-b_3) + 27 (a_4-b_4) + 31 (a_5-b_5) & \\geq 1 \\nonumber \\\\\n",
        "92 (a_1-b_1) + 54 (a_2-b_2) + 22 (a_3-b_3) + 20 (a_4-b_4) + 7 (a_5-b_5) & \\geq 1 \\nonumber \\\\\n",
        "96 (a_1-b_1) + 67 (a_2-b_2) + 29 (a_3-b_3) + 20 (a_4-b_4) + 11 (a_5-b_5) & \\geq 1 \\nonumber \\\\\n",
        "-91 (a_1-b_1) - 57 (a_2-b_2) - 33 (a_3-b_3) - 23 (a_4-b_4) - 12 (a_5-b_5) & \\geq 1 \\nonumber \\\\\n",
        "-99 (a_1-b_1) - 75 (a_2-b_2) - 26 (a_3-b_3) - 24 (a_4-b_4) - 41 (a_5-b_5) & \\geq 1 \\nonumber \\\\\n",
        "-98 (a_1-b_1) - 99 (a_2-b_2) - 57 (a_3-b_3) - 45 (a_4-b_4) - 65 (a_5-b_5) & \\geq 1 \\nonumber \\\\ \n",
        "a_i \\geq 0, \\ b_i \\geq 0, & \\ \\forall i \\in \\{1,\\ldots,5\\}. \\nonumber \n",
        "\\end{align}\n"
      ]
    },
    {
      "cell_type": "code",
      "metadata": {
        "id": "qJ-qDjDKAP0y"
      },
      "source": [
        "new_coef = np.loadtxt('lab6_practice_coef_OP2.txt', delimiter=',')"
      ],
      "execution_count": null,
      "outputs": []
    },
    {
      "cell_type": "code",
      "metadata": {
        "id": "5cXRUHjrKvh9",
        "colab": {
          "base_uri": "https://localhost:8080/",
          "height": 68
        },
        "outputId": "d6ae48c2-f96f-4e68-e1c0-fed9a0f399dc"
      },
      "source": [
        "print(new_coef.shape)\n",
        "print('Num rows:',new_coef.shape[0])\n",
        "print('Num cols:',new_coef.shape[1])"
      ],
      "execution_count": null,
      "outputs": [
        {
          "output_type": "stream",
          "text": [
            "(7, 11)\n",
            "Num rows: 7\n",
            "Num cols: 11\n"
          ],
          "name": "stdout"
        }
      ]
    },
    {
      "cell_type": "code",
      "metadata": {
        "id": "kyS9O4PwK51N",
        "colab": {
          "base_uri": "https://localhost:8080/",
          "height": 136
        },
        "outputId": "d1606258-f39d-4cd7-eb03-448a9833065e"
      },
      "source": [
        "print(new_coef)"
      ],
      "execution_count": null,
      "outputs": [
        {
          "output_type": "stream",
          "text": [
            "[[  1.   1.   1.   1.   1.   1.   1.   1.   1.   1.   0.]\n",
            " [ 85.  92.  45.  27.  31. -85. -92. -45. -27. -31.   1.]\n",
            " [ 92.  54.  22.  20.   7. -92. -54. -22. -20.  -7.   1.]\n",
            " [ 96.  67.  29.  20.  11. -96. -67. -29. -20. -11.   1.]\n",
            " [-91. -57. -33. -23. -12.  91.  57.  33.  23.  12.   1.]\n",
            " [-99. -75. -26. -24. -41.  99.  75.  26.  24.  41.   1.]\n",
            " [-98. -99. -57. -45. -65.  98.  99.  57.  45.  65.   1.]]\n"
          ],
          "name": "stdout"
        }
      ]
    },
    {
      "cell_type": "code",
      "metadata": {
        "id": "5-ZClUZrLCeG"
      },
      "source": [
        "new_model_lab6 = ConcreteModel()"
      ],
      "execution_count": null,
      "outputs": []
    },
    {
      "cell_type": "code",
      "metadata": {
        "id": "3GpVVxrzLSMJ",
        "colab": {
          "base_uri": "https://localhost:8080/",
          "height": 34
        },
        "outputId": "9a730890-3ff5-4a9f-a227-4a06b84d3615"
      },
      "source": [
        "N = new_coef.shape[1]-1\n",
        "M = new_coef.shape[0]-1\n",
        "print(N,M)"
      ],
      "execution_count": null,
      "outputs": [
        {
          "output_type": "stream",
          "text": [
            "10 6\n"
          ],
          "name": "stdout"
        }
      ]
    },
    {
      "cell_type": "code",
      "metadata": {
        "id": "DjYLDR01LnXl",
        "colab": {
          "base_uri": "https://localhost:8080/",
          "height": 51
        },
        "outputId": "3cbd303a-40cc-4ca0-9f55-32688f7e7ddd"
      },
      "source": [
        "new_obj_coef = new_coef[0,:-1]\n",
        "print(new_obj_coef.shape)\n",
        "print(new_obj_coef)"
      ],
      "execution_count": null,
      "outputs": [
        {
          "output_type": "stream",
          "text": [
            "(10,)\n",
            "[1. 1. 1. 1. 1. 1. 1. 1. 1. 1.]\n"
          ],
          "name": "stdout"
        }
      ]
    },
    {
      "cell_type": "code",
      "metadata": {
        "id": "CAmY53JuMK3m",
        "colab": {
          "base_uri": "https://localhost:8080/",
          "height": 136
        },
        "outputId": "23c021cc-6af1-44ff-9e4b-3f25fd2967b5"
      },
      "source": [
        "new_constr_coef = new_coef[1:,:-1]\n",
        "print(new_constr_coef.shape)\n",
        "print(new_constr_coef)"
      ],
      "execution_count": null,
      "outputs": [
        {
          "output_type": "stream",
          "text": [
            "(6, 10)\n",
            "[[ 85.  92.  45.  27.  31. -85. -92. -45. -27. -31.]\n",
            " [ 92.  54.  22.  20.   7. -92. -54. -22. -20.  -7.]\n",
            " [ 96.  67.  29.  20.  11. -96. -67. -29. -20. -11.]\n",
            " [-91. -57. -33. -23. -12.  91.  57.  33.  23.  12.]\n",
            " [-99. -75. -26. -24. -41.  99.  75.  26.  24.  41.]\n",
            " [-98. -99. -57. -45. -65.  98.  99.  57.  45.  65.]]\n"
          ],
          "name": "stdout"
        }
      ]
    },
    {
      "cell_type": "code",
      "metadata": {
        "id": "mKH1zqE3MhEK",
        "colab": {
          "base_uri": "https://localhost:8080/",
          "height": 51
        },
        "outputId": "50a6b6f6-9e8a-470d-daaf-c4618f9877b6"
      },
      "source": [
        "new_constr_rhs = new_coef[1:,-1]\n",
        "print(new_constr_rhs.shape)\n",
        "print(new_constr_rhs)"
      ],
      "execution_count": null,
      "outputs": [
        {
          "output_type": "stream",
          "text": [
            "(6,)\n",
            "[1. 1. 1. 1. 1. 1.]\n"
          ],
          "name": "stdout"
        }
      ]
    },
    {
      "cell_type": "code",
      "metadata": {
        "id": "-ueXJsY4OCWC",
        "colab": {
          "base_uri": "https://localhost:8080/",
          "height": 34
        },
        "outputId": "532df628-7885-422a-b47a-ee1e788d7424"
      },
      "source": [
        "col_indices_a = np.arange(int(N/2))\n",
        "print(col_indices_a)\n",
        "\n",
        "new_model_lab6.a = Var(col_indices_a,domain=NonNegativeReals)"
      ],
      "execution_count": null,
      "outputs": [
        {
          "output_type": "stream",
          "text": [
            "[0 1 2 3 4]\n"
          ],
          "name": "stdout"
        }
      ]
    },
    {
      "cell_type": "code",
      "metadata": {
        "id": "x0MxhTuFO7WS",
        "colab": {
          "base_uri": "https://localhost:8080/",
          "height": 34
        },
        "outputId": "3c99efea-661c-45eb-c437-c30b5fb089c0"
      },
      "source": [
        "col_indices_b = np.arange(int(N/2))\n",
        "print(col_indices_b)\n",
        "\n",
        "new_model_lab6.b = Var(col_indices_b, domain=NonNegativeReals)"
      ],
      "execution_count": null,
      "outputs": [
        {
          "output_type": "stream",
          "text": [
            "[0 1 2 3 4]\n"
          ],
          "name": "stdout"
        }
      ]
    },
    {
      "cell_type": "code",
      "metadata": {
        "id": "cjPZBTy4PMjX",
        "colab": {
          "base_uri": "https://localhost:8080/",
          "height": 34
        },
        "outputId": "1b16444b-3dd0-4e8e-eb7b-a41eaf750921"
      },
      "source": [
        "row_indices = np.arange(M)\n",
        "print(row_indices)\n",
        "  "
      ],
      "execution_count": null,
      "outputs": [
        {
          "output_type": "stream",
          "text": [
            "[0 1 2 3 4 5]\n"
          ],
          "name": "stdout"
        }
      ]
    },
    {
      "cell_type": "code",
      "metadata": {
        "id": "eAUJYCFXQQbH"
      },
      "source": [
        "new_model_lab6.constraints = ConstraintList()"
      ],
      "execution_count": null,
      "outputs": []
    },
    {
      "cell_type": "code",
      "metadata": {
        "id": "kmXHm5C_QnRj"
      },
      "source": [
        "for i in row_indices:\n",
        "  new_model_lab6.constraints.add(summation(new_constr_coef[i][0:int(N/2)],new_model_lab6.a) + summation(new_constr_coef[i][int(N/2):N],new_model_lab6.b)  >= new_constr_rhs[i])"
      ],
      "execution_count": null,
      "outputs": []
    },
    {
      "cell_type": "code",
      "metadata": {
        "id": "2zNhj-IARBTX"
      },
      "source": [
        "new_model_lab6.objective = Objective(expr = summation(new_obj_coef[0:int(N/2)],new_model_lab6.a) + summation(new_obj_coef[int(N/2):N],new_model_lab6.b), sense=minimize)"
      ],
      "execution_count": null,
      "outputs": []
    },
    {
      "cell_type": "code",
      "metadata": {
        "id": "viXn9rEbRjav",
        "colab": {
          "base_uri": "https://localhost:8080/",
          "height": 768
        },
        "outputId": "b4372a64-78e1-4464-bc1d-128ec38df299"
      },
      "source": [
        "new_model_lab6.pprint()"
      ],
      "execution_count": null,
      "outputs": [
        {
          "output_type": "stream",
          "text": [
            "3 Set Declarations\n",
            "    a_index : Size=1, Index=None, Ordered=False\n",
            "        Key  : Dimen : Domain : Size : Members\n",
            "        None :     1 :    Any :    5 : {0, 1, 2, 3, 4}\n",
            "    b_index : Size=1, Index=None, Ordered=False\n",
            "        Key  : Dimen : Domain : Size : Members\n",
            "        None :     1 :    Any :    5 : {0, 1, 2, 3, 4}\n",
            "    constraints_index : Size=1, Index=None, Ordered=Insertion\n",
            "        Key  : Dimen : Domain : Size : Members\n",
            "        None :     1 :    Any :    6 : {1, 2, 3, 4, 5, 6}\n",
            "\n",
            "2 Var Declarations\n",
            "    a : Size=5, Index=a_index\n",
            "        Key : Lower : Value : Upper : Fixed : Stale : Domain\n",
            "          0 :     0 :  None :  None : False :  True : NonNegativeReals\n",
            "          1 :     0 :  None :  None : False :  True : NonNegativeReals\n",
            "          2 :     0 :  None :  None : False :  True : NonNegativeReals\n",
            "          3 :     0 :  None :  None : False :  True : NonNegativeReals\n",
            "          4 :     0 :  None :  None : False :  True : NonNegativeReals\n",
            "    b : Size=5, Index=b_index\n",
            "        Key : Lower : Value : Upper : Fixed : Stale : Domain\n",
            "          0 :     0 :  None :  None : False :  True : NonNegativeReals\n",
            "          1 :     0 :  None :  None : False :  True : NonNegativeReals\n",
            "          2 :     0 :  None :  None : False :  True : NonNegativeReals\n",
            "          3 :     0 :  None :  None : False :  True : NonNegativeReals\n",
            "          4 :     0 :  None :  None : False :  True : NonNegativeReals\n",
            "\n",
            "1 Objective Declarations\n",
            "    objective : Size=1, Index=None, Active=True\n",
            "        Key  : Active : Sense    : Expression\n",
            "        None :   True : minimize : a[0] + a[1] + a[2] + a[3] + a[4] + (b[0] + b[1] + b[2] + b[3] + b[4])\n",
            "\n",
            "1 Constraint Declarations\n",
            "    constraints : Size=6, Index=constraints_index, Active=True\n",
            "        Key : Lower : Body                                                                                                                      : Upper : Active\n",
            "          1 :   1.0 :     85.0*a[0] + 92.0*a[1] + 45.0*a[2] + 27.0*a[3] + 31.0*a[4] - 85.0*b[0] - 92.0*b[1] - 45.0*b[2] - 27.0*b[3] - 31.0*b[4] :  +Inf :   True\n",
            "          2 :   1.0 :       92.0*a[0] + 54.0*a[1] + 22.0*a[2] + 20.0*a[3] + 7.0*a[4] - 92.0*b[0] - 54.0*b[1] - 22.0*b[2] - 20.0*b[3] - 7.0*b[4] :  +Inf :   True\n",
            "          3 :   1.0 :     96.0*a[0] + 67.0*a[1] + 29.0*a[2] + 20.0*a[3] + 11.0*a[4] - 96.0*b[0] - 67.0*b[1] - 29.0*b[2] - 20.0*b[3] - 11.0*b[4] :  +Inf :   True\n",
            "          4 :   1.0 : - 91.0*a[0] - 57.0*a[1] - 33.0*a[2] - 23.0*a[3] - 12.0*a[4] + (91.0*b[0] + 57.0*b[1] + 33.0*b[2] + 23.0*b[3] + 12.0*b[4]) :  +Inf :   True\n",
            "          5 :   1.0 : - 99.0*a[0] - 75.0*a[1] - 26.0*a[2] - 24.0*a[3] - 41.0*a[4] + (99.0*b[0] + 75.0*b[1] + 26.0*b[2] + 24.0*b[3] + 41.0*b[4]) :  +Inf :   True\n",
            "          6 :   1.0 : - 98.0*a[0] - 99.0*a[1] - 57.0*a[2] - 45.0*a[3] - 65.0*a[4] + (98.0*b[0] + 99.0*b[1] + 57.0*b[2] + 45.0*b[3] + 65.0*b[4]) :  +Inf :   True\n",
            "\n",
            "7 Declarations: a_index a b_index b constraints_index constraints objective\n"
          ],
          "name": "stdout"
        }
      ]
    },
    {
      "cell_type": "code",
      "metadata": {
        "id": "lAIBaHgURqlD"
      },
      "source": [
        "!apt-get install -y -qq coinor-cbc"
      ],
      "execution_count": null,
      "outputs": []
    },
    {
      "cell_type": "code",
      "metadata": {
        "id": "9-EGnqSQSTJI"
      },
      "source": [
        "opt_cbc = SolverFactory('cbc')"
      ],
      "execution_count": null,
      "outputs": []
    },
    {
      "cell_type": "code",
      "metadata": {
        "id": "Bg2KMci9SYAj",
        "colab": {
          "base_uri": "https://localhost:8080/",
          "height": 510
        },
        "outputId": "97c58e0d-bac5-44af-d6cd-93f87814c164"
      },
      "source": [
        "new_result = opt_cbc.solve(new_model_lab6)\n",
        "print(new_result)\n"
      ],
      "execution_count": null,
      "outputs": [
        {
          "output_type": "stream",
          "text": [
            "\n",
            "Problem: \n",
            "- Name: unknown\n",
            "  Lower bound: 0.5479557323\n",
            "  Upper bound: 0.5479557323\n",
            "  Number of objectives: 1\n",
            "  Number of constraints: 7\n",
            "  Number of variables: 11\n",
            "  Number of nonzeros: 10\n",
            "  Sense: minimize\n",
            "Solver: \n",
            "- Status: ok\n",
            "  User time: -1.0\n",
            "  System time: 0.0\n",
            "  Wallclock time: 0.0\n",
            "  Termination condition: optimal\n",
            "  Termination message: Model was solved to optimality (subject to tolerances), and an optimal solution is available.\n",
            "  Statistics: \n",
            "    Branch and bound: \n",
            "      Number of bounded subproblems: None\n",
            "      Number of created subproblems: None\n",
            "    Black box: \n",
            "      Number of iterations: 5\n",
            "  Error rc: 0\n",
            "  Time: 0.01837015151977539\n",
            "Solution: \n",
            "- number of solutions: 0\n",
            "  number of solutions displayed: 0\n",
            "\n"
          ],
          "name": "stdout"
        }
      ]
    },
    {
      "cell_type": "code",
      "metadata": {
        "id": "pGOpqiHv7JP4",
        "colab": {
          "base_uri": "https://localhost:8080/",
          "height": 51
        },
        "outputId": "3f47adf0-b6b9-4646-fc42-72ec4abf5565"
      },
      "source": [
        "print('Solver status:', new_result.solver.status)\n",
        "print('Solver termination condition:',new_result.solver.termination_condition)"
      ],
      "execution_count": null,
      "outputs": [
        {
          "output_type": "stream",
          "text": [
            "Solver status: ok\n",
            "Solver termination condition: optimal\n"
          ],
          "name": "stdout"
        }
      ]
    },
    {
      "cell_type": "code",
      "metadata": {
        "id": "-SLcfoXESu4_",
        "colab": {
          "base_uri": "https://localhost:8080/",
          "height": 425
        },
        "outputId": "63907f0f-629e-4abb-a959-73cc2bf840d0"
      },
      "source": [
        "# display solution\n",
        "print('\\nObjective = ', new_model_lab6.objective())\n",
        "\n",
        "print('\\nDecision Variables')\n",
        "for i in range(5):\n",
        "  print('a[',i,'] = ', new_model_lab6.a[i].value)\n",
        "  print('b[',i,'] = ', new_model_lab6.b[i].value)\n",
        "print('\\n Constraints')\n",
        "new_model_lab6.constraints.display()"
      ],
      "execution_count": null,
      "outputs": [
        {
          "output_type": "stream",
          "text": [
            "\n",
            "Objective =  0.547955725\n",
            "\n",
            "Decision Variables\n",
            "a[ 0 ] =  0.0\n",
            "b[ 0 ] =  0.046448575\n",
            "a[ 1 ] =  0.18612441\n",
            "b[ 1 ] =  0.0\n",
            "a[ 2 ] =  0.0\n",
            "b[ 2 ] =  0.17131802\n",
            "a[ 3 ] =  0.0\n",
            "b[ 3 ] =  0.0\n",
            "a[ 4 ] =  0.0\n",
            "b[ 4 ] =  0.14406472\n",
            "\n",
            " Constraints\n",
            "constraints : Size=6\n",
            "    Key : Lower : Body               : Upper\n",
            "      1 :   1.0 :  0.999999625000001 :  None\n",
            "      2 :   1.0 : 0.9999997599999997 :  None\n",
            "      3 :   1.0 :         1.45833777 :  None\n",
            "      4 :   1.0 : 1.0000002549999998 :  None\n",
            "      5 :   1.0 :        1.000000215 :  None\n",
            "      6 :   1.0 :  5.254977699999998 :  None\n"
          ],
          "name": "stdout"
        }
      ]
    },
    {
      "cell_type": "markdown",
      "metadata": {
        "id": "jAQugmk27rKk"
      },
      "source": [
        "**9.ANSWER: Yes the solver yield an optimal solution.**\\\n",
        "**Solver status: ok  \\\n",
        "Solver termination condition: optimal**"
      ]
    },
    {
      "cell_type": "markdown",
      "metadata": {
        "id": "gwPscLmG8eKU"
      },
      "source": [
        "**10.ANSWER:  \\\n",
        "Objective =  0.547955725**\n",
        "\n",
        "Decision Variables \\\n",
        "a[ 0 ] =  0.0 ,\n",
        "b[ 0 ] =  0.046448575 ,\n",
        "a[ 1 ] =  0.18612441 ,\n",
        "b[ 1 ] =  0.0 ,\n",
        "a[ 2 ] =  0.0 ,\n",
        "b[ 2 ] =  0.17131802 ,\n",
        "a[ 3 ] =  0.0 ,\n",
        "b[ 3 ] =  0.0 ,\n",
        "a[ 4 ] =  0.0 ,\n",
        "b[ 4 ] =  0.14406472\n",
        "\n",
        " Constraints\n",
        "constraints : Size=6\n",
        "    Key : Lower : Body               : Upper\n",
        "      1 :   1.0 :  0.999999625000001 :  None\n",
        "      2 :   1.0 : 0.9999997599999997 :  None\n",
        "      3 :   1.0 :         1.45833777 :  None\n",
        "      4 :   1.0 : 1.0000002549999998 :  None\n",
        "      5 :   1.0 :        1.000000215 :  None\n",
        "      6 :   1.0 :  5.254977699999998 :  None "
      ]
    },
    {
      "cell_type": "code",
      "metadata": {
        "id": "knWedXAhkE6V",
        "colab": {
          "base_uri": "https://localhost:8080/",
          "height": 119
        },
        "outputId": "8231d64a-4297-4153-b200-d8f738b06411"
      },
      "source": [
        "print(\"11.ANSWER:\")\n",
        "for i in range(5):\n",
        "  print('x[',i,'] = ','a[',i,']',' - ','b[',i,'] = ', new_model_lab6.a[i].value - new_model_lab6.b[i].value)\n",
        "  "
      ],
      "execution_count": null,
      "outputs": [
        {
          "output_type": "stream",
          "text": [
            "11.ANSWER:\n",
            "x[ 0 ] =  a[ 0 ]  -  b[ 0 ] =  -0.046448575\n",
            "x[ 1 ] =  a[ 1 ]  -  b[ 1 ] =  0.18612441\n",
            "x[ 2 ] =  a[ 2 ]  -  b[ 2 ] =  -0.17131802\n",
            "x[ 3 ] =  a[ 3 ]  -  b[ 3 ] =  0.0\n",
            "x[ 4 ] =  a[ 4 ]  -  b[ 4 ] =  -0.14406472\n"
          ],
          "name": "stdout"
        }
      ]
    },
    {
      "cell_type": "markdown",
      "metadata": {
        "id": "rdNNXhZV9x_N"
      },
      "source": [
        "**12.ANSWER:** \\\n",
        "*Coment>>>* \n",
        "After comparing the values of $x_{i} $ , obtained in solving **OPT1** and **OPT2** we found that the values are same in both  cases.\n"
      ]
    }
  ]
}