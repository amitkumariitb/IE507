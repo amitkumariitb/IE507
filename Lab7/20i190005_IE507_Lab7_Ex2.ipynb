{
  "nbformat": 4,
  "nbformat_minor": 0,
  "metadata": {
    "colab": {
      "name": "20i190005_IE507_Lab7_Ex2.ipynb",
      "provenance": [],
      "collapsed_sections": []
    },
    "kernelspec": {
      "name": "python3",
      "display_name": "Python 3"
    }
  },
  "cells": [
    {
      "cell_type": "code",
      "metadata": {
        "id": "YS6-xRoQ6uYm",
        "outputId": "b989e8ba-2267-4f17-97b7-13bdf364da44",
        "colab": {
          "base_uri": "https://localhost:8080/",
          "height": 170
        }
      },
      "source": [
        "%%bash\n",
        "rm -fv ipopt*\n",
        "apt install -q -yy libgfortran5\n",
        "sleep 1\n",
        "wget -q https://www.ieor.iitb.ac.in/files/faculty/amahajan/ipopt\n",
        "wget -q https://www.ieor.iitb.ac.in/files/faculty/amahajan/test.nl\n",
        "chmod u+rx ipopt"
      ],
      "execution_count": null,
      "outputs": [
        {
          "output_type": "stream",
          "text": [
            "removed 'ipopt'\n",
            "Reading package lists...\n",
            "Building dependency tree...\n",
            "Reading state information...\n",
            "libgfortran5 is already the newest version (8.4.0-1ubuntu1~18.04).\n",
            "0 upgraded, 0 newly installed, 0 to remove and 21 not upgraded.\n"
          ],
          "name": "stdout"
        },
        {
          "output_type": "stream",
          "text": [
            "\n",
            "WARNING: apt does not have a stable CLI interface. Use with caution in scripts.\n",
            "\n"
          ],
          "name": "stderr"
        }
      ]
    },
    {
      "cell_type": "code",
      "metadata": {
        "id": "-kxCJ2uW7GpJ",
        "outputId": "c3b2e276-aa75-4417-c2c8-91305a6bd2ae",
        "colab": {
          "base_uri": "https://localhost:8080/",
          "height": 986
        }
      },
      "source": [
        "!./ipopt test.nl"
      ],
      "execution_count": null,
      "outputs": [
        {
          "output_type": "stream",
          "text": [
            "\n",
            "\n",
            "******************************************************************************\n",
            "This program contains Ipopt, a library for large-scale nonlinear optimization.\n",
            " Ipopt is released as open source code under the Eclipse Public License (EPL).\n",
            "         For more information visit http://projects.coin-or.org/Ipopt\n",
            "******************************************************************************\n",
            "\n",
            "This is Ipopt version 3.13.2, running with linear solver mumps.\n",
            "NOTE: Other linear solvers might be more efficient (see Ipopt documentation).\n",
            "\n",
            "Number of nonzeros in equality constraint Jacobian...:        0\n",
            "Number of nonzeros in inequality constraint Jacobian.:        0\n",
            "Number of nonzeros in Lagrangian Hessian.............:      230\n",
            "\n",
            "Total number of variables............................:       30\n",
            "                     variables with only lower bounds:       30\n",
            "                variables with lower and upper bounds:        0\n",
            "                     variables with only upper bounds:        0\n",
            "Total number of equality constraints.................:        0\n",
            "Total number of inequality constraints...............:        0\n",
            "        inequality constraints with only lower bounds:        0\n",
            "   inequality constraints with lower and upper bounds:        0\n",
            "        inequality constraints with only upper bounds:        0\n",
            "\n",
            "iter    objective    inf_pr   inf_du lg(mu)  ||d||  lg(rg) alpha_du alpha_pr  ls\n",
            "   0  1.7201186e+00 0.00e+00 1.00e+00  -1.0 0.00e+00    -  0.00e+00 0.00e+00   0\n",
            "   1  1.7260509e+00 0.00e+00 1.01e-02  -1.0 3.61e-01    -  9.90e-01 1.00e+00f  1\n",
            "   2  1.7538885e+00 0.00e+00 1.00e-06  -1.0 5.55e+00    -  1.00e+00 1.00e+00f  1\n",
            "   3  1.7211737e+00 0.00e+00 1.55e-02  -2.5 4.25e+00    -  9.50e-01 1.00e+00f  1\n",
            "   4  1.7201208e+00 0.00e+00 1.50e-09  -3.8 1.59e+00    -  1.00e+00 1.00e+00f  1\n",
            "   5  1.7201186e+00 0.00e+00 2.22e-11  -5.7 7.22e-02    -  1.00e+00 1.00e+00f  1\n",
            "   6  1.7201186e+00 0.00e+00 3.08e-12  -8.6 3.43e-04    -  1.00e+00 1.00e+00f  1\n",
            "\n",
            "Number of Iterations....: 6\n",
            "\n",
            "                                   (scaled)                 (unscaled)\n",
            "Objective...............:   1.7201185696472858e+00    1.7201185696472858e+00\n",
            "Dual infeasibility......:   3.0848629611540733e-12    3.0848629611540733e-12\n",
            "Constraint violation....:   0.0000000000000000e+00    0.0000000000000000e+00\n",
            "Complementarity.........:   2.5414705854774420e-09    2.5414705854774420e-09\n",
            "Overall NLP error.......:   2.5414705854774420e-09    2.5414705854774420e-09\n",
            "\n",
            "\n",
            "Number of objective function evaluations             = 7\n",
            "Number of objective gradient evaluations             = 7\n",
            "Number of equality constraint evaluations            = 0\n",
            "Number of inequality constraint evaluations          = 0\n",
            "Number of equality constraint Jacobian evaluations   = 0\n",
            "Number of inequality constraint Jacobian evaluations = 0\n",
            "Number of Lagrangian Hessian evaluations             = 6\n",
            "Total CPU secs in IPOPT (w/o function evaluations)   =      0.004\n",
            "Total CPU secs in NLP function evaluations           =      0.000\n",
            "\n",
            "EXIT: Optimal Solution Found.\n",
            " \n",
            "Ipopt 3.13.2: Optimal Solution Found\n"
          ],
          "name": "stdout"
        }
      ]
    },
    {
      "cell_type": "code",
      "metadata": {
        "id": "tGrijPZ662p_"
      },
      "source": [
        "!pip install -q pyomo"
      ],
      "execution_count": null,
      "outputs": []
    },
    {
      "cell_type": "code",
      "metadata": {
        "id": "cWx0iTUo7C5U"
      },
      "source": [
        "import numpy as np"
      ],
      "execution_count": null,
      "outputs": []
    },
    {
      "cell_type": "code",
      "metadata": {
        "id": "6JwJ7gxr7RFw"
      },
      "source": [
        "from pyomo.environ import *"
      ],
      "execution_count": null,
      "outputs": []
    },
    {
      "cell_type": "markdown",
      "metadata": {
        "id": "N_ATqQVg7bp0"
      },
      "source": [
        "**1. ANSWER:** \\\n",
        "We have the following **non-linear optimization problem :** \\\n",
        "\n",
        ">$\\textbf{Minimize:}$ \\\n",
        "\\begin{align}\n",
        "\\bf{\\sqrt{(xf-xl)^2 + (yf-yl)^2}} \\\\\n",
        "\\textbf{OR }\\>\\>\\>\\>\\bf{{  (xf-xl)^2 + (yf-yl)^2}}\n",
        "\\end{align} \n",
        "\n",
        ">$\\textbf{Subject to:}$\n",
        "\\begin{align}\n",
        "\\ -xf-3yf\\geq \\ 0 \\\\\n",
        "\\ xf-yf\\geq \\ 0  \\\\\n",
        "\\ xf+yf\\geq \\ -200 \\\\\n",
        "\\ -xf+yf\\geq \\ -200 \\\\\n",
        "\\ -(xl-200)^2-(yl-200)^2\\geq \\ -2500 \\\\\n",
        "\\text{xf, yf, xl , yl }\\epsilon\\textbf{ R} \\\\ \n",
        "\\end{align}\n",
        "\n"
      ]
    },
    {
      "cell_type": "code",
      "metadata": {
        "id": "ym34jLQvIOSI"
      },
      "source": [
        "model = ConcreteModel()"
      ],
      "execution_count": null,
      "outputs": []
    },
    {
      "cell_type": "code",
      "metadata": {
        "id": "TdOleiE37TwF",
        "outputId": "0e97ed01-64f2-4158-b32f-7d95b7407edd",
        "colab": {
          "base_uri": "https://localhost:8080/",
          "height": 646
        }
      },
      "source": [
        "model.xf = Var()\n",
        "model.yf = Var()\n",
        "model.xl = Var()\n",
        "model.yl = Var()\n",
        "\n",
        "model.obj = Objective(expr = (model.xf-model.xl)**2 + (model.yf-model.yl)**2, sense=minimize)\n",
        "\n",
        "model.constr1 = Constraint(expr= -model.xf - 3*model.yf >= 0)\n",
        "model.constr2 = Constraint(expr= model.xf - model.yf >= 0)\n",
        "model.constr3 = Constraint(expr= model.xf + model.yf >= -200)\n",
        "model.constr4 = Constraint(expr= -model.xf + model.yf >= -200)\n",
        "model.constr5 = Constraint(expr= -(model.xl-200)**2 - (model.yl-200)**2 >= -2500)\n",
        "\n",
        "model.pprint()"
      ],
      "execution_count": null,
      "outputs": [
        {
          "output_type": "stream",
          "text": [
            "4 Var Declarations\n",
            "    xf : Size=1, Index=None\n",
            "        Key  : Lower : Value : Upper : Fixed : Stale : Domain\n",
            "        None :  None :  None :  None : False :  True :  Reals\n",
            "    xl : Size=1, Index=None\n",
            "        Key  : Lower : Value : Upper : Fixed : Stale : Domain\n",
            "        None :  None :  None :  None : False :  True :  Reals\n",
            "    yf : Size=1, Index=None\n",
            "        Key  : Lower : Value : Upper : Fixed : Stale : Domain\n",
            "        None :  None :  None :  None : False :  True :  Reals\n",
            "    yl : Size=1, Index=None\n",
            "        Key  : Lower : Value : Upper : Fixed : Stale : Domain\n",
            "        None :  None :  None :  None : False :  True :  Reals\n",
            "\n",
            "1 Objective Declarations\n",
            "    obj : Size=1, Index=None, Active=True\n",
            "        Key  : Active : Sense    : Expression\n",
            "        None :   True : minimize : (xf - xl)**2 + (yf - yl)**2\n",
            "\n",
            "5 Constraint Declarations\n",
            "    constr1 : Size=1, Index=None, Active=True\n",
            "        Key  : Lower : Body        : Upper : Active\n",
            "        None :   0.0 : - xf - 3*yf :  +Inf :   True\n",
            "    constr2 : Size=1, Index=None, Active=True\n",
            "        Key  : Lower : Body    : Upper : Active\n",
            "        None :   0.0 : xf - yf :  +Inf :   True\n",
            "    constr3 : Size=1, Index=None, Active=True\n",
            "        Key  : Lower  : Body    : Upper : Active\n",
            "        None : -200.0 : xf + yf :  +Inf :   True\n",
            "    constr4 : Size=1, Index=None, Active=True\n",
            "        Key  : Lower  : Body      : Upper : Active\n",
            "        None : -200.0 : - xf + yf :  +Inf :   True\n",
            "    constr5 : Size=1, Index=None, Active=True\n",
            "        Key  : Lower   : Body                            : Upper : Active\n",
            "        None : -2500.0 : - (xl - 200)**2 - (yl - 200)**2 :  +Inf :   True\n",
            "\n",
            "10 Declarations: xf yf xl yl obj constr1 constr2 constr3 constr4 constr5\n"
          ],
          "name": "stdout"
        }
      ]
    },
    {
      "cell_type": "code",
      "metadata": {
        "id": "N8e6GMlbJa_A",
        "outputId": "8f5ae9db-9f71-4e87-bd49-072a8b8c0b5c",
        "colab": {
          "base_uri": "https://localhost:8080/",
          "height": 510
        }
      },
      "source": [
        "opt_ipopt = SolverFactory('ipopt')\n",
        "result = opt_ipopt.solve(model)\n",
        "print(result)\n",
        "\n",
        "print('Solver status:', result.solver.status)\n",
        "print('Solver termination condition:',result.solver.termination_condition)\n",
        "print('\\nObjective = ', sqrt(model.obj()))\n",
        "\n",
        "print('\\nDecision Variables')\n",
        "print('xf = ', model.xf.value)  \n",
        "print('yf = ', model.yf.value)  \n",
        "print('xl = ', model.xl.value) \n",
        "print('yl = ', model.yl.value) "
      ],
      "execution_count": null,
      "outputs": [
        {
          "output_type": "stream",
          "text": [
            "\n",
            "Problem: \n",
            "- Lower bound: -inf\n",
            "  Upper bound: inf\n",
            "  Number of objectives: 1\n",
            "  Number of constraints: 5\n",
            "  Number of variables: 4\n",
            "  Sense: unknown\n",
            "Solver: \n",
            "- Status: ok\n",
            "  Message: Ipopt 3.13.2\\x3a Optimal Solution Found\n",
            "  Termination condition: optimal\n",
            "  Id: 0\n",
            "  Error rc: 0\n",
            "  Time: 0.018199682235717773\n",
            "Solution: \n",
            "- number of solutions: 0\n",
            "  number of solutions displayed: 0\n",
            "\n",
            "Solver status: ok\n",
            "Solver termination condition: optimal\n",
            "\n",
            "Objective =  202.98221256032042\n",
            "\n",
            "Decision Variables\n",
            "xf =  120.00000000096625\n",
            "yf =  -39.99999999699526\n",
            "xl =  184.18861162009682\n",
            "yl =  152.56583486031144\n"
          ],
          "name": "stdout"
        }
      ]
    },
    {
      "cell_type": "markdown",
      "metadata": {
        "id": "Lz314CPThBGC"
      },
      "source": [
        "**3.ANSWER :** \\\n",
        "location of the farm end: **(xf , yf) = (120.00000000096625, -39.99999999699526)** \\\n",
        "location of the lake end: **(xl , yl) = (184.18861162009682, 152.56583486031144)** \\"
      ]
    },
    {
      "cell_type": "markdown",
      "metadata": {
        "id": "d29i28aBidqp"
      },
      "source": [
        "**4. ANSWER:** \\\n",
        "The modified **non-linear optimization problem is :** \\\n",
        ">$Let \\ L_{1}\\ =distance \\ from \\ the\\ lake \\to the \\ junction$ \\\n",
        "> $\\> \\> \\> \\> \\ L_2 = distance \\ from \\ junction \\to the \\ farm$ \\\n",
        "> $\\> \\> \\> \\> \\ L_3 = distance \\ from \\ junction \\to the \\ Store\\ house$  \n",
        "\n",
        ">$\\textbf{Minimize:}$ \\\n",
        "\\begin{align}\n",
        "\\bf{\\ 0.20{\\sqrt(L_3)^2 + \\sqrt(L_1 + L_2)^2}} \\\\\n",
        "\\ OR \\\\ \n",
        "\\bf{\\ 0.20{(L_3)^2 + (L_1 + L_2)^2}}\n",
        "\\end{align} \n",
        "\n",
        ">$\\textbf{Subject to:}$\n",
        "\\begin{align}\n",
        "\\ -xf-3yf\\geq \\ 0 \\\\\n",
        "\\ xf-yf\\geq \\ 0  \\\\\n",
        "\\ xf+yf\\geq \\ -200 \\\\\n",
        "\\ -xf+yf\\geq \\ -200 \\\\\n",
        "\\ -(xl-200)^2-(yl-200)^2\\geq \\ -2500 \\\\\n",
        "\\text{xf, yf, xl , yl, xj, yj }\\epsilon\\textbf{ R} \\\\ \n",
        "where \\ (xj , yj) \\ are \\ junction \\ coordinates. \n",
        "\\end{align}"
      ]
    },
    {
      "cell_type": "code",
      "metadata": {
        "id": "9XSaysnNmBJ9"
      },
      "source": [
        "model.xj=Var()\n",
        "model.yj=Var()"
      ],
      "execution_count": null,
      "outputs": []
    },
    {
      "cell_type": "code",
      "metadata": {
        "id": "GN7lSxgkLP3P"
      },
      "source": [
        "#deactivate the old objective\n",
        "model.obj.deactivate()"
      ],
      "execution_count": null,
      "outputs": []
    },
    {
      "cell_type": "code",
      "metadata": {
        "id": "Fxp5WO8Jj-zP"
      },
      "source": [
        "model.new_objective = Objective(expr =0.20*((model.xj-15)**2+(model.yj-20)**2) + (model.xj-model.xf)**2+(model.yj-model.yf)**2+(model.xj-model.xl)**2+(model.yj-model.yl)**2 ,sense = minimize)"
      ],
      "execution_count": null,
      "outputs": []
    },
    {
      "cell_type": "code",
      "metadata": {
        "id": "avcRbpApulO9",
        "outputId": "995f820e-a25f-4dcc-8b12-df75363e703f",
        "colab": {
          "base_uri": "https://localhost:8080/",
          "height": 799
        }
      },
      "source": [
        "model.pprint()"
      ],
      "execution_count": null,
      "outputs": [
        {
          "output_type": "stream",
          "text": [
            "6 Var Declarations\n",
            "    xf : Size=1, Index=None\n",
            "        Key  : Lower : Value              : Upper : Fixed : Stale : Domain\n",
            "        None :  None : 120.00000000096625 :  None : False : False :  Reals\n",
            "    xj : Size=1, Index=None\n",
            "        Key  : Lower : Value : Upper : Fixed : Stale : Domain\n",
            "        None :  None :  None :  None : False :  True :  Reals\n",
            "    xl : Size=1, Index=None\n",
            "        Key  : Lower : Value              : Upper : Fixed : Stale : Domain\n",
            "        None :  None : 184.18861162009682 :  None : False : False :  Reals\n",
            "    yf : Size=1, Index=None\n",
            "        Key  : Lower : Value              : Upper : Fixed : Stale : Domain\n",
            "        None :  None : -39.99999999699526 :  None : False : False :  Reals\n",
            "    yj : Size=1, Index=None\n",
            "        Key  : Lower : Value : Upper : Fixed : Stale : Domain\n",
            "        None :  None :  None :  None : False :  True :  Reals\n",
            "    yl : Size=1, Index=None\n",
            "        Key  : Lower : Value              : Upper : Fixed : Stale : Domain\n",
            "        None :  None : 152.56583486031144 :  None : False : False :  Reals\n",
            "\n",
            "2 Objective Declarations\n",
            "    new_objective : Size=1, Index=None, Active=True\n",
            "        Key  : Active : Sense    : Expression\n",
            "        None :   True : minimize : 0.2*((xj - 15)**2 + (yj - 20)**2) + (xj - xf)**2 + (yj - yf)**2 + (xj - xl)**2 + (yj - yl)**2\n",
            "    obj : Size=1, Index=None, Active=False\n",
            "        Key  : Active : Sense    : Expression\n",
            "        None :  False : minimize : (xf - xl)**2 + (yf - yl)**2\n",
            "\n",
            "5 Constraint Declarations\n",
            "    constr1 : Size=1, Index=None, Active=True\n",
            "        Key  : Lower : Body        : Upper : Active\n",
            "        None :   0.0 : - xf - 3*yf :  +Inf :   True\n",
            "    constr2 : Size=1, Index=None, Active=True\n",
            "        Key  : Lower : Body    : Upper : Active\n",
            "        None :   0.0 : xf - yf :  +Inf :   True\n",
            "    constr3 : Size=1, Index=None, Active=True\n",
            "        Key  : Lower  : Body    : Upper : Active\n",
            "        None : -200.0 : xf + yf :  +Inf :   True\n",
            "    constr4 : Size=1, Index=None, Active=True\n",
            "        Key  : Lower  : Body      : Upper : Active\n",
            "        None : -200.0 : - xf + yf :  +Inf :   True\n",
            "    constr5 : Size=1, Index=None, Active=True\n",
            "        Key  : Lower   : Body                            : Upper : Active\n",
            "        None : -2500.0 : - (xl - 200)**2 - (yl - 200)**2 :  +Inf :   True\n",
            "\n",
            "13 Declarations: xf yf xl yl obj constr1 constr2 constr3 constr4 constr5 xj yj new_objective\n"
          ],
          "name": "stdout"
        }
      ]
    },
    {
      "cell_type": "code",
      "metadata": {
        "id": "DxThe6uHnMzK",
        "outputId": "424945eb-3aa1-4030-d19c-e649efb2a248",
        "colab": {
          "base_uri": "https://localhost:8080/",
          "height": 510
        }
      },
      "source": [
        "opt_ipopt = SolverFactory('ipopt')\n",
        "result = opt_ipopt.solve(model)\n",
        "print(result)\n",
        "\n",
        "print('Solver status:', result.solver.status)\n",
        "print('Solver termination condition:',result.solver.termination_condition)\n",
        "\n",
        "print('\\nDecision Variables')\n",
        "print('xf = ', model.xf.value)  \n",
        "print('yf = ', model.yf.value)  \n",
        "print('xl = ', model.xl.value) \n",
        "print('yl = ', model.yl.value)\n",
        "print(\"nJunction Coordinates:\") \n",
        "print('(xj,yj)',' = ','(',model.xj.value,',', model.yj.value,')') \n",
        " "
      ],
      "execution_count": null,
      "outputs": [
        {
          "output_type": "stream",
          "text": [
            "\n",
            "Problem: \n",
            "- Lower bound: -inf\n",
            "  Upper bound: inf\n",
            "  Number of objectives: 1\n",
            "  Number of constraints: 5\n",
            "  Number of variables: 6\n",
            "  Sense: unknown\n",
            "Solver: \n",
            "- Status: ok\n",
            "  Message: Ipopt 3.13.2\\x3a Optimal Solution Found\n",
            "  Termination condition: optimal\n",
            "  Id: 0\n",
            "  Error rc: 0\n",
            "  Time: 0.01429605484008789\n",
            "Solution: \n",
            "- number of solutions: 0\n",
            "  number of solutions displayed: 0\n",
            "\n",
            "Solver status: ok\n",
            "Solver termination condition: optimal\n",
            "\n",
            "Decision Variables\n",
            "xf =  94.67459978537734\n",
            "yf =  -31.55819992521143\n",
            "xl =  176.51842419229084\n",
            "yl =  155.85687343900707\n",
            "nJunction Coordinates:\n",
            "(xj,yj)  =  ( 124.6331927171219 , 58.3175788699071 )\n"
          ],
          "name": "stdout"
        }
      ]
    },
    {
      "cell_type": "markdown",
      "metadata": {
        "id": "B-BQN0zjjDgX"
      },
      "source": [
        "**6.ANSWER :** \\\n",
        "location of the farm end: **(xf , yf) = (94.67459978537734 , -31.55819992521143)** \\\n",
        "location of the lake end: **(xl , yl) = (176.51842419229084 , 155.85687343900707)**"
      ]
    }
  ]
}