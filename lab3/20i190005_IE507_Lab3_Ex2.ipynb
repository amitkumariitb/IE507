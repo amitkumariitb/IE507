{
  "nbformat": 4,
  "nbformat_minor": 0,
  "metadata": {
    "colab": {
      "name": "20i190005_IE507_Lab3_Ex2.ipynb",
      "provenance": [],
      "collapsed_sections": []
    },
    "kernelspec": {
      "name": "python3",
      "display_name": "Python 3"
    }
  },
  "cells": [
    {
      "cell_type": "markdown",
      "metadata": {
        "id": "59sJF1zCAAl_"
      },
      "source": [
        "1.Answer : \n",
        " We will solve the optimization problem:\n",
        "Max 2*x1+3*x2+5*x3+4*x4+6*x5+6*x6+8*x7+8*x8+6*x9+4*x10+6*x11,\n",
        "s.t. \n",
        "2*x1+3*x2+5*x3+4*x4+6*x5+6*x6+8*x7+8*x8+6*x9+4*x10+6*x11 >=26,\n",
        "5 <= x1+x2+x3+x4+x5+x6+x7+x8+x9+x10+x11 <= 9 , \n",
        "x6 + x8 <= 1 , x4 + x10 <= 1 , x3 + x8 <=1,\n",
        "x11 - x2 <= 0 , 1<= x1+x2 <= 1 ,x3+x5<=1, x9+x11 <= 1  .\n",
        "where x1,x2,x3,x4,x5,x6,x7,x8,x9,x10,x11 ∈{0,1}\n",
        "\n"
      ]
    },
    {
      "cell_type": "code",
      "metadata": {
        "id": "R31bXkIu7wOF"
      },
      "source": [
        "!pip install -q pyomo"
      ],
      "execution_count": null,
      "outputs": []
    },
    {
      "cell_type": "code",
      "metadata": {
        "id": "_bE6FAOz8FyO"
      },
      "source": [
        "from pyomo.environ import *"
      ],
      "execution_count": null,
      "outputs": []
    },
    {
      "cell_type": "code",
      "metadata": {
        "id": "KyuRi42R8OU8"
      },
      "source": [
        "import numpy as np"
      ],
      "execution_count": null,
      "outputs": []
    },
    {
      "cell_type": "code",
      "metadata": {
        "id": "ZlimU57q8RhZ"
      },
      "source": [
        "model_milp = ConcreteModel()"
      ],
      "execution_count": null,
      "outputs": []
    },
    {
      "cell_type": "code",
      "metadata": {
        "id": "_ZyrDe4s8YTF"
      },
      "source": [
        "N = 11\n",
        "M = 11\n",
        "lb = np.array([0,0,0,0,0,0,0,0,0,0,0])\n",
        "ub = np.array([1,1,1,1,1,1,1,1,1,1,1]) "
      ],
      "execution_count": null,
      "outputs": []
    },
    {
      "cell_type": "code",
      "metadata": {
        "id": "Eoyl4Qbz_APN"
      },
      "source": [
        "obj_coef_c = np.array([2,3,5,4,6,6,8,8,6,4,6]) "
      ],
      "execution_count": null,
      "outputs": []
    },
    {
      "cell_type": "code",
      "metadata": {
        "id": "2jM7fgol_hPV",
        "colab": {
          "base_uri": "https://localhost:8080/",
          "height": 51
        },
        "outputId": "83bd30a0-a454-403a-a0c9-1a39a4c48b86"
      },
      "source": [
        "A=np.array([[-2,-3,-5,-4,-6,-6,-8,-8,-6,-4,-6],[1,1,1,1,1,1,1,1,1,1,1],[-1,-1,-1,-1,-1,-1,-1,-1,-1,-1,-1],\n",
        "           [0,0,0,0,0,1,0,1,0,0,0],[0,0,0,1,0,0,0,0,0,1,0],\n",
        "           [0,0,1,0,0,0,0,1,0,0,0],[0,-1,0,0,0,0,0,0,0,0,1],[1,1,0,0,0,0,0,0,0,0,0],\n",
        "           [-1,-1,0,0,0,0,0,0,0,0,0],[0,0,1,0,1,0,0,0,0,0,0],[0,0,0,0,0,0,0,0,1,0,1]])\n",
        "B=np.array([-26,9,-5,1,1,1,0,1,-1,1,1])\n",
        "row_indices=np.arange(M)\n",
        "print(row_indices)\n",
        "col_indices = np.arange(N)\n",
        "print(col_indices)"
      ],
      "execution_count": null,
      "outputs": [
        {
          "output_type": "stream",
          "text": [
            "[ 0  1  2  3  4  5  6  7  8  9 10]\n",
            "[ 0  1  2  3  4  5  6  7  8  9 10]\n"
          ],
          "name": "stdout"
        }
      ]
    },
    {
      "cell_type": "code",
      "metadata": {
        "id": "uh1N61ZmKgBT"
      },
      "source": [
        "model_milp.x = Var(col_indices,domain=Binary)\n",
        "model_milp.constraints = ConstraintList()"
      ],
      "execution_count": null,
      "outputs": []
    },
    {
      "cell_type": "code",
      "metadata": {
        "id": "CZSmTWSxPrZA"
      },
      "source": [
        "for i in col_indices:\n",
        "  model_milp.x[i].setlb(lb[i])\n",
        "  model_milp.x[i].setub(ub[i])"
      ],
      "execution_count": null,
      "outputs": []
    },
    {
      "cell_type": "code",
      "metadata": {
        "id": "dJemk3Q_Lk21"
      },
      "source": [
        "for i in row_indices:\n",
        "  model_milp.constraints.add(sum(A[i][j]*model_milp.x[j] for j in col_indices) <= B[i])"
      ],
      "execution_count": null,
      "outputs": []
    },
    {
      "cell_type": "code",
      "metadata": {
        "id": "Kf-zWXxhM7Uy",
        "colab": {
          "base_uri": "https://localhost:8080/",
          "height": 785
        },
        "outputId": "880d15e2-57a1-474e-8b7d-abab7bd640c1"
      },
      "source": [
        "model_milp.objective = Objective(expr =summation(obj_coef_c,model_milp.x), sense=maximize)\n",
        "model_milp.pprint() "
      ],
      "execution_count": null,
      "outputs": [
        {
          "output_type": "stream",
          "text": [
            "2 Set Declarations\n",
            "    constraints_index : Size=1, Index=None, Ordered=Insertion\n",
            "        Key  : Dimen : Domain : Size : Members\n",
            "        None :     1 :    Any :   11 : {1, 2, 3, 4, 5, 6, 7, 8, 9, 10, 11}\n",
            "    x_index : Size=1, Index=None, Ordered=False\n",
            "        Key  : Dimen : Domain : Size : Members\n",
            "        None :     1 :    Any :   11 : {0, 1, 2, 3, 4, 5, 6, 7, 8, 9, 10}\n",
            "\n",
            "1 Var Declarations\n",
            "    x : Size=11, Index=x_index\n",
            "        Key : Lower : Value : Upper : Fixed : Stale : Domain\n",
            "          0 :     0 :  None :     1 : False :  True : Binary\n",
            "          1 :     0 :  None :     1 : False :  True : Binary\n",
            "          2 :     0 :  None :     1 : False :  True : Binary\n",
            "          3 :     0 :  None :     1 : False :  True : Binary\n",
            "          4 :     0 :  None :     1 : False :  True : Binary\n",
            "          5 :     0 :  None :     1 : False :  True : Binary\n",
            "          6 :     0 :  None :     1 : False :  True : Binary\n",
            "          7 :     0 :  None :     1 : False :  True : Binary\n",
            "          8 :     0 :  None :     1 : False :  True : Binary\n",
            "          9 :     0 :  None :     1 : False :  True : Binary\n",
            "         10 :     0 :  None :     1 : False :  True : Binary\n",
            "\n",
            "1 Objective Declarations\n",
            "    objective : Size=1, Index=None, Active=True\n",
            "        Key  : Active : Sense    : Expression\n",
            "        None :   True : maximize : 2*x[0] + 3*x[1] + 5*x[2] + 4*x[3] + 6*x[4] + 6*x[5] + 8*x[6] + 8*x[7] + 6*x[8] + 4*x[9] + 6*x[10]\n",
            "\n",
            "1 Constraint Declarations\n",
            "    constraints : Size=11, Index=constraints_index, Active=True\n",
            "        Key : Lower : Body                                                                                               : Upper : Active\n",
            "          1 :  -Inf : -2*x[0] - 3*x[1] - 5*x[2] - 4*x[3] - 6*x[4] - 6*x[5] - 8*x[6] - 8*x[7] - 6*x[8] - 4*x[9] - 6*x[10] : -26.0 :   True\n",
            "          2 :  -Inf :                        x[0] + x[1] + x[2] + x[3] + x[4] + x[5] + x[6] + x[7] + x[8] + x[9] + x[10] :   9.0 :   True\n",
            "          3 :  -Inf :                      - x[0] - x[1] - x[2] - x[3] - x[4] - x[5] - x[6] - x[7] - x[8] - x[9] - x[10] :  -5.0 :   True\n",
            "          4 :  -Inf :                                                                                        x[5] + x[7] :   1.0 :   True\n",
            "          5 :  -Inf :                                                                                        x[3] + x[9] :   1.0 :   True\n",
            "          6 :  -Inf :                                                                                        x[2] + x[7] :   1.0 :   True\n",
            "          7 :  -Inf :                                                                                     - x[1] + x[10] :   0.0 :   True\n",
            "          8 :  -Inf :                                                                                        x[0] + x[1] :   1.0 :   True\n",
            "          9 :  -Inf :                                                                                      - x[0] - x[1] :  -1.0 :   True\n",
            "         10 :  -Inf :                                                                                        x[2] + x[4] :   1.0 :   True\n",
            "         11 :  -Inf :                                                                                       x[8] + x[10] :   1.0 :   True\n",
            "\n",
            "5 Declarations: x_index x constraints_index constraints objective\n"
          ],
          "name": "stdout"
        }
      ]
    },
    {
      "cell_type": "code",
      "metadata": {
        "id": "yz6F6GFqTgFi"
      },
      "source": [
        "!apt-get install -y -qq coinor-cbc"
      ],
      "execution_count": null,
      "outputs": []
    },
    {
      "cell_type": "code",
      "metadata": {
        "id": "U8fBddkRV-Wm"
      },
      "source": [
        "opt_cbc = SolverFactory('cbc')"
      ],
      "execution_count": null,
      "outputs": []
    },
    {
      "cell_type": "code",
      "metadata": {
        "id": "EKrob0LsWHmT",
        "colab": {
          "base_uri": "https://localhost:8080/",
          "height": 578
        },
        "outputId": "35cc37a3-eaec-4131-c777-5582917b1820"
      },
      "source": [
        "result = opt_cbc.solve(model_milp)\n",
        "print(result)\n",
        "\n",
        "print('Solver status:', result.solver.status)\n",
        "print('Solver termination condition:',result.solver.termination_condition)"
      ],
      "execution_count": null,
      "outputs": [
        {
          "output_type": "stream",
          "text": [
            "\n",
            "Problem: \n",
            "- Name: unknown\n",
            "  Lower bound: 35.0\n",
            "  Upper bound: 35.0\n",
            "  Number of objectives: 1\n",
            "  Number of constraints: 11\n",
            "  Number of variables: 11\n",
            "  Number of binary variables: 11\n",
            "  Number of integer variables: 11\n",
            "  Number of nonzeros: 11\n",
            "  Sense: maximize\n",
            "Solver: \n",
            "- Status: ok\n",
            "  User time: -1.0\n",
            "  System time: 0.01\n",
            "  Wallclock time: 0.01\n",
            "  Termination condition: optimal\n",
            "  Termination message: Model was solved to optimality (subject to tolerances), and an optimal solution is available.\n",
            "  Statistics: \n",
            "    Branch and bound: \n",
            "      Number of bounded subproblems: 0\n",
            "      Number of created subproblems: 0\n",
            "    Black box: \n",
            "      Number of iterations: 0\n",
            "  Error rc: 0\n",
            "  Time: 0.028574228286743164\n",
            "Solution: \n",
            "- number of solutions: 0\n",
            "  number of solutions displayed: 0\n",
            "\n",
            "Solver status: ok\n",
            "Solver termination condition: optimal\n"
          ],
          "name": "stdout"
        }
      ]
    },
    {
      "cell_type": "code",
      "metadata": {
        "id": "_lIV8ffMWXlB",
        "colab": {
          "base_uri": "https://localhost:8080/",
          "height": 527
        },
        "outputId": "d4af0fdb-82c5-4180-d896-53c32669d645"
      },
      "source": [
        "# display solution\n",
        "print('\\nObjective = ', model_milp.objective())\n",
        "\n",
        "print('\\nDecision Variables')\n",
        "for i in col_indices:\n",
        "  print('x[',i,'] = ', model_milp.x[i].value)\n",
        "print('\\nActive Constraints')\n",
        "model_milp.constraints.display()"
      ],
      "execution_count": null,
      "outputs": [
        {
          "output_type": "stream",
          "text": [
            "\n",
            "Objective =  35.0\n",
            "\n",
            "Decision Variables\n",
            "x[ 0 ] =  0.0\n",
            "x[ 1 ] =  1.0\n",
            "x[ 2 ] =  0.0\n",
            "x[ 3 ] =  0.0\n",
            "x[ 4 ] =  1.0\n",
            "x[ 5 ] =  0.0\n",
            "x[ 6 ] =  1.0\n",
            "x[ 7 ] =  1.0\n",
            "x[ 8 ] =  0.0\n",
            "x[ 9 ] =  1.0\n",
            "x[ 10 ] =  1.0\n",
            "\n",
            "Active Constraints\n",
            "constraints : Size=11\n",
            "    Key : Lower : Body  : Upper\n",
            "      1 :  None : -35.0 : -26.0\n",
            "      2 :  None :   6.0 :   9.0\n",
            "      3 :  None :  -6.0 :  -5.0\n",
            "      4 :  None :   1.0 :   1.0\n",
            "      5 :  None :   1.0 :   1.0\n",
            "      6 :  None :   1.0 :   1.0\n",
            "      7 :  None :   0.0 :   0.0\n",
            "      8 :  None :   1.0 :   1.0\n",
            "      9 :  None :  -1.0 :  -1.0\n",
            "     10 :  None :   1.0 :   1.0\n",
            "     11 :  None :   1.0 :   1.0\n"
          ],
          "name": "stdout"
        }
      ]
    },
    {
      "cell_type": "markdown",
      "metadata": {
        "id": "XucSfPWZhYAe"
      },
      "source": [
        "4. Now we are removing the restrictions that\n",
        "the variables in the above problem are integers"
      ]
    },
    {
      "cell_type": "code",
      "metadata": {
        "id": "GMX3VOazfZmT"
      },
      "source": [
        "model_milp_1 = ConcreteModel()"
      ],
      "execution_count": null,
      "outputs": []
    },
    {
      "cell_type": "code",
      "metadata": {
        "id": "g2u-rgPJfbg3"
      },
      "source": [
        "N = 11\n",
        "M = 11\n",
        "lb = np.array([0,0,0,0,0,0,0,0,0,0,0])\n",
        "ub = np.array([1,1,1,1,1,1,1,1,1,1,1]) "
      ],
      "execution_count": null,
      "outputs": []
    },
    {
      "cell_type": "code",
      "metadata": {
        "id": "q7Kqo4VAg2AD"
      },
      "source": [
        "obj_coef_c = np.array([2,3,5,4,6,6,8,8,6,4,6]) "
      ],
      "execution_count": null,
      "outputs": []
    },
    {
      "cell_type": "code",
      "metadata": {
        "id": "MW_pkdP-hDcx",
        "colab": {
          "base_uri": "https://localhost:8080/",
          "height": 51
        },
        "outputId": "272118c3-897d-4139-c75c-4a921e7a995b"
      },
      "source": [
        "A=np.array([[-2,-3,-5,-4,-6,-6,-8,-8,-6,-4,-6],[1,1,1,1,1,1,1,1,1,1,1],[-1,-1,-1,-1,-1,-1,-1,-1,-1,-1,-1],\n",
        "           [0,0,0,0,0,1,0,1,0,0,0],[0,0,0,1,0,0,0,0,0,1,0],\n",
        "           [0,0,1,0,0,0,0,1,0,0,0],[0,-1,0,0,0,0,0,0,0,0,1],[1,1,0,0,0,0,0,0,0,0,0],\n",
        "           [-1,-1,0,0,0,0,0,0,0,0,0],[0,0,1,0,1,0,0,0,0,0,0],[0,0,0,0,0,0,0,0,1,0,1]])\n",
        "B=np.array([-26,9,-5,1,1,1,0,1,-1,1,1])\n",
        "row_indices=np.arange(M)\n",
        "print(row_indices)\n",
        "col_indices = np.arange(N)\n",
        "print(col_indices)"
      ],
      "execution_count": null,
      "outputs": [
        {
          "output_type": "stream",
          "text": [
            "[ 0  1  2  3  4  5  6  7  8  9 10]\n",
            "[ 0  1  2  3  4  5  6  7  8  9 10]\n"
          ],
          "name": "stdout"
        }
      ]
    },
    {
      "cell_type": "code",
      "metadata": {
        "id": "meRVTjSjhLh-"
      },
      "source": [
        "#here we have removed the restriction on domain which was earlier Binary\n",
        "model_milp_1.x = Var(col_indices)\n",
        "model_milp_1.constraints = ConstraintList()"
      ],
      "execution_count": null,
      "outputs": []
    },
    {
      "cell_type": "code",
      "metadata": {
        "id": "HgrnlQ_lhUH9"
      },
      "source": [
        "for i in col_indices:\n",
        "  model_milp_1.x[i].setlb(lb[i])\n",
        "  model_milp_1.x[i].setub(ub[i])"
      ],
      "execution_count": null,
      "outputs": []
    },
    {
      "cell_type": "code",
      "metadata": {
        "id": "lvdVcyLgia2a"
      },
      "source": [
        "for i in row_indices:\n",
        "  model_milp_1.constraints.add(sum(A[i][j]*model_milp_1.x[j] for j in col_indices) <= B[i])"
      ],
      "execution_count": null,
      "outputs": []
    },
    {
      "cell_type": "code",
      "metadata": {
        "id": "RsFwYmemigPY",
        "colab": {
          "base_uri": "https://localhost:8080/",
          "height": 785
        },
        "outputId": "bb57a51c-517d-433b-ca64-605a8767f93a"
      },
      "source": [
        "model_milp_1.objective = Objective(expr =summation(obj_coef_c,model_milp_1.x), sense=maximize)\n",
        "model_milp_1.pprint() "
      ],
      "execution_count": null,
      "outputs": [
        {
          "output_type": "stream",
          "text": [
            "2 Set Declarations\n",
            "    constraints_index : Size=1, Index=None, Ordered=Insertion\n",
            "        Key  : Dimen : Domain : Size : Members\n",
            "        None :     1 :    Any :   11 : {1, 2, 3, 4, 5, 6, 7, 8, 9, 10, 11}\n",
            "    x_index : Size=1, Index=None, Ordered=False\n",
            "        Key  : Dimen : Domain : Size : Members\n",
            "        None :     1 :    Any :   11 : {0, 1, 2, 3, 4, 5, 6, 7, 8, 9, 10}\n",
            "\n",
            "1 Var Declarations\n",
            "    x : Size=11, Index=x_index\n",
            "        Key : Lower : Value : Upper : Fixed : Stale : Domain\n",
            "          0 :     0 :  None :     1 : False :  True :  Reals\n",
            "          1 :     0 :  None :     1 : False :  True :  Reals\n",
            "          2 :     0 :  None :     1 : False :  True :  Reals\n",
            "          3 :     0 :  None :     1 : False :  True :  Reals\n",
            "          4 :     0 :  None :     1 : False :  True :  Reals\n",
            "          5 :     0 :  None :     1 : False :  True :  Reals\n",
            "          6 :     0 :  None :     1 : False :  True :  Reals\n",
            "          7 :     0 :  None :     1 : False :  True :  Reals\n",
            "          8 :     0 :  None :     1 : False :  True :  Reals\n",
            "          9 :     0 :  None :     1 : False :  True :  Reals\n",
            "         10 :     0 :  None :     1 : False :  True :  Reals\n",
            "\n",
            "1 Objective Declarations\n",
            "    objective : Size=1, Index=None, Active=True\n",
            "        Key  : Active : Sense    : Expression\n",
            "        None :   True : maximize : 2*x[0] + 3*x[1] + 5*x[2] + 4*x[3] + 6*x[4] + 6*x[5] + 8*x[6] + 8*x[7] + 6*x[8] + 4*x[9] + 6*x[10]\n",
            "\n",
            "1 Constraint Declarations\n",
            "    constraints : Size=11, Index=constraints_index, Active=True\n",
            "        Key : Lower : Body                                                                                               : Upper : Active\n",
            "          1 :  -Inf : -2*x[0] - 3*x[1] - 5*x[2] - 4*x[3] - 6*x[4] - 6*x[5] - 8*x[6] - 8*x[7] - 6*x[8] - 4*x[9] - 6*x[10] : -26.0 :   True\n",
            "          2 :  -Inf :                        x[0] + x[1] + x[2] + x[3] + x[4] + x[5] + x[6] + x[7] + x[8] + x[9] + x[10] :   9.0 :   True\n",
            "          3 :  -Inf :                      - x[0] - x[1] - x[2] - x[3] - x[4] - x[5] - x[6] - x[7] - x[8] - x[9] - x[10] :  -5.0 :   True\n",
            "          4 :  -Inf :                                                                                        x[5] + x[7] :   1.0 :   True\n",
            "          5 :  -Inf :                                                                                        x[3] + x[9] :   1.0 :   True\n",
            "          6 :  -Inf :                                                                                        x[2] + x[7] :   1.0 :   True\n",
            "          7 :  -Inf :                                                                                     - x[1] + x[10] :   0.0 :   True\n",
            "          8 :  -Inf :                                                                                        x[0] + x[1] :   1.0 :   True\n",
            "          9 :  -Inf :                                                                                      - x[0] - x[1] :  -1.0 :   True\n",
            "         10 :  -Inf :                                                                                        x[2] + x[4] :   1.0 :   True\n",
            "         11 :  -Inf :                                                                                       x[8] + x[10] :   1.0 :   True\n",
            "\n",
            "5 Declarations: x_index x constraints_index constraints objective\n"
          ],
          "name": "stdout"
        }
      ]
    },
    {
      "cell_type": "code",
      "metadata": {
        "id": "rVlvowv6imvx"
      },
      "source": [
        "!apt-get install -y -qq coinor-cbc"
      ],
      "execution_count": null,
      "outputs": []
    },
    {
      "cell_type": "code",
      "metadata": {
        "id": "VkILl9bdi3X8"
      },
      "source": [
        "opt_cbc_1 = SolverFactory('cbc')"
      ],
      "execution_count": null,
      "outputs": []
    },
    {
      "cell_type": "code",
      "metadata": {
        "id": "AU_3XHC9jSaU",
        "colab": {
          "base_uri": "https://localhost:8080/",
          "height": 544
        },
        "outputId": "a4f9fcaa-4a2f-4504-f020-3bfabbb2c5ba"
      },
      "source": [
        "result = opt_cbc_1.solve(model_milp_1)\n",
        "print(result)\n",
        "\n",
        "print('Solver status:', result.solver.status)\n",
        "print('Solver termination condition:',result.solver.termination_condition)"
      ],
      "execution_count": null,
      "outputs": [
        {
          "output_type": "stream",
          "text": [
            "\n",
            "Problem: \n",
            "- Name: unknown\n",
            "  Lower bound: 35.0\n",
            "  Upper bound: 35.0\n",
            "  Number of objectives: 1\n",
            "  Number of constraints: 12\n",
            "  Number of variables: 12\n",
            "  Number of nonzeros: 10\n",
            "  Sense: maximize\n",
            "Solver: \n",
            "- Status: ok\n",
            "  User time: -1.0\n",
            "  System time: 0.0\n",
            "  Wallclock time: 0.0\n",
            "  Termination condition: optimal\n",
            "  Termination message: Model was solved to optimality (subject to tolerances), and an optimal solution is available.\n",
            "  Statistics: \n",
            "    Branch and bound: \n",
            "      Number of bounded subproblems: None\n",
            "      Number of created subproblems: None\n",
            "    Black box: \n",
            "      Number of iterations: 4\n",
            "  Error rc: 0\n",
            "  Time: 0.02390456199645996\n",
            "Solution: \n",
            "- number of solutions: 0\n",
            "  number of solutions displayed: 0\n",
            "\n",
            "Solver status: ok\n",
            "Solver termination condition: optimal\n"
          ],
          "name": "stdout"
        }
      ]
    },
    {
      "cell_type": "code",
      "metadata": {
        "id": "vjL66GawjaYi",
        "colab": {
          "base_uri": "https://localhost:8080/",
          "height": 527
        },
        "outputId": "e6bb9c64-ceab-40bc-9ffe-91002b10f012"
      },
      "source": [
        "# display solution\n",
        "print('\\nObjective = ', model_milp_1.objective())\n",
        "\n",
        "print('\\nDecision Variables')\n",
        "for i in col_indices:\n",
        "  print('x[',i,'] = ', model_milp_1.x[i].value)\n",
        "print('\\nActive Constraints')\n",
        "model_milp_1.constraints.display()"
      ],
      "execution_count": null,
      "outputs": [
        {
          "output_type": "stream",
          "text": [
            "\n",
            "Objective =  35.0\n",
            "\n",
            "Decision Variables\n",
            "x[ 0 ] =  0.0\n",
            "x[ 1 ] =  1.0\n",
            "x[ 2 ] =  0.0\n",
            "x[ 3 ] =  0.0\n",
            "x[ 4 ] =  1.0\n",
            "x[ 5 ] =  0.0\n",
            "x[ 6 ] =  1.0\n",
            "x[ 7 ] =  1.0\n",
            "x[ 8 ] =  1.0\n",
            "x[ 9 ] =  1.0\n",
            "x[ 10 ] =  0.0\n",
            "\n",
            "Active Constraints\n",
            "constraints : Size=11\n",
            "    Key : Lower : Body  : Upper\n",
            "      1 :  None : -35.0 : -26.0\n",
            "      2 :  None :   6.0 :   9.0\n",
            "      3 :  None :  -6.0 :  -5.0\n",
            "      4 :  None :   1.0 :   1.0\n",
            "      5 :  None :   1.0 :   1.0\n",
            "      6 :  None :   1.0 :   1.0\n",
            "      7 :  None :  -1.0 :   0.0\n",
            "      8 :  None :   1.0 :   1.0\n",
            "      9 :  None :  -1.0 :  -1.0\n",
            "     10 :  None :   1.0 :   1.0\n",
            "     11 :  None :   1.0 :   1.0\n"
          ],
          "name": "stdout"
        }
      ]
    },
    {
      "cell_type": "markdown",
      "metadata": {
        "id": "n26SioE5kfyU"
      },
      "source": [
        "5.Answer: No its not possible. I guess(not sure),rounding solutions can cause the solution to become infeasible."
      ]
    },
    {
      "cell_type": "markdown",
      "metadata": {
        "id": "9MPGFGcukw-J"
      },
      "source": [
        "6.Answer:\n",
        "Here we are required to add a new decision variable x12 ∈{0,1} , with new_objective: Max 2*x1+3*x2+5*x3+4*x4+6*x5+6*x6+8*x7+8*x8+6**x9+4*x10+6*x11+9*x12 and adding a new_constraint: x8+x9+x12 <=1 to the original optimization problem mentioned at the top."
      ]
    },
    {
      "cell_type": "code",
      "metadata": {
        "id": "tbXIPggSjlvt"
      },
      "source": [
        "N = 12\n",
        "model_milp.x12 = Var(domain=Binary) "
      ],
      "execution_count": null,
      "outputs": []
    },
    {
      "cell_type": "code",
      "metadata": {
        "id": "UCLuFdvFo7D-",
        "colab": {
          "base_uri": "https://localhost:8080/",
          "height": 34
        },
        "outputId": "b7cb186f-4dc1-4c0a-d5d1-2a3c2e9a0e4c"
      },
      "source": [
        "model_milp.constraints.add(expr = model_milp.x[7]+ model_milp.x[8]+model_milp.x12 <= 1)"
      ],
      "execution_count": null,
      "outputs": [
        {
          "output_type": "execute_result",
          "data": {
            "text/plain": [
              "<pyomo.core.base.constraint._GeneralConstraintData at 0x7fe7fefb8fa8>"
            ]
          },
          "metadata": {
            "tags": []
          },
          "execution_count": 214
        }
      ]
    },
    {
      "cell_type": "code",
      "metadata": {
        "id": "d_MepBpswjCs"
      },
      "source": [
        "#deactivate the old objective\n",
        "model_milp.objective.deactivate()"
      ],
      "execution_count": null,
      "outputs": []
    },
    {
      "cell_type": "code",
      "metadata": {
        "id": "f-ogfe3tsJbz"
      },
      "source": [
        "model_milp.new_objective = Objective(expr = 9*model_milp.x12 + summation(obj_coef_c,model_milp.x),sense=maximize )"
      ],
      "execution_count": null,
      "outputs": []
    },
    {
      "cell_type": "code",
      "metadata": {
        "id": "QpGAkUglvKPW",
        "colab": {
          "base_uri": "https://localhost:8080/",
          "height": 904
        },
        "outputId": "47a98118-9948-4135-b128-d857bb33e730"
      },
      "source": [
        "model_milp.pprint()"
      ],
      "execution_count": null,
      "outputs": [
        {
          "output_type": "stream",
          "text": [
            "2 Set Declarations\n",
            "    constraints_index : Size=1, Index=None, Ordered=Insertion\n",
            "        Key  : Dimen : Domain : Size : Members\n",
            "        None :     1 :    Any :   12 : {1, 2, 3, 4, 5, 6, 7, 8, 9, 10, 11, 12}\n",
            "    x_index : Size=1, Index=None, Ordered=False\n",
            "        Key  : Dimen : Domain : Size : Members\n",
            "        None :     1 :    Any :   11 : {0, 1, 2, 3, 4, 5, 6, 7, 8, 9, 10}\n",
            "\n",
            "2 Var Declarations\n",
            "    x : Size=11, Index=x_index\n",
            "        Key : Lower : Value : Upper : Fixed : Stale : Domain\n",
            "          0 :     0 :   0.0 :     1 : False : False : Binary\n",
            "          1 :     0 :   1.0 :     1 : False : False : Binary\n",
            "          2 :     0 :   0.0 :     1 : False : False : Binary\n",
            "          3 :     0 :   0.0 :     1 : False : False : Binary\n",
            "          4 :     0 :   1.0 :     1 : False : False : Binary\n",
            "          5 :     0 :   0.0 :     1 : False : False : Binary\n",
            "          6 :     0 :   1.0 :     1 : False : False : Binary\n",
            "          7 :     0 :   1.0 :     1 : False : False : Binary\n",
            "          8 :     0 :   0.0 :     1 : False : False : Binary\n",
            "          9 :     0 :   1.0 :     1 : False : False : Binary\n",
            "         10 :     0 :   1.0 :     1 : False : False : Binary\n",
            "    x12 : Size=1, Index=None\n",
            "        Key  : Lower : Value : Upper : Fixed : Stale : Domain\n",
            "        None :     0 :  None :     1 : False :  True : Binary\n",
            "\n",
            "2 Objective Declarations\n",
            "    new_objective : Size=1, Index=None, Active=True\n",
            "        Key  : Active : Sense    : Expression\n",
            "        None :   True : maximize : 9*x12 + (2*x[0] + 3*x[1] + 5*x[2] + 4*x[3] + 6*x[4] + 6*x[5] + 8*x[6] + 8*x[7] + 6*x[8] + 4*x[9] + 6*x[10])\n",
            "    objective : Size=1, Index=None, Active=False\n",
            "        Key  : Active : Sense    : Expression\n",
            "        None :  False : maximize : 2*x[0] + 3*x[1] + 5*x[2] + 4*x[3] + 6*x[4] + 6*x[5] + 8*x[6] + 8*x[7] + 6*x[8] + 4*x[9] + 6*x[10]\n",
            "\n",
            "1 Constraint Declarations\n",
            "    constraints : Size=12, Index=constraints_index, Active=True\n",
            "        Key : Lower : Body                                                                                               : Upper : Active\n",
            "          1 :  -Inf : -2*x[0] - 3*x[1] - 5*x[2] - 4*x[3] - 6*x[4] - 6*x[5] - 8*x[6] - 8*x[7] - 6*x[8] - 4*x[9] - 6*x[10] : -26.0 :   True\n",
            "          2 :  -Inf :                        x[0] + x[1] + x[2] + x[3] + x[4] + x[5] + x[6] + x[7] + x[8] + x[9] + x[10] :   9.0 :   True\n",
            "          3 :  -Inf :                      - x[0] - x[1] - x[2] - x[3] - x[4] - x[5] - x[6] - x[7] - x[8] - x[9] - x[10] :  -5.0 :   True\n",
            "          4 :  -Inf :                                                                                        x[5] + x[7] :   1.0 :   True\n",
            "          5 :  -Inf :                                                                                        x[3] + x[9] :   1.0 :   True\n",
            "          6 :  -Inf :                                                                                        x[2] + x[7] :   1.0 :   True\n",
            "          7 :  -Inf :                                                                                     - x[1] + x[10] :   0.0 :   True\n",
            "          8 :  -Inf :                                                                                        x[0] + x[1] :   1.0 :   True\n",
            "          9 :  -Inf :                                                                                      - x[0] - x[1] :  -1.0 :   True\n",
            "         10 :  -Inf :                                                                                        x[2] + x[4] :   1.0 :   True\n",
            "         11 :  -Inf :                                                                                       x[8] + x[10] :   1.0 :   True\n",
            "         12 :  -Inf :                                                                                  x[7] + x[8] + x12 :   1.0 :   True\n",
            "\n",
            "7 Declarations: x_index x constraints_index constraints objective x12 new_objective\n"
          ],
          "name": "stdout"
        }
      ]
    },
    {
      "cell_type": "code",
      "metadata": {
        "id": "12_RjBP-z-Xc"
      },
      "source": [
        "!apt-get install -y -qq coinor-cbc"
      ],
      "execution_count": null,
      "outputs": []
    },
    {
      "cell_type": "code",
      "metadata": {
        "id": "jFibLYTJ0IqL"
      },
      "source": [
        "opt_cbc = SolverFactory('cbc')"
      ],
      "execution_count": null,
      "outputs": []
    },
    {
      "cell_type": "code",
      "metadata": {
        "id": "5Y7g9h50vRsw",
        "colab": {
          "base_uri": "https://localhost:8080/",
          "height": 578
        },
        "outputId": "973ea877-157c-4e6e-8f98-35d1a4f97074"
      },
      "source": [
        "result = opt_cbc.solve(model_milp)\n",
        "print(result)\n",
        "\n",
        "print('Solver status:', result.solver.status)\n",
        "print('Solver termination condition:',result.solver.termination_condition)"
      ],
      "execution_count": null,
      "outputs": [
        {
          "output_type": "stream",
          "text": [
            "\n",
            "Problem: \n",
            "- Name: unknown\n",
            "  Lower bound: 42.0\n",
            "  Upper bound: 42.0\n",
            "  Number of objectives: 1\n",
            "  Number of constraints: 12\n",
            "  Number of variables: 12\n",
            "  Number of binary variables: 12\n",
            "  Number of integer variables: 12\n",
            "  Number of nonzeros: 12\n",
            "  Sense: maximize\n",
            "Solver: \n",
            "- Status: ok\n",
            "  User time: -1.0\n",
            "  System time: 0.0\n",
            "  Wallclock time: 0.0\n",
            "  Termination condition: optimal\n",
            "  Termination message: Model was solved to optimality (subject to tolerances), and an optimal solution is available.\n",
            "  Statistics: \n",
            "    Branch and bound: \n",
            "      Number of bounded subproblems: 0\n",
            "      Number of created subproblems: 0\n",
            "    Black box: \n",
            "      Number of iterations: 0\n",
            "  Error rc: 0\n",
            "  Time: 0.024747133255004883\n",
            "Solution: \n",
            "- number of solutions: 0\n",
            "  number of solutions displayed: 0\n",
            "\n",
            "Solver status: ok\n",
            "Solver termination condition: optimal\n"
          ],
          "name": "stdout"
        }
      ]
    },
    {
      "cell_type": "code",
      "metadata": {
        "id": "Zw673KrO0OOF",
        "colab": {
          "base_uri": "https://localhost:8080/",
          "height": 544
        },
        "outputId": "677285e8-db58-4b94-f7c9-8927e8cdcc83"
      },
      "source": [
        "# display solution\n",
        "print('\\nObjective = ', model_milp.objective())\n",
        "\n",
        "print('\\nDecision Variables')\n",
        "for i in col_indices:\n",
        "  print('x[',i,'] = ', model_milp.x[i].value)\n",
        "print('\\nActive Constraints')\n",
        "model_milp.constraints.display()"
      ],
      "execution_count": null,
      "outputs": [
        {
          "output_type": "stream",
          "text": [
            "\n",
            "Objective =  33.0\n",
            "\n",
            "Decision Variables\n",
            "x[ 0 ] =  0.0\n",
            "x[ 1 ] =  1.0\n",
            "x[ 2 ] =  0.0\n",
            "x[ 3 ] =  0.0\n",
            "x[ 4 ] =  1.0\n",
            "x[ 5 ] =  1.0\n",
            "x[ 6 ] =  1.0\n",
            "x[ 7 ] =  0.0\n",
            "x[ 8 ] =  0.0\n",
            "x[ 9 ] =  1.0\n",
            "x[ 10 ] =  1.0\n",
            "\n",
            "Active Constraints\n",
            "constraints : Size=12\n",
            "    Key : Lower : Body  : Upper\n",
            "      1 :  None : -33.0 : -26.0\n",
            "      2 :  None :   6.0 :   9.0\n",
            "      3 :  None :  -6.0 :  -5.0\n",
            "      4 :  None :   1.0 :   1.0\n",
            "      5 :  None :   1.0 :   1.0\n",
            "      6 :  None :   0.0 :   1.0\n",
            "      7 :  None :   0.0 :   0.0\n",
            "      8 :  None :   1.0 :   1.0\n",
            "      9 :  None :  -1.0 :  -1.0\n",
            "     10 :  None :   1.0 :   1.0\n",
            "     11 :  None :   1.0 :   1.0\n",
            "     12 :  None :   1.0 :   1.0\n"
          ],
          "name": "stdout"
        }
      ]
    },
    {
      "cell_type": "markdown",
      "metadata": {
        "id": "hRdtZJoG1kxD"
      },
      "source": [
        "8.Now we will remove the integer restriction"
      ]
    },
    {
      "cell_type": "code",
      "metadata": {
        "id": "kKhi23xt0Z4a"
      },
      "source": [
        "model_milp = ConcreteModel()"
      ],
      "execution_count": null,
      "outputs": []
    },
    {
      "cell_type": "code",
      "metadata": {
        "id": "mWNiGLaX12ud"
      },
      "source": [
        "N = 12\n",
        "M = 12\n",
        "lb = np.array([0,0,0,0,0,0,0,0,0,0,0,0])\n",
        "ub = np.array([1,1,1,1,1,1,1,1,1,1,1,1]) "
      ],
      "execution_count": null,
      "outputs": []
    },
    {
      "cell_type": "code",
      "metadata": {
        "id": "uUtfP42F7PUe"
      },
      "source": [
        "obj_coef_c = np.array([2,3,5,4,6,6,8,8,6,4,6,9]) "
      ],
      "execution_count": null,
      "outputs": []
    },
    {
      "cell_type": "code",
      "metadata": {
        "id": "mXqbmgOX7bze",
        "colab": {
          "base_uri": "https://localhost:8080/",
          "height": 51
        },
        "outputId": "3da16875-b631-45f0-b254-2fe575999558"
      },
      "source": [
        "A=np.array([[-2,-3,-5,-4,-6,-6,-8,-8,-6,-4,-6,0],[1,1,1,1,1,1,1,1,1,1,1,0],[-1,-1,-1,-1,-1,-1,-1,-1,-1,-1,-1,0],\n",
        "           [0,0,0,0,0,1,0,1,0,0,0,0],[0,0,0,1,0,0,0,0,0,1,0,0],\n",
        "           [0,0,1,0,0,0,0,1,0,0,0,0],[0,-1,0,0,0,0,0,0,0,0,1,0],[1,1,0,0,0,0,0,0,0,0,0,0],\n",
        "           [-1,-1,0,0,0,0,0,0,0,0,0,0],[0,0,1,0,1,0,0,0,0,0,0,0],[0,0,0,0,0,0,0,0,1,0,1,0],[0,0,0,0,0,0,0,1,1,0,0,1]])\n",
        "B=np.array([-26,9,-5,1,1,1,0,1,-1,1,1,1])\n",
        "row_indices=np.arange(M)\n",
        "print(row_indices)\n",
        "col_indices = np.arange(N)\n",
        "print(col_indices)"
      ],
      "execution_count": null,
      "outputs": [
        {
          "output_type": "stream",
          "text": [
            "[ 0  1  2  3  4  5  6  7  8  9 10 11]\n",
            "[ 0  1  2  3  4  5  6  7  8  9 10 11]\n"
          ],
          "name": "stdout"
        }
      ]
    },
    {
      "cell_type": "code",
      "metadata": {
        "id": "X8k-rVXn9fhV"
      },
      "source": [
        "#here we have removed the restriction on domain which was earlier Binary\n",
        "model_milp.x = Var(col_indices)\n",
        "model_milp.constraints = ConstraintList()"
      ],
      "execution_count": null,
      "outputs": []
    },
    {
      "cell_type": "code",
      "metadata": {
        "id": "PHmDU7-f9zg1"
      },
      "source": [
        "for i in col_indices:\n",
        "  model_milp.x[i].setlb(lb[i])\n",
        "  model_milp.x[i].setub(ub[i])"
      ],
      "execution_count": null,
      "outputs": []
    },
    {
      "cell_type": "code",
      "metadata": {
        "id": "sf3Dhw-r-lKG"
      },
      "source": [
        "for i in row_indices:\n",
        "  model_milp.constraints.add(sum(A[i][j]*model_milp.x[j] for j in col_indices) <= B[i])"
      ],
      "execution_count": null,
      "outputs": []
    },
    {
      "cell_type": "code",
      "metadata": {
        "id": "ScbUrLAA-xC-",
        "colab": {
          "base_uri": "https://localhost:8080/",
          "height": 819
        },
        "outputId": "0a5c89b3-c268-42a4-855f-fb5ecc39f85b"
      },
      "source": [
        "model_milp.objective = Objective(expr =summation(obj_coef_c,model_milp.x), sense=maximize)\n",
        "model_milp.pprint() "
      ],
      "execution_count": null,
      "outputs": [
        {
          "output_type": "stream",
          "text": [
            "2 Set Declarations\n",
            "    constraints_index : Size=1, Index=None, Ordered=Insertion\n",
            "        Key  : Dimen : Domain : Size : Members\n",
            "        None :     1 :    Any :   12 : {1, 2, 3, 4, 5, 6, 7, 8, 9, 10, 11, 12}\n",
            "    x_index : Size=1, Index=None, Ordered=False\n",
            "        Key  : Dimen : Domain : Size : Members\n",
            "        None :     1 :    Any :   12 : {0, 1, 2, 3, 4, 5, 6, 7, 8, 9, 10, 11}\n",
            "\n",
            "1 Var Declarations\n",
            "    x : Size=12, Index=x_index\n",
            "        Key : Lower : Value : Upper : Fixed : Stale : Domain\n",
            "          0 :     0 :  None :     1 : False :  True :  Reals\n",
            "          1 :     0 :  None :     1 : False :  True :  Reals\n",
            "          2 :     0 :  None :     1 : False :  True :  Reals\n",
            "          3 :     0 :  None :     1 : False :  True :  Reals\n",
            "          4 :     0 :  None :     1 : False :  True :  Reals\n",
            "          5 :     0 :  None :     1 : False :  True :  Reals\n",
            "          6 :     0 :  None :     1 : False :  True :  Reals\n",
            "          7 :     0 :  None :     1 : False :  True :  Reals\n",
            "          8 :     0 :  None :     1 : False :  True :  Reals\n",
            "          9 :     0 :  None :     1 : False :  True :  Reals\n",
            "         10 :     0 :  None :     1 : False :  True :  Reals\n",
            "         11 :     0 :  None :     1 : False :  True :  Reals\n",
            "\n",
            "1 Objective Declarations\n",
            "    objective : Size=1, Index=None, Active=True\n",
            "        Key  : Active : Sense    : Expression\n",
            "        None :   True : maximize : 2*x[0] + 3*x[1] + 5*x[2] + 4*x[3] + 6*x[4] + 6*x[5] + 8*x[6] + 8*x[7] + 6*x[8] + 4*x[9] + 6*x[10] + 9*x[11]\n",
            "\n",
            "1 Constraint Declarations\n",
            "    constraints : Size=12, Index=constraints_index, Active=True\n",
            "        Key : Lower : Body                                                                                               : Upper : Active\n",
            "          1 :  -Inf : -2*x[0] - 3*x[1] - 5*x[2] - 4*x[3] - 6*x[4] - 6*x[5] - 8*x[6] - 8*x[7] - 6*x[8] - 4*x[9] - 6*x[10] : -26.0 :   True\n",
            "          2 :  -Inf :                        x[0] + x[1] + x[2] + x[3] + x[4] + x[5] + x[6] + x[7] + x[8] + x[9] + x[10] :   9.0 :   True\n",
            "          3 :  -Inf :                      - x[0] - x[1] - x[2] - x[3] - x[4] - x[5] - x[6] - x[7] - x[8] - x[9] - x[10] :  -5.0 :   True\n",
            "          4 :  -Inf :                                                                                        x[5] + x[7] :   1.0 :   True\n",
            "          5 :  -Inf :                                                                                        x[3] + x[9] :   1.0 :   True\n",
            "          6 :  -Inf :                                                                                        x[2] + x[7] :   1.0 :   True\n",
            "          7 :  -Inf :                                                                                     - x[1] + x[10] :   0.0 :   True\n",
            "          8 :  -Inf :                                                                                        x[0] + x[1] :   1.0 :   True\n",
            "          9 :  -Inf :                                                                                      - x[0] - x[1] :  -1.0 :   True\n",
            "         10 :  -Inf :                                                                                        x[2] + x[4] :   1.0 :   True\n",
            "         11 :  -Inf :                                                                                       x[8] + x[10] :   1.0 :   True\n",
            "         12 :  -Inf :                                                                                x[7] + x[8] + x[11] :   1.0 :   True\n",
            "\n",
            "5 Declarations: x_index x constraints_index constraints objective\n"
          ],
          "name": "stdout"
        }
      ]
    },
    {
      "cell_type": "code",
      "metadata": {
        "id": "jQ3JScXM_DyL"
      },
      "source": [
        "!apt-get install -y -qq coinor-cbc"
      ],
      "execution_count": null,
      "outputs": []
    },
    {
      "cell_type": "code",
      "metadata": {
        "id": "KKlLp7A8_RO4"
      },
      "source": [
        "opt_cbc = SolverFactory('cbc')"
      ],
      "execution_count": null,
      "outputs": []
    },
    {
      "cell_type": "code",
      "metadata": {
        "id": "mG6vRdfS_YLq",
        "colab": {
          "base_uri": "https://localhost:8080/",
          "height": 544
        },
        "outputId": "01a049b3-2a45-477d-8c57-20973a080938"
      },
      "source": [
        "result = opt_cbc.solve(model_milp)\n",
        "print(result)\n",
        "\n",
        "print('Solver status:', result.solver.status)\n",
        "print('Solver termination condition:',result.solver.termination_condition)"
      ],
      "execution_count": null,
      "outputs": [
        {
          "output_type": "stream",
          "text": [
            "\n",
            "Problem: \n",
            "- Name: unknown\n",
            "  Lower bound: 42.0\n",
            "  Upper bound: 42.0\n",
            "  Number of objectives: 1\n",
            "  Number of constraints: 13\n",
            "  Number of variables: 13\n",
            "  Number of nonzeros: 11\n",
            "  Sense: maximize\n",
            "Solver: \n",
            "- Status: ok\n",
            "  User time: -1.0\n",
            "  System time: 0.0\n",
            "  Wallclock time: 0.0\n",
            "  Termination condition: optimal\n",
            "  Termination message: Model was solved to optimality (subject to tolerances), and an optimal solution is available.\n",
            "  Statistics: \n",
            "    Branch and bound: \n",
            "      Number of bounded subproblems: None\n",
            "      Number of created subproblems: None\n",
            "    Black box: \n",
            "      Number of iterations: 3\n",
            "  Error rc: 0\n",
            "  Time: 0.02772974967956543\n",
            "Solution: \n",
            "- number of solutions: 0\n",
            "  number of solutions displayed: 0\n",
            "\n",
            "Solver status: ok\n",
            "Solver termination condition: optimal\n"
          ],
          "name": "stdout"
        }
      ]
    },
    {
      "cell_type": "code",
      "metadata": {
        "id": "Z4l3yJif_gqP",
        "colab": {
          "base_uri": "https://localhost:8080/",
          "height": 561
        },
        "outputId": "23273db9-95fd-46b0-8075-ff5e7caa1a28"
      },
      "source": [
        "# display solution\n",
        "print('\\nObjective = ', model_milp.objective())\n",
        "\n",
        "print('\\nDecision Variables')\n",
        "for i in col_indices:\n",
        "  print('x[',i,'] = ', model_milp.x[i].value)\n",
        "print('\\nActive Constraints')\n",
        "model_milp.constraints.display()"
      ],
      "execution_count": null,
      "outputs": [
        {
          "output_type": "stream",
          "text": [
            "\n",
            "Objective =  42.0\n",
            "\n",
            "Decision Variables\n",
            "x[ 0 ] =  0.0\n",
            "x[ 1 ] =  1.0\n",
            "x[ 2 ] =  0.0\n",
            "x[ 3 ] =  0.0\n",
            "x[ 4 ] =  1.0\n",
            "x[ 5 ] =  1.0\n",
            "x[ 6 ] =  1.0\n",
            "x[ 7 ] =  0.0\n",
            "x[ 8 ] =  0.0\n",
            "x[ 9 ] =  1.0\n",
            "x[ 10 ] =  1.0\n",
            "x[ 11 ] =  1.0\n",
            "\n",
            "Active Constraints\n",
            "constraints : Size=12\n",
            "    Key : Lower : Body  : Upper\n",
            "      1 :  None : -33.0 : -26.0\n",
            "      2 :  None :   6.0 :   9.0\n",
            "      3 :  None :  -6.0 :  -5.0\n",
            "      4 :  None :   1.0 :   1.0\n",
            "      5 :  None :   1.0 :   1.0\n",
            "      6 :  None :   0.0 :   1.0\n",
            "      7 :  None :   0.0 :   0.0\n",
            "      8 :  None :   1.0 :   1.0\n",
            "      9 :  None :  -1.0 :  -1.0\n",
            "     10 :  None :   1.0 :   1.0\n",
            "     11 :  None :   1.0 :   1.0\n",
            "     12 :  None :   1.0 :   1.0\n"
          ],
          "name": "stdout"
        }
      ]
    },
    {
      "cell_type": "code",
      "metadata": {
        "id": "HknoflZ9_yth"
      },
      "source": [
        ""
      ],
      "execution_count": null,
      "outputs": []
    }
  ]
}