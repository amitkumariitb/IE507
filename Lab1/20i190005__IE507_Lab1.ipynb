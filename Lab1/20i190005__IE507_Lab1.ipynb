{
  "nbformat": 4,
  "nbformat_minor": 0,
  "metadata": {
    "colab": {
      "name": "20i190005__IE507_Lab1.ipynb",
      "provenance": [],
      "collapsed_sections": []
    },
    "kernelspec": {
      "name": "python3",
      "display_name": "Python 3"
    }
  },
  "cells": [
    {
      "cell_type": "code",
      "metadata": {
        "id": "rwJ7u1qjmIgf",
        "colab": {
          "base_uri": "https://localhost:8080/",
          "height": 34
        },
        "outputId": "e9ff7189-3803-4def-a28a-946ac3d31f94"
      },
      "source": [
        "print('hello IE507 Lab1')"
      ],
      "execution_count": null,
      "outputs": [
        {
          "output_type": "stream",
          "text": [
            "hello IE507 Lab1\n"
          ],
          "name": "stdout"
        }
      ]
    },
    {
      "cell_type": "markdown",
      "metadata": {
        "id": "pyTffCBpmeIF"
      },
      "source": [
        "IE507_Lab1_Exercise1_Solution"
      ]
    },
    {
      "cell_type": "code",
      "metadata": {
        "id": "a5iNfj82Hgl_"
      },
      "source": [
        "!pip install -q pyomo   #pyomo package is installed to create a model"
      ],
      "execution_count": null,
      "outputs": []
    },
    {
      "cell_type": "markdown",
      "metadata": {
        "id": "G035RQQWH-Y6"
      },
      "source": [
        "Here we are interested in solving the following optimization problem:\n",
        "min 2x1 + 15x2 - 4x3 - 6x4 + 7x5 - 9x6 - 1.6x7 .\n",
        "s.t. x1 +x2 +...+x7 = 200 ,\n",
        "x1 + x2 >= 10,\n",
        "4x3 + 2x6 + 3x7<=150,\n",
        "10x1 - x6 + 3x5 >= 20,\n",
        "x3 - x5 + 3x7 >= 10,\n",
        "x1>=0,\n",
        "x2>=12,\n",
        "x3>= -10,\n",
        "x4>=8,\n",
        "x5>=9,\n",
        "x6>= -1,\n",
        "x7>=0 .\n",
        "\n",
        "\n",
        "\n"
      ]
    },
    {
      "cell_type": "code",
      "metadata": {
        "id": "TSvQjqYIOEl3"
      },
      "source": [
        "from pyomo.environ import*"
      ],
      "execution_count": null,
      "outputs": []
    },
    {
      "cell_type": "code",
      "metadata": {
        "id": "-nwHaKPDNNVA"
      },
      "source": [
        "#create a model\n",
        "model = ConcreteModel()"
      ],
      "execution_count": null,
      "outputs": []
    },
    {
      "cell_type": "code",
      "metadata": {
        "id": "YmHwJWwYMwzT"
      },
      "source": [
        "#declaration of decision variables.\n",
        "model.x1=Var(domain=Reals)\n",
        "model.x2=Var(domain=Reals)\n",
        "model.x3=Var(domain=Reals)\n",
        "model.x4=Var(domain=Reals)\n",
        "model.x5=Var(domain=Reals)\n",
        "model.x6=Var(domain=Reals)\n",
        "model.x7=Var(domain=Reals)"
      ],
      "execution_count": null,
      "outputs": []
    },
    {
      "cell_type": "code",
      "metadata": {
        "id": "B2U-sxWIPI8L"
      },
      "source": [
        "#objective declaration\n",
        "model.cost= Objective(expr=2*model.x1 + 15*model.x2 - 4*model.x3 - 6*model.x4 + 7*model.x5 - 9*model.x6 - 1.6*model.x7,sense=minimize)"
      ],
      "execution_count": null,
      "outputs": []
    },
    {
      "cell_type": "code",
      "metadata": {
        "id": "2Eolt4b0QVYJ"
      },
      "source": [
        "#constraints declaration\n",
        "model.constr1 = Constraint(expr= model.x1 +model.x2 +model.x3+model.x4+model.x5+model.x6+model.x7 == 200)\n",
        "model.constr2 = Constraint(expr= model.x1 +model.x2>=10)\n",
        "model.constr3 = Constraint(expr= 4*model.x3 + 2*model.x6 + 3*model.x7<=150)\n",
        "model.constr4 = Constraint(expr= 10*model.x1 - model.x6 + 3*model.x5 >= 20)\n",
        "model.constr5 = Constraint(expr= model.x3 - model.x5 + 3*model.x7 >= 10)\n",
        "model.constr6 = Constraint(expr= model.x1>=0)\n",
        "model.constr7 = Constraint(expr= model.x2>=12)\n",
        "model.constr8 = Constraint(expr= model.x3>=-10)\n",
        "model.constr9 = Constraint(expr= model.x4>=8)\n",
        "model.constr10 = Constraint(expr= model.x5>=9)\n",
        "model.constr11 = Constraint(expr= model.x6>=-1)\n",
        "model.constr12 = Constraint(expr= model.x7>=0)\n"
      ],
      "execution_count": null,
      "outputs": []
    },
    {
      "cell_type": "code",
      "metadata": {
        "id": "HUv29zSUWHS-",
        "colab": {
          "base_uri": "https://localhost:8080/",
          "height": 1000
        },
        "outputId": "681d7fa2-8e03-4e1f-e28d-7b98cb0cfc02"
      },
      "source": [
        "model.pprint()"
      ],
      "execution_count": null,
      "outputs": [
        {
          "output_type": "stream",
          "text": [
            "7 Var Declarations\n",
            "    x1 : Size=1, Index=None\n",
            "        Key  : Lower : Value : Upper : Fixed : Stale : Domain\n",
            "        None :  None :  None :  None : False :  True :  Reals\n",
            "    x2 : Size=1, Index=None\n",
            "        Key  : Lower : Value : Upper : Fixed : Stale : Domain\n",
            "        None :  None :  None :  None : False :  True :  Reals\n",
            "    x3 : Size=1, Index=None\n",
            "        Key  : Lower : Value : Upper : Fixed : Stale : Domain\n",
            "        None :  None :  None :  None : False :  True :  Reals\n",
            "    x4 : Size=1, Index=None\n",
            "        Key  : Lower : Value : Upper : Fixed : Stale : Domain\n",
            "        None :  None :  None :  None : False :  True :  Reals\n",
            "    x5 : Size=1, Index=None\n",
            "        Key  : Lower : Value : Upper : Fixed : Stale : Domain\n",
            "        None :  None :  None :  None : False :  True :  Reals\n",
            "    x6 : Size=1, Index=None\n",
            "        Key  : Lower : Value : Upper : Fixed : Stale : Domain\n",
            "        None :  None :  None :  None : False :  True :  Reals\n",
            "    x7 : Size=1, Index=None\n",
            "        Key  : Lower : Value : Upper : Fixed : Stale : Domain\n",
            "        None :  None :  None :  None : False :  True :  Reals\n",
            "\n",
            "1 Objective Declarations\n",
            "    cost : Size=1, Index=None, Active=True\n",
            "        Key  : Active : Sense    : Expression\n",
            "        None :   True : minimize : 2*x1 + 15*x2 - 4*x3 - 6*x4 + 7*x5 - 9*x6 - 1.6*x7\n",
            "\n",
            "12 Constraint Declarations\n",
            "    constr1 : Size=1, Index=None, Active=True\n",
            "        Key  : Lower : Body                             : Upper : Active\n",
            "        None : 200.0 : x1 + x2 + x3 + x4 + x5 + x6 + x7 : 200.0 :   True\n",
            "    constr10 : Size=1, Index=None, Active=True\n",
            "        Key  : Lower : Body : Upper : Active\n",
            "        None :   9.0 :   x5 :  +Inf :   True\n",
            "    constr11 : Size=1, Index=None, Active=True\n",
            "        Key  : Lower : Body : Upper : Active\n",
            "        None :  -1.0 :   x6 :  +Inf :   True\n",
            "    constr12 : Size=1, Index=None, Active=True\n",
            "        Key  : Lower : Body : Upper : Active\n",
            "        None :   0.0 :   x7 :  +Inf :   True\n",
            "    constr2 : Size=1, Index=None, Active=True\n",
            "        Key  : Lower : Body    : Upper : Active\n",
            "        None :  10.0 : x1 + x2 :  +Inf :   True\n",
            "    constr3 : Size=1, Index=None, Active=True\n",
            "        Key  : Lower : Body               : Upper : Active\n",
            "        None :  -Inf : 4*x3 + 2*x6 + 3*x7 : 150.0 :   True\n",
            "    constr4 : Size=1, Index=None, Active=True\n",
            "        Key  : Lower : Body              : Upper : Active\n",
            "        None :  20.0 : 10*x1 - x6 + 3*x5 :  +Inf :   True\n",
            "    constr5 : Size=1, Index=None, Active=True\n",
            "        Key  : Lower : Body           : Upper : Active\n",
            "        None :  10.0 : x3 - x5 + 3*x7 :  +Inf :   True\n",
            "    constr6 : Size=1, Index=None, Active=True\n",
            "        Key  : Lower : Body : Upper : Active\n",
            "        None :   0.0 :   x1 :  +Inf :   True\n",
            "    constr7 : Size=1, Index=None, Active=True\n",
            "        Key  : Lower : Body : Upper : Active\n",
            "        None :  12.0 :   x2 :  +Inf :   True\n",
            "    constr8 : Size=1, Index=None, Active=True\n",
            "        Key  : Lower : Body : Upper : Active\n",
            "        None : -10.0 :   x3 :  +Inf :   True\n",
            "    constr9 : Size=1, Index=None, Active=True\n",
            "        Key  : Lower : Body : Upper : Active\n",
            "        None :   8.0 :   x4 :  +Inf :   True\n",
            "\n",
            "20 Declarations: x1 x2 x3 x4 x5 x6 x7 cost constr1 constr2 constr3 constr4 constr5 constr6 constr7 constr8 constr9 constr10 constr11 constr12\n"
          ],
          "name": "stdout"
        }
      ]
    },
    {
      "cell_type": "code",
      "metadata": {
        "id": "JLwzUcHoWYCj"
      },
      "source": [
        "#install GLPK package to solve the problem (pyomo allows us to create model only).\n",
        "!apt-get install -y -qq glpk-utils "
      ],
      "execution_count": null,
      "outputs": []
    },
    {
      "cell_type": "code",
      "metadata": {
        "id": "HahdN4aiW4Mv",
        "colab": {
          "base_uri": "https://localhost:8080/",
          "height": 578
        },
        "outputId": "6e7cfdf3-af62-4d7d-a05d-08fc012f46f3"
      },
      "source": [
        "#access the GLPK package\n",
        "SolverFactory('glpk',executable='/usr/bin/glpsol').solve(model).write()"
      ],
      "execution_count": null,
      "outputs": [
        {
          "output_type": "stream",
          "text": [
            "# ==========================================================\n",
            "# = Solver Results                                         =\n",
            "# ==========================================================\n",
            "# ----------------------------------------------------------\n",
            "#   Problem Information\n",
            "# ----------------------------------------------------------\n",
            "Problem: \n",
            "- Name: unknown\n",
            "  Lower bound: -991.166666666667\n",
            "  Upper bound: -991.166666666667\n",
            "  Number of objectives: 1\n",
            "  Number of constraints: 13\n",
            "  Number of variables: 8\n",
            "  Number of nonzeros: 26\n",
            "  Sense: minimize\n",
            "# ----------------------------------------------------------\n",
            "#   Solver Information\n",
            "# ----------------------------------------------------------\n",
            "Solver: \n",
            "- Status: ok\n",
            "  Termination condition: optimal\n",
            "  Statistics: \n",
            "    Branch and bound: \n",
            "      Number of bounded subproblems: 0\n",
            "      Number of created subproblems: 0\n",
            "  Error rc: 0\n",
            "  Time: 0.012384891510009766\n",
            "# ----------------------------------------------------------\n",
            "#   Solution Information\n",
            "# ----------------------------------------------------------\n",
            "Solution: \n",
            "- number of solutions: 0\n",
            "  number of solutions displayed: 0\n"
          ],
          "name": "stdout"
        }
      ]
    },
    {
      "cell_type": "code",
      "metadata": {
        "id": "XrnNqdrIdc-X",
        "colab": {
          "base_uri": "https://localhost:8080/",
          "height": 425
        },
        "outputId": "8d3f9151-edaa-4ca8-cec0-f42076289dfc"
      },
      "source": [
        "#Display the solution to make sure whether it has actually solved it or not!!\n",
        "print('Cost = ',model.cost())\n",
        "print(\"\\nDecision variables\")\n",
        "print('x1 = ',model.x1())\n",
        "print('x2 = ',model.x2())\n",
        "print('x3 = ',model.x3())\n",
        "print('x4 = ',model.x4())\n",
        "print('x5 = ',model.x5())\n",
        "print('x6 = ',model.x6())\n",
        "print('x7 = ',model.x7())\n",
        "print('\\nConstraints')\n",
        "print('Constraint 1 = ',model.constr1())\n",
        "print('Constraint 2 = ',model.constr2())\n",
        "print('Constraint 3 = ',model.constr3())\n",
        "print('Constraint 4 = ',model.constr4())\n",
        "print('Constraint 5 = ',model.constr5())\n",
        "print('Constraint 6 = ',model.constr6())\n",
        "print('Constraint 7 = ',model.constr7())\n",
        "print('Constraint 8 = ',model.constr8())\n",
        "print('Constraint 9 = ',model.constr9())\n",
        "print('Constraint 10 = ',model.constr10())\n",
        "print('Constraint 11 = ',model.constr11())\n",
        "print('Constraint 12 = ',model.constr12())"
      ],
      "execution_count": null,
      "outputs": [
        {
          "output_type": "stream",
          "text": [
            "Cost =  -991.1666666666665\n",
            "\n",
            "Decision variables\n",
            "x1 =  7.35\n",
            "x2 =  12.0\n",
            "x3 =  -10.0\n",
            "x4 =  91.4833333333333\n",
            "x5 =  9.0\n",
            "x6 =  80.5\n",
            "x7 =  9.66666666666667\n",
            "\n",
            "Constraints\n",
            "Constraint 1 =  199.99999999999997\n",
            "Constraint 2 =  19.35\n",
            "Constraint 3 =  150.0\n",
            "Constraint 4 =  20.0\n",
            "Constraint 5 =  10.000000000000007\n",
            "Constraint 6 =  7.35\n",
            "Constraint 7 =  12.0\n",
            "Constraint 8 =  -10.0\n",
            "Constraint 9 =  91.4833333333333\n",
            "Constraint 10 =  9.0\n",
            "Constraint 11 =  80.5\n",
            "Constraint 12 =  9.66666666666667\n"
          ],
          "name": "stdout"
        }
      ]
    },
    {
      "cell_type": "markdown",
      "metadata": {
        "id": "PsU5VCb5lpzb"
      },
      "source": [
        "IE507_Lab1_Exercise2_Solution."
      ]
    },
    {
      "cell_type": "code",
      "metadata": {
        "id": "W9eFcSW0yvB1",
        "colab": {
          "base_uri": "https://localhost:8080/",
          "height": 85
        },
        "outputId": "f3043db3-244f-4aed-da05-599e16cd5b07"
      },
      "source": [
        "!pip install -q pyomo "
      ],
      "execution_count": null,
      "outputs": [
        {
          "output_type": "stream",
          "text": [
            "\u001b[K     |████████████████████████████████| 9.0MB 2.3MB/s \n",
            "\u001b[K     |████████████████████████████████| 256kB 49.1MB/s \n",
            "\u001b[K     |████████████████████████████████| 51kB 6.4MB/s \n",
            "\u001b[K     |████████████████████████████████| 163kB 50.3MB/s \n",
            "\u001b[?25h"
          ],
          "name": "stdout"
        }
      ]
    },
    {
      "cell_type": "markdown",
      "metadata": {
        "id": "hIRCN3yGz9gY"
      },
      "source": [
        "The optimization problem is:\n",
        "max 0.043x1 + 0.027x2 + 0.025x3 + 0.022x4 + 0.045x5 - 0.0275y .\n",
        "s.t. x1 + x2 + x3 + x4 + x5 - y <= 100 ,\n",
        "x2 + x3 + x4 >= 60,\n",
        "(2x1 + 2x2 + x3 + x4 + 5x5)/(x1 + x2 + x3 + x4 + x5)<=1.4 ,\n",
        "(9x1 + 15x2 + 4x3 + 3x4 + 2x5)/(x1 + x2 + x3 + x5)<=5 ,\n",
        "x1>=0, x2>=0, x3>=0, x4>=0, x5 >= 0 ,\n",
        "0<=y<=5 .\n",
        "\n",
        "\n"
      ]
    },
    {
      "cell_type": "code",
      "metadata": {
        "id": "BjXHtTSCKCy3"
      },
      "source": [
        "from pyomo.environ import*"
      ],
      "execution_count": null,
      "outputs": []
    },
    {
      "cell_type": "code",
      "metadata": {
        "id": "IwFm5INf4AiF"
      },
      "source": [
        "#creating model \n",
        "model2=ConcreteModel()"
      ],
      "execution_count": null,
      "outputs": []
    },
    {
      "cell_type": "code",
      "metadata": {
        "id": "wswivcRw4w92"
      },
      "source": [
        "#declaration of decision variables.\n",
        "model2.x1=Var(domain=Reals)\n",
        "model2.x2=Var(domain=Reals)\n",
        "model2.x3=Var(domain=Reals)\n",
        "model2.x4=Var(domain=Reals)\n",
        "model2.x5=Var(domain=Reals)\n",
        "model2.y=Var(domain=Reals)\n",
        "\n"
      ],
      "execution_count": null,
      "outputs": []
    },
    {
      "cell_type": "code",
      "metadata": {
        "id": "KdP9G1IR5S6K"
      },
      "source": [
        "#objective declaration\n",
        "model2.length= Objective(expr= 0.043*model2.x1 + 0.027*model2.x2 + 0.025*model2.x3 + 0.022*model2.x4 + 0.045*model2.x5 - 0.0275*model2.y, sense=maximize)"
      ],
      "execution_count": null,
      "outputs": []
    },
    {
      "cell_type": "code",
      "metadata": {
        "id": "mUEVxhtx8ZIR"
      },
      "source": [
        "#constraints declaration\n",
        "model2.constr1 = Constraint(expr= model2.x1 + model2.x2 + model2.x3 + model2.x4 + model2.x5 - model2.y <= 100)\n",
        "model2.constr2 = Constraint(expr=  model2.x2 + model2.x3 + model2.x4 >= 60)\n",
        "model2.constr3 = Constraint(expr= 0.6*model2.x1+0.6*model2.x2-0.4*model2.x3-0.4*model2.x4+3.6*model2.x5<=0) #expr obtained after simplificatio\n",
        "model2.constr4 = Constraint(expr= 4*model2.x1+10*model2.x2-model2.x3+3*model2.x4-3*model2.x5<=0) #expr obtained after simplification\n",
        "model2.constr5 = Constraint(expr= model2.x1>=0)\n",
        "model2.constr6 = Constraint(expr= model2.x2>=0)\n",
        "model2.constr7 = Constraint(expr= model2.x3>=0)\n",
        "model2.constr8= Constraint(expr= model2.x4>=0)\n",
        "model2.constr9 = Constraint(expr= model2.x5>=0)\n",
        "model2.constr10 = Constraint(expr= 0<=model2.y<=5)\n"
      ],
      "execution_count": null,
      "outputs": []
    },
    {
      "cell_type": "code",
      "metadata": {
        "id": "mdhn4RQwA3G8",
        "colab": {
          "base_uri": "https://localhost:8080/",
          "height": 1000
        },
        "outputId": "9c5ab787-9d89-4447-838b-768e46effdeb"
      },
      "source": [
        "model2.pprint()"
      ],
      "execution_count": null,
      "outputs": [
        {
          "output_type": "stream",
          "text": [
            "6 Var Declarations\n",
            "    x1 : Size=1, Index=None\n",
            "        Key  : Lower : Value : Upper : Fixed : Stale : Domain\n",
            "        None :  None :  None :  None : False :  True :  Reals\n",
            "    x2 : Size=1, Index=None\n",
            "        Key  : Lower : Value : Upper : Fixed : Stale : Domain\n",
            "        None :  None :  None :  None : False :  True :  Reals\n",
            "    x3 : Size=1, Index=None\n",
            "        Key  : Lower : Value : Upper : Fixed : Stale : Domain\n",
            "        None :  None :  None :  None : False :  True :  Reals\n",
            "    x4 : Size=1, Index=None\n",
            "        Key  : Lower : Value : Upper : Fixed : Stale : Domain\n",
            "        None :  None :  None :  None : False :  True :  Reals\n",
            "    x5 : Size=1, Index=None\n",
            "        Key  : Lower : Value : Upper : Fixed : Stale : Domain\n",
            "        None :  None :  None :  None : False :  True :  Reals\n",
            "    y : Size=1, Index=None\n",
            "        Key  : Lower : Value : Upper : Fixed : Stale : Domain\n",
            "        None :  None :  None :  None : False :  True :  Reals\n",
            "\n",
            "1 Objective Declarations\n",
            "    length : Size=1, Index=None, Active=True\n",
            "        Key  : Active : Sense    : Expression\n",
            "        None :   True : maximize : 0.043*x1 + 0.027*x2 + 0.025*x3 + 0.022*x4 + 0.045*x5 - 0.0275*y\n",
            "\n",
            "10 Constraint Declarations\n",
            "    constr1 : Size=1, Index=None, Active=True\n",
            "        Key  : Lower : Body                       : Upper : Active\n",
            "        None :  -Inf : x1 + x2 + x3 + x4 + x5 - y : 100.0 :   True\n",
            "    constr10 : Size=1, Index=None, Active=True\n",
            "        Key  : Lower : Body : Upper : Active\n",
            "        None :   0.0 :    y :   5.0 :   True\n",
            "    constr2 : Size=1, Index=None, Active=True\n",
            "        Key  : Lower : Body         : Upper : Active\n",
            "        None :  60.0 : x2 + x3 + x4 :  +Inf :   True\n",
            "    constr3 : Size=1, Index=None, Active=True\n",
            "        Key  : Lower : Body                                       : Upper : Active\n",
            "        None :  -Inf : 0.6*x1 + 0.6*x2 - 0.4*x3 - 0.4*x4 + 3.6*x5 :   0.0 :   True\n",
            "    constr4 : Size=1, Index=None, Active=True\n",
            "        Key  : Lower : Body                            : Upper : Active\n",
            "        None :  -Inf : 4*x1 + 10*x2 - x3 + 3*x4 - 3*x5 :   0.0 :   True\n",
            "    constr5 : Size=1, Index=None, Active=True\n",
            "        Key  : Lower : Body : Upper : Active\n",
            "        None :   0.0 :   x1 :  +Inf :   True\n",
            "    constr6 : Size=1, Index=None, Active=True\n",
            "        Key  : Lower : Body : Upper : Active\n",
            "        None :   0.0 :   x2 :  +Inf :   True\n",
            "    constr7 : Size=1, Index=None, Active=True\n",
            "        Key  : Lower : Body : Upper : Active\n",
            "        None :   0.0 :   x3 :  +Inf :   True\n",
            "    constr8 : Size=1, Index=None, Active=True\n",
            "        Key  : Lower : Body : Upper : Active\n",
            "        None :   0.0 :   x4 :  +Inf :   True\n",
            "    constr9 : Size=1, Index=None, Active=True\n",
            "        Key  : Lower : Body : Upper : Active\n",
            "        None :   0.0 :   x5 :  +Inf :   True\n",
            "\n",
            "17 Declarations: x1 x2 x3 x4 x5 y length constr1 constr2 constr3 constr4 constr5 constr6 constr7 constr8 constr9 constr10\n"
          ],
          "name": "stdout"
        }
      ]
    },
    {
      "cell_type": "code",
      "metadata": {
        "id": "WSMovx5-DxNU"
      },
      "source": [
        "#install GLPK package to solve the problem (pyomo allows us to create model only).\n",
        "!apt-get install -y -qq glpk-utils "
      ],
      "execution_count": null,
      "outputs": []
    },
    {
      "cell_type": "code",
      "metadata": {
        "id": "DAs9WiSKOtMO",
        "colab": {
          "base_uri": "https://localhost:8080/",
          "height": 578
        },
        "outputId": "26c23a73-58e4-4d2a-f293-f95f1130c762"
      },
      "source": [
        "#access the GLPK package\n",
        "SolverFactory('glpk',executable='/usr/bin/glpsol').solve(model2).write()"
      ],
      "execution_count": null,
      "outputs": [
        {
          "output_type": "stream",
          "text": [
            "# ==========================================================\n",
            "# = Solver Results                                         =\n",
            "# ==========================================================\n",
            "# ----------------------------------------------------------\n",
            "#   Problem Information\n",
            "# ----------------------------------------------------------\n",
            "Problem: \n",
            "- Name: unknown\n",
            "  Lower bound: 2.99531818181818\n",
            "  Upper bound: 2.99531818181818\n",
            "  Number of objectives: 1\n",
            "  Number of constraints: 12\n",
            "  Number of variables: 7\n",
            "  Number of nonzeros: 27\n",
            "  Sense: maximize\n",
            "# ----------------------------------------------------------\n",
            "#   Solver Information\n",
            "# ----------------------------------------------------------\n",
            "Solver: \n",
            "- Status: ok\n",
            "  Termination condition: optimal\n",
            "  Statistics: \n",
            "    Branch and bound: \n",
            "      Number of bounded subproblems: 0\n",
            "      Number of created subproblems: 0\n",
            "  Error rc: 0\n",
            "  Time: 0.011171817779541016\n",
            "# ----------------------------------------------------------\n",
            "#   Solution Information\n",
            "# ----------------------------------------------------------\n",
            "Solution: \n",
            "- number of solutions: 0\n",
            "  number of solutions displayed: 0\n"
          ],
          "name": "stdout"
        }
      ]
    },
    {
      "cell_type": "code",
      "metadata": {
        "id": "uwgIwj8_La8j",
        "colab": {
          "base_uri": "https://localhost:8080/",
          "height": 374
        },
        "outputId": "8fd32ef2-7559-49ba-bc0d-e2c1ee4328ff"
      },
      "source": [
        "#Display the solution to make sure whether it has actually solved it or not!!\n",
        "print('Length = ',model2.length())\n",
        "print(\"\\nDecision variables:\")\n",
        "print('x1 = ',model2.x1())\n",
        "print('x2 = ',model2.x2())\n",
        "print('x3 = ',model2.x3())\n",
        "print('x4 = ',model2.x4())\n",
        "print('x5 = ',model2.x5())\n",
        "print('y = ',model2.y())\n",
        "\n",
        "print('\\nConstraints:')\n",
        "print('Constraint 1 = ',model2.constr1())\n",
        "print('Constraint 2 = ',model2.constr2())\n",
        "print('Constraint 3 = ',model2.constr3())\n",
        "print('Constraint 4 = ',model2.constr4())\n",
        "print('Constraint 5 = ',model2.constr5())\n",
        "print('Constraint 6 = ',model2.constr6())\n",
        "print('Constraint 7 = ',model2.constr7())\n",
        "print('Constraint 8 = ',model2.constr8())\n",
        "print('Constraint 9 = ',model2.constr9())\n",
        "print('Constraint 10 = ',model2.constr10())"
      ],
      "execution_count": null,
      "outputs": [
        {
          "output_type": "stream",
          "text": [
            "Length =  2.995318181818181\n",
            "\n",
            "Decision variables:\n",
            "x1 =  22.9090909090909\n",
            "x2 =  0.0\n",
            "x3 =  77.3181818181818\n",
            "x4 =  0.0\n",
            "x5 =  4.77272727272727\n",
            "y =  5.0\n",
            "\n",
            "Constraints:\n",
            "Constraint 1 =  99.99999999999996\n",
            "Constraint 2 =  77.3181818181818\n",
            "Constraint 3 =  -1.0658141036401503e-14\n",
            "Constraint 4 =  -1.0658141036401503e-14\n",
            "Constraint 5 =  22.9090909090909\n",
            "Constraint 6 =  0.0\n",
            "Constraint 7 =  77.3181818181818\n",
            "Constraint 8 =  0.0\n",
            "Constraint 9 =  4.77272727272727\n",
            "Constraint 10 =  5.0\n"
          ],
          "name": "stdout"
        }
      ]
    },
    {
      "cell_type": "markdown",
      "metadata": {
        "id": "Xu8RjkW02JYG"
      },
      "source": [
        "IE507_Lab1_Exercise3_Solution.(options 1 and 3)"
      ]
    },
    {
      "cell_type": "code",
      "metadata": {
        "id": "Dbjs4kph-qIM"
      },
      "source": [
        "!pip install -q pyomo"
      ],
      "execution_count": null,
      "outputs": []
    },
    {
      "cell_type": "markdown",
      "metadata": {
        "id": "PD94Q6MQAWWW"
      },
      "source": [
        "optimzation problem is:\n",
        "min 45p + 80q .\n",
        "s.t. 1.25p +0.75q <= 350,\n",
        "p + q >= 160 ,\n",
        "p >= 45,\n",
        "q >=29,\n",
        "where p= product P production amount in kgs.\n",
        "and q= product Q production amount in kgs."
      ]
    },
    {
      "cell_type": "code",
      "metadata": {
        "id": "Xhw1bUd6BaO3"
      },
      "source": [
        "from pyomo.environ import*"
      ],
      "execution_count": null,
      "outputs": []
    },
    {
      "cell_type": "code",
      "metadata": {
        "id": "_ddyM-EiBsnP"
      },
      "source": [
        "#create model\n",
        "model3=ConcreteModel()"
      ],
      "execution_count": null,
      "outputs": []
    },
    {
      "cell_type": "code",
      "metadata": {
        "id": "ofCEwMJXCFl3"
      },
      "source": [
        "#declaration of decision variables\n",
        "model3.p=Var(domain=Reals)\n",
        "model3.q=Var(domain=Reals)\n"
      ],
      "execution_count": null,
      "outputs": []
    },
    {
      "cell_type": "code",
      "metadata": {
        "id": "0YphOp20Ce8p"
      },
      "source": [
        "#declare objective\n",
        "model3.cost=Objective(expr= 45*model3.p + 80*model3.q,sense=minimize)"
      ],
      "execution_count": null,
      "outputs": []
    },
    {
      "cell_type": "code",
      "metadata": {
        "id": "noztbJmNDLu-"
      },
      "source": [
        "#constraints declaration\n",
        "model3.constr1=Constraint(expr=1.25*model3.p + 0.75*model3.q <= 350)\n",
        "model3.constr2=Constraint(expr=model3.p + model3.q>=160)\n",
        "model3.constr3=Constraint(expr=model3.p>=45)\n",
        "model3.constr4=Constraint(expr=model3.q>=29)"
      ],
      "execution_count": null,
      "outputs": []
    },
    {
      "cell_type": "code",
      "metadata": {
        "id": "Ihg1vpnAFzRt",
        "colab": {
          "base_uri": "https://localhost:8080/",
          "height": 493
        },
        "outputId": "1ec6481d-b59b-4dc0-81e6-587ad147e7ac"
      },
      "source": [
        "model3.pprint()"
      ],
      "execution_count": null,
      "outputs": [
        {
          "output_type": "stream",
          "text": [
            "2 Var Declarations\n",
            "    p : Size=1, Index=None\n",
            "        Key  : Lower : Value : Upper : Fixed : Stale : Domain\n",
            "        None :  None :  None :  None : False :  True :  Reals\n",
            "    q : Size=1, Index=None\n",
            "        Key  : Lower : Value : Upper : Fixed : Stale : Domain\n",
            "        None :  None :  None :  None : False :  True :  Reals\n",
            "\n",
            "1 Objective Declarations\n",
            "    cost : Size=1, Index=None, Active=True\n",
            "        Key  : Active : Sense    : Expression\n",
            "        None :   True : minimize : 45*p + 80*q\n",
            "\n",
            "4 Constraint Declarations\n",
            "    constr1 : Size=1, Index=None, Active=True\n",
            "        Key  : Lower : Body            : Upper : Active\n",
            "        None :  -Inf : 1.25*p + 0.75*q : 350.0 :   True\n",
            "    constr2 : Size=1, Index=None, Active=True\n",
            "        Key  : Lower : Body  : Upper : Active\n",
            "        None : 160.0 : p + q :  +Inf :   True\n",
            "    constr3 : Size=1, Index=None, Active=True\n",
            "        Key  : Lower : Body : Upper : Active\n",
            "        None :  45.0 :    p :  +Inf :   True\n",
            "    constr4 : Size=1, Index=None, Active=True\n",
            "        Key  : Lower : Body : Upper : Active\n",
            "        None :  29.0 :    q :  +Inf :   True\n",
            "\n",
            "7 Declarations: p q cost constr1 constr2 constr3 constr4\n"
          ],
          "name": "stdout"
        }
      ]
    },
    {
      "cell_type": "code",
      "metadata": {
        "id": "2K-LNkWaGTVj"
      },
      "source": [
        "#install GLPK package to solve the problem (pyomo allows us to create model only).\n",
        "!apt-get install -y -qq glpk-utils "
      ],
      "execution_count": null,
      "outputs": []
    },
    {
      "cell_type": "code",
      "metadata": {
        "id": "ur4XcwcsGhvu",
        "colab": {
          "base_uri": "https://localhost:8080/",
          "height": 578
        },
        "outputId": "68d9ae2a-747b-4fa1-8e9c-e46db5cf2b05"
      },
      "source": [
        "#access the GLPK package\n",
        "SolverFactory('glpk',executable='/usr/bin/glpsol').solve(model3).write()"
      ],
      "execution_count": null,
      "outputs": [
        {
          "output_type": "stream",
          "text": [
            "# ==========================================================\n",
            "# = Solver Results                                         =\n",
            "# ==========================================================\n",
            "# ----------------------------------------------------------\n",
            "#   Problem Information\n",
            "# ----------------------------------------------------------\n",
            "Problem: \n",
            "- Name: unknown\n",
            "  Lower bound: 8215.0\n",
            "  Upper bound: 8215.0\n",
            "  Number of objectives: 1\n",
            "  Number of constraints: 5\n",
            "  Number of variables: 3\n",
            "  Number of nonzeros: 7\n",
            "  Sense: minimize\n",
            "# ----------------------------------------------------------\n",
            "#   Solver Information\n",
            "# ----------------------------------------------------------\n",
            "Solver: \n",
            "- Status: ok\n",
            "  Termination condition: optimal\n",
            "  Statistics: \n",
            "    Branch and bound: \n",
            "      Number of bounded subproblems: 0\n",
            "      Number of created subproblems: 0\n",
            "  Error rc: 0\n",
            "  Time: 0.014662504196166992\n",
            "# ----------------------------------------------------------\n",
            "#   Solution Information\n",
            "# ----------------------------------------------------------\n",
            "Solution: \n",
            "- number of solutions: 0\n",
            "  number of solutions displayed: 0\n"
          ],
          "name": "stdout"
        }
      ]
    },
    {
      "cell_type": "code",
      "metadata": {
        "id": "fCqajJDTG19R",
        "colab": {
          "base_uri": "https://localhost:8080/",
          "height": 204
        },
        "outputId": "37e30708-9178-4bcf-d7c6-5a57ac5f83be"
      },
      "source": [
        "#Display the solution!!\n",
        "print('Cost = ',model3.cost())\n",
        "print(\"\\nDecision variables:\")\n",
        "print('p = ',model3.p())\n",
        "print('q = ',model3.q())\n",
        "\n",
        "print('\\nConstraints:')\n",
        "print('Constraint 1 = ',model3.constr1())\n",
        "print('Constraint 2 = ',model3.constr2())\n",
        "print('Constraint 3 = ',model3.constr3())\n",
        "print('Constraint 4 = ',model3.constr4())"
      ],
      "execution_count": null,
      "outputs": [
        {
          "output_type": "stream",
          "text": [
            "Cost =  8215.0\n",
            "\n",
            "Decision variables:\n",
            "p =  131.0\n",
            "q =  29.0\n",
            "\n",
            "Constraints:\n",
            "Constraint 1 =  185.5\n",
            "Constraint 2 =  160.0\n",
            "Constraint 3 =  131.0\n",
            "Constraint 4 =  29.0\n"
          ],
          "name": "stdout"
        }
      ]
    },
    {
      "cell_type": "markdown",
      "metadata": {
        "id": "shI38dtXkY8v"
      },
      "source": [
        "IE507_Lab1_Exercise3_Solution.(options 4 and 6)"
      ]
    },
    {
      "cell_type": "code",
      "metadata": {
        "id": "2vFO7EPwLRev"
      },
      "source": [
        "!pip install -q pyomo "
      ],
      "execution_count": null,
      "outputs": []
    },
    {
      "cell_type": "markdown",
      "metadata": {
        "id": "jSs-h55uMYxx"
      },
      "source": [
        "optimzation problem is: min 45p + 80q . s.t. 1.25p +0.75q <= 350, p + q >= 160 , p >= (45+95), q >=(29+75), where p= product P production amount in kgs. and q= product Q production amount in kgs"
      ]
    },
    {
      "cell_type": "code",
      "metadata": {
        "id": "9vkXnJeDM934"
      },
      "source": [
        "from pyomo.environ import* "
      ],
      "execution_count": null,
      "outputs": []
    },
    {
      "cell_type": "code",
      "metadata": {
        "id": "hvdyeohVNNuJ"
      },
      "source": [
        "model4=ConcreteModel()"
      ],
      "execution_count": null,
      "outputs": []
    },
    {
      "cell_type": "code",
      "metadata": {
        "id": "_Hq5BFG4NY9b"
      },
      "source": [
        "#declare decision variables\n",
        "model4.p=Var(domain=Reals)\n",
        "model4.q=Var(domain=Reals)"
      ],
      "execution_count": null,
      "outputs": []
    },
    {
      "cell_type": "code",
      "metadata": {
        "id": "wytwrkLNN2yB"
      },
      "source": [
        "#declare objective\n",
        "model4.cost=Objective(expr= 45*model4.p + 80*model4.q,sense=minimize)"
      ],
      "execution_count": null,
      "outputs": []
    },
    {
      "cell_type": "code",
      "metadata": {
        "id": "5PFOS0SrOgB_"
      },
      "source": [
        "#constraints declaration\n",
        "model4.constr1=Constraint(expr=1.25*model4.p + 0.75*model4.q <= 350)\n",
        "model4.constr2=Constraint(expr=model4.p + model4.q>=160)\n",
        "model4.constr3=Constraint(expr=model4.p>=140)\n",
        "model4.constr4=Constraint(expr=model4.q>=104)"
      ],
      "execution_count": null,
      "outputs": []
    },
    {
      "cell_type": "code",
      "metadata": {
        "id": "1MkE90NsPCFA",
        "colab": {
          "base_uri": "https://localhost:8080/",
          "height": 493
        },
        "outputId": "80c26a0f-1faf-4183-859a-4799a911c167"
      },
      "source": [
        "model4.pprint()"
      ],
      "execution_count": null,
      "outputs": [
        {
          "output_type": "stream",
          "text": [
            "2 Var Declarations\n",
            "    p : Size=1, Index=None\n",
            "        Key  : Lower : Value : Upper : Fixed : Stale : Domain\n",
            "        None :  None :  None :  None : False :  True :  Reals\n",
            "    q : Size=1, Index=None\n",
            "        Key  : Lower : Value : Upper : Fixed : Stale : Domain\n",
            "        None :  None :  None :  None : False :  True :  Reals\n",
            "\n",
            "1 Objective Declarations\n",
            "    cost : Size=1, Index=None, Active=True\n",
            "        Key  : Active : Sense    : Expression\n",
            "        None :   True : minimize : 45*p + 80*q\n",
            "\n",
            "4 Constraint Declarations\n",
            "    constr1 : Size=1, Index=None, Active=True\n",
            "        Key  : Lower : Body            : Upper : Active\n",
            "        None :  -Inf : 1.25*p + 0.75*q : 350.0 :   True\n",
            "    constr2 : Size=1, Index=None, Active=True\n",
            "        Key  : Lower : Body  : Upper : Active\n",
            "        None : 160.0 : p + q :  +Inf :   True\n",
            "    constr3 : Size=1, Index=None, Active=True\n",
            "        Key  : Lower : Body : Upper : Active\n",
            "        None : 140.0 :    p :  +Inf :   True\n",
            "    constr4 : Size=1, Index=None, Active=True\n",
            "        Key  : Lower : Body : Upper : Active\n",
            "        None : 104.0 :    q :  +Inf :   True\n",
            "\n",
            "7 Declarations: p q cost constr1 constr2 constr3 constr4\n"
          ],
          "name": "stdout"
        }
      ]
    },
    {
      "cell_type": "code",
      "metadata": {
        "id": "2rOGQ3h-PFzW"
      },
      "source": [
        "!apt-get install -y -qq glpk-utils"
      ],
      "execution_count": null,
      "outputs": []
    },
    {
      "cell_type": "code",
      "metadata": {
        "id": "XzvbZ-EgPW80",
        "colab": {
          "base_uri": "https://localhost:8080/",
          "height": 578
        },
        "outputId": "48a52257-1e4d-468b-9f13-7525c1cfcacd"
      },
      "source": [
        "SolverFactory('glpk',executable='/usr/bin/glpsol').solve(model4).write()"
      ],
      "execution_count": null,
      "outputs": [
        {
          "output_type": "stream",
          "text": [
            "# ==========================================================\n",
            "# = Solver Results                                         =\n",
            "# ==========================================================\n",
            "# ----------------------------------------------------------\n",
            "#   Problem Information\n",
            "# ----------------------------------------------------------\n",
            "Problem: \n",
            "- Name: unknown\n",
            "  Lower bound: 14620.0\n",
            "  Upper bound: 14620.0\n",
            "  Number of objectives: 1\n",
            "  Number of constraints: 5\n",
            "  Number of variables: 3\n",
            "  Number of nonzeros: 7\n",
            "  Sense: minimize\n",
            "# ----------------------------------------------------------\n",
            "#   Solver Information\n",
            "# ----------------------------------------------------------\n",
            "Solver: \n",
            "- Status: ok\n",
            "  Termination condition: optimal\n",
            "  Statistics: \n",
            "    Branch and bound: \n",
            "      Number of bounded subproblems: 0\n",
            "      Number of created subproblems: 0\n",
            "  Error rc: 0\n",
            "  Time: 0.015290260314941406\n",
            "# ----------------------------------------------------------\n",
            "#   Solution Information\n",
            "# ----------------------------------------------------------\n",
            "Solution: \n",
            "- number of solutions: 0\n",
            "  number of solutions displayed: 0\n"
          ],
          "name": "stdout"
        }
      ]
    },
    {
      "cell_type": "code",
      "metadata": {
        "id": "qqOjTkTWPgzM",
        "colab": {
          "base_uri": "https://localhost:8080/",
          "height": 204
        },
        "outputId": "0aff03f2-9812-4bad-d62e-7b28a3eb37f0"
      },
      "source": [
        "#Display the solution!!\n",
        "print('Cost = ',model4.cost())\n",
        "print(\"\\nDecision variables:\")\n",
        "print('p = ',model4.p())\n",
        "print('q = ',model4.q())\n",
        "\n",
        "print('\\nConstraints:')\n",
        "print('Constraint 1 = ',model4.constr1())\n",
        "print('Constraint 2 = ',model4.constr2())\n",
        "print('Constraint 3 = ',model4.constr3())\n",
        "print('Constraint 4 = ',model4.constr4())"
      ],
      "execution_count": null,
      "outputs": [
        {
          "output_type": "stream",
          "text": [
            "Cost =  14620.0\n",
            "\n",
            "Decision variables:\n",
            "p =  140.0\n",
            "q =  104.0\n",
            "\n",
            "Constraints:\n",
            "Constraint 1 =  253.0\n",
            "Constraint 2 =  244.0\n",
            "Constraint 3 =  140.0\n",
            "Constraint 4 =  104.0\n"
          ],
          "name": "stdout"
        }
      ]
    }
  ]
}