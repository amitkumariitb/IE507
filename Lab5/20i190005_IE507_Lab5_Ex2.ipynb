{
  "nbformat": 4,
  "nbformat_minor": 0,
  "metadata": {
    "colab": {
      "name": "20i190005_IE507_Lab5_Ex2.ipynb",
      "provenance": [],
      "collapsed_sections": []
    },
    "kernelspec": {
      "name": "python3",
      "display_name": "Python 3"
    }
  },
  "cells": [
    {
      "cell_type": "code",
      "metadata": {
        "id": "PbFNrCNldmu3"
      },
      "source": [
        "!pip install -q pyomo"
      ],
      "execution_count": null,
      "outputs": []
    },
    {
      "cell_type": "code",
      "metadata": {
        "id": "xixr9i7ceR1O"
      },
      "source": [
        "from pyomo.environ import * "
      ],
      "execution_count": null,
      "outputs": []
    },
    {
      "cell_type": "code",
      "metadata": {
        "id": "IIeDWcYLeS0E"
      },
      "source": [
        "import numpy as np"
      ],
      "execution_count": null,
      "outputs": []
    },
    {
      "cell_type": "markdown",
      "metadata": {
        "id": "ZrybQC4IGWzH"
      },
      "source": [
        "1.Answer\\\n",
        "The Mathematical model for the Assignment Problem is:\\\n",
        "Let $C_{ij}$ be the set up cost of $i^\\text{th}$ facility at $j^\\text{th}$ location  and $x_{ij}$ denotes the assignment of $i^\\text{th}$ facility to $j^\\text{th}$ location .Then our optimization problem is :\n",
        "\n",
        "$\\textbf{Minimize:}$\n",
        "\\begin{align}\n",
        "\\sum_{i=1}^{12}\\sum_{j=1}^{12} C_{ij} x_{ij}\n",
        "\\end{align}\n",
        "\n",
        "$\\textbf{Subject to:}$\n",
        "\\begin{align}\n",
        "\\sum_{j} x_{ij} &= 1 &&\\forall\\text{  i = 1, . . . , 12}\\\\\n",
        "\\sum_{i} x_{ij} &= 1 &&\\forall\\text{  j = 1 , . . . , 12  }\n",
        "\\end{align}\n",
        "\n",
        "$\\text{where decision variables}\\text{  }\\  x_{ij}\\text{ }\\epsilon\\text{ }\\text{{0,1}} $"
      ]
    },
    {
      "cell_type": "code",
      "metadata": {
        "id": "gB3d1E96ebFJ"
      },
      "source": [
        "cost_matrix = np.loadtxt('lab5_ex2.txt', delimiter=',')"
      ],
      "execution_count": null,
      "outputs": []
    },
    {
      "cell_type": "code",
      "metadata": {
        "id": "GffSzKmjzlJI",
        "colab": {
          "base_uri": "https://localhost:8080/",
          "height": 221
        },
        "outputId": "0cf2c115-af7c-4c33-d3b8-b78f19098217"
      },
      "source": [
        "print(cost_matrix)"
      ],
      "execution_count": null,
      "outputs": [
        {
          "output_type": "stream",
          "text": [
            "[[19. 12. 18. 19. 22. 21. 17. 20. 16. 15. 21. 24.]\n",
            " [22. 22. 19. 21. 22. 24. 18. 17. 21. 19. 22. 23.]\n",
            " [18. 23. 20. 20. 21. 22. 19. 18. 20. 23. 19. 19.]\n",
            " [18. 21. 20. 18. 17. 19. 24. 16. 18. 16. 20. 24.]\n",
            " [23. 17. 16. 19. 24. 21. 23. 21. 20. 21. 22. 21.]\n",
            " [23. 20. 17. 16. 20. 23. 22. 25. 24. 19. 17. 20.]\n",
            " [22. 18. 17. 15. 22. 24. 23. 20. 22. 19. 23. 20.]\n",
            " [24. 22. 21. 23. 18. 17. 16. 19. 24. 21. 20. 23.]\n",
            " [21. 20. 17. 18. 16. 24. 19. 17. 18. 20. 21. 23.]\n",
            " [19. 22. 21. 24. 20. 23. 19. 18. 23. 24. 25. 20.]\n",
            " [20. 24. 22. 20. 23. 19. 18. 16. 22. 24. 21. 24.]\n",
            " [22. 23. 24. 20. 21. 20. 20. 19. 17. 19. 20. 22.]]\n"
          ],
          "name": "stdout"
        }
      ]
    },
    {
      "cell_type": "code",
      "metadata": {
        "id": "o7IhebIKNfR_"
      },
      "source": [
        "A=np.array(cost_matrix)"
      ],
      "execution_count": null,
      "outputs": []
    },
    {
      "cell_type": "code",
      "metadata": {
        "id": "9Ua7MFNCqHvO"
      },
      "source": [
        "model = ConcreteModel()"
      ],
      "execution_count": null,
      "outputs": []
    },
    {
      "cell_type": "code",
      "metadata": {
        "id": "m45uFayXzP8Q"
      },
      "source": [
        "M=12 #denoting number of factories\n",
        "N=12 #denoting number of locations\n"
      ],
      "execution_count": null,
      "outputs": []
    },
    {
      "cell_type": "code",
      "metadata": {
        "id": "eKdoI_gC6aj7",
        "colab": {
          "base_uri": "https://localhost:8080/",
          "height": 51
        },
        "outputId": "6de1d2e1-4d60-4bd1-8f6d-7ae850440a03"
      },
      "source": [
        "col_indices = np.arange(N)\n",
        "row_indices = np.arange(M)\n",
        "print(col_indices)\n",
        "print(row_indices)"
      ],
      "execution_count": null,
      "outputs": [
        {
          "output_type": "stream",
          "text": [
            "[ 0  1  2  3  4  5  6  7  8  9 10 11]\n",
            "[ 0  1  2  3  4  5  6  7  8  9 10 11]\n"
          ],
          "name": "stdout"
        }
      ]
    },
    {
      "cell_type": "code",
      "metadata": {
        "id": "4z9w3k-_6uKr"
      },
      "source": [
        "model.x = Var(row_indices, col_indices, domain= Binary)"
      ],
      "execution_count": null,
      "outputs": []
    },
    {
      "cell_type": "code",
      "metadata": {
        "id": "VY99oH627WdY"
      },
      "source": [
        "model.objective = Objective(expr=sum(A[i][j]*model.x[i,j] for i in row_indices for j in col_indices),sense=minimize)"
      ],
      "execution_count": null,
      "outputs": []
    },
    {
      "cell_type": "code",
      "metadata": {
        "id": "HMUX9Tbe-Cmj"
      },
      "source": [
        "model.constraints = ConstraintList()"
      ],
      "execution_count": null,
      "outputs": []
    },
    {
      "cell_type": "code",
      "metadata": {
        "id": "SX4rpvMc-I6t"
      },
      "source": [
        "for i in row_indices:\n",
        "  model.constraints.add(expr=sum(model.x[i,j] for j in col_indices) == 1)\n",
        "\n",
        "for j in col_indices:\n",
        "  model.constraints.add(expr=sum(model.x[i,j] for i in row_indices) == 1)"
      ],
      "execution_count": null,
      "outputs": []
    },
    {
      "cell_type": "code",
      "metadata": {
        "id": "8na3VIjmAY57",
        "colab": {
          "base_uri": "https://localhost:8080/",
          "height": 1000
        },
        "outputId": "7d255136-88c9-41b0-9935-4cc6c8f7fc5f"
      },
      "source": [
        "model.pprint()"
      ],
      "execution_count": null,
      "outputs": [
        {
          "output_type": "stream",
          "text": [
            "4 Set Declarations\n",
            "    constraints_index : Size=1, Index=None, Ordered=Insertion\n",
            "        Key  : Dimen : Domain : Size : Members\n",
            "        None :     1 :    Any :   24 : {1, 2, 3, 4, 5, 6, 7, 8, 9, 10, 11, 12, 13, 14, 15, 16, 17, 18, 19, 20, 21, 22, 23, 24}\n",
            "    x_index : Size=1, Index=None, Ordered=False\n",
            "        Key  : Dimen : Domain              : Size : Members\n",
            "        None :     2 : x_index_0*x_index_1 :  144 : {(0, 0), (0, 1), (0, 2), (0, 3), (0, 4), (0, 5), (0, 6), (0, 7), (0, 8), (0, 9), (0, 10), (0, 11), (1, 0), (1, 1), (1, 2), (1, 3), (1, 4), (1, 5), (1, 6), (1, 7), (1, 8), (1, 9), (1, 10), (1, 11), (2, 0), (2, 1), (2, 2), (2, 3), (2, 4), (2, 5), (2, 6), (2, 7), (2, 8), (2, 9), (2, 10), (2, 11), (3, 0), (3, 1), (3, 2), (3, 3), (3, 4), (3, 5), (3, 6), (3, 7), (3, 8), (3, 9), (3, 10), (3, 11), (4, 0), (4, 1), (4, 2), (4, 3), (4, 4), (4, 5), (4, 6), (4, 7), (4, 8), (4, 9), (4, 10), (4, 11), (5, 0), (5, 1), (5, 2), (5, 3), (5, 4), (5, 5), (5, 6), (5, 7), (5, 8), (5, 9), (5, 10), (5, 11), (6, 0), (6, 1), (6, 2), (6, 3), (6, 4), (6, 5), (6, 6), (6, 7), (6, 8), (6, 9), (6, 10), (6, 11), (7, 0), (7, 1), (7, 2), (7, 3), (7, 4), (7, 5), (7, 6), (7, 7), (7, 8), (7, 9), (7, 10), (7, 11), (8, 0), (8, 1), (8, 2), (8, 3), (8, 4), (8, 5), (8, 6), (8, 7), (8, 8), (8, 9), (8, 10), (8, 11), (9, 0), (9, 1), (9, 2), (9, 3), (9, 4), (9, 5), (9, 6), (9, 7), (9, 8), (9, 9), (9, 10), (9, 11), (10, 0), (10, 1), (10, 2), (10, 3), (10, 4), (10, 5), (10, 6), (10, 7), (10, 8), (10, 9), (10, 10), (10, 11), (11, 0), (11, 1), (11, 2), (11, 3), (11, 4), (11, 5), (11, 6), (11, 7), (11, 8), (11, 9), (11, 10), (11, 11)}\n",
            "    x_index_0 : Size=1, Index=None, Ordered=False\n",
            "        Key  : Dimen : Domain : Size : Members\n",
            "        None :     1 :    Any :   12 : {0, 1, 2, 3, 4, 5, 6, 7, 8, 9, 10, 11}\n",
            "    x_index_1 : Size=1, Index=None, Ordered=False\n",
            "        Key  : Dimen : Domain : Size : Members\n",
            "        None :     1 :    Any :   12 : {0, 1, 2, 3, 4, 5, 6, 7, 8, 9, 10, 11}\n",
            "\n",
            "1 Var Declarations\n",
            "    x : Size=144, Index=x_index\n",
            "        Key      : Lower : Value : Upper : Fixed : Stale : Domain\n",
            "          (0, 0) :     0 :  None :     1 : False :  True : Binary\n",
            "          (0, 1) :     0 :  None :     1 : False :  True : Binary\n",
            "          (0, 2) :     0 :  None :     1 : False :  True : Binary\n",
            "          (0, 3) :     0 :  None :     1 : False :  True : Binary\n",
            "          (0, 4) :     0 :  None :     1 : False :  True : Binary\n",
            "          (0, 5) :     0 :  None :     1 : False :  True : Binary\n",
            "          (0, 6) :     0 :  None :     1 : False :  True : Binary\n",
            "          (0, 7) :     0 :  None :     1 : False :  True : Binary\n",
            "          (0, 8) :     0 :  None :     1 : False :  True : Binary\n",
            "          (0, 9) :     0 :  None :     1 : False :  True : Binary\n",
            "         (0, 10) :     0 :  None :     1 : False :  True : Binary\n",
            "         (0, 11) :     0 :  None :     1 : False :  True : Binary\n",
            "          (1, 0) :     0 :  None :     1 : False :  True : Binary\n",
            "          (1, 1) :     0 :  None :     1 : False :  True : Binary\n",
            "          (1, 2) :     0 :  None :     1 : False :  True : Binary\n",
            "          (1, 3) :     0 :  None :     1 : False :  True : Binary\n",
            "          (1, 4) :     0 :  None :     1 : False :  True : Binary\n",
            "          (1, 5) :     0 :  None :     1 : False :  True : Binary\n",
            "          (1, 6) :     0 :  None :     1 : False :  True : Binary\n",
            "          (1, 7) :     0 :  None :     1 : False :  True : Binary\n",
            "          (1, 8) :     0 :  None :     1 : False :  True : Binary\n",
            "          (1, 9) :     0 :  None :     1 : False :  True : Binary\n",
            "         (1, 10) :     0 :  None :     1 : False :  True : Binary\n",
            "         (1, 11) :     0 :  None :     1 : False :  True : Binary\n",
            "          (2, 0) :     0 :  None :     1 : False :  True : Binary\n",
            "          (2, 1) :     0 :  None :     1 : False :  True : Binary\n",
            "          (2, 2) :     0 :  None :     1 : False :  True : Binary\n",
            "          (2, 3) :     0 :  None :     1 : False :  True : Binary\n",
            "          (2, 4) :     0 :  None :     1 : False :  True : Binary\n",
            "          (2, 5) :     0 :  None :     1 : False :  True : Binary\n",
            "          (2, 6) :     0 :  None :     1 : False :  True : Binary\n",
            "          (2, 7) :     0 :  None :     1 : False :  True : Binary\n",
            "          (2, 8) :     0 :  None :     1 : False :  True : Binary\n",
            "          (2, 9) :     0 :  None :     1 : False :  True : Binary\n",
            "         (2, 10) :     0 :  None :     1 : False :  True : Binary\n",
            "         (2, 11) :     0 :  None :     1 : False :  True : Binary\n",
            "          (3, 0) :     0 :  None :     1 : False :  True : Binary\n",
            "          (3, 1) :     0 :  None :     1 : False :  True : Binary\n",
            "          (3, 2) :     0 :  None :     1 : False :  True : Binary\n",
            "          (3, 3) :     0 :  None :     1 : False :  True : Binary\n",
            "          (3, 4) :     0 :  None :     1 : False :  True : Binary\n",
            "          (3, 5) :     0 :  None :     1 : False :  True : Binary\n",
            "          (3, 6) :     0 :  None :     1 : False :  True : Binary\n",
            "          (3, 7) :     0 :  None :     1 : False :  True : Binary\n",
            "          (3, 8) :     0 :  None :     1 : False :  True : Binary\n",
            "          (3, 9) :     0 :  None :     1 : False :  True : Binary\n",
            "         (3, 10) :     0 :  None :     1 : False :  True : Binary\n",
            "         (3, 11) :     0 :  None :     1 : False :  True : Binary\n",
            "          (4, 0) :     0 :  None :     1 : False :  True : Binary\n",
            "          (4, 1) :     0 :  None :     1 : False :  True : Binary\n",
            "          (4, 2) :     0 :  None :     1 : False :  True : Binary\n",
            "          (4, 3) :     0 :  None :     1 : False :  True : Binary\n",
            "          (4, 4) :     0 :  None :     1 : False :  True : Binary\n",
            "          (4, 5) :     0 :  None :     1 : False :  True : Binary\n",
            "          (4, 6) :     0 :  None :     1 : False :  True : Binary\n",
            "          (4, 7) :     0 :  None :     1 : False :  True : Binary\n",
            "          (4, 8) :     0 :  None :     1 : False :  True : Binary\n",
            "          (4, 9) :     0 :  None :     1 : False :  True : Binary\n",
            "         (4, 10) :     0 :  None :     1 : False :  True : Binary\n",
            "         (4, 11) :     0 :  None :     1 : False :  True : Binary\n",
            "          (5, 0) :     0 :  None :     1 : False :  True : Binary\n",
            "          (5, 1) :     0 :  None :     1 : False :  True : Binary\n",
            "          (5, 2) :     0 :  None :     1 : False :  True : Binary\n",
            "          (5, 3) :     0 :  None :     1 : False :  True : Binary\n",
            "          (5, 4) :     0 :  None :     1 : False :  True : Binary\n",
            "          (5, 5) :     0 :  None :     1 : False :  True : Binary\n",
            "          (5, 6) :     0 :  None :     1 : False :  True : Binary\n",
            "          (5, 7) :     0 :  None :     1 : False :  True : Binary\n",
            "          (5, 8) :     0 :  None :     1 : False :  True : Binary\n",
            "          (5, 9) :     0 :  None :     1 : False :  True : Binary\n",
            "         (5, 10) :     0 :  None :     1 : False :  True : Binary\n",
            "         (5, 11) :     0 :  None :     1 : False :  True : Binary\n",
            "          (6, 0) :     0 :  None :     1 : False :  True : Binary\n",
            "          (6, 1) :     0 :  None :     1 : False :  True : Binary\n",
            "          (6, 2) :     0 :  None :     1 : False :  True : Binary\n",
            "          (6, 3) :     0 :  None :     1 : False :  True : Binary\n",
            "          (6, 4) :     0 :  None :     1 : False :  True : Binary\n",
            "          (6, 5) :     0 :  None :     1 : False :  True : Binary\n",
            "          (6, 6) :     0 :  None :     1 : False :  True : Binary\n",
            "          (6, 7) :     0 :  None :     1 : False :  True : Binary\n",
            "          (6, 8) :     0 :  None :     1 : False :  True : Binary\n",
            "          (6, 9) :     0 :  None :     1 : False :  True : Binary\n",
            "         (6, 10) :     0 :  None :     1 : False :  True : Binary\n",
            "         (6, 11) :     0 :  None :     1 : False :  True : Binary\n",
            "          (7, 0) :     0 :  None :     1 : False :  True : Binary\n",
            "          (7, 1) :     0 :  None :     1 : False :  True : Binary\n",
            "          (7, 2) :     0 :  None :     1 : False :  True : Binary\n",
            "          (7, 3) :     0 :  None :     1 : False :  True : Binary\n",
            "          (7, 4) :     0 :  None :     1 : False :  True : Binary\n",
            "          (7, 5) :     0 :  None :     1 : False :  True : Binary\n",
            "          (7, 6) :     0 :  None :     1 : False :  True : Binary\n",
            "          (7, 7) :     0 :  None :     1 : False :  True : Binary\n",
            "          (7, 8) :     0 :  None :     1 : False :  True : Binary\n",
            "          (7, 9) :     0 :  None :     1 : False :  True : Binary\n",
            "         (7, 10) :     0 :  None :     1 : False :  True : Binary\n",
            "         (7, 11) :     0 :  None :     1 : False :  True : Binary\n",
            "          (8, 0) :     0 :  None :     1 : False :  True : Binary\n",
            "          (8, 1) :     0 :  None :     1 : False :  True : Binary\n",
            "          (8, 2) :     0 :  None :     1 : False :  True : Binary\n",
            "          (8, 3) :     0 :  None :     1 : False :  True : Binary\n",
            "          (8, 4) :     0 :  None :     1 : False :  True : Binary\n",
            "          (8, 5) :     0 :  None :     1 : False :  True : Binary\n",
            "          (8, 6) :     0 :  None :     1 : False :  True : Binary\n",
            "          (8, 7) :     0 :  None :     1 : False :  True : Binary\n",
            "          (8, 8) :     0 :  None :     1 : False :  True : Binary\n",
            "          (8, 9) :     0 :  None :     1 : False :  True : Binary\n",
            "         (8, 10) :     0 :  None :     1 : False :  True : Binary\n",
            "         (8, 11) :     0 :  None :     1 : False :  True : Binary\n",
            "          (9, 0) :     0 :  None :     1 : False :  True : Binary\n",
            "          (9, 1) :     0 :  None :     1 : False :  True : Binary\n",
            "          (9, 2) :     0 :  None :     1 : False :  True : Binary\n",
            "          (9, 3) :     0 :  None :     1 : False :  True : Binary\n",
            "          (9, 4) :     0 :  None :     1 : False :  True : Binary\n",
            "          (9, 5) :     0 :  None :     1 : False :  True : Binary\n",
            "          (9, 6) :     0 :  None :     1 : False :  True : Binary\n",
            "          (9, 7) :     0 :  None :     1 : False :  True : Binary\n",
            "          (9, 8) :     0 :  None :     1 : False :  True : Binary\n",
            "          (9, 9) :     0 :  None :     1 : False :  True : Binary\n",
            "         (9, 10) :     0 :  None :     1 : False :  True : Binary\n",
            "         (9, 11) :     0 :  None :     1 : False :  True : Binary\n",
            "         (10, 0) :     0 :  None :     1 : False :  True : Binary\n",
            "         (10, 1) :     0 :  None :     1 : False :  True : Binary\n",
            "         (10, 2) :     0 :  None :     1 : False :  True : Binary\n",
            "         (10, 3) :     0 :  None :     1 : False :  True : Binary\n",
            "         (10, 4) :     0 :  None :     1 : False :  True : Binary\n",
            "         (10, 5) :     0 :  None :     1 : False :  True : Binary\n",
            "         (10, 6) :     0 :  None :     1 : False :  True : Binary\n",
            "         (10, 7) :     0 :  None :     1 : False :  True : Binary\n",
            "         (10, 8) :     0 :  None :     1 : False :  True : Binary\n",
            "         (10, 9) :     0 :  None :     1 : False :  True : Binary\n",
            "        (10, 10) :     0 :  None :     1 : False :  True : Binary\n",
            "        (10, 11) :     0 :  None :     1 : False :  True : Binary\n",
            "         (11, 0) :     0 :  None :     1 : False :  True : Binary\n",
            "         (11, 1) :     0 :  None :     1 : False :  True : Binary\n",
            "         (11, 2) :     0 :  None :     1 : False :  True : Binary\n",
            "         (11, 3) :     0 :  None :     1 : False :  True : Binary\n",
            "         (11, 4) :     0 :  None :     1 : False :  True : Binary\n",
            "         (11, 5) :     0 :  None :     1 : False :  True : Binary\n",
            "         (11, 6) :     0 :  None :     1 : False :  True : Binary\n",
            "         (11, 7) :     0 :  None :     1 : False :  True : Binary\n",
            "         (11, 8) :     0 :  None :     1 : False :  True : Binary\n",
            "         (11, 9) :     0 :  None :     1 : False :  True : Binary\n",
            "        (11, 10) :     0 :  None :     1 : False :  True : Binary\n",
            "        (11, 11) :     0 :  None :     1 : False :  True : Binary\n",
            "\n",
            "1 Objective Declarations\n",
            "    objective : Size=1, Index=None, Active=True\n",
            "        Key  : Active : Sense    : Expression\n",
            "        None :   True : minimize : 19.0*x[0,0] + 12.0*x[0,1] + 18.0*x[0,2] + 19.0*x[0,3] + 22.0*x[0,4] + 21.0*x[0,5] + 17.0*x[0,6] + 20.0*x[0,7] + 16.0*x[0,8] + 15.0*x[0,9] + 21.0*x[0,10] + 24.0*x[0,11] + 22.0*x[1,0] + 22.0*x[1,1] + 19.0*x[1,2] + 21.0*x[1,3] + 22.0*x[1,4] + 24.0*x[1,5] + 18.0*x[1,6] + 17.0*x[1,7] + 21.0*x[1,8] + 19.0*x[1,9] + 22.0*x[1,10] + 23.0*x[1,11] + 18.0*x[2,0] + 23.0*x[2,1] + 20.0*x[2,2] + 20.0*x[2,3] + 21.0*x[2,4] + 22.0*x[2,5] + 19.0*x[2,6] + 18.0*x[2,7] + 20.0*x[2,8] + 23.0*x[2,9] + 19.0*x[2,10] + 19.0*x[2,11] + 18.0*x[3,0] + 21.0*x[3,1] + 20.0*x[3,2] + 18.0*x[3,3] + 17.0*x[3,4] + 19.0*x[3,5] + 24.0*x[3,6] + 16.0*x[3,7] + 18.0*x[3,8] + 16.0*x[3,9] + 20.0*x[3,10] + 24.0*x[3,11] + 23.0*x[4,0] + 17.0*x[4,1] + 16.0*x[4,2] + 19.0*x[4,3] + 24.0*x[4,4] + 21.0*x[4,5] + 23.0*x[4,6] + 21.0*x[4,7] + 20.0*x[4,8] + 21.0*x[4,9] + 22.0*x[4,10] + 21.0*x[4,11] + 23.0*x[5,0] + 20.0*x[5,1] + 17.0*x[5,2] + 16.0*x[5,3] + 20.0*x[5,4] + 23.0*x[5,5] + 22.0*x[5,6] + 25.0*x[5,7] + 24.0*x[5,8] + 19.0*x[5,9] + 17.0*x[5,10] + 20.0*x[5,11] + 22.0*x[6,0] + 18.0*x[6,1] + 17.0*x[6,2] + 15.0*x[6,3] + 22.0*x[6,4] + 24.0*x[6,5] + 23.0*x[6,6] + 20.0*x[6,7] + 22.0*x[6,8] + 19.0*x[6,9] + 23.0*x[6,10] + 20.0*x[6,11] + 24.0*x[7,0] + 22.0*x[7,1] + 21.0*x[7,2] + 23.0*x[7,3] + 18.0*x[7,4] + 17.0*x[7,5] + 16.0*x[7,6] + 19.0*x[7,7] + 24.0*x[7,8] + 21.0*x[7,9] + 20.0*x[7,10] + 23.0*x[7,11] + 21.0*x[8,0] + 20.0*x[8,1] + 17.0*x[8,2] + 18.0*x[8,3] + 16.0*x[8,4] + 24.0*x[8,5] + 19.0*x[8,6] + 17.0*x[8,7] + 18.0*x[8,8] + 20.0*x[8,9] + 21.0*x[8,10] + 23.0*x[8,11] + 19.0*x[9,0] + 22.0*x[9,1] + 21.0*x[9,2] + 24.0*x[9,3] + 20.0*x[9,4] + 23.0*x[9,5] + 19.0*x[9,6] + 18.0*x[9,7] + 23.0*x[9,8] + 24.0*x[9,9] + 25.0*x[9,10] + 20.0*x[9,11] + 20.0*x[10,0] + 24.0*x[10,1] + 22.0*x[10,2] + 20.0*x[10,3] + 23.0*x[10,4] + 19.0*x[10,5] + 18.0*x[10,6] + 16.0*x[10,7] + 22.0*x[10,8] + 24.0*x[10,9] + 21.0*x[10,10] + 24.0*x[10,11] + 22.0*x[11,0] + 23.0*x[11,1] + 24.0*x[11,2] + 20.0*x[11,3] + 21.0*x[11,4] + 20.0*x[11,5] + 20.0*x[11,6] + 19.0*x[11,7] + 17.0*x[11,8] + 19.0*x[11,9] + 20.0*x[11,10] + 22.0*x[11,11]\n",
            "\n",
            "1 Constraint Declarations\n",
            "    constraints : Size=24, Index=constraints_index, Active=True\n",
            "        Key : Lower : Body                                                                                                                    : Upper : Active\n",
            "          1 :   1.0 :             x[0,0] + x[0,1] + x[0,2] + x[0,3] + x[0,4] + x[0,5] + x[0,6] + x[0,7] + x[0,8] + x[0,9] + x[0,10] + x[0,11] :   1.0 :   True\n",
            "          2 :   1.0 :             x[1,0] + x[1,1] + x[1,2] + x[1,3] + x[1,4] + x[1,5] + x[1,6] + x[1,7] + x[1,8] + x[1,9] + x[1,10] + x[1,11] :   1.0 :   True\n",
            "          3 :   1.0 :             x[2,0] + x[2,1] + x[2,2] + x[2,3] + x[2,4] + x[2,5] + x[2,6] + x[2,7] + x[2,8] + x[2,9] + x[2,10] + x[2,11] :   1.0 :   True\n",
            "          4 :   1.0 :             x[3,0] + x[3,1] + x[3,2] + x[3,3] + x[3,4] + x[3,5] + x[3,6] + x[3,7] + x[3,8] + x[3,9] + x[3,10] + x[3,11] :   1.0 :   True\n",
            "          5 :   1.0 :             x[4,0] + x[4,1] + x[4,2] + x[4,3] + x[4,4] + x[4,5] + x[4,6] + x[4,7] + x[4,8] + x[4,9] + x[4,10] + x[4,11] :   1.0 :   True\n",
            "          6 :   1.0 :             x[5,0] + x[5,1] + x[5,2] + x[5,3] + x[5,4] + x[5,5] + x[5,6] + x[5,7] + x[5,8] + x[5,9] + x[5,10] + x[5,11] :   1.0 :   True\n",
            "          7 :   1.0 :             x[6,0] + x[6,1] + x[6,2] + x[6,3] + x[6,4] + x[6,5] + x[6,6] + x[6,7] + x[6,8] + x[6,9] + x[6,10] + x[6,11] :   1.0 :   True\n",
            "          8 :   1.0 :             x[7,0] + x[7,1] + x[7,2] + x[7,3] + x[7,4] + x[7,5] + x[7,6] + x[7,7] + x[7,8] + x[7,9] + x[7,10] + x[7,11] :   1.0 :   True\n",
            "          9 :   1.0 :             x[8,0] + x[8,1] + x[8,2] + x[8,3] + x[8,4] + x[8,5] + x[8,6] + x[8,7] + x[8,8] + x[8,9] + x[8,10] + x[8,11] :   1.0 :   True\n",
            "         10 :   1.0 :             x[9,0] + x[9,1] + x[9,2] + x[9,3] + x[9,4] + x[9,5] + x[9,6] + x[9,7] + x[9,8] + x[9,9] + x[9,10] + x[9,11] :   1.0 :   True\n",
            "         11 :   1.0 : x[10,0] + x[10,1] + x[10,2] + x[10,3] + x[10,4] + x[10,5] + x[10,6] + x[10,7] + x[10,8] + x[10,9] + x[10,10] + x[10,11] :   1.0 :   True\n",
            "         12 :   1.0 : x[11,0] + x[11,1] + x[11,2] + x[11,3] + x[11,4] + x[11,5] + x[11,6] + x[11,7] + x[11,8] + x[11,9] + x[11,10] + x[11,11] :   1.0 :   True\n",
            "         13 :   1.0 :             x[0,0] + x[1,0] + x[2,0] + x[3,0] + x[4,0] + x[5,0] + x[6,0] + x[7,0] + x[8,0] + x[9,0] + x[10,0] + x[11,0] :   1.0 :   True\n",
            "         14 :   1.0 :             x[0,1] + x[1,1] + x[2,1] + x[3,1] + x[4,1] + x[5,1] + x[6,1] + x[7,1] + x[8,1] + x[9,1] + x[10,1] + x[11,1] :   1.0 :   True\n",
            "         15 :   1.0 :             x[0,2] + x[1,2] + x[2,2] + x[3,2] + x[4,2] + x[5,2] + x[6,2] + x[7,2] + x[8,2] + x[9,2] + x[10,2] + x[11,2] :   1.0 :   True\n",
            "         16 :   1.0 :             x[0,3] + x[1,3] + x[2,3] + x[3,3] + x[4,3] + x[5,3] + x[6,3] + x[7,3] + x[8,3] + x[9,3] + x[10,3] + x[11,3] :   1.0 :   True\n",
            "         17 :   1.0 :             x[0,4] + x[1,4] + x[2,4] + x[3,4] + x[4,4] + x[5,4] + x[6,4] + x[7,4] + x[8,4] + x[9,4] + x[10,4] + x[11,4] :   1.0 :   True\n",
            "         18 :   1.0 :             x[0,5] + x[1,5] + x[2,5] + x[3,5] + x[4,5] + x[5,5] + x[6,5] + x[7,5] + x[8,5] + x[9,5] + x[10,5] + x[11,5] :   1.0 :   True\n",
            "         19 :   1.0 :             x[0,6] + x[1,6] + x[2,6] + x[3,6] + x[4,6] + x[5,6] + x[6,6] + x[7,6] + x[8,6] + x[9,6] + x[10,6] + x[11,6] :   1.0 :   True\n",
            "         20 :   1.0 :             x[0,7] + x[1,7] + x[2,7] + x[3,7] + x[4,7] + x[5,7] + x[6,7] + x[7,7] + x[8,7] + x[9,7] + x[10,7] + x[11,7] :   1.0 :   True\n",
            "         21 :   1.0 :             x[0,8] + x[1,8] + x[2,8] + x[3,8] + x[4,8] + x[5,8] + x[6,8] + x[7,8] + x[8,8] + x[9,8] + x[10,8] + x[11,8] :   1.0 :   True\n",
            "         22 :   1.0 :             x[0,9] + x[1,9] + x[2,9] + x[3,9] + x[4,9] + x[5,9] + x[6,9] + x[7,9] + x[8,9] + x[9,9] + x[10,9] + x[11,9] :   1.0 :   True\n",
            "         23 :   1.0 : x[0,10] + x[1,10] + x[2,10] + x[3,10] + x[4,10] + x[5,10] + x[6,10] + x[7,10] + x[8,10] + x[9,10] + x[10,10] + x[11,10] :   1.0 :   True\n",
            "         24 :   1.0 : x[0,11] + x[1,11] + x[2,11] + x[3,11] + x[4,11] + x[5,11] + x[6,11] + x[7,11] + x[8,11] + x[9,11] + x[10,11] + x[11,11] :   1.0 :   True\n",
            "\n",
            "7 Declarations: x_index_0 x_index_1 x_index x objective constraints_index constraints\n"
          ],
          "name": "stdout"
        }
      ]
    },
    {
      "cell_type": "code",
      "metadata": {
        "id": "G3HYtacXG5sx"
      },
      "source": [
        "!apt-get install -y -qq coinor-cbc"
      ],
      "execution_count": null,
      "outputs": []
    },
    {
      "cell_type": "code",
      "metadata": {
        "id": "JL3Zjs3sHQkt"
      },
      "source": [
        "opt_cbc = SolverFactory('cbc')"
      ],
      "execution_count": null,
      "outputs": []
    },
    {
      "cell_type": "code",
      "metadata": {
        "id": "1lm1rH1ZISJA",
        "colab": {
          "base_uri": "https://localhost:8080/",
          "height": 51
        },
        "outputId": "b9e6379a-f209-4d22-b942-8690c8408172"
      },
      "source": [
        "result = opt_cbc.solve(model)\n",
        "print('Solver status:', result.solver.status)\n",
        "print('Solver termination condition:',result.solver.termination_condition)"
      ],
      "execution_count": null,
      "outputs": [
        {
          "output_type": "stream",
          "text": [
            "Solver status: ok\n",
            "Solver termination condition: optimal\n"
          ],
          "name": "stdout"
        }
      ]
    },
    {
      "cell_type": "code",
      "metadata": {
        "id": "-d8HPfFtIX1B",
        "colab": {
          "base_uri": "https://localhost:8080/",
          "height": 289
        },
        "outputId": "180e616f-8865-49bf-b113-3543dce27ba5"
      },
      "source": [
        "# solution display\n",
        "print('\\nObjective = ', model.objective())\n",
        "\n",
        "print('\\nDecision Variables with non zero values')\n",
        "for i in row_indices:\n",
        "  for j in col_indices:\n",
        "    if model.x[i,j].value != 0 :\n",
        "      print(model.x[i,j],' = ',model.x[i,j].value)\n",
        "    else:\n",
        "      pass"
      ],
      "execution_count": null,
      "outputs": [
        {
          "output_type": "stream",
          "text": [
            "\n",
            "Objective =  198.0\n",
            "\n",
            "Decision Variables with non zero values\n",
            "x[0,1]  =  1.0\n",
            "x[1,6]  =  1.0\n",
            "x[2,11]  =  1.0\n",
            "x[3,9]  =  1.0\n",
            "x[4,2]  =  1.0\n",
            "x[5,10]  =  1.0\n",
            "x[6,3]  =  1.0\n",
            "x[7,5]  =  1.0\n",
            "x[8,4]  =  1.0\n",
            "x[9,0]  =  1.0\n",
            "x[10,7]  =  1.0\n",
            "x[11,8]  =  1.0\n"
          ],
          "name": "stdout"
        }
      ]
    },
    {
      "cell_type": "markdown",
      "metadata": {
        "id": "mD-V084UXiYR"
      },
      "source": [
        "8.ANSWER:\n",
        "Objective =  198.0\n",
        "\n",
        "Facility 1 must be opened at Location 2 ;\\\n",
        "Facility 2 must be opened at Location 7 ;\\\n",
        "Facility 3 must be opened at Location 12 ;\\\n",
        "Facility 4 must be opened at Location 10 ;\\\n",
        "Facility 5 must be opened at Location 3 ;\\\n",
        "Facility 6 must be opened at Location 11 ;\\\n",
        "Facility 7 must be opened at Location 4 ;\\\n",
        "Facility 8 must be opened at Location 6 ;\\\n",
        "Facility 9 must be opened at Location 5 ;\\\n",
        "Facility 10 must be opened at Location 1 ;\\\n",
        "Facility 11 must be opened at Location 8 ;\\\n",
        "Facility 12 must be opened at Location 9 ;"
      ]
    },
    {
      "cell_type": "markdown",
      "metadata": {
        "id": "2rRuylZMdPmT"
      },
      "source": [
        "9.Now changing the integer variables in the model to continuous variables"
      ]
    },
    {
      "cell_type": "code",
      "metadata": {
        "id": "iFzcCghzd85v"
      },
      "source": [
        "new_model = ConcreteModel()"
      ],
      "execution_count": null,
      "outputs": []
    },
    {
      "cell_type": "code",
      "metadata": {
        "id": "fjBeXKIdfopz"
      },
      "source": [
        "lower_bound = 0\n",
        "upper_bound = 1"
      ],
      "execution_count": null,
      "outputs": []
    },
    {
      "cell_type": "code",
      "metadata": {
        "id": "uk_FRwIeSKDx"
      },
      "source": [
        "new_model.x = Var(row_indices, col_indices, domain= Reals)"
      ],
      "execution_count": null,
      "outputs": []
    },
    {
      "cell_type": "code",
      "metadata": {
        "id": "rWb2r2gOfxjm"
      },
      "source": [
        "for i in row_indices: \n",
        "  for j in col_indices:\n",
        "    new_model.x[i,j].setlb(lower_bound)\n",
        "    new_model.x[i,j].setub(upper_bound)"
      ],
      "execution_count": null,
      "outputs": []
    },
    {
      "cell_type": "code",
      "metadata": {
        "id": "NY-goDu_gzG4"
      },
      "source": [
        "new_model.objective = Objective(expr=sum(A[i][j]*new_model.x[i,j] for i in row_indices for j in col_indices),sense=minimize)"
      ],
      "execution_count": null,
      "outputs": []
    },
    {
      "cell_type": "code",
      "metadata": {
        "id": "wT85AdskhKUl"
      },
      "source": [
        "new_model.constraints = ConstraintList()"
      ],
      "execution_count": null,
      "outputs": []
    },
    {
      "cell_type": "code",
      "metadata": {
        "id": "rxbX0yuuhSuT"
      },
      "source": [
        "for i in row_indices:\n",
        "  new_model.constraints.add(expr=sum(new_model.x[i,j] for j in col_indices) == 1)\n",
        "\n",
        "for j in col_indices:\n",
        "  new_model.constraints.add(expr=sum(new_model.x[i,j] for i in row_indices) == 1)"
      ],
      "execution_count": null,
      "outputs": []
    },
    {
      "cell_type": "code",
      "metadata": {
        "id": "F7O_7pxEhpOx",
        "colab": {
          "base_uri": "https://localhost:8080/",
          "height": 1000
        },
        "outputId": "9b9a37ed-6c78-492f-8fdc-996f0f00cc17"
      },
      "source": [
        "new_model.pprint()"
      ],
      "execution_count": null,
      "outputs": [
        {
          "output_type": "stream",
          "text": [
            "4 Set Declarations\n",
            "    constraints_index : Size=1, Index=None, Ordered=Insertion\n",
            "        Key  : Dimen : Domain : Size : Members\n",
            "        None :     1 :    Any :   24 : {1, 2, 3, 4, 5, 6, 7, 8, 9, 10, 11, 12, 13, 14, 15, 16, 17, 18, 19, 20, 21, 22, 23, 24}\n",
            "    x_index : Size=1, Index=None, Ordered=False\n",
            "        Key  : Dimen : Domain              : Size : Members\n",
            "        None :     2 : x_index_0*x_index_1 :  144 : {(0, 0), (0, 1), (0, 2), (0, 3), (0, 4), (0, 5), (0, 6), (0, 7), (0, 8), (0, 9), (0, 10), (0, 11), (1, 0), (1, 1), (1, 2), (1, 3), (1, 4), (1, 5), (1, 6), (1, 7), (1, 8), (1, 9), (1, 10), (1, 11), (2, 0), (2, 1), (2, 2), (2, 3), (2, 4), (2, 5), (2, 6), (2, 7), (2, 8), (2, 9), (2, 10), (2, 11), (3, 0), (3, 1), (3, 2), (3, 3), (3, 4), (3, 5), (3, 6), (3, 7), (3, 8), (3, 9), (3, 10), (3, 11), (4, 0), (4, 1), (4, 2), (4, 3), (4, 4), (4, 5), (4, 6), (4, 7), (4, 8), (4, 9), (4, 10), (4, 11), (5, 0), (5, 1), (5, 2), (5, 3), (5, 4), (5, 5), (5, 6), (5, 7), (5, 8), (5, 9), (5, 10), (5, 11), (6, 0), (6, 1), (6, 2), (6, 3), (6, 4), (6, 5), (6, 6), (6, 7), (6, 8), (6, 9), (6, 10), (6, 11), (7, 0), (7, 1), (7, 2), (7, 3), (7, 4), (7, 5), (7, 6), (7, 7), (7, 8), (7, 9), (7, 10), (7, 11), (8, 0), (8, 1), (8, 2), (8, 3), (8, 4), (8, 5), (8, 6), (8, 7), (8, 8), (8, 9), (8, 10), (8, 11), (9, 0), (9, 1), (9, 2), (9, 3), (9, 4), (9, 5), (9, 6), (9, 7), (9, 8), (9, 9), (9, 10), (9, 11), (10, 0), (10, 1), (10, 2), (10, 3), (10, 4), (10, 5), (10, 6), (10, 7), (10, 8), (10, 9), (10, 10), (10, 11), (11, 0), (11, 1), (11, 2), (11, 3), (11, 4), (11, 5), (11, 6), (11, 7), (11, 8), (11, 9), (11, 10), (11, 11)}\n",
            "    x_index_0 : Size=1, Index=None, Ordered=False\n",
            "        Key  : Dimen : Domain : Size : Members\n",
            "        None :     1 :    Any :   12 : {0, 1, 2, 3, 4, 5, 6, 7, 8, 9, 10, 11}\n",
            "    x_index_1 : Size=1, Index=None, Ordered=False\n",
            "        Key  : Dimen : Domain : Size : Members\n",
            "        None :     1 :    Any :   12 : {0, 1, 2, 3, 4, 5, 6, 7, 8, 9, 10, 11}\n",
            "\n",
            "1 Var Declarations\n",
            "    x : Size=144, Index=x_index\n",
            "        Key      : Lower : Value : Upper : Fixed : Stale : Domain\n",
            "          (0, 0) :     0 :  None :     1 : False :  True :  Reals\n",
            "          (0, 1) :     0 :  None :     1 : False :  True :  Reals\n",
            "          (0, 2) :     0 :  None :     1 : False :  True :  Reals\n",
            "          (0, 3) :     0 :  None :     1 : False :  True :  Reals\n",
            "          (0, 4) :     0 :  None :     1 : False :  True :  Reals\n",
            "          (0, 5) :     0 :  None :     1 : False :  True :  Reals\n",
            "          (0, 6) :     0 :  None :     1 : False :  True :  Reals\n",
            "          (0, 7) :     0 :  None :     1 : False :  True :  Reals\n",
            "          (0, 8) :     0 :  None :     1 : False :  True :  Reals\n",
            "          (0, 9) :     0 :  None :     1 : False :  True :  Reals\n",
            "         (0, 10) :     0 :  None :     1 : False :  True :  Reals\n",
            "         (0, 11) :     0 :  None :     1 : False :  True :  Reals\n",
            "          (1, 0) :     0 :  None :     1 : False :  True :  Reals\n",
            "          (1, 1) :     0 :  None :     1 : False :  True :  Reals\n",
            "          (1, 2) :     0 :  None :     1 : False :  True :  Reals\n",
            "          (1, 3) :     0 :  None :     1 : False :  True :  Reals\n",
            "          (1, 4) :     0 :  None :     1 : False :  True :  Reals\n",
            "          (1, 5) :     0 :  None :     1 : False :  True :  Reals\n",
            "          (1, 6) :     0 :  None :     1 : False :  True :  Reals\n",
            "          (1, 7) :     0 :  None :     1 : False :  True :  Reals\n",
            "          (1, 8) :     0 :  None :     1 : False :  True :  Reals\n",
            "          (1, 9) :     0 :  None :     1 : False :  True :  Reals\n",
            "         (1, 10) :     0 :  None :     1 : False :  True :  Reals\n",
            "         (1, 11) :     0 :  None :     1 : False :  True :  Reals\n",
            "          (2, 0) :     0 :  None :     1 : False :  True :  Reals\n",
            "          (2, 1) :     0 :  None :     1 : False :  True :  Reals\n",
            "          (2, 2) :     0 :  None :     1 : False :  True :  Reals\n",
            "          (2, 3) :     0 :  None :     1 : False :  True :  Reals\n",
            "          (2, 4) :     0 :  None :     1 : False :  True :  Reals\n",
            "          (2, 5) :     0 :  None :     1 : False :  True :  Reals\n",
            "          (2, 6) :     0 :  None :     1 : False :  True :  Reals\n",
            "          (2, 7) :     0 :  None :     1 : False :  True :  Reals\n",
            "          (2, 8) :     0 :  None :     1 : False :  True :  Reals\n",
            "          (2, 9) :     0 :  None :     1 : False :  True :  Reals\n",
            "         (2, 10) :     0 :  None :     1 : False :  True :  Reals\n",
            "         (2, 11) :     0 :  None :     1 : False :  True :  Reals\n",
            "          (3, 0) :     0 :  None :     1 : False :  True :  Reals\n",
            "          (3, 1) :     0 :  None :     1 : False :  True :  Reals\n",
            "          (3, 2) :     0 :  None :     1 : False :  True :  Reals\n",
            "          (3, 3) :     0 :  None :     1 : False :  True :  Reals\n",
            "          (3, 4) :     0 :  None :     1 : False :  True :  Reals\n",
            "          (3, 5) :     0 :  None :     1 : False :  True :  Reals\n",
            "          (3, 6) :     0 :  None :     1 : False :  True :  Reals\n",
            "          (3, 7) :     0 :  None :     1 : False :  True :  Reals\n",
            "          (3, 8) :     0 :  None :     1 : False :  True :  Reals\n",
            "          (3, 9) :     0 :  None :     1 : False :  True :  Reals\n",
            "         (3, 10) :     0 :  None :     1 : False :  True :  Reals\n",
            "         (3, 11) :     0 :  None :     1 : False :  True :  Reals\n",
            "          (4, 0) :     0 :  None :     1 : False :  True :  Reals\n",
            "          (4, 1) :     0 :  None :     1 : False :  True :  Reals\n",
            "          (4, 2) :     0 :  None :     1 : False :  True :  Reals\n",
            "          (4, 3) :     0 :  None :     1 : False :  True :  Reals\n",
            "          (4, 4) :     0 :  None :     1 : False :  True :  Reals\n",
            "          (4, 5) :     0 :  None :     1 : False :  True :  Reals\n",
            "          (4, 6) :     0 :  None :     1 : False :  True :  Reals\n",
            "          (4, 7) :     0 :  None :     1 : False :  True :  Reals\n",
            "          (4, 8) :     0 :  None :     1 : False :  True :  Reals\n",
            "          (4, 9) :     0 :  None :     1 : False :  True :  Reals\n",
            "         (4, 10) :     0 :  None :     1 : False :  True :  Reals\n",
            "         (4, 11) :     0 :  None :     1 : False :  True :  Reals\n",
            "          (5, 0) :     0 :  None :     1 : False :  True :  Reals\n",
            "          (5, 1) :     0 :  None :     1 : False :  True :  Reals\n",
            "          (5, 2) :     0 :  None :     1 : False :  True :  Reals\n",
            "          (5, 3) :     0 :  None :     1 : False :  True :  Reals\n",
            "          (5, 4) :     0 :  None :     1 : False :  True :  Reals\n",
            "          (5, 5) :     0 :  None :     1 : False :  True :  Reals\n",
            "          (5, 6) :     0 :  None :     1 : False :  True :  Reals\n",
            "          (5, 7) :     0 :  None :     1 : False :  True :  Reals\n",
            "          (5, 8) :     0 :  None :     1 : False :  True :  Reals\n",
            "          (5, 9) :     0 :  None :     1 : False :  True :  Reals\n",
            "         (5, 10) :     0 :  None :     1 : False :  True :  Reals\n",
            "         (5, 11) :     0 :  None :     1 : False :  True :  Reals\n",
            "          (6, 0) :     0 :  None :     1 : False :  True :  Reals\n",
            "          (6, 1) :     0 :  None :     1 : False :  True :  Reals\n",
            "          (6, 2) :     0 :  None :     1 : False :  True :  Reals\n",
            "          (6, 3) :     0 :  None :     1 : False :  True :  Reals\n",
            "          (6, 4) :     0 :  None :     1 : False :  True :  Reals\n",
            "          (6, 5) :     0 :  None :     1 : False :  True :  Reals\n",
            "          (6, 6) :     0 :  None :     1 : False :  True :  Reals\n",
            "          (6, 7) :     0 :  None :     1 : False :  True :  Reals\n",
            "          (6, 8) :     0 :  None :     1 : False :  True :  Reals\n",
            "          (6, 9) :     0 :  None :     1 : False :  True :  Reals\n",
            "         (6, 10) :     0 :  None :     1 : False :  True :  Reals\n",
            "         (6, 11) :     0 :  None :     1 : False :  True :  Reals\n",
            "          (7, 0) :     0 :  None :     1 : False :  True :  Reals\n",
            "          (7, 1) :     0 :  None :     1 : False :  True :  Reals\n",
            "          (7, 2) :     0 :  None :     1 : False :  True :  Reals\n",
            "          (7, 3) :     0 :  None :     1 : False :  True :  Reals\n",
            "          (7, 4) :     0 :  None :     1 : False :  True :  Reals\n",
            "          (7, 5) :     0 :  None :     1 : False :  True :  Reals\n",
            "          (7, 6) :     0 :  None :     1 : False :  True :  Reals\n",
            "          (7, 7) :     0 :  None :     1 : False :  True :  Reals\n",
            "          (7, 8) :     0 :  None :     1 : False :  True :  Reals\n",
            "          (7, 9) :     0 :  None :     1 : False :  True :  Reals\n",
            "         (7, 10) :     0 :  None :     1 : False :  True :  Reals\n",
            "         (7, 11) :     0 :  None :     1 : False :  True :  Reals\n",
            "          (8, 0) :     0 :  None :     1 : False :  True :  Reals\n",
            "          (8, 1) :     0 :  None :     1 : False :  True :  Reals\n",
            "          (8, 2) :     0 :  None :     1 : False :  True :  Reals\n",
            "          (8, 3) :     0 :  None :     1 : False :  True :  Reals\n",
            "          (8, 4) :     0 :  None :     1 : False :  True :  Reals\n",
            "          (8, 5) :     0 :  None :     1 : False :  True :  Reals\n",
            "          (8, 6) :     0 :  None :     1 : False :  True :  Reals\n",
            "          (8, 7) :     0 :  None :     1 : False :  True :  Reals\n",
            "          (8, 8) :     0 :  None :     1 : False :  True :  Reals\n",
            "          (8, 9) :     0 :  None :     1 : False :  True :  Reals\n",
            "         (8, 10) :     0 :  None :     1 : False :  True :  Reals\n",
            "         (8, 11) :     0 :  None :     1 : False :  True :  Reals\n",
            "          (9, 0) :     0 :  None :     1 : False :  True :  Reals\n",
            "          (9, 1) :     0 :  None :     1 : False :  True :  Reals\n",
            "          (9, 2) :     0 :  None :     1 : False :  True :  Reals\n",
            "          (9, 3) :     0 :  None :     1 : False :  True :  Reals\n",
            "          (9, 4) :     0 :  None :     1 : False :  True :  Reals\n",
            "          (9, 5) :     0 :  None :     1 : False :  True :  Reals\n",
            "          (9, 6) :     0 :  None :     1 : False :  True :  Reals\n",
            "          (9, 7) :     0 :  None :     1 : False :  True :  Reals\n",
            "          (9, 8) :     0 :  None :     1 : False :  True :  Reals\n",
            "          (9, 9) :     0 :  None :     1 : False :  True :  Reals\n",
            "         (9, 10) :     0 :  None :     1 : False :  True :  Reals\n",
            "         (9, 11) :     0 :  None :     1 : False :  True :  Reals\n",
            "         (10, 0) :     0 :  None :     1 : False :  True :  Reals\n",
            "         (10, 1) :     0 :  None :     1 : False :  True :  Reals\n",
            "         (10, 2) :     0 :  None :     1 : False :  True :  Reals\n",
            "         (10, 3) :     0 :  None :     1 : False :  True :  Reals\n",
            "         (10, 4) :     0 :  None :     1 : False :  True :  Reals\n",
            "         (10, 5) :     0 :  None :     1 : False :  True :  Reals\n",
            "         (10, 6) :     0 :  None :     1 : False :  True :  Reals\n",
            "         (10, 7) :     0 :  None :     1 : False :  True :  Reals\n",
            "         (10, 8) :     0 :  None :     1 : False :  True :  Reals\n",
            "         (10, 9) :     0 :  None :     1 : False :  True :  Reals\n",
            "        (10, 10) :     0 :  None :     1 : False :  True :  Reals\n",
            "        (10, 11) :     0 :  None :     1 : False :  True :  Reals\n",
            "         (11, 0) :     0 :  None :     1 : False :  True :  Reals\n",
            "         (11, 1) :     0 :  None :     1 : False :  True :  Reals\n",
            "         (11, 2) :     0 :  None :     1 : False :  True :  Reals\n",
            "         (11, 3) :     0 :  None :     1 : False :  True :  Reals\n",
            "         (11, 4) :     0 :  None :     1 : False :  True :  Reals\n",
            "         (11, 5) :     0 :  None :     1 : False :  True :  Reals\n",
            "         (11, 6) :     0 :  None :     1 : False :  True :  Reals\n",
            "         (11, 7) :     0 :  None :     1 : False :  True :  Reals\n",
            "         (11, 8) :     0 :  None :     1 : False :  True :  Reals\n",
            "         (11, 9) :     0 :  None :     1 : False :  True :  Reals\n",
            "        (11, 10) :     0 :  None :     1 : False :  True :  Reals\n",
            "        (11, 11) :     0 :  None :     1 : False :  True :  Reals\n",
            "\n",
            "1 Objective Declarations\n",
            "    objective : Size=1, Index=None, Active=True\n",
            "        Key  : Active : Sense    : Expression\n",
            "        None :   True : minimize : 19.0*x[0,0] + 12.0*x[0,1] + 18.0*x[0,2] + 19.0*x[0,3] + 22.0*x[0,4] + 21.0*x[0,5] + 17.0*x[0,6] + 20.0*x[0,7] + 16.0*x[0,8] + 15.0*x[0,9] + 21.0*x[0,10] + 24.0*x[0,11] + 22.0*x[1,0] + 22.0*x[1,1] + 19.0*x[1,2] + 21.0*x[1,3] + 22.0*x[1,4] + 24.0*x[1,5] + 18.0*x[1,6] + 17.0*x[1,7] + 21.0*x[1,8] + 19.0*x[1,9] + 22.0*x[1,10] + 23.0*x[1,11] + 18.0*x[2,0] + 23.0*x[2,1] + 20.0*x[2,2] + 20.0*x[2,3] + 21.0*x[2,4] + 22.0*x[2,5] + 19.0*x[2,6] + 18.0*x[2,7] + 20.0*x[2,8] + 23.0*x[2,9] + 19.0*x[2,10] + 19.0*x[2,11] + 18.0*x[3,0] + 21.0*x[3,1] + 20.0*x[3,2] + 18.0*x[3,3] + 17.0*x[3,4] + 19.0*x[3,5] + 24.0*x[3,6] + 16.0*x[3,7] + 18.0*x[3,8] + 16.0*x[3,9] + 20.0*x[3,10] + 24.0*x[3,11] + 23.0*x[4,0] + 17.0*x[4,1] + 16.0*x[4,2] + 19.0*x[4,3] + 24.0*x[4,4] + 21.0*x[4,5] + 23.0*x[4,6] + 21.0*x[4,7] + 20.0*x[4,8] + 21.0*x[4,9] + 22.0*x[4,10] + 21.0*x[4,11] + 23.0*x[5,0] + 20.0*x[5,1] + 17.0*x[5,2] + 16.0*x[5,3] + 20.0*x[5,4] + 23.0*x[5,5] + 22.0*x[5,6] + 25.0*x[5,7] + 24.0*x[5,8] + 19.0*x[5,9] + 17.0*x[5,10] + 20.0*x[5,11] + 22.0*x[6,0] + 18.0*x[6,1] + 17.0*x[6,2] + 15.0*x[6,3] + 22.0*x[6,4] + 24.0*x[6,5] + 23.0*x[6,6] + 20.0*x[6,7] + 22.0*x[6,8] + 19.0*x[6,9] + 23.0*x[6,10] + 20.0*x[6,11] + 24.0*x[7,0] + 22.0*x[7,1] + 21.0*x[7,2] + 23.0*x[7,3] + 18.0*x[7,4] + 17.0*x[7,5] + 16.0*x[7,6] + 19.0*x[7,7] + 24.0*x[7,8] + 21.0*x[7,9] + 20.0*x[7,10] + 23.0*x[7,11] + 21.0*x[8,0] + 20.0*x[8,1] + 17.0*x[8,2] + 18.0*x[8,3] + 16.0*x[8,4] + 24.0*x[8,5] + 19.0*x[8,6] + 17.0*x[8,7] + 18.0*x[8,8] + 20.0*x[8,9] + 21.0*x[8,10] + 23.0*x[8,11] + 19.0*x[9,0] + 22.0*x[9,1] + 21.0*x[9,2] + 24.0*x[9,3] + 20.0*x[9,4] + 23.0*x[9,5] + 19.0*x[9,6] + 18.0*x[9,7] + 23.0*x[9,8] + 24.0*x[9,9] + 25.0*x[9,10] + 20.0*x[9,11] + 20.0*x[10,0] + 24.0*x[10,1] + 22.0*x[10,2] + 20.0*x[10,3] + 23.0*x[10,4] + 19.0*x[10,5] + 18.0*x[10,6] + 16.0*x[10,7] + 22.0*x[10,8] + 24.0*x[10,9] + 21.0*x[10,10] + 24.0*x[10,11] + 22.0*x[11,0] + 23.0*x[11,1] + 24.0*x[11,2] + 20.0*x[11,3] + 21.0*x[11,4] + 20.0*x[11,5] + 20.0*x[11,6] + 19.0*x[11,7] + 17.0*x[11,8] + 19.0*x[11,9] + 20.0*x[11,10] + 22.0*x[11,11]\n",
            "\n",
            "1 Constraint Declarations\n",
            "    constraints : Size=24, Index=constraints_index, Active=True\n",
            "        Key : Lower : Body                                                                                                                    : Upper : Active\n",
            "          1 :   1.0 :             x[0,0] + x[0,1] + x[0,2] + x[0,3] + x[0,4] + x[0,5] + x[0,6] + x[0,7] + x[0,8] + x[0,9] + x[0,10] + x[0,11] :   1.0 :   True\n",
            "          2 :   1.0 :             x[1,0] + x[1,1] + x[1,2] + x[1,3] + x[1,4] + x[1,5] + x[1,6] + x[1,7] + x[1,8] + x[1,9] + x[1,10] + x[1,11] :   1.0 :   True\n",
            "          3 :   1.0 :             x[2,0] + x[2,1] + x[2,2] + x[2,3] + x[2,4] + x[2,5] + x[2,6] + x[2,7] + x[2,8] + x[2,9] + x[2,10] + x[2,11] :   1.0 :   True\n",
            "          4 :   1.0 :             x[3,0] + x[3,1] + x[3,2] + x[3,3] + x[3,4] + x[3,5] + x[3,6] + x[3,7] + x[3,8] + x[3,9] + x[3,10] + x[3,11] :   1.0 :   True\n",
            "          5 :   1.0 :             x[4,0] + x[4,1] + x[4,2] + x[4,3] + x[4,4] + x[4,5] + x[4,6] + x[4,7] + x[4,8] + x[4,9] + x[4,10] + x[4,11] :   1.0 :   True\n",
            "          6 :   1.0 :             x[5,0] + x[5,1] + x[5,2] + x[5,3] + x[5,4] + x[5,5] + x[5,6] + x[5,7] + x[5,8] + x[5,9] + x[5,10] + x[5,11] :   1.0 :   True\n",
            "          7 :   1.0 :             x[6,0] + x[6,1] + x[6,2] + x[6,3] + x[6,4] + x[6,5] + x[6,6] + x[6,7] + x[6,8] + x[6,9] + x[6,10] + x[6,11] :   1.0 :   True\n",
            "          8 :   1.0 :             x[7,0] + x[7,1] + x[7,2] + x[7,3] + x[7,4] + x[7,5] + x[7,6] + x[7,7] + x[7,8] + x[7,9] + x[7,10] + x[7,11] :   1.0 :   True\n",
            "          9 :   1.0 :             x[8,0] + x[8,1] + x[8,2] + x[8,3] + x[8,4] + x[8,5] + x[8,6] + x[8,7] + x[8,8] + x[8,9] + x[8,10] + x[8,11] :   1.0 :   True\n",
            "         10 :   1.0 :             x[9,0] + x[9,1] + x[9,2] + x[9,3] + x[9,4] + x[9,5] + x[9,6] + x[9,7] + x[9,8] + x[9,9] + x[9,10] + x[9,11] :   1.0 :   True\n",
            "         11 :   1.0 : x[10,0] + x[10,1] + x[10,2] + x[10,3] + x[10,4] + x[10,5] + x[10,6] + x[10,7] + x[10,8] + x[10,9] + x[10,10] + x[10,11] :   1.0 :   True\n",
            "         12 :   1.0 : x[11,0] + x[11,1] + x[11,2] + x[11,3] + x[11,4] + x[11,5] + x[11,6] + x[11,7] + x[11,8] + x[11,9] + x[11,10] + x[11,11] :   1.0 :   True\n",
            "         13 :   1.0 :             x[0,0] + x[1,0] + x[2,0] + x[3,0] + x[4,0] + x[5,0] + x[6,0] + x[7,0] + x[8,0] + x[9,0] + x[10,0] + x[11,0] :   1.0 :   True\n",
            "         14 :   1.0 :             x[0,1] + x[1,1] + x[2,1] + x[3,1] + x[4,1] + x[5,1] + x[6,1] + x[7,1] + x[8,1] + x[9,1] + x[10,1] + x[11,1] :   1.0 :   True\n",
            "         15 :   1.0 :             x[0,2] + x[1,2] + x[2,2] + x[3,2] + x[4,2] + x[5,2] + x[6,2] + x[7,2] + x[8,2] + x[9,2] + x[10,2] + x[11,2] :   1.0 :   True\n",
            "         16 :   1.0 :             x[0,3] + x[1,3] + x[2,3] + x[3,3] + x[4,3] + x[5,3] + x[6,3] + x[7,3] + x[8,3] + x[9,3] + x[10,3] + x[11,3] :   1.0 :   True\n",
            "         17 :   1.0 :             x[0,4] + x[1,4] + x[2,4] + x[3,4] + x[4,4] + x[5,4] + x[6,4] + x[7,4] + x[8,4] + x[9,4] + x[10,4] + x[11,4] :   1.0 :   True\n",
            "         18 :   1.0 :             x[0,5] + x[1,5] + x[2,5] + x[3,5] + x[4,5] + x[5,5] + x[6,5] + x[7,5] + x[8,5] + x[9,5] + x[10,5] + x[11,5] :   1.0 :   True\n",
            "         19 :   1.0 :             x[0,6] + x[1,6] + x[2,6] + x[3,6] + x[4,6] + x[5,6] + x[6,6] + x[7,6] + x[8,6] + x[9,6] + x[10,6] + x[11,6] :   1.0 :   True\n",
            "         20 :   1.0 :             x[0,7] + x[1,7] + x[2,7] + x[3,7] + x[4,7] + x[5,7] + x[6,7] + x[7,7] + x[8,7] + x[9,7] + x[10,7] + x[11,7] :   1.0 :   True\n",
            "         21 :   1.0 :             x[0,8] + x[1,8] + x[2,8] + x[3,8] + x[4,8] + x[5,8] + x[6,8] + x[7,8] + x[8,8] + x[9,8] + x[10,8] + x[11,8] :   1.0 :   True\n",
            "         22 :   1.0 :             x[0,9] + x[1,9] + x[2,9] + x[3,9] + x[4,9] + x[5,9] + x[6,9] + x[7,9] + x[8,9] + x[9,9] + x[10,9] + x[11,9] :   1.0 :   True\n",
            "         23 :   1.0 : x[0,10] + x[1,10] + x[2,10] + x[3,10] + x[4,10] + x[5,10] + x[6,10] + x[7,10] + x[8,10] + x[9,10] + x[10,10] + x[11,10] :   1.0 :   True\n",
            "         24 :   1.0 : x[0,11] + x[1,11] + x[2,11] + x[3,11] + x[4,11] + x[5,11] + x[6,11] + x[7,11] + x[8,11] + x[9,11] + x[10,11] + x[11,11] :   1.0 :   True\n",
            "\n",
            "7 Declarations: x_index_0 x_index_1 x_index x objective constraints_index constraints\n"
          ],
          "name": "stdout"
        }
      ]
    },
    {
      "cell_type": "code",
      "metadata": {
        "id": "jqNi78zTh7SX"
      },
      "source": [
        "!apt-get install -y -qq coinor-cbc"
      ],
      "execution_count": null,
      "outputs": []
    },
    {
      "cell_type": "code",
      "metadata": {
        "id": "wubo2Wc1lBWQ"
      },
      "source": [
        "opt_cbc = SolverFactory('cbc')"
      ],
      "execution_count": null,
      "outputs": []
    },
    {
      "cell_type": "code",
      "metadata": {
        "id": "tqDnTRq6lWlt",
        "colab": {
          "base_uri": "https://localhost:8080/",
          "height": 544
        },
        "outputId": "077b41b7-5a95-4917-d8f5-5862c4c43657"
      },
      "source": [
        "new_result = opt_cbc.solve(new_model)\n",
        "print(new_result)\n",
        "\n",
        "print('Solver status:', new_result.solver.status)\n",
        "print('Solver termination condition:',new_result.solver.termination_condition)"
      ],
      "execution_count": null,
      "outputs": [
        {
          "output_type": "stream",
          "text": [
            "\n",
            "Problem: \n",
            "- Name: unknown\n",
            "  Lower bound: 198.0\n",
            "  Upper bound: 198.0\n",
            "  Number of objectives: 1\n",
            "  Number of constraints: 25\n",
            "  Number of variables: 145\n",
            "  Number of nonzeros: 144\n",
            "  Sense: minimize\n",
            "Solver: \n",
            "- Status: ok\n",
            "  User time: -1.0\n",
            "  System time: 0.0\n",
            "  Wallclock time: 0.0\n",
            "  Termination condition: optimal\n",
            "  Termination message: Model was solved to optimality (subject to tolerances), and an optimal solution is available.\n",
            "  Statistics: \n",
            "    Branch and bound: \n",
            "      Number of bounded subproblems: None\n",
            "      Number of created subproblems: None\n",
            "    Black box: \n",
            "      Number of iterations: 26\n",
            "  Error rc: 0\n",
            "  Time: 0.017049074172973633\n",
            "Solution: \n",
            "- number of solutions: 0\n",
            "  number of solutions displayed: 0\n",
            "\n",
            "Solver status: ok\n",
            "Solver termination condition: optimal\n"
          ],
          "name": "stdout"
        }
      ]
    },
    {
      "cell_type": "code",
      "metadata": {
        "id": "Yb2YmN8ylk-o",
        "colab": {
          "base_uri": "https://localhost:8080/",
          "height": 289
        },
        "outputId": "dbf3fcd2-0754-4e38-dd73-d6a500830b84"
      },
      "source": [
        "# solution display\n",
        "print('\\nObjective = ', new_model.objective())\n",
        "\n",
        "print('\\nDecision Variables with non zero values')\n",
        "for i in row_indices:\n",
        "  for j in col_indices:\n",
        "    if new_model.x[i,j].value != 0 :\n",
        "      print(new_model.x[i,j],' = ',new_model.x[i,j].value)\n",
        "    else:\n",
        "      pass"
      ],
      "execution_count": null,
      "outputs": [
        {
          "output_type": "stream",
          "text": [
            "\n",
            "Objective =  198.0\n",
            "\n",
            "Decision Variables with non zero values\n",
            "x[0,1]  =  1.0\n",
            "x[1,6]  =  1.0\n",
            "x[2,11]  =  1.0\n",
            "x[3,9]  =  1.0\n",
            "x[4,2]  =  1.0\n",
            "x[5,10]  =  1.0\n",
            "x[6,3]  =  1.0\n",
            "x[7,5]  =  1.0\n",
            "x[8,4]  =  1.0\n",
            "x[9,0]  =  1.0\n",
            "x[10,7]  =  1.0\n",
            "x[11,8]  =  1.0\n"
          ],
          "name": "stdout"
        }
      ]
    },
    {
      "cell_type": "markdown",
      "metadata": {
        "id": "Ik2two_Manrd"
      },
      "source": [
        "9.$\\textbf{ANSWER:}$\\\n",
        "Objective =  198.0 \\\n",
        "\n",
        "optimal solution is:\\\n",
        "$x_{12} = x_{27} = x_{3,12} = x_{4,10} = x_{53} = x_{6,11} = x_{74} = x_{86} = x_{95} = x_{10,1} = x_{11,8} = x_{12,9} = 1$\n"
      ]
    },
    {
      "cell_type": "markdown",
      "metadata": {
        "id": "coBTU_MPeUVW"
      },
      "source": [
        "10.$\\textbf{ANSWER:}$\\\n",
        "The optimal costs for both problems are same i.e. 198 .\\\n",
        "In both cases the values of the variables are\n",
        "integer-valued"
      ]
    },
    {
      "cell_type": "markdown",
      "metadata": {
        "id": "tfpUi35x_DZy"
      },
      "source": [
        "12.$\\textbf{ANSWER:}$\\\n",
        "If facility 1 cannot be assigned to location 4, facility\n",
        "11 cannot be assigned to location 3 and facility 5 cannot be assigned to location 9.Then in that case we will assume the decision variables $x_{14}$ , $x_{11,3}$ , $x_{59}$  $\\epsilon\\text{ }\\text{{0}}$  in our optimization model.\\\n",
        "$Alternatively$ we can increase the cost (in the text file) corresponding to these variables to a level (here 35) so that these variables are automatically neglected while obtaining the optimum cost.\\\n",
        "Here i choose to procede with the later approach."
      ]
    },
    {
      "cell_type": "code",
      "metadata": {
        "id": "6d2U51iIHkcU"
      },
      "source": [
        "new_cost_matrix = np.loadtxt('lab5_ex2_1.txt', delimiter=',')"
      ],
      "execution_count": null,
      "outputs": []
    },
    {
      "cell_type": "code",
      "metadata": {
        "id": "sxyzhweoItOq",
        "colab": {
          "base_uri": "https://localhost:8080/",
          "height": 221
        },
        "outputId": "8f06859c-f755-4b75-f67a-77f315ac8d14"
      },
      "source": [
        "print(new_cost_matrix)"
      ],
      "execution_count": null,
      "outputs": [
        {
          "output_type": "stream",
          "text": [
            "[[19. 12. 18. 35. 22. 21. 17. 20. 16. 15. 21. 24.]\n",
            " [22. 22. 19. 21. 22. 24. 18. 17. 21. 19. 22. 23.]\n",
            " [18. 23. 20. 20. 21. 22. 19. 18. 20. 23. 19. 19.]\n",
            " [18. 21. 20. 18. 17. 19. 24. 16. 18. 16. 20. 24.]\n",
            " [23. 17. 16. 19. 24. 21. 23. 21. 35. 21. 22. 21.]\n",
            " [23. 20. 17. 16. 20. 23. 22. 25. 24. 19. 17. 20.]\n",
            " [22. 18. 17. 15. 22. 24. 23. 20. 22. 19. 23. 20.]\n",
            " [24. 22. 21. 23. 18. 17. 16. 19. 24. 21. 20. 23.]\n",
            " [21. 20. 17. 18. 16. 24. 19. 17. 18. 20. 21. 23.]\n",
            " [19. 22. 21. 24. 20. 23. 19. 18. 23. 24. 25. 20.]\n",
            " [20. 24. 35. 20. 23. 19. 18. 16. 22. 24. 21. 24.]\n",
            " [22. 23. 24. 20. 21. 20. 20. 19. 17. 19. 20. 22.]]\n"
          ],
          "name": "stdout"
        }
      ]
    },
    {
      "cell_type": "code",
      "metadata": {
        "id": "cV0j9AjSI5-o"
      },
      "source": [
        "E=np.array(new_cost_matrix)"
      ],
      "execution_count": null,
      "outputs": []
    },
    {
      "cell_type": "code",
      "metadata": {
        "id": "Jar2oQ9SJf36"
      },
      "source": [
        "model_1 = ConcreteModel()"
      ],
      "execution_count": null,
      "outputs": []
    },
    {
      "cell_type": "code",
      "metadata": {
        "id": "fl1keo1lPU0X"
      },
      "source": [
        "M=12 #denoting number of factories\n",
        "N=12 #denoting number of locations"
      ],
      "execution_count": null,
      "outputs": []
    },
    {
      "cell_type": "code",
      "metadata": {
        "id": "e85571NzPgbl",
        "colab": {
          "base_uri": "https://localhost:8080/",
          "height": 51
        },
        "outputId": "fa34d608-27a7-41ad-9207-685fde842890"
      },
      "source": [
        "col_indices = np.arange(N)\n",
        "row_indices = np.arange(M)\n",
        "print(col_indices)\n",
        "print(row_indices)"
      ],
      "execution_count": null,
      "outputs": [
        {
          "output_type": "stream",
          "text": [
            "[ 0  1  2  3  4  5  6  7  8  9 10 11]\n",
            "[ 0  1  2  3  4  5  6  7  8  9 10 11]\n"
          ],
          "name": "stdout"
        }
      ]
    },
    {
      "cell_type": "code",
      "metadata": {
        "id": "m6qLFqKVJsj3"
      },
      "source": [
        "model_1.x = Var(row_indices, col_indices, domain= Binary)"
      ],
      "execution_count": null,
      "outputs": []
    },
    {
      "cell_type": "code",
      "metadata": {
        "id": "Cob2CQIWJ9pW"
      },
      "source": [
        "model_1.objective = Objective(expr=sum(E[i][j]*model_1.x[i,j] for i in row_indices for j in col_indices),sense=minimize)"
      ],
      "execution_count": null,
      "outputs": []
    },
    {
      "cell_type": "code",
      "metadata": {
        "id": "HtDN6jWeKQKE"
      },
      "source": [
        "model_1.constraints = ConstraintList()"
      ],
      "execution_count": null,
      "outputs": []
    },
    {
      "cell_type": "code",
      "metadata": {
        "id": "66VqAIFyKjEb"
      },
      "source": [
        "for i in row_indices:\n",
        "  model_1.constraints.add(expr=sum(model_1.x[i,j] for j in col_indices) == 1)\n",
        "\n",
        "for j in col_indices:\n",
        "  model_1.constraints.add(expr=sum(model_1.x[i,j] for i in row_indices) == 1)"
      ],
      "execution_count": null,
      "outputs": []
    },
    {
      "cell_type": "code",
      "metadata": {
        "id": "xo89hicXKzMI",
        "colab": {
          "base_uri": "https://localhost:8080/",
          "height": 1000
        },
        "outputId": "f4c04371-d549-4924-fc41-80e3506a210c"
      },
      "source": [
        "model_1.pprint()"
      ],
      "execution_count": null,
      "outputs": [
        {
          "output_type": "stream",
          "text": [
            "4 Set Declarations\n",
            "    constraints_index : Size=1, Index=None, Ordered=Insertion\n",
            "        Key  : Dimen : Domain : Size : Members\n",
            "        None :     1 :    Any :   24 : {1, 2, 3, 4, 5, 6, 7, 8, 9, 10, 11, 12, 13, 14, 15, 16, 17, 18, 19, 20, 21, 22, 23, 24}\n",
            "    x_index : Size=1, Index=None, Ordered=False\n",
            "        Key  : Dimen : Domain              : Size : Members\n",
            "        None :     2 : x_index_0*x_index_1 :  144 : {(0, 0), (0, 1), (0, 2), (0, 3), (0, 4), (0, 5), (0, 6), (0, 7), (0, 8), (0, 9), (0, 10), (0, 11), (1, 0), (1, 1), (1, 2), (1, 3), (1, 4), (1, 5), (1, 6), (1, 7), (1, 8), (1, 9), (1, 10), (1, 11), (2, 0), (2, 1), (2, 2), (2, 3), (2, 4), (2, 5), (2, 6), (2, 7), (2, 8), (2, 9), (2, 10), (2, 11), (3, 0), (3, 1), (3, 2), (3, 3), (3, 4), (3, 5), (3, 6), (3, 7), (3, 8), (3, 9), (3, 10), (3, 11), (4, 0), (4, 1), (4, 2), (4, 3), (4, 4), (4, 5), (4, 6), (4, 7), (4, 8), (4, 9), (4, 10), (4, 11), (5, 0), (5, 1), (5, 2), (5, 3), (5, 4), (5, 5), (5, 6), (5, 7), (5, 8), (5, 9), (5, 10), (5, 11), (6, 0), (6, 1), (6, 2), (6, 3), (6, 4), (6, 5), (6, 6), (6, 7), (6, 8), (6, 9), (6, 10), (6, 11), (7, 0), (7, 1), (7, 2), (7, 3), (7, 4), (7, 5), (7, 6), (7, 7), (7, 8), (7, 9), (7, 10), (7, 11), (8, 0), (8, 1), (8, 2), (8, 3), (8, 4), (8, 5), (8, 6), (8, 7), (8, 8), (8, 9), (8, 10), (8, 11), (9, 0), (9, 1), (9, 2), (9, 3), (9, 4), (9, 5), (9, 6), (9, 7), (9, 8), (9, 9), (9, 10), (9, 11), (10, 0), (10, 1), (10, 2), (10, 3), (10, 4), (10, 5), (10, 6), (10, 7), (10, 8), (10, 9), (10, 10), (10, 11), (11, 0), (11, 1), (11, 2), (11, 3), (11, 4), (11, 5), (11, 6), (11, 7), (11, 8), (11, 9), (11, 10), (11, 11)}\n",
            "    x_index_0 : Size=1, Index=None, Ordered=False\n",
            "        Key  : Dimen : Domain : Size : Members\n",
            "        None :     1 :    Any :   12 : {0, 1, 2, 3, 4, 5, 6, 7, 8, 9, 10, 11}\n",
            "    x_index_1 : Size=1, Index=None, Ordered=False\n",
            "        Key  : Dimen : Domain : Size : Members\n",
            "        None :     1 :    Any :   12 : {0, 1, 2, 3, 4, 5, 6, 7, 8, 9, 10, 11}\n",
            "\n",
            "1 Var Declarations\n",
            "    x : Size=144, Index=x_index\n",
            "        Key      : Lower : Value : Upper : Fixed : Stale : Domain\n",
            "          (0, 0) :     0 :  None :     1 : False :  True : Binary\n",
            "          (0, 1) :     0 :  None :     1 : False :  True : Binary\n",
            "          (0, 2) :     0 :  None :     1 : False :  True : Binary\n",
            "          (0, 3) :     0 :  None :     1 : False :  True : Binary\n",
            "          (0, 4) :     0 :  None :     1 : False :  True : Binary\n",
            "          (0, 5) :     0 :  None :     1 : False :  True : Binary\n",
            "          (0, 6) :     0 :  None :     1 : False :  True : Binary\n",
            "          (0, 7) :     0 :  None :     1 : False :  True : Binary\n",
            "          (0, 8) :     0 :  None :     1 : False :  True : Binary\n",
            "          (0, 9) :     0 :  None :     1 : False :  True : Binary\n",
            "         (0, 10) :     0 :  None :     1 : False :  True : Binary\n",
            "         (0, 11) :     0 :  None :     1 : False :  True : Binary\n",
            "          (1, 0) :     0 :  None :     1 : False :  True : Binary\n",
            "          (1, 1) :     0 :  None :     1 : False :  True : Binary\n",
            "          (1, 2) :     0 :  None :     1 : False :  True : Binary\n",
            "          (1, 3) :     0 :  None :     1 : False :  True : Binary\n",
            "          (1, 4) :     0 :  None :     1 : False :  True : Binary\n",
            "          (1, 5) :     0 :  None :     1 : False :  True : Binary\n",
            "          (1, 6) :     0 :  None :     1 : False :  True : Binary\n",
            "          (1, 7) :     0 :  None :     1 : False :  True : Binary\n",
            "          (1, 8) :     0 :  None :     1 : False :  True : Binary\n",
            "          (1, 9) :     0 :  None :     1 : False :  True : Binary\n",
            "         (1, 10) :     0 :  None :     1 : False :  True : Binary\n",
            "         (1, 11) :     0 :  None :     1 : False :  True : Binary\n",
            "          (2, 0) :     0 :  None :     1 : False :  True : Binary\n",
            "          (2, 1) :     0 :  None :     1 : False :  True : Binary\n",
            "          (2, 2) :     0 :  None :     1 : False :  True : Binary\n",
            "          (2, 3) :     0 :  None :     1 : False :  True : Binary\n",
            "          (2, 4) :     0 :  None :     1 : False :  True : Binary\n",
            "          (2, 5) :     0 :  None :     1 : False :  True : Binary\n",
            "          (2, 6) :     0 :  None :     1 : False :  True : Binary\n",
            "          (2, 7) :     0 :  None :     1 : False :  True : Binary\n",
            "          (2, 8) :     0 :  None :     1 : False :  True : Binary\n",
            "          (2, 9) :     0 :  None :     1 : False :  True : Binary\n",
            "         (2, 10) :     0 :  None :     1 : False :  True : Binary\n",
            "         (2, 11) :     0 :  None :     1 : False :  True : Binary\n",
            "          (3, 0) :     0 :  None :     1 : False :  True : Binary\n",
            "          (3, 1) :     0 :  None :     1 : False :  True : Binary\n",
            "          (3, 2) :     0 :  None :     1 : False :  True : Binary\n",
            "          (3, 3) :     0 :  None :     1 : False :  True : Binary\n",
            "          (3, 4) :     0 :  None :     1 : False :  True : Binary\n",
            "          (3, 5) :     0 :  None :     1 : False :  True : Binary\n",
            "          (3, 6) :     0 :  None :     1 : False :  True : Binary\n",
            "          (3, 7) :     0 :  None :     1 : False :  True : Binary\n",
            "          (3, 8) :     0 :  None :     1 : False :  True : Binary\n",
            "          (3, 9) :     0 :  None :     1 : False :  True : Binary\n",
            "         (3, 10) :     0 :  None :     1 : False :  True : Binary\n",
            "         (3, 11) :     0 :  None :     1 : False :  True : Binary\n",
            "          (4, 0) :     0 :  None :     1 : False :  True : Binary\n",
            "          (4, 1) :     0 :  None :     1 : False :  True : Binary\n",
            "          (4, 2) :     0 :  None :     1 : False :  True : Binary\n",
            "          (4, 3) :     0 :  None :     1 : False :  True : Binary\n",
            "          (4, 4) :     0 :  None :     1 : False :  True : Binary\n",
            "          (4, 5) :     0 :  None :     1 : False :  True : Binary\n",
            "          (4, 6) :     0 :  None :     1 : False :  True : Binary\n",
            "          (4, 7) :     0 :  None :     1 : False :  True : Binary\n",
            "          (4, 8) :     0 :  None :     1 : False :  True : Binary\n",
            "          (4, 9) :     0 :  None :     1 : False :  True : Binary\n",
            "         (4, 10) :     0 :  None :     1 : False :  True : Binary\n",
            "         (4, 11) :     0 :  None :     1 : False :  True : Binary\n",
            "          (5, 0) :     0 :  None :     1 : False :  True : Binary\n",
            "          (5, 1) :     0 :  None :     1 : False :  True : Binary\n",
            "          (5, 2) :     0 :  None :     1 : False :  True : Binary\n",
            "          (5, 3) :     0 :  None :     1 : False :  True : Binary\n",
            "          (5, 4) :     0 :  None :     1 : False :  True : Binary\n",
            "          (5, 5) :     0 :  None :     1 : False :  True : Binary\n",
            "          (5, 6) :     0 :  None :     1 : False :  True : Binary\n",
            "          (5, 7) :     0 :  None :     1 : False :  True : Binary\n",
            "          (5, 8) :     0 :  None :     1 : False :  True : Binary\n",
            "          (5, 9) :     0 :  None :     1 : False :  True : Binary\n",
            "         (5, 10) :     0 :  None :     1 : False :  True : Binary\n",
            "         (5, 11) :     0 :  None :     1 : False :  True : Binary\n",
            "          (6, 0) :     0 :  None :     1 : False :  True : Binary\n",
            "          (6, 1) :     0 :  None :     1 : False :  True : Binary\n",
            "          (6, 2) :     0 :  None :     1 : False :  True : Binary\n",
            "          (6, 3) :     0 :  None :     1 : False :  True : Binary\n",
            "          (6, 4) :     0 :  None :     1 : False :  True : Binary\n",
            "          (6, 5) :     0 :  None :     1 : False :  True : Binary\n",
            "          (6, 6) :     0 :  None :     1 : False :  True : Binary\n",
            "          (6, 7) :     0 :  None :     1 : False :  True : Binary\n",
            "          (6, 8) :     0 :  None :     1 : False :  True : Binary\n",
            "          (6, 9) :     0 :  None :     1 : False :  True : Binary\n",
            "         (6, 10) :     0 :  None :     1 : False :  True : Binary\n",
            "         (6, 11) :     0 :  None :     1 : False :  True : Binary\n",
            "          (7, 0) :     0 :  None :     1 : False :  True : Binary\n",
            "          (7, 1) :     0 :  None :     1 : False :  True : Binary\n",
            "          (7, 2) :     0 :  None :     1 : False :  True : Binary\n",
            "          (7, 3) :     0 :  None :     1 : False :  True : Binary\n",
            "          (7, 4) :     0 :  None :     1 : False :  True : Binary\n",
            "          (7, 5) :     0 :  None :     1 : False :  True : Binary\n",
            "          (7, 6) :     0 :  None :     1 : False :  True : Binary\n",
            "          (7, 7) :     0 :  None :     1 : False :  True : Binary\n",
            "          (7, 8) :     0 :  None :     1 : False :  True : Binary\n",
            "          (7, 9) :     0 :  None :     1 : False :  True : Binary\n",
            "         (7, 10) :     0 :  None :     1 : False :  True : Binary\n",
            "         (7, 11) :     0 :  None :     1 : False :  True : Binary\n",
            "          (8, 0) :     0 :  None :     1 : False :  True : Binary\n",
            "          (8, 1) :     0 :  None :     1 : False :  True : Binary\n",
            "          (8, 2) :     0 :  None :     1 : False :  True : Binary\n",
            "          (8, 3) :     0 :  None :     1 : False :  True : Binary\n",
            "          (8, 4) :     0 :  None :     1 : False :  True : Binary\n",
            "          (8, 5) :     0 :  None :     1 : False :  True : Binary\n",
            "          (8, 6) :     0 :  None :     1 : False :  True : Binary\n",
            "          (8, 7) :     0 :  None :     1 : False :  True : Binary\n",
            "          (8, 8) :     0 :  None :     1 : False :  True : Binary\n",
            "          (8, 9) :     0 :  None :     1 : False :  True : Binary\n",
            "         (8, 10) :     0 :  None :     1 : False :  True : Binary\n",
            "         (8, 11) :     0 :  None :     1 : False :  True : Binary\n",
            "          (9, 0) :     0 :  None :     1 : False :  True : Binary\n",
            "          (9, 1) :     0 :  None :     1 : False :  True : Binary\n",
            "          (9, 2) :     0 :  None :     1 : False :  True : Binary\n",
            "          (9, 3) :     0 :  None :     1 : False :  True : Binary\n",
            "          (9, 4) :     0 :  None :     1 : False :  True : Binary\n",
            "          (9, 5) :     0 :  None :     1 : False :  True : Binary\n",
            "          (9, 6) :     0 :  None :     1 : False :  True : Binary\n",
            "          (9, 7) :     0 :  None :     1 : False :  True : Binary\n",
            "          (9, 8) :     0 :  None :     1 : False :  True : Binary\n",
            "          (9, 9) :     0 :  None :     1 : False :  True : Binary\n",
            "         (9, 10) :     0 :  None :     1 : False :  True : Binary\n",
            "         (9, 11) :     0 :  None :     1 : False :  True : Binary\n",
            "         (10, 0) :     0 :  None :     1 : False :  True : Binary\n",
            "         (10, 1) :     0 :  None :     1 : False :  True : Binary\n",
            "         (10, 2) :     0 :  None :     1 : False :  True : Binary\n",
            "         (10, 3) :     0 :  None :     1 : False :  True : Binary\n",
            "         (10, 4) :     0 :  None :     1 : False :  True : Binary\n",
            "         (10, 5) :     0 :  None :     1 : False :  True : Binary\n",
            "         (10, 6) :     0 :  None :     1 : False :  True : Binary\n",
            "         (10, 7) :     0 :  None :     1 : False :  True : Binary\n",
            "         (10, 8) :     0 :  None :     1 : False :  True : Binary\n",
            "         (10, 9) :     0 :  None :     1 : False :  True : Binary\n",
            "        (10, 10) :     0 :  None :     1 : False :  True : Binary\n",
            "        (10, 11) :     0 :  None :     1 : False :  True : Binary\n",
            "         (11, 0) :     0 :  None :     1 : False :  True : Binary\n",
            "         (11, 1) :     0 :  None :     1 : False :  True : Binary\n",
            "         (11, 2) :     0 :  None :     1 : False :  True : Binary\n",
            "         (11, 3) :     0 :  None :     1 : False :  True : Binary\n",
            "         (11, 4) :     0 :  None :     1 : False :  True : Binary\n",
            "         (11, 5) :     0 :  None :     1 : False :  True : Binary\n",
            "         (11, 6) :     0 :  None :     1 : False :  True : Binary\n",
            "         (11, 7) :     0 :  None :     1 : False :  True : Binary\n",
            "         (11, 8) :     0 :  None :     1 : False :  True : Binary\n",
            "         (11, 9) :     0 :  None :     1 : False :  True : Binary\n",
            "        (11, 10) :     0 :  None :     1 : False :  True : Binary\n",
            "        (11, 11) :     0 :  None :     1 : False :  True : Binary\n",
            "\n",
            "1 Objective Declarations\n",
            "    objective : Size=1, Index=None, Active=True\n",
            "        Key  : Active : Sense    : Expression\n",
            "        None :   True : minimize : 19.0*x[0,0] + 12.0*x[0,1] + 18.0*x[0,2] + 35.0*x[0,3] + 22.0*x[0,4] + 21.0*x[0,5] + 17.0*x[0,6] + 20.0*x[0,7] + 16.0*x[0,8] + 15.0*x[0,9] + 21.0*x[0,10] + 24.0*x[0,11] + 22.0*x[1,0] + 22.0*x[1,1] + 19.0*x[1,2] + 21.0*x[1,3] + 22.0*x[1,4] + 24.0*x[1,5] + 18.0*x[1,6] + 17.0*x[1,7] + 21.0*x[1,8] + 19.0*x[1,9] + 22.0*x[1,10] + 23.0*x[1,11] + 18.0*x[2,0] + 23.0*x[2,1] + 20.0*x[2,2] + 20.0*x[2,3] + 21.0*x[2,4] + 22.0*x[2,5] + 19.0*x[2,6] + 18.0*x[2,7] + 20.0*x[2,8] + 23.0*x[2,9] + 19.0*x[2,10] + 19.0*x[2,11] + 18.0*x[3,0] + 21.0*x[3,1] + 20.0*x[3,2] + 18.0*x[3,3] + 17.0*x[3,4] + 19.0*x[3,5] + 24.0*x[3,6] + 16.0*x[3,7] + 18.0*x[3,8] + 16.0*x[3,9] + 20.0*x[3,10] + 24.0*x[3,11] + 23.0*x[4,0] + 17.0*x[4,1] + 16.0*x[4,2] + 19.0*x[4,3] + 24.0*x[4,4] + 21.0*x[4,5] + 23.0*x[4,6] + 21.0*x[4,7] + 35.0*x[4,8] + 21.0*x[4,9] + 22.0*x[4,10] + 21.0*x[4,11] + 23.0*x[5,0] + 20.0*x[5,1] + 17.0*x[5,2] + 16.0*x[5,3] + 20.0*x[5,4] + 23.0*x[5,5] + 22.0*x[5,6] + 25.0*x[5,7] + 24.0*x[5,8] + 19.0*x[5,9] + 17.0*x[5,10] + 20.0*x[5,11] + 22.0*x[6,0] + 18.0*x[6,1] + 17.0*x[6,2] + 15.0*x[6,3] + 22.0*x[6,4] + 24.0*x[6,5] + 23.0*x[6,6] + 20.0*x[6,7] + 22.0*x[6,8] + 19.0*x[6,9] + 23.0*x[6,10] + 20.0*x[6,11] + 24.0*x[7,0] + 22.0*x[7,1] + 21.0*x[7,2] + 23.0*x[7,3] + 18.0*x[7,4] + 17.0*x[7,5] + 16.0*x[7,6] + 19.0*x[7,7] + 24.0*x[7,8] + 21.0*x[7,9] + 20.0*x[7,10] + 23.0*x[7,11] + 21.0*x[8,0] + 20.0*x[8,1] + 17.0*x[8,2] + 18.0*x[8,3] + 16.0*x[8,4] + 24.0*x[8,5] + 19.0*x[8,6] + 17.0*x[8,7] + 18.0*x[8,8] + 20.0*x[8,9] + 21.0*x[8,10] + 23.0*x[8,11] + 19.0*x[9,0] + 22.0*x[9,1] + 21.0*x[9,2] + 24.0*x[9,3] + 20.0*x[9,4] + 23.0*x[9,5] + 19.0*x[9,6] + 18.0*x[9,7] + 23.0*x[9,8] + 24.0*x[9,9] + 25.0*x[9,10] + 20.0*x[9,11] + 20.0*x[10,0] + 24.0*x[10,1] + 35.0*x[10,2] + 20.0*x[10,3] + 23.0*x[10,4] + 19.0*x[10,5] + 18.0*x[10,6] + 16.0*x[10,7] + 22.0*x[10,8] + 24.0*x[10,9] + 21.0*x[10,10] + 24.0*x[10,11] + 22.0*x[11,0] + 23.0*x[11,1] + 24.0*x[11,2] + 20.0*x[11,3] + 21.0*x[11,4] + 20.0*x[11,5] + 20.0*x[11,6] + 19.0*x[11,7] + 17.0*x[11,8] + 19.0*x[11,9] + 20.0*x[11,10] + 22.0*x[11,11]\n",
            "\n",
            "1 Constraint Declarations\n",
            "    constraints : Size=24, Index=constraints_index, Active=True\n",
            "        Key : Lower : Body                                                                                                                    : Upper : Active\n",
            "          1 :   1.0 :             x[0,0] + x[0,1] + x[0,2] + x[0,3] + x[0,4] + x[0,5] + x[0,6] + x[0,7] + x[0,8] + x[0,9] + x[0,10] + x[0,11] :   1.0 :   True\n",
            "          2 :   1.0 :             x[1,0] + x[1,1] + x[1,2] + x[1,3] + x[1,4] + x[1,5] + x[1,6] + x[1,7] + x[1,8] + x[1,9] + x[1,10] + x[1,11] :   1.0 :   True\n",
            "          3 :   1.0 :             x[2,0] + x[2,1] + x[2,2] + x[2,3] + x[2,4] + x[2,5] + x[2,6] + x[2,7] + x[2,8] + x[2,9] + x[2,10] + x[2,11] :   1.0 :   True\n",
            "          4 :   1.0 :             x[3,0] + x[3,1] + x[3,2] + x[3,3] + x[3,4] + x[3,5] + x[3,6] + x[3,7] + x[3,8] + x[3,9] + x[3,10] + x[3,11] :   1.0 :   True\n",
            "          5 :   1.0 :             x[4,0] + x[4,1] + x[4,2] + x[4,3] + x[4,4] + x[4,5] + x[4,6] + x[4,7] + x[4,8] + x[4,9] + x[4,10] + x[4,11] :   1.0 :   True\n",
            "          6 :   1.0 :             x[5,0] + x[5,1] + x[5,2] + x[5,3] + x[5,4] + x[5,5] + x[5,6] + x[5,7] + x[5,8] + x[5,9] + x[5,10] + x[5,11] :   1.0 :   True\n",
            "          7 :   1.0 :             x[6,0] + x[6,1] + x[6,2] + x[6,3] + x[6,4] + x[6,5] + x[6,6] + x[6,7] + x[6,8] + x[6,9] + x[6,10] + x[6,11] :   1.0 :   True\n",
            "          8 :   1.0 :             x[7,0] + x[7,1] + x[7,2] + x[7,3] + x[7,4] + x[7,5] + x[7,6] + x[7,7] + x[7,8] + x[7,9] + x[7,10] + x[7,11] :   1.0 :   True\n",
            "          9 :   1.0 :             x[8,0] + x[8,1] + x[8,2] + x[8,3] + x[8,4] + x[8,5] + x[8,6] + x[8,7] + x[8,8] + x[8,9] + x[8,10] + x[8,11] :   1.0 :   True\n",
            "         10 :   1.0 :             x[9,0] + x[9,1] + x[9,2] + x[9,3] + x[9,4] + x[9,5] + x[9,6] + x[9,7] + x[9,8] + x[9,9] + x[9,10] + x[9,11] :   1.0 :   True\n",
            "         11 :   1.0 : x[10,0] + x[10,1] + x[10,2] + x[10,3] + x[10,4] + x[10,5] + x[10,6] + x[10,7] + x[10,8] + x[10,9] + x[10,10] + x[10,11] :   1.0 :   True\n",
            "         12 :   1.0 : x[11,0] + x[11,1] + x[11,2] + x[11,3] + x[11,4] + x[11,5] + x[11,6] + x[11,7] + x[11,8] + x[11,9] + x[11,10] + x[11,11] :   1.0 :   True\n",
            "         13 :   1.0 :             x[0,0] + x[1,0] + x[2,0] + x[3,0] + x[4,0] + x[5,0] + x[6,0] + x[7,0] + x[8,0] + x[9,0] + x[10,0] + x[11,0] :   1.0 :   True\n",
            "         14 :   1.0 :             x[0,1] + x[1,1] + x[2,1] + x[3,1] + x[4,1] + x[5,1] + x[6,1] + x[7,1] + x[8,1] + x[9,1] + x[10,1] + x[11,1] :   1.0 :   True\n",
            "         15 :   1.0 :             x[0,2] + x[1,2] + x[2,2] + x[3,2] + x[4,2] + x[5,2] + x[6,2] + x[7,2] + x[8,2] + x[9,2] + x[10,2] + x[11,2] :   1.0 :   True\n",
            "         16 :   1.0 :             x[0,3] + x[1,3] + x[2,3] + x[3,3] + x[4,3] + x[5,3] + x[6,3] + x[7,3] + x[8,3] + x[9,3] + x[10,3] + x[11,3] :   1.0 :   True\n",
            "         17 :   1.0 :             x[0,4] + x[1,4] + x[2,4] + x[3,4] + x[4,4] + x[5,4] + x[6,4] + x[7,4] + x[8,4] + x[9,4] + x[10,4] + x[11,4] :   1.0 :   True\n",
            "         18 :   1.0 :             x[0,5] + x[1,5] + x[2,5] + x[3,5] + x[4,5] + x[5,5] + x[6,5] + x[7,5] + x[8,5] + x[9,5] + x[10,5] + x[11,5] :   1.0 :   True\n",
            "         19 :   1.0 :             x[0,6] + x[1,6] + x[2,6] + x[3,6] + x[4,6] + x[5,6] + x[6,6] + x[7,6] + x[8,6] + x[9,6] + x[10,6] + x[11,6] :   1.0 :   True\n",
            "         20 :   1.0 :             x[0,7] + x[1,7] + x[2,7] + x[3,7] + x[4,7] + x[5,7] + x[6,7] + x[7,7] + x[8,7] + x[9,7] + x[10,7] + x[11,7] :   1.0 :   True\n",
            "         21 :   1.0 :             x[0,8] + x[1,8] + x[2,8] + x[3,8] + x[4,8] + x[5,8] + x[6,8] + x[7,8] + x[8,8] + x[9,8] + x[10,8] + x[11,8] :   1.0 :   True\n",
            "         22 :   1.0 :             x[0,9] + x[1,9] + x[2,9] + x[3,9] + x[4,9] + x[5,9] + x[6,9] + x[7,9] + x[8,9] + x[9,9] + x[10,9] + x[11,9] :   1.0 :   True\n",
            "         23 :   1.0 : x[0,10] + x[1,10] + x[2,10] + x[3,10] + x[4,10] + x[5,10] + x[6,10] + x[7,10] + x[8,10] + x[9,10] + x[10,10] + x[11,10] :   1.0 :   True\n",
            "         24 :   1.0 : x[0,11] + x[1,11] + x[2,11] + x[3,11] + x[4,11] + x[5,11] + x[6,11] + x[7,11] + x[8,11] + x[9,11] + x[10,11] + x[11,11] :   1.0 :   True\n",
            "\n",
            "7 Declarations: x_index_0 x_index_1 x_index x objective constraints_index constraints\n"
          ],
          "name": "stdout"
        }
      ]
    },
    {
      "cell_type": "code",
      "metadata": {
        "id": "xTOv-73YK6gB"
      },
      "source": [
        "!apt-get install -y -qq coinor-cbc"
      ],
      "execution_count": null,
      "outputs": []
    },
    {
      "cell_type": "code",
      "metadata": {
        "id": "PB-H7seKLKN3"
      },
      "source": [
        "opt_cbc = SolverFactory('cbc')"
      ],
      "execution_count": null,
      "outputs": []
    },
    {
      "cell_type": "code",
      "metadata": {
        "id": "_SFvc2FrLTSd",
        "colab": {
          "base_uri": "https://localhost:8080/",
          "height": 51
        },
        "outputId": "6c714152-e997-48d1-ae26-db732a9da8ca"
      },
      "source": [
        "result_2 = opt_cbc.solve(model)\n",
        "print('Solver status:', result_2.solver.status)\n",
        "print('Solver termination condition:',result_2.solver.termination_condition)"
      ],
      "execution_count": null,
      "outputs": [
        {
          "output_type": "stream",
          "text": [
            "Solver status: ok\n",
            "Solver termination condition: optimal\n"
          ],
          "name": "stdout"
        }
      ]
    },
    {
      "cell_type": "markdown",
      "metadata": {
        "id": "ll1Qeg1UQ6Sa"
      },
      "source": [
        "12.ANSWER:\\\n",
        "Objective = 198.0\n",
        "\n",
        "Decision Variables with non zero values\\\n",
        "x[0,1]  =  1.0 \\\n",
        "x[1,6]  =  1.0 \\\n",
        "x[2,11]  =  1.0 \\\n",
        "x[3,9]  =  1.0 \\\n",
        "x[4,2]  =  1.0 \\\n",
        "x[5,10]  =  1.0 \\\n",
        "x[6,3]  =  1.0 \\\n",
        "x[7,5]  =  1.0 \\\n",
        "x[8,4]  =  1.0 \\\n",
        "x[9,0]  =  1.0 \\\n",
        "x[10,7]  =  1.0 \\\n",
        "x[11,8]  =  1.0 \\\n"
      ]
    }
  ]
}