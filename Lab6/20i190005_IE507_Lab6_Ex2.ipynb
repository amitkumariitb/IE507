{
  "nbformat": 4,
  "nbformat_minor": 0,
  "metadata": {
    "colab": {
      "name": "20i190005_IE507_Lab6_Ex2.ipynb",
      "provenance": []
    },
    "kernelspec": {
      "name": "python3",
      "display_name": "Python 3"
    }
  },
  "cells": [
    {
      "cell_type": "code",
      "metadata": {
        "id": "UN05PCGABByE"
      },
      "source": [
        "!pip install -q pyomo"
      ],
      "execution_count": null,
      "outputs": []
    },
    {
      "cell_type": "code",
      "metadata": {
        "id": "4s8hY6_5BM1O"
      },
      "source": [
        "from pyomo.environ import * "
      ],
      "execution_count": null,
      "outputs": []
    },
    {
      "cell_type": "code",
      "metadata": {
        "id": "CMagrP3ABOSk"
      },
      "source": [
        "import numpy as np"
      ],
      "execution_count": null,
      "outputs": []
    },
    {
      "cell_type": "markdown",
      "metadata": {
        "id": "KSCHYGVuF_lA"
      },
      "source": [
        "optimization problem:\\\n",
        "max 35x1 + 57x2 + 48x3 + 20x4 + 15x5 \\\n",
        "s.t : \\\n",
        " x1 + x2 + x3 <= 75 \\\n",
        "x3 + x4 + x5 <= 100 \\\n",
        "x1 + x2 >= 10 \\\n",
        "30000x1 + 95000x2 + 10000x3 + 5000x4 + 4000x5 <= 1500000\\\n",
        "100000x1 + 500000x2 + 200000x3 + 45000x4 + 25000x5 >= 900000\\\n",
        "$\\ x_{i}\\ $>=0 $\\forall\\text{ i}\\text{ }\\epsilon\\text{ }\\text{{1,2,3,4,5}} $"
      ]
    },
    {
      "cell_type": "markdown",
      "metadata": {
        "id": "RimW4DEFKEqx"
      },
      "source": [
        "$\\textbf{1.ANSWER:}$ \\\n",
        "\\begin{align}\n",
        "\\ z_{1} = x_{1}+x_{2}\\ , \n",
        "\\ z_{2} = x_{3}+x_{4}+x_{5}\\\\\\\n",
        "\\ |z_{1} - z_{2}|<= 18,\\\\\\\n",
        "\\ i.e.\\text{ }|x_{1}+x_{2} - (x_{3}+x_{4}+x_{5})| <=18\\ \n",
        "\\end{align}\n",
        "\\begin{align}\n",
        "\\text{ }The\\text{ }\\ constraint \\text{ }\\ “|x_{1}+x_{2} -(x_{3}+x_{4}+x_{5})| ≤ 18\\ ” \\\n",
        "\\text{is not a linear constraint. }\\\n",
        "\\end{align}\n",
        "$\\textbf{Approach 1:}$\\\n",
        "However, the constraint can be transformed into linear constraints using a simple “technique”.The constraint  \n",
        "“$|x_{1}+x_{2} - (x_{3}+x_{4}+x_{5})| ≤ 18 $” is equivalent to the following two constraints: \\\n",
        "$x_{1}+x_{2} - (x_{3}+x_{4}+x_{5}) ≤ 18 $ and \\\n",
        "$-x_{1}-x_{2} + x_{3}+x_{4}+x_{5} ≤ 18 $ \\\n",
        "If we replace the original constraint by these two constraints, we obtain a linear program.\n",
        "\n",
        "\n",
        "\n",
        "\n"
      ]
    },
    {
      "cell_type": "code",
      "metadata": {
        "id": "drG72fP-BRb_"
      },
      "source": [
        "coef = np.loadtxt('lab6_Ex2_coef.txt', delimiter=',')"
      ],
      "execution_count": null,
      "outputs": []
    },
    {
      "cell_type": "code",
      "metadata": {
        "id": "0hlD8SX7Btgj",
        "colab": {
          "base_uri": "https://localhost:8080/",
          "height": 204
        },
        "outputId": "74e44242-2af9-47fa-d4f1-ce6214df6071"
      },
      "source": [
        "print(coef.shape)\n",
        "print('Num rows:',coef.shape[0])\n",
        "print('Num cols:',coef.shape[1])\n",
        "\n",
        "print(coef)"
      ],
      "execution_count": null,
      "outputs": [
        {
          "output_type": "stream",
          "text": [
            "(8, 6)\n",
            "Num rows: 8\n",
            "Num cols: 6\n",
            "[[ 3.5e+01  5.7e+01  4.8e+01  2.0e+01  1.5e+01  0.0e+00]\n",
            " [ 1.0e+00  1.0e+00  1.0e+00  0.0e+00  0.0e+00  7.5e+01]\n",
            " [ 0.0e+00  0.0e+00  1.0e+00  1.0e+00  1.0e+00  1.0e+02]\n",
            " [-1.0e+00 -1.0e+00  0.0e+00  0.0e+00  0.0e+00 -1.0e+01]\n",
            " [ 3.0e+04  9.5e+04  1.0e+04  5.0e+03  4.0e+03  1.5e+06]\n",
            " [-1.0e+05 -5.0e+05 -2.0e+05 -4.5e+04 -2.5e+04 -9.0e+05]\n",
            " [ 1.0e+00  1.0e+00 -1.0e+00 -1.0e+00 -1.0e+00  1.8e+01]\n",
            " [-1.0e+00 -1.0e+00  1.0e+00  1.0e+00  1.0e+00  1.8e+01]]\n"
          ],
          "name": "stdout"
        }
      ]
    },
    {
      "cell_type": "code",
      "metadata": {
        "id": "Cpfc_-6MB2OQ"
      },
      "source": [
        "model = ConcreteModel()"
      ],
      "execution_count": null,
      "outputs": []
    },
    {
      "cell_type": "code",
      "metadata": {
        "id": "zVov_W-SC6jT",
        "colab": {
          "base_uri": "https://localhost:8080/",
          "height": 34
        },
        "outputId": "f4d18e55-c19a-4715-db13-6e82687cbe00"
      },
      "source": [
        "N = coef.shape[1]-1\n",
        "M = coef.shape[0]-1\n",
        "print(N,M)"
      ],
      "execution_count": null,
      "outputs": [
        {
          "output_type": "stream",
          "text": [
            "5 7\n"
          ],
          "name": "stdout"
        }
      ]
    },
    {
      "cell_type": "code",
      "metadata": {
        "id": "phP7Dym4C_8l",
        "colab": {
          "base_uri": "https://localhost:8080/",
          "height": 51
        },
        "outputId": "6d1ffd59-035a-4a90-ad65-099975f5abb2"
      },
      "source": [
        "obj_coef = coef[0,:-1]\n",
        "print(obj_coef.shape)\n",
        "print(obj_coef)"
      ],
      "execution_count": null,
      "outputs": [
        {
          "output_type": "stream",
          "text": [
            "(5,)\n",
            "[35. 57. 48. 20. 15.]\n"
          ],
          "name": "stdout"
        }
      ]
    },
    {
      "cell_type": "code",
      "metadata": {
        "id": "BDuXjUmVDQEP",
        "colab": {
          "base_uri": "https://localhost:8080/",
          "height": 153
        },
        "outputId": "524919b3-38bd-460b-c90a-6307a87851cd"
      },
      "source": [
        "constr_coef = coef[1:,:-1]\n",
        "print(constr_coef.shape)\n",
        "print(constr_coef)"
      ],
      "execution_count": null,
      "outputs": [
        {
          "output_type": "stream",
          "text": [
            "(7, 5)\n",
            "[[ 1.0e+00  1.0e+00  1.0e+00  0.0e+00  0.0e+00]\n",
            " [ 0.0e+00  0.0e+00  1.0e+00  1.0e+00  1.0e+00]\n",
            " [-1.0e+00 -1.0e+00  0.0e+00  0.0e+00  0.0e+00]\n",
            " [ 3.0e+04  9.5e+04  1.0e+04  5.0e+03  4.0e+03]\n",
            " [-1.0e+05 -5.0e+05 -2.0e+05 -4.5e+04 -2.5e+04]\n",
            " [ 1.0e+00  1.0e+00 -1.0e+00 -1.0e+00 -1.0e+00]\n",
            " [-1.0e+00 -1.0e+00  1.0e+00  1.0e+00  1.0e+00]]\n"
          ],
          "name": "stdout"
        }
      ]
    },
    {
      "cell_type": "code",
      "metadata": {
        "id": "XF8hSxrbDZuK",
        "colab": {
          "base_uri": "https://localhost:8080/",
          "height": 51
        },
        "outputId": "c1731085-49f3-4ec2-a34a-13bb7ab03991"
      },
      "source": [
        "constr_rhs = coef[1:,-1]\n",
        "print(constr_rhs.shape)\n",
        "print(constr_rhs)"
      ],
      "execution_count": null,
      "outputs": [
        {
          "output_type": "stream",
          "text": [
            "(7,)\n",
            "[ 7.5e+01  1.0e+02 -1.0e+01  1.5e+06 -9.0e+05  1.8e+01  1.8e+01]\n"
          ],
          "name": "stdout"
        }
      ]
    },
    {
      "cell_type": "code",
      "metadata": {
        "id": "mugrW_NQDqre",
        "colab": {
          "base_uri": "https://localhost:8080/",
          "height": 51
        },
        "outputId": "bce4dcad-235c-4ab1-ad96-ae473d8bb533"
      },
      "source": [
        "col_indices = np.arange(N)\n",
        "print(col_indices)\n",
        "\n",
        "model.x = Var(col_indices, domain=NonNegativeIntegers)\n",
        "\n",
        "row_indices = np.arange(M)\n",
        "print(row_indices)\n"
      ],
      "execution_count": null,
      "outputs": [
        {
          "output_type": "stream",
          "text": [
            "[0 1 2 3 4]\n",
            "[0 1 2 3 4 5 6]\n"
          ],
          "name": "stdout"
        }
      ]
    },
    {
      "cell_type": "code",
      "metadata": {
        "id": "cFHzmtv-EYyA"
      },
      "source": [
        "model.constraints = ConstraintList()"
      ],
      "execution_count": null,
      "outputs": []
    },
    {
      "cell_type": "code",
      "metadata": {
        "id": "yddBzEBRFV3H"
      },
      "source": [
        "for i in row_indices:\n",
        "  model.constraints.add(summation(constr_coef[i][0:N],model.x)  <= constr_rhs[i])"
      ],
      "execution_count": null,
      "outputs": []
    },
    {
      "cell_type": "code",
      "metadata": {
        "id": "A8XJfep2F6uB"
      },
      "source": [
        "model.objective = Objective(expr = summation(obj_coef[0:N],model.x), sense=maximize)"
      ],
      "execution_count": null,
      "outputs": []
    },
    {
      "cell_type": "code",
      "metadata": {
        "id": "cF-MUP3kGRHC",
        "colab": {
          "base_uri": "https://localhost:8080/",
          "height": 595
        },
        "outputId": "a93c8c3d-9deb-43dc-a9c8-b4e1ae3d1fe9"
      },
      "source": [
        "model.pprint()"
      ],
      "execution_count": null,
      "outputs": [
        {
          "output_type": "stream",
          "text": [
            "2 Set Declarations\n",
            "    constraints_index : Size=1, Index=None, Ordered=Insertion\n",
            "        Key  : Dimen : Domain : Size : Members\n",
            "        None :     1 :    Any :    7 : {1, 2, 3, 4, 5, 6, 7}\n",
            "    x_index : Size=1, Index=None, Ordered=False\n",
            "        Key  : Dimen : Domain : Size : Members\n",
            "        None :     1 :    Any :    5 : {0, 1, 2, 3, 4}\n",
            "\n",
            "1 Var Declarations\n",
            "    x : Size=5, Index=x_index\n",
            "        Key : Lower : Value : Upper : Fixed : Stale : Domain\n",
            "          0 :     0 :  None :  None : False :  True : NonNegativeIntegers\n",
            "          1 :     0 :  None :  None : False :  True : NonNegativeIntegers\n",
            "          2 :     0 :  None :  None : False :  True : NonNegativeIntegers\n",
            "          3 :     0 :  None :  None : False :  True : NonNegativeIntegers\n",
            "          4 :     0 :  None :  None : False :  True : NonNegativeIntegers\n",
            "\n",
            "1 Objective Declarations\n",
            "    objective : Size=1, Index=None, Active=True\n",
            "        Key  : Active : Sense    : Expression\n",
            "        None :   True : maximize : 35.0*x[0] + 57.0*x[1] + 48.0*x[2] + 20.0*x[3] + 15.0*x[4]\n",
            "\n",
            "1 Constraint Declarations\n",
            "    constraints : Size=7, Index=constraints_index, Active=True\n",
            "        Key : Lower : Body                                                                          : Upper     : Active\n",
            "          1 :  -Inf :                                                            x[0] + x[1] + x[2] :      75.0 :   True\n",
            "          2 :  -Inf :                                                            x[2] + x[3] + x[4] :     100.0 :   True\n",
            "          3 :  -Inf :                                                                 - x[0] - x[1] :     -10.0 :   True\n",
            "          4 :  -Inf :        30000.0*x[0] + 95000.0*x[1] + 10000.0*x[2] + 5000.0*x[3] + 4000.0*x[4] : 1500000.0 :   True\n",
            "          5 :  -Inf : - 100000.0*x[0] - 500000.0*x[1] - 200000.0*x[2] - 45000.0*x[3] - 25000.0*x[4] : -900000.0 :   True\n",
            "          6 :  -Inf :                                              x[0] + x[1] - x[2] - x[3] - x[4] :      18.0 :   True\n",
            "          7 :  -Inf :                                            - x[0] - x[1] + x[2] + x[3] + x[4] :      18.0 :   True\n",
            "\n",
            "5 Declarations: x_index x constraints_index constraints objective\n"
          ],
          "name": "stdout"
        }
      ]
    },
    {
      "cell_type": "code",
      "metadata": {
        "id": "1WaoVGURGYeK"
      },
      "source": [
        "!apt-get install -y -qq coinor-cbc"
      ],
      "execution_count": null,
      "outputs": []
    },
    {
      "cell_type": "code",
      "metadata": {
        "id": "KlmtnbyUHSTP"
      },
      "source": [
        "opt_cbc = SolverFactory('cbc')"
      ],
      "execution_count": null,
      "outputs": []
    },
    {
      "cell_type": "code",
      "metadata": {
        "id": "bfOznSYrHU9i",
        "colab": {
          "base_uri": "https://localhost:8080/",
          "height": 578
        },
        "outputId": "3dc5b92e-9f7e-4f65-827b-f3cb7309a79e"
      },
      "source": [
        "result = opt_cbc.solve(model)\n",
        "print(result)\n",
        "\n",
        "print('Solver status:', result.solver.status)\n",
        "print('Solver termination condition:',result.solver.termination_condition)"
      ],
      "execution_count": null,
      "outputs": [
        {
          "output_type": "stream",
          "text": [
            "\n",
            "Problem: \n",
            "- Name: unknown\n",
            "  Lower bound: 3378.0\n",
            "  Upper bound: 3378.0\n",
            "  Number of objectives: 1\n",
            "  Number of constraints: 7\n",
            "  Number of variables: 5\n",
            "  Number of binary variables: 0\n",
            "  Number of integer variables: 5\n",
            "  Number of nonzeros: 5\n",
            "  Sense: maximize\n",
            "Solver: \n",
            "- Status: ok\n",
            "  User time: -1.0\n",
            "  System time: 0.01\n",
            "  Wallclock time: 0.01\n",
            "  Termination condition: optimal\n",
            "  Termination message: Model was solved to optimality (subject to tolerances), and an optimal solution is available.\n",
            "  Statistics: \n",
            "    Branch and bound: \n",
            "      Number of bounded subproblems: 0\n",
            "      Number of created subproblems: 0\n",
            "    Black box: \n",
            "      Number of iterations: 1\n",
            "  Error rc: 0\n",
            "  Time: 0.025562524795532227\n",
            "Solution: \n",
            "- number of solutions: 0\n",
            "  number of solutions displayed: 0\n",
            "\n",
            "Solver status: ok\n",
            "Solver termination condition: optimal\n"
          ],
          "name": "stdout"
        }
      ]
    },
    {
      "cell_type": "code",
      "metadata": {
        "id": "LHVX3AohHwlk",
        "colab": {
          "base_uri": "https://localhost:8080/",
          "height": 357
        },
        "outputId": "dc5f8f23-266e-430f-8cc2-ac8bb94c5ed3"
      },
      "source": [
        "# display solution\n",
        "print('\\nObjective = ', model.objective())\n",
        "\n",
        "print('\\nDecision Variables')\n",
        "for i in range(N):\n",
        "  print('x[',i,'] = ', model.x[i].value)\n",
        "print('\\n Constraints')\n",
        "model.constraints.display()"
      ],
      "execution_count": null,
      "outputs": [
        {
          "output_type": "stream",
          "text": [
            "\n",
            "Objective =  3378.0\n",
            "\n",
            "Decision Variables\n",
            "x[ 0 ] =  34.0\n",
            "x[ 1 ] =  0.0\n",
            "x[ 2 ] =  41.0\n",
            "x[ 3 ] =  11.0\n",
            "x[ 4 ] =  0.0\n",
            "\n",
            " Constraints\n",
            "constraints : Size=7\n",
            "    Key : Lower : Body        : Upper\n",
            "      1 :  None :        75.0 :      75.0\n",
            "      2 :  None :        52.0 :     100.0\n",
            "      3 :  None :       -34.0 :     -10.0\n",
            "      4 :  None :   1485000.0 : 1500000.0\n",
            "      5 :  None : -12095000.0 : -900000.0\n",
            "      6 :  None :       -18.0 :      18.0\n",
            "      7 :  None :        18.0 :      18.0\n"
          ],
          "name": "stdout"
        }
      ]
    },
    {
      "cell_type": "markdown",
      "metadata": {
        "id": "06wfAHiGZDB6"
      },
      "source": [
        "$\\textbf{Approach 2:}$\\\n",
        "Let:\\\n",
        " $|x_{1}+x_{2} - (x_{3}+x_{4}+x_{5})| = a_{1}+a_{2} ,$\n",
        " and \\\n",
        " $x_{1}+x_{2} - (x_{3}+x_{4}+x_{5})| = a_{1}-a_{2}$ \\\n",
        "with these assumptions our new optimization problem becomes linear with the following additional constraints : \\\n",
        "$x_{1}+x_{2} - x_{3}-x_{4}-x_{5} - a_{1} - a_{2} <= 0,$\\\n",
        "$-x_{1}-x_{2} + x_{3}+x_{4}+x_{5} - a_{1} - a_{2} <= 0,$\\\n",
        "$x_{1}+x_{2} - x_{3}-x_{4}-x_{5} - a_{1} + a_{2} <= 0,$\\\n",
        "$-x_{1}-x_{2} + x_{3}+x_{4}+x_{5} + a_{1} - a_{2} <= 0,$\\\n",
        "$ \\ a_{1} + a_{2} <= 18, $\\\n",
        "where $a_{i} >= 0$\n",
        "\n",
        "\n",
        "\n",
        "\n",
        "\n"
      ]
    },
    {
      "cell_type": "code",
      "metadata": {
        "id": "Q9Qcu1CXJXEY"
      },
      "source": [
        "new_coef = np.loadtxt('lab6_Ex2_coef_2.txt', delimiter=',')"
      ],
      "execution_count": null,
      "outputs": []
    },
    {
      "cell_type": "code",
      "metadata": {
        "id": "PxYwwYWcSQgB",
        "colab": {
          "base_uri": "https://localhost:8080/",
          "height": 68
        },
        "outputId": "fc7a93f9-448a-42e0-858a-b45b9f7dd3ec"
      },
      "source": [
        "print(new_coef.shape)\n",
        "print('Num rows:',new_coef.shape[0])\n",
        "print('Num cols:',new_coef.shape[1])"
      ],
      "execution_count": null,
      "outputs": [
        {
          "output_type": "stream",
          "text": [
            "(11, 8)\n",
            "Num rows: 11\n",
            "Num cols: 8\n"
          ],
          "name": "stdout"
        }
      ]
    },
    {
      "cell_type": "code",
      "metadata": {
        "id": "WM1x7QVjSZmF",
        "colab": {
          "base_uri": "https://localhost:8080/",
          "height": 204
        },
        "outputId": "97e677bb-f8d7-4ba6-982b-87d4ee783489"
      },
      "source": [
        "print(new_coef)"
      ],
      "execution_count": null,
      "outputs": [
        {
          "output_type": "stream",
          "text": [
            "[[ 3.5e+01  5.7e+01  4.8e+01  2.0e+01  1.5e+01  0.0e+00  0.0e+00  0.0e+00]\n",
            " [ 1.0e+00  1.0e+00  1.0e+00  0.0e+00  0.0e+00  0.0e+00  0.0e+00  7.5e+01]\n",
            " [ 0.0e+00  0.0e+00  1.0e+00  1.0e+00  1.0e+00  0.0e+00  0.0e+00  1.0e+02]\n",
            " [-1.0e+00 -1.0e+00  0.0e+00  0.0e+00  0.0e+00  0.0e+00  0.0e+00 -1.0e+01]\n",
            " [ 3.0e+04  9.5e+04  1.0e+04  5.0e+03  4.0e+03  0.0e+00  0.0e+00  1.5e+06]\n",
            " [-1.0e+05 -5.0e+05 -2.0e+05 -4.5e+04 -2.5e+04  0.0e+00  0.0e+00 -9.0e+05]\n",
            " [ 1.0e+00  1.0e+00 -1.0e+00 -1.0e+00 -1.0e+00 -1.0e+00 -1.0e+00  0.0e+00]\n",
            " [-1.0e+00 -1.0e+00  1.0e+00  1.0e+00  1.0e+00 -1.0e+00 -1.0e+00  0.0e+00]\n",
            " [ 1.0e+00  1.0e+00 -1.0e+00 -1.0e+00 -1.0e+00 -1.0e+00  1.0e+00  0.0e+00]\n",
            " [-1.0e+00 -1.0e+00  1.0e+00  1.0e+00  1.0e+00  1.0e+00 -1.0e+00  0.0e+00]\n",
            " [ 0.0e+00  0.0e+00  0.0e+00  0.0e+00  0.0e+00  1.0e+00  1.0e+00  1.8e+01]]\n"
          ],
          "name": "stdout"
        }
      ]
    },
    {
      "cell_type": "code",
      "metadata": {
        "id": "AyxdSVMHSnD7"
      },
      "source": [
        "new_model = ConcreteModel()"
      ],
      "execution_count": null,
      "outputs": []
    },
    {
      "cell_type": "code",
      "metadata": {
        "id": "NsmYsE51SvEx",
        "colab": {
          "base_uri": "https://localhost:8080/",
          "height": 34
        },
        "outputId": "869bf292-ddcf-4c73-f8b3-e409f4f6ea92"
      },
      "source": [
        "M = new_coef.shape[0]-1\n",
        "N = new_coef.shape[1]-1\n",
        "print(M,N)"
      ],
      "execution_count": null,
      "outputs": [
        {
          "output_type": "stream",
          "text": [
            "10 7\n"
          ],
          "name": "stdout"
        }
      ]
    },
    {
      "cell_type": "code",
      "metadata": {
        "id": "tvuxOQHRS1gJ",
        "colab": {
          "base_uri": "https://localhost:8080/",
          "height": 51
        },
        "outputId": "aef650c9-b7c9-4379-f695-006ae36dca53"
      },
      "source": [
        "new_obj_coef = new_coef[0,:-1]\n",
        "print(new_obj_coef.shape)\n",
        "print(new_obj_coef)"
      ],
      "execution_count": null,
      "outputs": [
        {
          "output_type": "stream",
          "text": [
            "(7,)\n",
            "[35. 57. 48. 20. 15.  0.  0.]\n"
          ],
          "name": "stdout"
        }
      ]
    },
    {
      "cell_type": "code",
      "metadata": {
        "id": "bhEh6f4QTLyf",
        "colab": {
          "base_uri": "https://localhost:8080/",
          "height": 204
        },
        "outputId": "d5e8908e-7ff7-413d-bddd-5f73c62dae4c"
      },
      "source": [
        "new_constr_coef = new_coef[1:,:-1]\n",
        "print(new_constr_coef.shape)\n",
        "print(new_constr_coef)"
      ],
      "execution_count": null,
      "outputs": [
        {
          "output_type": "stream",
          "text": [
            "(10, 7)\n",
            "[[ 1.0e+00  1.0e+00  1.0e+00  0.0e+00  0.0e+00  0.0e+00  0.0e+00]\n",
            " [ 0.0e+00  0.0e+00  1.0e+00  1.0e+00  1.0e+00  0.0e+00  0.0e+00]\n",
            " [-1.0e+00 -1.0e+00  0.0e+00  0.0e+00  0.0e+00  0.0e+00  0.0e+00]\n",
            " [ 3.0e+04  9.5e+04  1.0e+04  5.0e+03  4.0e+03  0.0e+00  0.0e+00]\n",
            " [-1.0e+05 -5.0e+05 -2.0e+05 -4.5e+04 -2.5e+04  0.0e+00  0.0e+00]\n",
            " [ 1.0e+00  1.0e+00 -1.0e+00 -1.0e+00 -1.0e+00 -1.0e+00 -1.0e+00]\n",
            " [-1.0e+00 -1.0e+00  1.0e+00  1.0e+00  1.0e+00 -1.0e+00 -1.0e+00]\n",
            " [ 1.0e+00  1.0e+00 -1.0e+00 -1.0e+00 -1.0e+00 -1.0e+00  1.0e+00]\n",
            " [-1.0e+00 -1.0e+00  1.0e+00  1.0e+00  1.0e+00  1.0e+00 -1.0e+00]\n",
            " [ 0.0e+00  0.0e+00  0.0e+00  0.0e+00  0.0e+00  1.0e+00  1.0e+00]]\n"
          ],
          "name": "stdout"
        }
      ]
    },
    {
      "cell_type": "code",
      "metadata": {
        "id": "f84Ka2R2TUxI",
        "colab": {
          "base_uri": "https://localhost:8080/",
          "height": 68
        },
        "outputId": "d945c2c8-66b6-4478-fdfb-5c9c9e1ba384"
      },
      "source": [
        "new_constr_rhs = new_coef[1:,-1]\n",
        "print(new_constr_rhs.shape)\n",
        "print(new_constr_rhs)"
      ],
      "execution_count": null,
      "outputs": [
        {
          "output_type": "stream",
          "text": [
            "(10,)\n",
            "[ 7.5e+01  1.0e+02 -1.0e+01  1.5e+06 -9.0e+05  0.0e+00  0.0e+00  0.0e+00\n",
            "  0.0e+00  1.8e+01]\n"
          ],
          "name": "stdout"
        }
      ]
    },
    {
      "cell_type": "code",
      "metadata": {
        "id": "2xy8il6xThFj",
        "colab": {
          "base_uri": "https://localhost:8080/",
          "height": 34
        },
        "outputId": "3bbeb91c-081d-409d-d015-90b28557dc09"
      },
      "source": [
        "col_indices_x = np.arange(N-2)\n",
        "print(col_indices_x)\n",
        "new_model.x = Var(col_indices_x ,domain=NonNegativeIntegers)\n",
        "\n"
      ],
      "execution_count": null,
      "outputs": [
        {
          "output_type": "stream",
          "text": [
            "[0 1 2 3 4]\n"
          ],
          "name": "stdout"
        }
      ]
    },
    {
      "cell_type": "code",
      "metadata": {
        "id": "dBUd8QW_x6p7",
        "colab": {
          "base_uri": "https://localhost:8080/",
          "height": 34
        },
        "outputId": "23119f67-d8b0-4720-c997-f89d49df3c5d"
      },
      "source": [
        "col_indices_a = np.arange(2)\n",
        "print(col_indices_a)\n",
        "new_model.a = Var(col_indices_a, domain=NonNegativeReals)"
      ],
      "execution_count": null,
      "outputs": [
        {
          "output_type": "stream",
          "text": [
            "[0 1]\n"
          ],
          "name": "stdout"
        }
      ]
    },
    {
      "cell_type": "code",
      "metadata": {
        "id": "TCez5KhquHGH",
        "colab": {
          "base_uri": "https://localhost:8080/",
          "height": 34
        },
        "outputId": "37f78a4d-53e9-4263-8a39-9baa2f2a3156"
      },
      "source": [
        "row_indices = np.arange(M)\n",
        "print(row_indices)"
      ],
      "execution_count": null,
      "outputs": [
        {
          "output_type": "stream",
          "text": [
            "[0 1 2 3 4 5 6 7 8 9]\n"
          ],
          "name": "stdout"
        }
      ]
    },
    {
      "cell_type": "code",
      "metadata": {
        "id": "xU1Ks4SpUbXc"
      },
      "source": [
        "new_model.constraints = ConstraintList()"
      ],
      "execution_count": null,
      "outputs": []
    },
    {
      "cell_type": "code",
      "metadata": {
        "id": "ZE1xeYGmUn-s"
      },
      "source": [
        "for i in row_indices:\n",
        "  new_model.constraints.add(summation(new_constr_coef[i][0:N-2],new_model.x) + summation(new_constr_coef[i][N-2:N],new_model.a) <= new_constr_rhs[i])"
      ],
      "execution_count": null,
      "outputs": []
    },
    {
      "cell_type": "code",
      "metadata": {
        "id": "nNtsaO_UVHv1"
      },
      "source": [
        "new_model.objective = Objective(expr = summation(new_obj_coef[0:N-2],new_model.x) + summation(new_obj_coef[N-2:N],new_model.a), sense=maximize)"
      ],
      "execution_count": null,
      "outputs": []
    },
    {
      "cell_type": "code",
      "metadata": {
        "id": "U7kQQLZ1VUUO",
        "colab": {
          "base_uri": "https://localhost:8080/",
          "height": 785
        },
        "outputId": "cb114398-5bcf-447a-d0b6-ac304a788488"
      },
      "source": [
        "new_model.pprint()"
      ],
      "execution_count": null,
      "outputs": [
        {
          "output_type": "stream",
          "text": [
            "3 Set Declarations\n",
            "    a_index : Size=1, Index=None, Ordered=False\n",
            "        Key  : Dimen : Domain : Size : Members\n",
            "        None :     1 :    Any :    2 : {0, 1}\n",
            "    constraints_index : Size=1, Index=None, Ordered=Insertion\n",
            "        Key  : Dimen : Domain : Size : Members\n",
            "        None :     1 :    Any :   10 : {1, 2, 3, 4, 5, 6, 7, 8, 9, 10}\n",
            "    x_index : Size=1, Index=None, Ordered=False\n",
            "        Key  : Dimen : Domain : Size : Members\n",
            "        None :     1 :    Any :    5 : {0, 1, 2, 3, 4}\n",
            "\n",
            "2 Var Declarations\n",
            "    a : Size=2, Index=a_index\n",
            "        Key : Lower : Value : Upper : Fixed : Stale : Domain\n",
            "          0 :     0 :  None :  None : False :  True : NonNegativeReals\n",
            "          1 :     0 :  None :  None : False :  True : NonNegativeReals\n",
            "    x : Size=5, Index=x_index\n",
            "        Key : Lower : Value : Upper : Fixed : Stale : Domain\n",
            "          0 :     0 :  None :  None : False :  True : NonNegativeIntegers\n",
            "          1 :     0 :  None :  None : False :  True : NonNegativeIntegers\n",
            "          2 :     0 :  None :  None : False :  True : NonNegativeIntegers\n",
            "          3 :     0 :  None :  None : False :  True : NonNegativeIntegers\n",
            "          4 :     0 :  None :  None : False :  True : NonNegativeIntegers\n",
            "\n",
            "1 Objective Declarations\n",
            "    objective : Size=1, Index=None, Active=True\n",
            "        Key  : Active : Sense    : Expression\n",
            "        None :   True : maximize : 35.0*x[0] + 57.0*x[1] + 48.0*x[2] + 20.0*x[3] + 15.0*x[4] + ()\n",
            "\n",
            "1 Constraint Declarations\n",
            "    constraints : Size=10, Index=constraints_index, Active=True\n",
            "        Key : Lower : Body                                                                               : Upper     : Active\n",
            "          1 :  -Inf :                                                            x[0] + x[1] + x[2] + () :      75.0 :   True\n",
            "          2 :  -Inf :                                                            x[2] + x[3] + x[4] + () :     100.0 :   True\n",
            "          3 :  -Inf :                                                                 - x[0] - x[1] + () :     -10.0 :   True\n",
            "          4 :  -Inf :        30000.0*x[0] + 95000.0*x[1] + 10000.0*x[2] + 5000.0*x[3] + 4000.0*x[4] + () : 1500000.0 :   True\n",
            "          5 :  -Inf : - 100000.0*x[0] - 500000.0*x[1] - 200000.0*x[2] - 45000.0*x[3] - 25000.0*x[4] + () : -900000.0 :   True\n",
            "          6 :  -Inf :                                     x[0] + x[1] - x[2] - x[3] - x[4] - a[0] - a[1] :       0.0 :   True\n",
            "          7 :  -Inf :                                   - x[0] - x[1] + x[2] + x[3] + x[4] - a[0] - a[1] :       0.0 :   True\n",
            "          8 :  -Inf :                                     x[0] + x[1] - x[2] - x[3] - x[4] - a[0] + a[1] :       0.0 :   True\n",
            "          9 :  -Inf :                                 - x[0] - x[1] + x[2] + x[3] + x[4] + (a[0] - a[1]) :       0.0 :   True\n",
            "         10 :  -Inf :                                                                    + (a[0] + a[1]) :      18.0 :   True\n",
            "\n",
            "7 Declarations: x_index x a_index a constraints_index constraints objective\n"
          ],
          "name": "stdout"
        }
      ]
    },
    {
      "cell_type": "code",
      "metadata": {
        "id": "mi0qtaQ0VcY2"
      },
      "source": [
        "!apt-get install -y -qq coinor-cbc"
      ],
      "execution_count": null,
      "outputs": []
    },
    {
      "cell_type": "code",
      "metadata": {
        "id": "lh7c8G0KV7mG"
      },
      "source": [
        "opt_cbc = SolverFactory('cbc')"
      ],
      "execution_count": null,
      "outputs": []
    },
    {
      "cell_type": "code",
      "metadata": {
        "id": "L-Gdlg-kWHtU",
        "colab": {
          "base_uri": "https://localhost:8080/",
          "height": 578
        },
        "outputId": "78596d52-4083-4a83-b4fb-65ef740a7fd9"
      },
      "source": [
        "result = opt_cbc.solve(new_model)\n",
        "print(result)\n",
        "\n",
        "print('Solver status:', result.solver.status)\n",
        "print('Solver termination condition:',result.solver.termination_condition)"
      ],
      "execution_count": null,
      "outputs": [
        {
          "output_type": "stream",
          "text": [
            "\n",
            "Problem: \n",
            "- Name: unknown\n",
            "  Lower bound: 3378.0\n",
            "  Upper bound: 3378.0\n",
            "  Number of objectives: 1\n",
            "  Number of constraints: 10\n",
            "  Number of variables: 7\n",
            "  Number of binary variables: 0\n",
            "  Number of integer variables: 5\n",
            "  Number of nonzeros: 5\n",
            "  Sense: maximize\n",
            "Solver: \n",
            "- Status: ok\n",
            "  User time: -1.0\n",
            "  System time: 0.01\n",
            "  Wallclock time: 0.01\n",
            "  Termination condition: optimal\n",
            "  Termination message: Model was solved to optimality (subject to tolerances), and an optimal solution is available.\n",
            "  Statistics: \n",
            "    Branch and bound: \n",
            "      Number of bounded subproblems: 0\n",
            "      Number of created subproblems: 0\n",
            "    Black box: \n",
            "      Number of iterations: 1\n",
            "  Error rc: 0\n",
            "  Time: 0.022630929946899414\n",
            "Solution: \n",
            "- number of solutions: 0\n",
            "  number of solutions displayed: 0\n",
            "\n",
            "Solver status: ok\n",
            "Solver termination condition: optimal\n"
          ],
          "name": "stdout"
        }
      ]
    },
    {
      "cell_type": "code",
      "metadata": {
        "id": "XvTD4nmVlNLt",
        "colab": {
          "base_uri": "https://localhost:8080/",
          "height": 442
        },
        "outputId": "133cbf4d-3505-46d7-fe8f-a783a59ec093"
      },
      "source": [
        "# display solution\n",
        "print('\\nObjective = ', new_model.objective())\n",
        "\n",
        "print('\\nDecision Variables')\n",
        "for i in range(N-2):\n",
        "  print('x[',i,'] = ', new_model.x[i].value)\n",
        "for j in range(2):\n",
        "  print('a[',j,'] = ', new_model.a[j].value)\n",
        "print('\\n Constraints')\n",
        "new_model.constraints.display()"
      ],
      "execution_count": null,
      "outputs": [
        {
          "output_type": "stream",
          "text": [
            "\n",
            "Objective =  3378.0\n",
            "\n",
            "Decision Variables\n",
            "x[ 0 ] =  34.0\n",
            "x[ 1 ] =  0.0\n",
            "x[ 2 ] =  41.0\n",
            "x[ 3 ] =  11.0\n",
            "x[ 4 ] =  0.0\n",
            "a[ 0 ] =  0.0\n",
            "a[ 1 ] =  18.0\n",
            "\n",
            " Constraints\n",
            "constraints : Size=10\n",
            "    Key : Lower : Body        : Upper\n",
            "      1 :  None :        75.0 :      75.0\n",
            "      2 :  None :        52.0 :     100.0\n",
            "      3 :  None :       -34.0 :     -10.0\n",
            "      4 :  None :   1485000.0 : 1500000.0\n",
            "      5 :  None : -12095000.0 : -900000.0\n",
            "      6 :  None :       -36.0 :       0.0\n",
            "      7 :  None :         0.0 :       0.0\n",
            "      8 :  None :         0.0 :       0.0\n",
            "      9 :  None :         0.0 :       0.0\n",
            "     10 :  None :        18.0 :      18.0\n"
          ],
          "name": "stdout"
        }
      ]
    },
    {
      "cell_type": "markdown",
      "metadata": {
        "id": "sBhEBQ6nhKiI"
      },
      "source": [
        "$4.ANSWER: $ \\\n",
        "The solver status and solver termination condition in both approaches 1 and 2 is:\\\n",
        "$\\text{Solver status: ok} $\\\n",
        "$\\text{Solver termination condition: optimal}$ \\\n",
        "Yes, We are getting optimal solution in each case. \\\n"
      ]
    },
    {
      "cell_type": "markdown",
      "metadata": {
        "id": "BI3gJ-2NjZ1d"
      },
      "source": [
        "$5.ANSWER:$ \\\n",
        "$\\text{APPROACH 1:}$\\\n",
        "Objective =  3378.0\n",
        "\n",
        "Decision Variables\\\n",
        "x[ 0 ] =  34.0\\\n",
        "x[ 1 ] =  0.0\\\n",
        "x[ 2 ] =  41.0\\\n",
        "x[ 3 ] =  11.0\\\n",
        "x[ 4 ] =  0.0 \\\n",
        "\n",
        "Constraints\\\n",
        "constraints : Size=7\\\n",
        "    Key : Lower : Body        : Upper\\\n",
        "      1 :  None :        75.0 :      75.0\\\n",
        "      2 :  None :        52.0 :     100.0\\\n",
        "      3 :  None :       -34.0 :     -10.0\\\n",
        "      4 :  None :   1485000.0 : 1500000.0\\\n",
        "      5 :  None : -12095000.0 : -900000.0\\\n",
        "      6 :  None :       -18.0 :      18.0\\\n",
        "      7 :  None :        18.0 :      18.0\n",
        "\n",
        "$\\text{APPROACH 2:}$ \\\n",
        "\n",
        "Objective =  3378.0 \\\n",
        "\n",
        "Decision Variables\\\n",
        "x[ 0 ] =  34.0\\\n",
        "x[ 1 ] =  0.0\\\n",
        "x[ 2 ] =  41.0\\\n",
        "x[ 3 ] =  11.0\\\n",
        "x[ 4 ] =  0.0\\\n",
        "a[ 0 ] =  0.0\\\n",
        "a[ 1 ] =  18.0 \n",
        "\n",
        " Constraints\\\n",
        "constraints : Size=10\\\n",
        "    Key : Lower : Body        : Upper\\\n",
        "      1 :  None :        75.0 :      75.0\\\n",
        "      2 :  None :        52.0 :     100.0\\\n",
        "      3 :  None :       -34.0 :     -10.0\\\n",
        "      4 :  None :   1485000.0 : 1500000.0\\\n",
        "      5 :  None : -12095000.0 : -900000.0\\\n",
        "      6 :  None :       -36.0 :       0.0\\\n",
        "      7 :  None :         0.0 :       0.0\\\n",
        "      8 :  None :         0.0 :       0.0\\\n",
        "      9 :  None :         0.0 :       0.0\\\n",
        "     10 :  None :        18.0 :      18.0"
      ]
    },
    {
      "cell_type": "markdown",
      "metadata": {
        "id": "99zxSucnnzvx"
      },
      "source": [
        "$6.ANSWER :$ \\\n",
        "$\\text{APPROACH 1:}$ \\\n",
        "Optimal values of the Original Decision Variables\\\n",
        "x[ 0 ] = 34.0,\n",
        "x[ 1 ] = 0.0,\n",
        "x[ 2 ] = 41.0,\n",
        "x[ 3 ] = 11.0,\n",
        "x[ 4 ] = 0.0 \\\n",
        "$\\text{APPROACH 2:}$ \\\n",
        "x[ 0 ] = 34.0,\n",
        "x[ 1 ] = 0.0,\n",
        "x[ 2 ] = 41.0,\n",
        "x[ 3 ] = 11.0,\n",
        "x[ 4 ] = 0.0 \\\n",
        "\n",
        "$Observation:$\n",
        "$\\text{Here in both approaches 1 and 2 the optimal values of the original decision variables are same}$\n"
      ]
    },
    {
      "cell_type": "markdown",
      "metadata": {
        "id": "h24bIXZ-wXMe"
      },
      "source": [
        "$\\textbf{7.ANSWER:}$ \\\n",
        "\\begin{align}\n",
        "\\ z_{3} = x_{4}+x_{5}\\ , \n",
        "\\ |z_{3} - x_{3}|>= 4,\\\\\\\n",
        "\\ i.e.\\text{ }|x_{4}+x_{5} - x_{3}| >= 4\\ \n",
        "\\end{align}\n",
        "\\begin{align}\n",
        "\\text{ }The\\text{ }\\ constraint \\text{ }\\ “|x_{4}+x_{5} -x_{3}| >= 4 \\ ” \\\n",
        "\\text{is not a linear constraint. }\\\n",
        "\\end{align}\n",
        "$\\textbf{Approach 1:}$\\\n",
        "However, the constraint can be transformed into linear constraints using a substitution: \\\\\n",
        "$|x_{4}+x_{5} - x_{3}| = p $ \\\\\n",
        "With this substitution, note that we have  $\\ p >= 0$ \n",
        "\n",
        "\\begin{align}\n",
        "\\ p >= x_{4}+x_{5}-x_{3}\\text{ or }\\ -x_{4}-x_{5}+x_{3}-p<=0, \\\\\n",
        "\\ p >= -x_{4}-x_{5}+x_{3}\\text{ or }\\ x_{4}+x_{5}-x_{3}-p<=0, \\\\\n",
        "\\ p >= 4 \\\\\n",
        "\\end{align}\n",
        "\n",
        "If we replace the original constraint by these three constraints, we obtain a linear program.\\\n",
        "\n",
        "$\\textbf{Approach 2:}$ \\\n",
        "$Let:$\\\n",
        "$|x_{4}+x_{5} - x_{3}| = a_{1}+a_{2} ,$\n",
        " and \\\n",
        " $x_{4}+x_{5} - x_{3} = a_{1}-a_{2}$ \\\n",
        "with these assumptions our new optimization problem becomes linear with the following additional constraints : \\\n",
        "$x_{4}+x_{5} - x_{3} - a_{1} - a_{2} <= 0,$\\\n",
        "$-x_{4}-x_{5} + x_{3} - a_{1} - a_{2} <= 0,$\\\n",
        "$x_{4}+x_{5} - x_{3} - a_{1} + a_{2} <= 0,$\\\n",
        "$-x_{4}-x_{5} + x_{3} + a_{1} - a_{2} <= 0,$\\\n",
        "$ \\ a_{1} + a_{2} >= 4, $\\\n",
        "where $a_{i} >= 0$\n"
      ]
    }
  ]
}