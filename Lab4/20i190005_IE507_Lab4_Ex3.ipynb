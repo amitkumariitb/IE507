{
  "nbformat": 4,
  "nbformat_minor": 0,
  "metadata": {
    "colab": {
      "name": "20i190005_IE507_Lab4_Ex3.ipynb",
      "provenance": []
    },
    "kernelspec": {
      "name": "python3",
      "display_name": "Python 3"
    }
  },
  "cells": [
    {
      "cell_type": "code",
      "metadata": {
        "id": "csceioRkALBc"
      },
      "source": [
        "!pip install -q pyomo"
      ],
      "execution_count": null,
      "outputs": []
    },
    {
      "cell_type": "code",
      "metadata": {
        "id": "TXgtOxIfARlO"
      },
      "source": [
        "from pyomo.environ import * "
      ],
      "execution_count": null,
      "outputs": []
    },
    {
      "cell_type": "code",
      "metadata": {
        "id": "c7D3WchYAUYj"
      },
      "source": [
        "import numpy as np"
      ],
      "execution_count": null,
      "outputs": []
    },
    {
      "cell_type": "code",
      "metadata": {
        "id": "CrqZWEp4AW6I"
      },
      "source": [
        "import pandas as pd"
      ],
      "execution_count": null,
      "outputs": []
    },
    {
      "cell_type": "code",
      "metadata": {
        "id": "I3A0v7y_BETC"
      },
      "source": [
        "data_csvfile = pd.read_csv('lab4_ex3.csv')"
      ],
      "execution_count": null,
      "outputs": []
    },
    {
      "cell_type": "markdown",
      "metadata": {
        "id": "7wxfXaigdOcC"
      },
      "source": [
        "4.Answer : We will solve the optimization problem: Max 15*x1 + 10*x2 + 20*x3 + 10*x4 + 15*x5 ; s.t. 4*x1 + 3.5*x2 + 5x3 + 4x4 + 4.5*x5 <=29 , 3*x1 + 3.25*x2 + 4*x3 + 2.75*x4 + 2.5*x5 <=37 ,\n",
        "where \n",
        "x1, x2, x3, x4, x5 are non-negative integers."
      ]
    },
    {
      "cell_type": "code",
      "metadata": {
        "id": "xzrF73-pFAEP",
        "colab": {
          "base_uri": "https://localhost:8080/",
          "height": 54
        },
        "outputId": "dfec7055-94a3-4fdd-d8c0-aefdb5c196f0"
      },
      "source": [
        "data_csvfile.columns"
      ],
      "execution_count": null,
      "outputs": [
        {
          "output_type": "execute_result",
          "data": {
            "text/plain": [
              "Index(['Model', 'Carr_Capacity', 'Cost(in Crores)', 'Park_Space'], dtype='object')"
            ]
          },
          "metadata": {
            "tags": []
          },
          "execution_count": 6
        }
      ]
    },
    {
      "cell_type": "code",
      "metadata": {
        "id": "AAuTxu3QjdZR",
        "colab": {
          "base_uri": "https://localhost:8080/",
          "height": 119
        },
        "outputId": "ec4478dd-731c-4f62-bbd5-8e9e7466d8df"
      },
      "source": [
        "data_csvfile['Model']"
      ],
      "execution_count": null,
      "outputs": [
        {
          "output_type": "execute_result",
          "data": {
            "text/plain": [
              "0    SANKALP\n",
              "1     KARTAV\n",
              "2     SAAHAS\n",
              "3      VIJAY\n",
              "4    LAKSHYA\n",
              "Name: Model, dtype: object"
            ]
          },
          "metadata": {
            "tags": []
          },
          "execution_count": 7
        }
      ]
    },
    {
      "cell_type": "code",
      "metadata": {
        "id": "8m-lSk75jv2z",
        "colab": {
          "base_uri": "https://localhost:8080/",
          "height": 119
        },
        "outputId": "7a37bb21-1fb3-4b94-d75f-bb0abf1646ab"
      },
      "source": [
        "data_csvfile['Carr_Capacity']"
      ],
      "execution_count": null,
      "outputs": [
        {
          "output_type": "execute_result",
          "data": {
            "text/plain": [
              "0    15\n",
              "1    10\n",
              "2    20\n",
              "3    10\n",
              "4    15\n",
              "Name: Carr_Capacity, dtype: int64"
            ]
          },
          "metadata": {
            "tags": []
          },
          "execution_count": 8
        }
      ]
    },
    {
      "cell_type": "code",
      "metadata": {
        "id": "kowyYkxGkCIg",
        "colab": {
          "base_uri": "https://localhost:8080/",
          "height": 119
        },
        "outputId": "d837c563-9e9e-4fed-8997-59e6c9dd4b15"
      },
      "source": [
        "data_csvfile['Cost(in Crores)']"
      ],
      "execution_count": null,
      "outputs": [
        {
          "output_type": "execute_result",
          "data": {
            "text/plain": [
              "0    4.0\n",
              "1    3.5\n",
              "2    5.0\n",
              "3    4.0\n",
              "4    4.5\n",
              "Name: Cost(in Crores), dtype: float64"
            ]
          },
          "metadata": {
            "tags": []
          },
          "execution_count": 9
        }
      ]
    },
    {
      "cell_type": "code",
      "metadata": {
        "id": "rl-8sjABkjGg",
        "colab": {
          "base_uri": "https://localhost:8080/",
          "height": 119
        },
        "outputId": "2e385b22-29d9-4a73-a180-be51a0463575"
      },
      "source": [
        "data_csvfile['Park_Space']"
      ],
      "execution_count": null,
      "outputs": [
        {
          "output_type": "execute_result",
          "data": {
            "text/plain": [
              "0    3.00\n",
              "1    3.25\n",
              "2    4.00\n",
              "3    2.75\n",
              "4    2.50\n",
              "Name: Park_Space, dtype: float64"
            ]
          },
          "metadata": {
            "tags": []
          },
          "execution_count": 10
        }
      ]
    },
    {
      "cell_type": "code",
      "metadata": {
        "id": "XlqrsqJ4kxc6",
        "colab": {
          "base_uri": "https://localhost:8080/",
          "height": 34
        },
        "outputId": "a9d9623f-7ef2-4beb-cc20-75cb636a1e53"
      },
      "source": [
        "data_csvfile.index"
      ],
      "execution_count": null,
      "outputs": [
        {
          "output_type": "execute_result",
          "data": {
            "text/plain": [
              "RangeIndex(start=0, stop=5, step=1)"
            ]
          },
          "metadata": {
            "tags": []
          },
          "execution_count": 11
        }
      ]
    },
    {
      "cell_type": "code",
      "metadata": {
        "id": "7uOF1gvklKQz",
        "colab": {
          "base_uri": "https://localhost:8080/",
          "height": 34
        },
        "outputId": "a8a7ee1e-f273-4430-c208-f15be85e2283"
      },
      "source": [
        "len(data_csvfile.index)"
      ],
      "execution_count": null,
      "outputs": [
        {
          "output_type": "execute_result",
          "data": {
            "text/plain": [
              "5"
            ]
          },
          "metadata": {
            "tags": []
          },
          "execution_count": 12
        }
      ]
    },
    {
      "cell_type": "code",
      "metadata": {
        "id": "d6M8l7Zborxk"
      },
      "source": [
        "model = ConcreteModel()"
      ],
      "execution_count": null,
      "outputs": []
    },
    {
      "cell_type": "code",
      "metadata": {
        "id": "8nccQ5ago9KJ"
      },
      "source": [
        "N = len(data_csvfile.index)\n",
        "M = 2"
      ],
      "execution_count": null,
      "outputs": []
    },
    {
      "cell_type": "code",
      "metadata": {
        "id": "BNxMcGREpHW5"
      },
      "source": [
        "col_indices = range(N)"
      ],
      "execution_count": null,
      "outputs": []
    },
    {
      "cell_type": "code",
      "metadata": {
        "id": "BzWbuuJXpadm"
      },
      "source": [
        "model.x = Var(col_indices,domain=NonNegativeIntegers)"
      ],
      "execution_count": null,
      "outputs": []
    },
    {
      "cell_type": "code",
      "metadata": {
        "id": "nYt2hn2Xrffw"
      },
      "source": [
        "model.objective = Objective(expr=summation(data_csvfile['Carr_Capacity'], model.x),sense=maximize)"
      ],
      "execution_count": null,
      "outputs": []
    },
    {
      "cell_type": "code",
      "metadata": {
        "id": "Nj1n7KCxsFQ5"
      },
      "source": [
        "model.constraints = ConstraintList()"
      ],
      "execution_count": null,
      "outputs": []
    },
    {
      "cell_type": "code",
      "metadata": {
        "id": "1sDBft07sLBg",
        "colab": {
          "base_uri": "https://localhost:8080/",
          "height": 34
        },
        "outputId": "dedcdcd8-e36e-46d7-c5d3-5f73633a2aad"
      },
      "source": [
        "model.constraints.add(summation(data_csvfile['Cost(in Crores)'], model.x) <= 29)\n",
        "model.constraints.add(summation(data_csvfile['Park_Space'], model.x) <= 37)"
      ],
      "execution_count": null,
      "outputs": [
        {
          "output_type": "execute_result",
          "data": {
            "text/plain": [
              "<pyomo.core.base.constraint._GeneralConstraintData at 0x7f8dc8b903a8>"
            ]
          },
          "metadata": {
            "tags": []
          },
          "execution_count": 19
        }
      ]
    },
    {
      "cell_type": "code",
      "metadata": {
        "id": "4JVWJ-QLtAnC"
      },
      "source": [
        "lower_bound = 0\n",
        "upper_bound = np.inf"
      ],
      "execution_count": null,
      "outputs": []
    },
    {
      "cell_type": "code",
      "metadata": {
        "id": "kIVzu4TQtLll"
      },
      "source": [
        "for j in col_indices:\n",
        "  model.x[j].setlb(lower_bound)\n",
        "  model.x[j].setub(upper_bound)"
      ],
      "execution_count": null,
      "outputs": []
    },
    {
      "cell_type": "code",
      "metadata": {
        "id": "cRM-wZwBtY3Q",
        "colab": {
          "base_uri": "https://localhost:8080/",
          "height": 530
        },
        "outputId": "d0ded049-ec80-456b-9b90-6d2e28d9f412"
      },
      "source": [
        "model.pprint()"
      ],
      "execution_count": null,
      "outputs": [
        {
          "output_type": "stream",
          "text": [
            "2 Set Declarations\n",
            "    constraints_index : Size=1, Index=None, Ordered=Insertion\n",
            "        Key  : Dimen : Domain : Size : Members\n",
            "        None :     1 :    Any :    2 : {1, 2}\n",
            "    x_index : Size=1, Index=None, Ordered=False\n",
            "        Key  : Dimen : Domain : Size : Members\n",
            "        None :     1 :    Any :    5 : {0, 1, 2, 3, 4}\n",
            "\n",
            "1 Var Declarations\n",
            "    x : Size=5, Index=x_index\n",
            "        Key : Lower : Value : Upper : Fixed : Stale : Domain\n",
            "          0 :     0 :  None :   inf : False :  True : NonNegativeIntegers\n",
            "          1 :     0 :  None :   inf : False :  True : NonNegativeIntegers\n",
            "          2 :     0 :  None :   inf : False :  True : NonNegativeIntegers\n",
            "          3 :     0 :  None :   inf : False :  True : NonNegativeIntegers\n",
            "          4 :     0 :  None :   inf : False :  True : NonNegativeIntegers\n",
            "\n",
            "1 Objective Declarations\n",
            "    objective : Size=1, Index=None, Active=True\n",
            "        Key  : Active : Sense    : Expression\n",
            "        None :   True : maximize : 15*x[0] + 10*x[1] + 20*x[2] + 10*x[3] + 15*x[4]\n",
            "\n",
            "1 Constraint Declarations\n",
            "    constraints : Size=2, Index=constraints_index, Active=True\n",
            "        Key : Lower : Body                                                   : Upper : Active\n",
            "          1 :  -Inf :   4.0*x[0] + 3.5*x[1] + 5.0*x[2] + 4.0*x[3] + 4.5*x[4] :  29.0 :   True\n",
            "          2 :  -Inf : 3.0*x[0] + 3.25*x[1] + 4.0*x[2] + 2.75*x[3] + 2.5*x[4] :  37.0 :   True\n",
            "\n",
            "5 Declarations: x_index x objective constraints_index constraints\n"
          ],
          "name": "stdout"
        }
      ]
    },
    {
      "cell_type": "code",
      "metadata": {
        "id": "fg5Q8WXHteKH"
      },
      "source": [
        "!apt-get install -y -qq coinor-cbc"
      ],
      "execution_count": null,
      "outputs": []
    },
    {
      "cell_type": "code",
      "metadata": {
        "id": "37mDOyIjtyuP"
      },
      "source": [
        "opt_cbc = SolverFactory('cbc')"
      ],
      "execution_count": null,
      "outputs": []
    },
    {
      "cell_type": "code",
      "metadata": {
        "id": "JB2CC4U4uC5g",
        "colab": {
          "base_uri": "https://localhost:8080/",
          "height": 598
        },
        "outputId": "f23ba5a1-678c-422a-8693-ca5b68556bc1"
      },
      "source": [
        "result = opt_cbc.solve(model)\n",
        "print(result)\n",
        "print('Solver status:', result.solver.status)\n",
        "print('Solver termination condition:',result.solver.termination_condition)"
      ],
      "execution_count": null,
      "outputs": [
        {
          "output_type": "stream",
          "text": [
            "\n",
            "Problem: \n",
            "- Name: unknown\n",
            "  Lower bound: 115.0\n",
            "  Upper bound: 115.0\n",
            "  Number of objectives: 1\n",
            "  Number of constraints: 2\n",
            "  Number of variables: 5\n",
            "  Number of binary variables: 0\n",
            "  Number of integer variables: 5\n",
            "  Number of nonzeros: 5\n",
            "  Sense: maximize\n",
            "Solver: \n",
            "- Status: ok\n",
            "  User time: -1.0\n",
            "  System time: 0.0\n",
            "  Wallclock time: 0.0\n",
            "  Termination condition: optimal\n",
            "  Termination message: Model was solved to optimality (subject to tolerances), and an optimal solution is available.\n",
            "  Statistics: \n",
            "    Branch and bound: \n",
            "      Number of bounded subproblems: 0\n",
            "      Number of created subproblems: 0\n",
            "    Black box: \n",
            "      Number of iterations: 0\n",
            "  Error rc: 0\n",
            "  Time: 0.018500089645385742\n",
            "Solution: \n",
            "- number of solutions: 0\n",
            "  number of solutions displayed: 0\n",
            "\n",
            "Solver status: ok\n",
            "Solver termination condition: optimal\n"
          ],
          "name": "stdout"
        }
      ]
    },
    {
      "cell_type": "code",
      "metadata": {
        "id": "a6FEum2GunIY",
        "colab": {
          "base_uri": "https://localhost:8080/",
          "height": 170
        },
        "outputId": "87c13986-361d-41d8-8f4e-7088212d1d90"
      },
      "source": [
        "# display solution\n",
        "print('\\nObjective = ', model.objective())\n",
        "\n",
        "print('\\nDecision Variables')\n",
        "for i in col_indices:\n",
        "  print('Number of ',data_csvfile['Model'][i],' drones ', model.x[i].value)\n"
      ],
      "execution_count": null,
      "outputs": [
        {
          "output_type": "stream",
          "text": [
            "\n",
            "Objective =  115.0\n",
            "\n",
            "Decision Variables\n",
            "Number of  SANKALP  drones  1.0\n",
            "Number of  KARTAV  drones  0.0\n",
            "Number of  SAAHAS  drones  5.0\n",
            "Number of  VIJAY  drones  0.0\n",
            "Number of  LAKSHYA  drones  0.0\n"
          ],
          "name": "stdout"
        }
      ]
    },
    {
      "cell_type": "markdown",
      "metadata": {
        "id": "FnAsDl537SgF"
      },
      "source": [
        "7.Now we are removing the integer restrictions on all variables."
      ]
    },
    {
      "cell_type": "code",
      "metadata": {
        "id": "IMDYL-X3wBRw"
      },
      "source": [
        "model_1 = ConcreteModel()"
      ],
      "execution_count": null,
      "outputs": []
    },
    {
      "cell_type": "code",
      "metadata": {
        "id": "171aNiL47fAF"
      },
      "source": [
        "model_1.x = Var(col_indices)"
      ],
      "execution_count": null,
      "outputs": []
    },
    {
      "cell_type": "code",
      "metadata": {
        "id": "lJaDQH-28-iq"
      },
      "source": [
        "model_1.objective = Objective(expr=summation(data_csvfile['Carr_Capacity'], model_1.x),sense=maximize)"
      ],
      "execution_count": null,
      "outputs": []
    },
    {
      "cell_type": "code",
      "metadata": {
        "id": "WcT4Wy6k7ih6"
      },
      "source": [
        "model_1.constraints = ConstraintList()"
      ],
      "execution_count": null,
      "outputs": []
    },
    {
      "cell_type": "code",
      "metadata": {
        "id": "XvJ0O7II7m0M",
        "colab": {
          "base_uri": "https://localhost:8080/",
          "height": 34
        },
        "outputId": "c86fc2d8-9881-430f-f8c3-87ee2911bd66"
      },
      "source": [
        "model_1.constraints.add(summation(data_csvfile['Cost(in Crores)'], model_1.x) <= 29)\n",
        "model_1.constraints.add(summation(data_csvfile['Park_Space'], model_1.x) <= 37)"
      ],
      "execution_count": null,
      "outputs": [
        {
          "output_type": "execute_result",
          "data": {
            "text/plain": [
              "<pyomo.core.base.constraint._GeneralConstraintData at 0x7f8dc8b90e28>"
            ]
          },
          "metadata": {
            "tags": []
          },
          "execution_count": 31
        }
      ]
    },
    {
      "cell_type": "code",
      "metadata": {
        "id": "VmGmwscc9W2y"
      },
      "source": [
        "for j in col_indices:\n",
        "  model_1.x[j].setlb(lower_bound)\n",
        "  model_1.x[j].setub(upper_bound)"
      ],
      "execution_count": null,
      "outputs": []
    },
    {
      "cell_type": "code",
      "metadata": {
        "id": "gghQWVn29hqo",
        "colab": {
          "base_uri": "https://localhost:8080/",
          "height": 530
        },
        "outputId": "7509a67a-0467-4f07-e079-206595a0a35c"
      },
      "source": [
        "model_1.pprint()"
      ],
      "execution_count": null,
      "outputs": [
        {
          "output_type": "stream",
          "text": [
            "2 Set Declarations\n",
            "    constraints_index : Size=1, Index=None, Ordered=Insertion\n",
            "        Key  : Dimen : Domain : Size : Members\n",
            "        None :     1 :    Any :    2 : {1, 2}\n",
            "    x_index : Size=1, Index=None, Ordered=False\n",
            "        Key  : Dimen : Domain : Size : Members\n",
            "        None :     1 :    Any :    5 : {0, 1, 2, 3, 4}\n",
            "\n",
            "1 Var Declarations\n",
            "    x : Size=5, Index=x_index\n",
            "        Key : Lower : Value : Upper : Fixed : Stale : Domain\n",
            "          0 :     0 :  None :   inf : False :  True :  Reals\n",
            "          1 :     0 :  None :   inf : False :  True :  Reals\n",
            "          2 :     0 :  None :   inf : False :  True :  Reals\n",
            "          3 :     0 :  None :   inf : False :  True :  Reals\n",
            "          4 :     0 :  None :   inf : False :  True :  Reals\n",
            "\n",
            "1 Objective Declarations\n",
            "    objective : Size=1, Index=None, Active=True\n",
            "        Key  : Active : Sense    : Expression\n",
            "        None :   True : maximize : 15*x[0] + 10*x[1] + 20*x[2] + 10*x[3] + 15*x[4]\n",
            "\n",
            "1 Constraint Declarations\n",
            "    constraints : Size=2, Index=constraints_index, Active=True\n",
            "        Key : Lower : Body                                                   : Upper : Active\n",
            "          1 :  -Inf :   4.0*x[0] + 3.5*x[1] + 5.0*x[2] + 4.0*x[3] + 4.5*x[4] :  29.0 :   True\n",
            "          2 :  -Inf : 3.0*x[0] + 3.25*x[1] + 4.0*x[2] + 2.75*x[3] + 2.5*x[4] :  37.0 :   True\n",
            "\n",
            "5 Declarations: x_index x objective constraints_index constraints\n"
          ],
          "name": "stdout"
        }
      ]
    },
    {
      "cell_type": "code",
      "metadata": {
        "id": "XFDhEOiv9wgV"
      },
      "source": [
        "!apt-get install -y -qq coinor-cbc"
      ],
      "execution_count": null,
      "outputs": []
    },
    {
      "cell_type": "code",
      "metadata": {
        "id": "hfsUgDiQ-FmD"
      },
      "source": [
        "opt_cbc_1 = SolverFactory('cbc')"
      ],
      "execution_count": null,
      "outputs": []
    },
    {
      "cell_type": "code",
      "metadata": {
        "id": "kLKPMFbO-KOz",
        "colab": {
          "base_uri": "https://localhost:8080/",
          "height": 564
        },
        "outputId": "83af58a8-54fe-4bac-d8bc-d3b12af72553"
      },
      "source": [
        "result_1 = opt_cbc_1.solve(model_1)\n",
        "print(result_1)\n",
        "print('Solver status:', result_1.solver.status)\n",
        "print('Solver termination condition:',result_1.solver.termination_condition)"
      ],
      "execution_count": null,
      "outputs": [
        {
          "output_type": "stream",
          "text": [
            "\n",
            "Problem: \n",
            "- Name: unknown\n",
            "  Lower bound: 116.0\n",
            "  Upper bound: 116.0\n",
            "  Number of objectives: 1\n",
            "  Number of constraints: 3\n",
            "  Number of variables: 6\n",
            "  Number of nonzeros: 5\n",
            "  Sense: maximize\n",
            "Solver: \n",
            "- Status: ok\n",
            "  User time: -1.0\n",
            "  System time: 0.0\n",
            "  Wallclock time: 0.0\n",
            "  Termination condition: optimal\n",
            "  Termination message: Model was solved to optimality (subject to tolerances), and an optimal solution is available.\n",
            "  Statistics: \n",
            "    Branch and bound: \n",
            "      Number of bounded subproblems: None\n",
            "      Number of created subproblems: None\n",
            "    Black box: \n",
            "      Number of iterations: 1\n",
            "  Error rc: 0\n",
            "  Time: 0.018056869506835938\n",
            "Solution: \n",
            "- number of solutions: 0\n",
            "  number of solutions displayed: 0\n",
            "\n",
            "Solver status: ok\n",
            "Solver termination condition: optimal\n"
          ],
          "name": "stdout"
        }
      ]
    },
    {
      "cell_type": "code",
      "metadata": {
        "id": "8iuNrebs-rl3",
        "colab": {
          "base_uri": "https://localhost:8080/",
          "height": 170
        },
        "outputId": "fd4dd80a-547d-4fd7-ffc2-0aa12c8bd27b"
      },
      "source": [
        "# display solution\n",
        "print('\\nObjective = ', model_1.objective())\n",
        "\n",
        "print('\\nDecision Variables')\n",
        "for i in col_indices:\n",
        "  print('Number of ',data_csvfile['Model'][i],' drones ', model_1.x[i].value)"
      ],
      "execution_count": null,
      "outputs": [
        {
          "output_type": "stream",
          "text": [
            "\n",
            "Objective =  116.0\n",
            "\n",
            "Decision Variables\n",
            "Number of  SANKALP  drones  0.0\n",
            "Number of  KARTAV  drones  0.0\n",
            "Number of  SAAHAS  drones  5.8\n",
            "Number of  VIJAY  drones  0.0\n",
            "Number of  LAKSHYA  drones  0.0\n"
          ],
          "name": "stdout"
        }
      ]
    },
    {
      "cell_type": "markdown",
      "metadata": {
        "id": "blHyCEU-FPYO"
      },
      "source": [
        "*8*.Answer: No, the solution of the MILP can not be obtained by merely rounding the solution of the LP.It may lead to an infeasible solution or a non-optimal solution."
      ]
    },
    {
      "cell_type": "markdown",
      "metadata": {
        "id": "rDsozSOAF0Hi"
      },
      "source": [
        "9.Now we are changing the values on the RHS of the constraints"
      ]
    },
    {
      "cell_type": "code",
      "metadata": {
        "id": "CKsAWUfPFO5Y"
      },
      "source": [
        "model_1.constraints[1].deactivate()\n",
        "model_1.constraints[2].deactivate()\n"
      ],
      "execution_count": null,
      "outputs": []
    },
    {
      "cell_type": "code",
      "metadata": {
        "id": "KM86BfECYB-B",
        "colab": {
          "base_uri": "https://localhost:8080/",
          "height": 34
        },
        "outputId": "2a177995-0aa9-477e-e98e-ac040986ede0"
      },
      "source": [
        "model_1.constraints.add(summation(data_csvfile['Cost(in Crores)'], model_1.x) <= 41)\n",
        "model_1.constraints.add(summation(data_csvfile['Park_Space'], model_1.x) <= 47)"
      ],
      "execution_count": null,
      "outputs": [
        {
          "output_type": "execute_result",
          "data": {
            "text/plain": [
              "<pyomo.core.base.constraint._GeneralConstraintData at 0x7f8dc8b50468>"
            ]
          },
          "metadata": {
            "tags": []
          },
          "execution_count": 39
        }
      ]
    },
    {
      "cell_type": "code",
      "metadata": {
        "id": "g1WCT9xlal9W",
        "colab": {
          "base_uri": "https://localhost:8080/",
          "height": 564
        },
        "outputId": "a36be5b3-b435-4c6a-85cc-5ba5ddc1cb20"
      },
      "source": [
        "model_1.pprint()"
      ],
      "execution_count": null,
      "outputs": [
        {
          "output_type": "stream",
          "text": [
            "2 Set Declarations\n",
            "    constraints_index : Size=1, Index=None, Ordered=Insertion\n",
            "        Key  : Dimen : Domain : Size : Members\n",
            "        None :     1 :    Any :    4 : {1, 2, 3, 4}\n",
            "    x_index : Size=1, Index=None, Ordered=False\n",
            "        Key  : Dimen : Domain : Size : Members\n",
            "        None :     1 :    Any :    5 : {0, 1, 2, 3, 4}\n",
            "\n",
            "1 Var Declarations\n",
            "    x : Size=5, Index=x_index\n",
            "        Key : Lower : Value : Upper : Fixed : Stale : Domain\n",
            "          0 :     0 :   0.0 :   inf : False : False :  Reals\n",
            "          1 :     0 :   0.0 :   inf : False : False :  Reals\n",
            "          2 :     0 :   5.8 :   inf : False : False :  Reals\n",
            "          3 :     0 :   0.0 :   inf : False : False :  Reals\n",
            "          4 :     0 :   0.0 :   inf : False : False :  Reals\n",
            "\n",
            "1 Objective Declarations\n",
            "    objective : Size=1, Index=None, Active=True\n",
            "        Key  : Active : Sense    : Expression\n",
            "        None :   True : maximize : 15*x[0] + 10*x[1] + 20*x[2] + 10*x[3] + 15*x[4]\n",
            "\n",
            "1 Constraint Declarations\n",
            "    constraints : Size=4, Index=constraints_index, Active=True\n",
            "        Key : Lower : Body                                                   : Upper : Active\n",
            "          1 :  -Inf :   4.0*x[0] + 3.5*x[1] + 5.0*x[2] + 4.0*x[3] + 4.5*x[4] :  29.0 :  False\n",
            "          2 :  -Inf : 3.0*x[0] + 3.25*x[1] + 4.0*x[2] + 2.75*x[3] + 2.5*x[4] :  37.0 :  False\n",
            "          3 :  -Inf :   4.0*x[0] + 3.5*x[1] + 5.0*x[2] + 4.0*x[3] + 4.5*x[4] :  41.0 :   True\n",
            "          4 :  -Inf : 3.0*x[0] + 3.25*x[1] + 4.0*x[2] + 2.75*x[3] + 2.5*x[4] :  47.0 :   True\n",
            "\n",
            "5 Declarations: x_index x objective constraints_index constraints\n"
          ],
          "name": "stdout"
        }
      ]
    },
    {
      "cell_type": "code",
      "metadata": {
        "id": "vnZkB_e9asYg"
      },
      "source": [
        "!apt-get install -y -qq coinor-cbc"
      ],
      "execution_count": null,
      "outputs": []
    },
    {
      "cell_type": "code",
      "metadata": {
        "id": "MPjoP8-6cAnh"
      },
      "source": [
        "opt_cbc_1 = SolverFactory('cbc')"
      ],
      "execution_count": null,
      "outputs": []
    },
    {
      "cell_type": "code",
      "metadata": {
        "id": "fsvzI9eqcETl",
        "colab": {
          "base_uri": "https://localhost:8080/",
          "height": 564
        },
        "outputId": "2134b0dc-609d-4272-9da6-c98d0355e9f1"
      },
      "source": [
        "result_1 = opt_cbc_1.solve(model_1)\n",
        "print(result_1)\n",
        "print('Solver status:', result_1.solver.status)\n",
        "print('Solver termination condition:',result_1.solver.termination_condition)"
      ],
      "execution_count": null,
      "outputs": [
        {
          "output_type": "stream",
          "text": [
            "\n",
            "Problem: \n",
            "- Name: unknown\n",
            "  Lower bound: 164.0\n",
            "  Upper bound: 164.0\n",
            "  Number of objectives: 1\n",
            "  Number of constraints: 3\n",
            "  Number of variables: 6\n",
            "  Number of nonzeros: 5\n",
            "  Sense: maximize\n",
            "Solver: \n",
            "- Status: ok\n",
            "  User time: -1.0\n",
            "  System time: 0.0\n",
            "  Wallclock time: 0.0\n",
            "  Termination condition: optimal\n",
            "  Termination message: Model was solved to optimality (subject to tolerances), and an optimal solution is available.\n",
            "  Statistics: \n",
            "    Branch and bound: \n",
            "      Number of bounded subproblems: None\n",
            "      Number of created subproblems: None\n",
            "    Black box: \n",
            "      Number of iterations: 1\n",
            "  Error rc: 0\n",
            "  Time: 0.01921224594116211\n",
            "Solution: \n",
            "- number of solutions: 0\n",
            "  number of solutions displayed: 0\n",
            "\n",
            "Solver status: ok\n",
            "Solver termination condition: optimal\n"
          ],
          "name": "stdout"
        }
      ]
    },
    {
      "cell_type": "code",
      "metadata": {
        "id": "22k7XD1acMg6",
        "colab": {
          "base_uri": "https://localhost:8080/",
          "height": 170
        },
        "outputId": "85d65d0a-c0fc-4619-edb8-3b1cd930b434"
      },
      "source": [
        "# display solution\n",
        "print('\\nObjective = ', model_1.objective())\n",
        "\n",
        "print('\\nDecision Variables')\n",
        "for i in col_indices:\n",
        "  print('Number of ',data_csvfile['Model'][i],' drones ', model_1.x[i].value)"
      ],
      "execution_count": null,
      "outputs": [
        {
          "output_type": "stream",
          "text": [
            "\n",
            "Objective =  164.0\n",
            "\n",
            "Decision Variables\n",
            "Number of  SANKALP  drones  0.0\n",
            "Number of  KARTAV  drones  0.0\n",
            "Number of  SAAHAS  drones  8.2\n",
            "Number of  VIJAY  drones  0.0\n",
            "Number of  LAKSHYA  drones  0.0\n"
          ],
          "name": "stdout"
        }
      ]
    },
    {
      "cell_type": "code",
      "metadata": {
        "id": "CRpe-7PocajB"
      },
      "source": [
        "model_1.constraints[3].deactivate()\n",
        "model_1.constraints[4].deactivate()"
      ],
      "execution_count": null,
      "outputs": []
    },
    {
      "cell_type": "code",
      "metadata": {
        "id": "OG0ljVEYeG2D",
        "colab": {
          "base_uri": "https://localhost:8080/",
          "height": 34
        },
        "outputId": "5d820e1e-aafb-44e8-c739-6be5deefbdfd"
      },
      "source": [
        "model_1.constraints.add(summation(data_csvfile['Cost(in Crores)'], model_1.x) <= 39)\n",
        "model_1.constraints.add(summation(data_csvfile['Park_Space'], model_1.x) <= 49)"
      ],
      "execution_count": null,
      "outputs": [
        {
          "output_type": "execute_result",
          "data": {
            "text/plain": [
              "<pyomo.core.base.constraint._GeneralConstraintData at 0x7f8dc8b50be8>"
            ]
          },
          "metadata": {
            "tags": []
          },
          "execution_count": 46
        }
      ]
    },
    {
      "cell_type": "code",
      "metadata": {
        "id": "bqrfenIyePCt",
        "colab": {
          "base_uri": "https://localhost:8080/",
          "height": 598
        },
        "outputId": "efc17571-51f9-46e5-d17e-840630aa4e3c"
      },
      "source": [
        "model_1.pprint()"
      ],
      "execution_count": null,
      "outputs": [
        {
          "output_type": "stream",
          "text": [
            "2 Set Declarations\n",
            "    constraints_index : Size=1, Index=None, Ordered=Insertion\n",
            "        Key  : Dimen : Domain : Size : Members\n",
            "        None :     1 :    Any :    6 : {1, 2, 3, 4, 5, 6}\n",
            "    x_index : Size=1, Index=None, Ordered=False\n",
            "        Key  : Dimen : Domain : Size : Members\n",
            "        None :     1 :    Any :    5 : {0, 1, 2, 3, 4}\n",
            "\n",
            "1 Var Declarations\n",
            "    x : Size=5, Index=x_index\n",
            "        Key : Lower : Value : Upper : Fixed : Stale : Domain\n",
            "          0 :     0 :   0.0 :   inf : False : False :  Reals\n",
            "          1 :     0 :   0.0 :   inf : False : False :  Reals\n",
            "          2 :     0 :   8.2 :   inf : False : False :  Reals\n",
            "          3 :     0 :   0.0 :   inf : False : False :  Reals\n",
            "          4 :     0 :   0.0 :   inf : False : False :  Reals\n",
            "\n",
            "1 Objective Declarations\n",
            "    objective : Size=1, Index=None, Active=True\n",
            "        Key  : Active : Sense    : Expression\n",
            "        None :   True : maximize : 15*x[0] + 10*x[1] + 20*x[2] + 10*x[3] + 15*x[4]\n",
            "\n",
            "1 Constraint Declarations\n",
            "    constraints : Size=6, Index=constraints_index, Active=True\n",
            "        Key : Lower : Body                                                   : Upper : Active\n",
            "          1 :  -Inf :   4.0*x[0] + 3.5*x[1] + 5.0*x[2] + 4.0*x[3] + 4.5*x[4] :  29.0 :  False\n",
            "          2 :  -Inf : 3.0*x[0] + 3.25*x[1] + 4.0*x[2] + 2.75*x[3] + 2.5*x[4] :  37.0 :  False\n",
            "          3 :  -Inf :   4.0*x[0] + 3.5*x[1] + 5.0*x[2] + 4.0*x[3] + 4.5*x[4] :  41.0 :  False\n",
            "          4 :  -Inf : 3.0*x[0] + 3.25*x[1] + 4.0*x[2] + 2.75*x[3] + 2.5*x[4] :  47.0 :  False\n",
            "          5 :  -Inf :   4.0*x[0] + 3.5*x[1] + 5.0*x[2] + 4.0*x[3] + 4.5*x[4] :  39.0 :   True\n",
            "          6 :  -Inf : 3.0*x[0] + 3.25*x[1] + 4.0*x[2] + 2.75*x[3] + 2.5*x[4] :  49.0 :   True\n",
            "\n",
            "5 Declarations: x_index x objective constraints_index constraints\n"
          ],
          "name": "stdout"
        }
      ]
    },
    {
      "cell_type": "code",
      "metadata": {
        "id": "1zJI6olKeVVU"
      },
      "source": [
        "!apt-get install -y -qq coinor-cbc"
      ],
      "execution_count": null,
      "outputs": []
    },
    {
      "cell_type": "code",
      "metadata": {
        "id": "c-WjD2V4jBI7"
      },
      "source": [
        "opt_cbc_1 = SolverFactory('cbc')"
      ],
      "execution_count": null,
      "outputs": []
    },
    {
      "cell_type": "code",
      "metadata": {
        "id": "x5cMjMpAkAdY",
        "colab": {
          "base_uri": "https://localhost:8080/",
          "height": 564
        },
        "outputId": "6012e3ff-7cbe-441d-cfe0-504c9bbe120a"
      },
      "source": [
        "result_1 = opt_cbc_1.solve(model_1)\n",
        "print(result_1)\n",
        "print('Solver status:', result_1.solver.status)\n",
        "print('Solver termination condition:',result_1.solver.termination_condition)"
      ],
      "execution_count": null,
      "outputs": [
        {
          "output_type": "stream",
          "text": [
            "\n",
            "Problem: \n",
            "- Name: unknown\n",
            "  Lower bound: 156.0\n",
            "  Upper bound: 156.0\n",
            "  Number of objectives: 1\n",
            "  Number of constraints: 3\n",
            "  Number of variables: 6\n",
            "  Number of nonzeros: 5\n",
            "  Sense: maximize\n",
            "Solver: \n",
            "- Status: ok\n",
            "  User time: -1.0\n",
            "  System time: 0.0\n",
            "  Wallclock time: 0.0\n",
            "  Termination condition: optimal\n",
            "  Termination message: Model was solved to optimality (subject to tolerances), and an optimal solution is available.\n",
            "  Statistics: \n",
            "    Branch and bound: \n",
            "      Number of bounded subproblems: None\n",
            "      Number of created subproblems: None\n",
            "    Black box: \n",
            "      Number of iterations: 1\n",
            "  Error rc: 0\n",
            "  Time: 0.016823291778564453\n",
            "Solution: \n",
            "- number of solutions: 0\n",
            "  number of solutions displayed: 0\n",
            "\n",
            "Solver status: ok\n",
            "Solver termination condition: optimal\n"
          ],
          "name": "stdout"
        }
      ]
    },
    {
      "cell_type": "code",
      "metadata": {
        "id": "-rJmDPcQjFjr",
        "colab": {
          "base_uri": "https://localhost:8080/",
          "height": 170
        },
        "outputId": "0d41e567-b6bb-42c1-b435-deaefbe2a6ea"
      },
      "source": [
        "# display solution\n",
        "print('\\nObjective = ', model_1.objective())\n",
        "\n",
        "print('\\nDecision Variables')\n",
        "for i in col_indices:\n",
        "  print('Number of ',data_csvfile['Model'][i],' drones ', model_1.x[i].value)"
      ],
      "execution_count": null,
      "outputs": [
        {
          "output_type": "stream",
          "text": [
            "\n",
            "Objective =  156.0\n",
            "\n",
            "Decision Variables\n",
            "Number of  SANKALP  drones  0.0\n",
            "Number of  KARTAV  drones  0.0\n",
            "Number of  SAAHAS  drones  7.8\n",
            "Number of  VIJAY  drones  0.0\n",
            "Number of  LAKSHYA  drones  0.0\n"
          ],
          "name": "stdout"
        }
      ]
    },
    {
      "cell_type": "code",
      "metadata": {
        "id": "2THNRc1wjeP1"
      },
      "source": [
        "model_1.constraints[5].deactivate()\n",
        "model_1.constraints[6].deactivate()"
      ],
      "execution_count": null,
      "outputs": []
    },
    {
      "cell_type": "code",
      "metadata": {
        "id": "htuM6UbykVb_",
        "colab": {
          "base_uri": "https://localhost:8080/",
          "height": 34
        },
        "outputId": "255975b6-9248-4d79-c3c8-0808fea54baf"
      },
      "source": [
        "model_1.constraints.add(summation(data_csvfile['Cost(in Crores)'], model_1.x) <= 37)\n",
        "model_1.constraints.add(summation(data_csvfile['Park_Space'], model_1.x) <= 51)"
      ],
      "execution_count": null,
      "outputs": [
        {
          "output_type": "execute_result",
          "data": {
            "text/plain": [
              "<pyomo.core.base.constraint._GeneralConstraintData at 0x7f8dc8ae82e8>"
            ]
          },
          "metadata": {
            "tags": []
          },
          "execution_count": 53
        }
      ]
    },
    {
      "cell_type": "code",
      "metadata": {
        "id": "iCLTOsH7ki6W",
        "colab": {
          "base_uri": "https://localhost:8080/",
          "height": 632
        },
        "outputId": "f28e8337-c80d-4502-e0ab-e7a69108458b"
      },
      "source": [
        "model_1.pprint()"
      ],
      "execution_count": null,
      "outputs": [
        {
          "output_type": "stream",
          "text": [
            "2 Set Declarations\n",
            "    constraints_index : Size=1, Index=None, Ordered=Insertion\n",
            "        Key  : Dimen : Domain : Size : Members\n",
            "        None :     1 :    Any :    8 : {1, 2, 3, 4, 5, 6, 7, 8}\n",
            "    x_index : Size=1, Index=None, Ordered=False\n",
            "        Key  : Dimen : Domain : Size : Members\n",
            "        None :     1 :    Any :    5 : {0, 1, 2, 3, 4}\n",
            "\n",
            "1 Var Declarations\n",
            "    x : Size=5, Index=x_index\n",
            "        Key : Lower : Value : Upper : Fixed : Stale : Domain\n",
            "          0 :     0 :   0.0 :   inf : False : False :  Reals\n",
            "          1 :     0 :   0.0 :   inf : False : False :  Reals\n",
            "          2 :     0 :   7.8 :   inf : False : False :  Reals\n",
            "          3 :     0 :   0.0 :   inf : False : False :  Reals\n",
            "          4 :     0 :   0.0 :   inf : False : False :  Reals\n",
            "\n",
            "1 Objective Declarations\n",
            "    objective : Size=1, Index=None, Active=True\n",
            "        Key  : Active : Sense    : Expression\n",
            "        None :   True : maximize : 15*x[0] + 10*x[1] + 20*x[2] + 10*x[3] + 15*x[4]\n",
            "\n",
            "1 Constraint Declarations\n",
            "    constraints : Size=8, Index=constraints_index, Active=True\n",
            "        Key : Lower : Body                                                   : Upper : Active\n",
            "          1 :  -Inf :   4.0*x[0] + 3.5*x[1] + 5.0*x[2] + 4.0*x[3] + 4.5*x[4] :  29.0 :  False\n",
            "          2 :  -Inf : 3.0*x[0] + 3.25*x[1] + 4.0*x[2] + 2.75*x[3] + 2.5*x[4] :  37.0 :  False\n",
            "          3 :  -Inf :   4.0*x[0] + 3.5*x[1] + 5.0*x[2] + 4.0*x[3] + 4.5*x[4] :  41.0 :  False\n",
            "          4 :  -Inf : 3.0*x[0] + 3.25*x[1] + 4.0*x[2] + 2.75*x[3] + 2.5*x[4] :  47.0 :  False\n",
            "          5 :  -Inf :   4.0*x[0] + 3.5*x[1] + 5.0*x[2] + 4.0*x[3] + 4.5*x[4] :  39.0 :  False\n",
            "          6 :  -Inf : 3.0*x[0] + 3.25*x[1] + 4.0*x[2] + 2.75*x[3] + 2.5*x[4] :  49.0 :  False\n",
            "          7 :  -Inf :   4.0*x[0] + 3.5*x[1] + 5.0*x[2] + 4.0*x[3] + 4.5*x[4] :  37.0 :   True\n",
            "          8 :  -Inf : 3.0*x[0] + 3.25*x[1] + 4.0*x[2] + 2.75*x[3] + 2.5*x[4] :  51.0 :   True\n",
            "\n",
            "5 Declarations: x_index x objective constraints_index constraints\n"
          ],
          "name": "stdout"
        }
      ]
    },
    {
      "cell_type": "code",
      "metadata": {
        "id": "MnidVwXgknA4"
      },
      "source": [
        "!apt-get install -y -qq coinor-cbc"
      ],
      "execution_count": null,
      "outputs": []
    },
    {
      "cell_type": "code",
      "metadata": {
        "id": "x_Vxz8agku1v"
      },
      "source": [
        "opt_cbc_1 = SolverFactory('cbc')"
      ],
      "execution_count": null,
      "outputs": []
    },
    {
      "cell_type": "code",
      "metadata": {
        "id": "q-qHNXAWk0QJ"
      },
      "source": [
        "result_1 = opt_cbc_1.solve(model_1)"
      ],
      "execution_count": null,
      "outputs": []
    },
    {
      "cell_type": "code",
      "metadata": {
        "id": "7XCS0_8hlEQ5",
        "colab": {
          "base_uri": "https://localhost:8080/",
          "height": 170
        },
        "outputId": "f779f13a-dd1d-4a20-cad2-cd840fd1c0c6"
      },
      "source": [
        "# display solution\n",
        "print('\\nObjective = ', model_1.objective())\n",
        "\n",
        "print('\\nDecision Variables')\n",
        "for i in col_indices:\n",
        "  print('Number of ',data_csvfile['Model'][i],' drones ', model_1.x[i].value)"
      ],
      "execution_count": null,
      "outputs": [
        {
          "output_type": "stream",
          "text": [
            "\n",
            "Objective =  148.0\n",
            "\n",
            "Decision Variables\n",
            "Number of  SANKALP  drones  0.0\n",
            "Number of  KARTAV  drones  0.0\n",
            "Number of  SAAHAS  drones  7.4\n",
            "Number of  VIJAY  drones  0.0\n",
            "Number of  LAKSHYA  drones  0.0\n"
          ],
          "name": "stdout"
        }
      ]
    },
    {
      "cell_type": "code",
      "metadata": {
        "id": "331SL3UElMTL"
      },
      "source": [
        "model_1.constraints[7].deactivate()\n",
        "model_1.constraints[8].deactivate()"
      ],
      "execution_count": null,
      "outputs": []
    },
    {
      "cell_type": "code",
      "metadata": {
        "id": "hnI8TjhLlg7J",
        "colab": {
          "base_uri": "https://localhost:8080/",
          "height": 34
        },
        "outputId": "24223094-37ab-49db-ee5f-bb370250ae18"
      },
      "source": [
        "model_1.constraints.add(summation(data_csvfile['Cost(in Crores)'], model_1.x) <= 35)\n",
        "model_1.constraints.add(summation(data_csvfile['Park_Space'], model_1.x) <= 53)"
      ],
      "execution_count": null,
      "outputs": [
        {
          "output_type": "execute_result",
          "data": {
            "text/plain": [
              "<pyomo.core.base.constraint._GeneralConstraintData at 0x7f8dc8ae8a08>"
            ]
          },
          "metadata": {
            "tags": []
          },
          "execution_count": 60
        }
      ]
    },
    {
      "cell_type": "code",
      "metadata": {
        "id": "dooV-c4nl4GY",
        "colab": {
          "base_uri": "https://localhost:8080/",
          "height": 666
        },
        "outputId": "a4bd97df-d040-41e5-f040-b613b1653f4b"
      },
      "source": [
        "model_1.pprint()"
      ],
      "execution_count": null,
      "outputs": [
        {
          "output_type": "stream",
          "text": [
            "2 Set Declarations\n",
            "    constraints_index : Size=1, Index=None, Ordered=Insertion\n",
            "        Key  : Dimen : Domain : Size : Members\n",
            "        None :     1 :    Any :   10 : {1, 2, 3, 4, 5, 6, 7, 8, 9, 10}\n",
            "    x_index : Size=1, Index=None, Ordered=False\n",
            "        Key  : Dimen : Domain : Size : Members\n",
            "        None :     1 :    Any :    5 : {0, 1, 2, 3, 4}\n",
            "\n",
            "1 Var Declarations\n",
            "    x : Size=5, Index=x_index\n",
            "        Key : Lower : Value : Upper : Fixed : Stale : Domain\n",
            "          0 :     0 :   0.0 :   inf : False : False :  Reals\n",
            "          1 :     0 :   0.0 :   inf : False : False :  Reals\n",
            "          2 :     0 :   7.4 :   inf : False : False :  Reals\n",
            "          3 :     0 :   0.0 :   inf : False : False :  Reals\n",
            "          4 :     0 :   0.0 :   inf : False : False :  Reals\n",
            "\n",
            "1 Objective Declarations\n",
            "    objective : Size=1, Index=None, Active=True\n",
            "        Key  : Active : Sense    : Expression\n",
            "        None :   True : maximize : 15*x[0] + 10*x[1] + 20*x[2] + 10*x[3] + 15*x[4]\n",
            "\n",
            "1 Constraint Declarations\n",
            "    constraints : Size=10, Index=constraints_index, Active=True\n",
            "        Key : Lower : Body                                                   : Upper : Active\n",
            "          1 :  -Inf :   4.0*x[0] + 3.5*x[1] + 5.0*x[2] + 4.0*x[3] + 4.5*x[4] :  29.0 :  False\n",
            "          2 :  -Inf : 3.0*x[0] + 3.25*x[1] + 4.0*x[2] + 2.75*x[3] + 2.5*x[4] :  37.0 :  False\n",
            "          3 :  -Inf :   4.0*x[0] + 3.5*x[1] + 5.0*x[2] + 4.0*x[3] + 4.5*x[4] :  41.0 :  False\n",
            "          4 :  -Inf : 3.0*x[0] + 3.25*x[1] + 4.0*x[2] + 2.75*x[3] + 2.5*x[4] :  47.0 :  False\n",
            "          5 :  -Inf :   4.0*x[0] + 3.5*x[1] + 5.0*x[2] + 4.0*x[3] + 4.5*x[4] :  39.0 :  False\n",
            "          6 :  -Inf : 3.0*x[0] + 3.25*x[1] + 4.0*x[2] + 2.75*x[3] + 2.5*x[4] :  49.0 :  False\n",
            "          7 :  -Inf :   4.0*x[0] + 3.5*x[1] + 5.0*x[2] + 4.0*x[3] + 4.5*x[4] :  37.0 :  False\n",
            "          8 :  -Inf : 3.0*x[0] + 3.25*x[1] + 4.0*x[2] + 2.75*x[3] + 2.5*x[4] :  51.0 :  False\n",
            "          9 :  -Inf :   4.0*x[0] + 3.5*x[1] + 5.0*x[2] + 4.0*x[3] + 4.5*x[4] :  35.0 :   True\n",
            "         10 :  -Inf : 3.0*x[0] + 3.25*x[1] + 4.0*x[2] + 2.75*x[3] + 2.5*x[4] :  53.0 :   True\n",
            "\n",
            "5 Declarations: x_index x objective constraints_index constraints\n"
          ],
          "name": "stdout"
        }
      ]
    },
    {
      "cell_type": "code",
      "metadata": {
        "id": "X5p27tnPmA9R"
      },
      "source": [
        "!apt-get install -y -qq coinor-cbc"
      ],
      "execution_count": null,
      "outputs": []
    },
    {
      "cell_type": "code",
      "metadata": {
        "id": "pfpdakAKmM3R"
      },
      "source": [
        "opt_cbc_1 = SolverFactory('cbc')"
      ],
      "execution_count": null,
      "outputs": []
    },
    {
      "cell_type": "code",
      "metadata": {
        "id": "nyHBtxMXmQrL"
      },
      "source": [
        "result_1 = opt_cbc_1.solve(model_1)"
      ],
      "execution_count": null,
      "outputs": []
    },
    {
      "cell_type": "code",
      "metadata": {
        "id": "T_ps0fD9mXAF",
        "colab": {
          "base_uri": "https://localhost:8080/",
          "height": 170
        },
        "outputId": "f48b034e-d996-4da8-c43c-f148554ead92"
      },
      "source": [
        "# display solution\n",
        "print('\\nObjective = ', model_1.objective())\n",
        "\n",
        "print('\\nDecision Variables')\n",
        "for i in col_indices:\n",
        "  print('Number of ',data_csvfile['Model'][i],' drones ', model_1.x[i].value)"
      ],
      "execution_count": null,
      "outputs": [
        {
          "output_type": "stream",
          "text": [
            "\n",
            "Objective =  140.0\n",
            "\n",
            "Decision Variables\n",
            "Number of  SANKALP  drones  0.0\n",
            "Number of  KARTAV  drones  0.0\n",
            "Number of  SAAHAS  drones  7.0\n",
            "Number of  VIJAY  drones  0.0\n",
            "Number of  LAKSHYA  drones  0.0\n"
          ],
          "name": "stdout"
        }
      ]
    },
    {
      "cell_type": "code",
      "metadata": {
        "id": "TvXNX7CzmdxE"
      },
      "source": [
        "model_1.constraints[9].deactivate()\n",
        "model_1.constraints[10].deactivate()"
      ],
      "execution_count": null,
      "outputs": []
    },
    {
      "cell_type": "code",
      "metadata": {
        "id": "7blL_00Wmwox",
        "colab": {
          "base_uri": "https://localhost:8080/",
          "height": 34
        },
        "outputId": "a3180afd-1cbb-4fd4-9402-f285e9530964"
      },
      "source": [
        "model_1.constraints.add(summation(data_csvfile['Cost(in Crores)'], model_1.x) <= 33)\n",
        "model_1.constraints.add(summation(data_csvfile['Park_Space'], model_1.x) <= 55)"
      ],
      "execution_count": null,
      "outputs": [
        {
          "output_type": "execute_result",
          "data": {
            "text/plain": [
              "<pyomo.core.base.constraint._GeneralConstraintData at 0x7f8dc8af7048>"
            ]
          },
          "metadata": {
            "tags": []
          },
          "execution_count": 67
        }
      ]
    },
    {
      "cell_type": "code",
      "metadata": {
        "id": "wc2CrVDfnaFJ",
        "colab": {
          "base_uri": "https://localhost:8080/",
          "height": 700
        },
        "outputId": "8dba7576-9b25-4b5f-d5d1-d709d5c2cef1"
      },
      "source": [
        "model_1.pprint()"
      ],
      "execution_count": null,
      "outputs": [
        {
          "output_type": "stream",
          "text": [
            "2 Set Declarations\n",
            "    constraints_index : Size=1, Index=None, Ordered=Insertion\n",
            "        Key  : Dimen : Domain : Size : Members\n",
            "        None :     1 :    Any :   12 : {1, 2, 3, 4, 5, 6, 7, 8, 9, 10, 11, 12}\n",
            "    x_index : Size=1, Index=None, Ordered=False\n",
            "        Key  : Dimen : Domain : Size : Members\n",
            "        None :     1 :    Any :    5 : {0, 1, 2, 3, 4}\n",
            "\n",
            "1 Var Declarations\n",
            "    x : Size=5, Index=x_index\n",
            "        Key : Lower : Value : Upper : Fixed : Stale : Domain\n",
            "          0 :     0 :   0.0 :   inf : False : False :  Reals\n",
            "          1 :     0 :   0.0 :   inf : False : False :  Reals\n",
            "          2 :     0 :   7.0 :   inf : False : False :  Reals\n",
            "          3 :     0 :   0.0 :   inf : False : False :  Reals\n",
            "          4 :     0 :   0.0 :   inf : False : False :  Reals\n",
            "\n",
            "1 Objective Declarations\n",
            "    objective : Size=1, Index=None, Active=True\n",
            "        Key  : Active : Sense    : Expression\n",
            "        None :   True : maximize : 15*x[0] + 10*x[1] + 20*x[2] + 10*x[3] + 15*x[4]\n",
            "\n",
            "1 Constraint Declarations\n",
            "    constraints : Size=12, Index=constraints_index, Active=True\n",
            "        Key : Lower : Body                                                   : Upper : Active\n",
            "          1 :  -Inf :   4.0*x[0] + 3.5*x[1] + 5.0*x[2] + 4.0*x[3] + 4.5*x[4] :  29.0 :  False\n",
            "          2 :  -Inf : 3.0*x[0] + 3.25*x[1] + 4.0*x[2] + 2.75*x[3] + 2.5*x[4] :  37.0 :  False\n",
            "          3 :  -Inf :   4.0*x[0] + 3.5*x[1] + 5.0*x[2] + 4.0*x[3] + 4.5*x[4] :  41.0 :  False\n",
            "          4 :  -Inf : 3.0*x[0] + 3.25*x[1] + 4.0*x[2] + 2.75*x[3] + 2.5*x[4] :  47.0 :  False\n",
            "          5 :  -Inf :   4.0*x[0] + 3.5*x[1] + 5.0*x[2] + 4.0*x[3] + 4.5*x[4] :  39.0 :  False\n",
            "          6 :  -Inf : 3.0*x[0] + 3.25*x[1] + 4.0*x[2] + 2.75*x[3] + 2.5*x[4] :  49.0 :  False\n",
            "          7 :  -Inf :   4.0*x[0] + 3.5*x[1] + 5.0*x[2] + 4.0*x[3] + 4.5*x[4] :  37.0 :  False\n",
            "          8 :  -Inf : 3.0*x[0] + 3.25*x[1] + 4.0*x[2] + 2.75*x[3] + 2.5*x[4] :  51.0 :  False\n",
            "          9 :  -Inf :   4.0*x[0] + 3.5*x[1] + 5.0*x[2] + 4.0*x[3] + 4.5*x[4] :  35.0 :  False\n",
            "         10 :  -Inf : 3.0*x[0] + 3.25*x[1] + 4.0*x[2] + 2.75*x[3] + 2.5*x[4] :  53.0 :  False\n",
            "         11 :  -Inf :   4.0*x[0] + 3.5*x[1] + 5.0*x[2] + 4.0*x[3] + 4.5*x[4] :  33.0 :   True\n",
            "         12 :  -Inf : 3.0*x[0] + 3.25*x[1] + 4.0*x[2] + 2.75*x[3] + 2.5*x[4] :  55.0 :   True\n",
            "\n",
            "5 Declarations: x_index x objective constraints_index constraints\n"
          ],
          "name": "stdout"
        }
      ]
    },
    {
      "cell_type": "code",
      "metadata": {
        "id": "u416lSjynEqr"
      },
      "source": [
        "!apt-get install -y -qq coinor-cbc"
      ],
      "execution_count": null,
      "outputs": []
    },
    {
      "cell_type": "code",
      "metadata": {
        "id": "460tawW0nO1M"
      },
      "source": [
        "opt_cbc_1 = SolverFactory('cbc')"
      ],
      "execution_count": null,
      "outputs": []
    },
    {
      "cell_type": "code",
      "metadata": {
        "id": "MF_XZz0gnS_9"
      },
      "source": [
        "result_1 = opt_cbc_1.solve(model_1)"
      ],
      "execution_count": null,
      "outputs": []
    },
    {
      "cell_type": "code",
      "metadata": {
        "id": "8rVB6DcYngFX",
        "colab": {
          "base_uri": "https://localhost:8080/",
          "height": 170
        },
        "outputId": "24311813-5ea4-4b05-fea8-b611ee96a5e3"
      },
      "source": [
        "# display solution\n",
        "print('\\nObjective = ', model_1.objective())\n",
        "\n",
        "print('\\nDecision Variables')\n",
        "for i in col_indices:\n",
        "  print('Number of ',data_csvfile['Model'][i],' drones ', model_1.x[i].value)"
      ],
      "execution_count": null,
      "outputs": [
        {
          "output_type": "stream",
          "text": [
            "\n",
            "Objective =  132.0\n",
            "\n",
            "Decision Variables\n",
            "Number of  SANKALP  drones  0.0\n",
            "Number of  KARTAV  drones  0.0\n",
            "Number of  SAAHAS  drones  6.6\n",
            "Number of  VIJAY  drones  0.0\n",
            "Number of  LAKSHYA  drones  0.0\n"
          ],
          "name": "stdout"
        }
      ]
    },
    {
      "cell_type": "markdown",
      "metadata": {
        "id": "ppzr_T1Wn-iD"
      },
      "source": [
        "Now we will solve the corresponding MILPs. First we will put restriction on the variables as NonNegativeIntegers."
      ]
    },
    {
      "cell_type": "code",
      "metadata": {
        "id": "tsUXI3PKntFB"
      },
      "source": [
        "model_2 = ConcreteModel()"
      ],
      "execution_count": null,
      "outputs": []
    },
    {
      "cell_type": "code",
      "metadata": {
        "id": "gTlKAtv5riTy"
      },
      "source": [
        "model_2.x = Var(col_indices,domain=NonNegativeIntegers)"
      ],
      "execution_count": null,
      "outputs": []
    },
    {
      "cell_type": "code",
      "metadata": {
        "id": "ZJiL8U0Qr2c9"
      },
      "source": [
        "model_2.objective = Objective(expr=summation(data_csvfile['Carr_Capacity'], model_2.x),sense=maximize)"
      ],
      "execution_count": null,
      "outputs": []
    },
    {
      "cell_type": "code",
      "metadata": {
        "id": "2rAceJVgsFGg"
      },
      "source": [
        "model_2.constraints = ConstraintList()"
      ],
      "execution_count": null,
      "outputs": []
    },
    {
      "cell_type": "code",
      "metadata": {
        "id": "iBmmNnfrsSbz",
        "colab": {
          "base_uri": "https://localhost:8080/",
          "height": 34
        },
        "outputId": "199e3035-dd72-462c-96a6-13445f40a1b6"
      },
      "source": [
        "model_2.constraints.add(summation(data_csvfile['Cost(in Crores)'], model_2.x) <= 41)\n",
        "model_2.constraints.add(summation(data_csvfile['Park_Space'], model_2.x) <= 47)"
      ],
      "execution_count": null,
      "outputs": [
        {
          "output_type": "execute_result",
          "data": {
            "text/plain": [
              "<pyomo.core.base.constraint._GeneralConstraintData at 0x7f8dc8af7648>"
            ]
          },
          "metadata": {
            "tags": []
          },
          "execution_count": 77
        }
      ]
    },
    {
      "cell_type": "code",
      "metadata": {
        "id": "M5Q-24fNsthM",
        "colab": {
          "base_uri": "https://localhost:8080/",
          "height": 530
        },
        "outputId": "0069371e-8229-4ce2-d13a-6d39e2e0aaf1"
      },
      "source": [
        "model_2.pprint()"
      ],
      "execution_count": null,
      "outputs": [
        {
          "output_type": "stream",
          "text": [
            "2 Set Declarations\n",
            "    constraints_index : Size=1, Index=None, Ordered=Insertion\n",
            "        Key  : Dimen : Domain : Size : Members\n",
            "        None :     1 :    Any :    2 : {1, 2}\n",
            "    x_index : Size=1, Index=None, Ordered=False\n",
            "        Key  : Dimen : Domain : Size : Members\n",
            "        None :     1 :    Any :    5 : {0, 1, 2, 3, 4}\n",
            "\n",
            "1 Var Declarations\n",
            "    x : Size=5, Index=x_index\n",
            "        Key : Lower : Value : Upper : Fixed : Stale : Domain\n",
            "          0 :     0 :  None :  None : False :  True : NonNegativeIntegers\n",
            "          1 :     0 :  None :  None : False :  True : NonNegativeIntegers\n",
            "          2 :     0 :  None :  None : False :  True : NonNegativeIntegers\n",
            "          3 :     0 :  None :  None : False :  True : NonNegativeIntegers\n",
            "          4 :     0 :  None :  None : False :  True : NonNegativeIntegers\n",
            "\n",
            "1 Objective Declarations\n",
            "    objective : Size=1, Index=None, Active=True\n",
            "        Key  : Active : Sense    : Expression\n",
            "        None :   True : maximize : 15*x[0] + 10*x[1] + 20*x[2] + 10*x[3] + 15*x[4]\n",
            "\n",
            "1 Constraint Declarations\n",
            "    constraints : Size=2, Index=constraints_index, Active=True\n",
            "        Key : Lower : Body                                                   : Upper : Active\n",
            "          1 :  -Inf :   4.0*x[0] + 3.5*x[1] + 5.0*x[2] + 4.0*x[3] + 4.5*x[4] :  41.0 :   True\n",
            "          2 :  -Inf : 3.0*x[0] + 3.25*x[1] + 4.0*x[2] + 2.75*x[3] + 2.5*x[4] :  47.0 :   True\n",
            "\n",
            "5 Declarations: x_index x objective constraints_index constraints\n"
          ],
          "name": "stdout"
        }
      ]
    },
    {
      "cell_type": "code",
      "metadata": {
        "id": "PY_7WbsGs1P5"
      },
      "source": [
        "!apt-get install -y -qq coinor-cbc"
      ],
      "execution_count": null,
      "outputs": []
    },
    {
      "cell_type": "code",
      "metadata": {
        "id": "-V6P3S3etQxX"
      },
      "source": [
        "opt_cbc_2 = SolverFactory('cbc')"
      ],
      "execution_count": null,
      "outputs": []
    },
    {
      "cell_type": "code",
      "metadata": {
        "id": "s7jRvJ5VtW12"
      },
      "source": [
        "result_2 = opt_cbc_1.solve(model_2)"
      ],
      "execution_count": null,
      "outputs": []
    },
    {
      "cell_type": "code",
      "metadata": {
        "id": "J0MeXWl6tkHN",
        "colab": {
          "base_uri": "https://localhost:8080/",
          "height": 170
        },
        "outputId": "b65fca1a-d015-4e4c-c667-e70b71809072"
      },
      "source": [
        "# display solution\n",
        "print('\\nObjective = ', model_2.objective())\n",
        "\n",
        "print('\\nDecision Variables')\n",
        "for i in col_indices:\n",
        "  print('Number of ',data_csvfile['Model'][i],' drones ', model_2.x[i].value)"
      ],
      "execution_count": null,
      "outputs": [
        {
          "output_type": "stream",
          "text": [
            "\n",
            "Objective =  160.0\n",
            "\n",
            "Decision Variables\n",
            "Number of  SANKALP  drones  0.0\n",
            "Number of  KARTAV  drones  0.0\n",
            "Number of  SAAHAS  drones  8.0\n",
            "Number of  VIJAY  drones  0.0\n",
            "Number of  LAKSHYA  drones  0.0\n"
          ],
          "name": "stdout"
        }
      ]
    },
    {
      "cell_type": "code",
      "metadata": {
        "id": "XFbw4yOmtzF3"
      },
      "source": [
        "model_2.constraints[1].deactivate()\n",
        "model_2.constraints[2].deactivate()"
      ],
      "execution_count": null,
      "outputs": []
    },
    {
      "cell_type": "code",
      "metadata": {
        "id": "ra9xkTqRt-Y7",
        "colab": {
          "base_uri": "https://localhost:8080/",
          "height": 34
        },
        "outputId": "808bce54-9300-4b3e-8e52-0f2469a555eb"
      },
      "source": [
        "model_2.constraints.add(summation(data_csvfile['Cost(in Crores)'], model_2.x) <= 39)\n",
        "model_2.constraints.add(summation(data_csvfile['Park_Space'], model_2.x) <= 49)"
      ],
      "execution_count": null,
      "outputs": [
        {
          "output_type": "execute_result",
          "data": {
            "text/plain": [
              "<pyomo.core.base.constraint._GeneralConstraintData at 0x7f8dc8af7e88>"
            ]
          },
          "metadata": {
            "tags": []
          },
          "execution_count": 84
        }
      ]
    },
    {
      "cell_type": "code",
      "metadata": {
        "id": "rBZ-5hdbuXwb",
        "colab": {
          "base_uri": "https://localhost:8080/",
          "height": 564
        },
        "outputId": "abf31007-3101-46d0-8bc7-05c5fedb09f1"
      },
      "source": [
        "model_2.pprint()"
      ],
      "execution_count": null,
      "outputs": [
        {
          "output_type": "stream",
          "text": [
            "2 Set Declarations\n",
            "    constraints_index : Size=1, Index=None, Ordered=Insertion\n",
            "        Key  : Dimen : Domain : Size : Members\n",
            "        None :     1 :    Any :    4 : {1, 2, 3, 4}\n",
            "    x_index : Size=1, Index=None, Ordered=False\n",
            "        Key  : Dimen : Domain : Size : Members\n",
            "        None :     1 :    Any :    5 : {0, 1, 2, 3, 4}\n",
            "\n",
            "1 Var Declarations\n",
            "    x : Size=5, Index=x_index\n",
            "        Key : Lower : Value : Upper : Fixed : Stale : Domain\n",
            "          0 :     0 :   0.0 :  None : False : False : NonNegativeIntegers\n",
            "          1 :     0 :   0.0 :  None : False : False : NonNegativeIntegers\n",
            "          2 :     0 :   8.0 :  None : False : False : NonNegativeIntegers\n",
            "          3 :     0 :   0.0 :  None : False : False : NonNegativeIntegers\n",
            "          4 :     0 :   0.0 :  None : False : False : NonNegativeIntegers\n",
            "\n",
            "1 Objective Declarations\n",
            "    objective : Size=1, Index=None, Active=True\n",
            "        Key  : Active : Sense    : Expression\n",
            "        None :   True : maximize : 15*x[0] + 10*x[1] + 20*x[2] + 10*x[3] + 15*x[4]\n",
            "\n",
            "1 Constraint Declarations\n",
            "    constraints : Size=4, Index=constraints_index, Active=True\n",
            "        Key : Lower : Body                                                   : Upper : Active\n",
            "          1 :  -Inf :   4.0*x[0] + 3.5*x[1] + 5.0*x[2] + 4.0*x[3] + 4.5*x[4] :  41.0 :  False\n",
            "          2 :  -Inf : 3.0*x[0] + 3.25*x[1] + 4.0*x[2] + 2.75*x[3] + 2.5*x[4] :  47.0 :  False\n",
            "          3 :  -Inf :   4.0*x[0] + 3.5*x[1] + 5.0*x[2] + 4.0*x[3] + 4.5*x[4] :  39.0 :   True\n",
            "          4 :  -Inf : 3.0*x[0] + 3.25*x[1] + 4.0*x[2] + 2.75*x[3] + 2.5*x[4] :  49.0 :   True\n",
            "\n",
            "5 Declarations: x_index x objective constraints_index constraints\n"
          ],
          "name": "stdout"
        }
      ]
    },
    {
      "cell_type": "code",
      "metadata": {
        "id": "R9mbcdL4ucbI"
      },
      "source": [
        "!apt-get install -y -qq coinor-cbc"
      ],
      "execution_count": null,
      "outputs": []
    },
    {
      "cell_type": "code",
      "metadata": {
        "id": "8isEZP2sut9s"
      },
      "source": [
        "opt_cbc_2 = SolverFactory('cbc')"
      ],
      "execution_count": null,
      "outputs": []
    },
    {
      "cell_type": "code",
      "metadata": {
        "id": "icmJ0uiHu0nl"
      },
      "source": [
        "result_2 = opt_cbc_1.solve(model_2)"
      ],
      "execution_count": null,
      "outputs": []
    },
    {
      "cell_type": "code",
      "metadata": {
        "id": "PiOKkBHLwxeG",
        "colab": {
          "base_uri": "https://localhost:8080/",
          "height": 170
        },
        "outputId": "949089ee-8d46-4efd-971a-634bf4a52fa2"
      },
      "source": [
        "# display solution\n",
        "print('\\nObjective = ', model_2.objective())\n",
        "\n",
        "print('\\nDecision Variables')\n",
        "for i in col_indices:\n",
        "  print('Number of ',data_csvfile['Model'][i],' drones ', model_2.x[i].value)"
      ],
      "execution_count": null,
      "outputs": [
        {
          "output_type": "stream",
          "text": [
            "\n",
            "Objective =  155.0\n",
            "\n",
            "Decision Variables\n",
            "Number of  SANKALP  drones  1.0\n",
            "Number of  KARTAV  drones  0.0\n",
            "Number of  SAAHAS  drones  7.0\n",
            "Number of  VIJAY  drones  0.0\n",
            "Number of  LAKSHYA  drones  0.0\n"
          ],
          "name": "stdout"
        }
      ]
    },
    {
      "cell_type": "code",
      "metadata": {
        "id": "15ATOLD-w6qm"
      },
      "source": [
        "model_2.constraints[3].deactivate()\n",
        "model_2.constraints[4].deactivate()"
      ],
      "execution_count": null,
      "outputs": []
    },
    {
      "cell_type": "code",
      "metadata": {
        "id": "7CdKZcNZyNDd",
        "colab": {
          "base_uri": "https://localhost:8080/",
          "height": 34
        },
        "outputId": "02fe5933-8267-4280-821e-b68a2037d6c8"
      },
      "source": [
        "model_2.constraints.add(summation(data_csvfile['Cost(in Crores)'], model_2.x) <= 37)\n",
        "model_2.constraints.add(summation(data_csvfile['Park_Space'], model_2.x) <= 51)"
      ],
      "execution_count": null,
      "outputs": [
        {
          "output_type": "execute_result",
          "data": {
            "text/plain": [
              "<pyomo.core.base.constraint._GeneralConstraintData at 0x7f8dc8b0b528>"
            ]
          },
          "metadata": {
            "tags": []
          },
          "execution_count": 91
        }
      ]
    },
    {
      "cell_type": "code",
      "metadata": {
        "id": "Ej_eG9nFyX4J",
        "colab": {
          "base_uri": "https://localhost:8080/",
          "height": 598
        },
        "outputId": "d7ae8a43-5028-4b53-c1cd-dfa5a399248d"
      },
      "source": [
        "model_2.pprint()"
      ],
      "execution_count": null,
      "outputs": [
        {
          "output_type": "stream",
          "text": [
            "2 Set Declarations\n",
            "    constraints_index : Size=1, Index=None, Ordered=Insertion\n",
            "        Key  : Dimen : Domain : Size : Members\n",
            "        None :     1 :    Any :    6 : {1, 2, 3, 4, 5, 6}\n",
            "    x_index : Size=1, Index=None, Ordered=False\n",
            "        Key  : Dimen : Domain : Size : Members\n",
            "        None :     1 :    Any :    5 : {0, 1, 2, 3, 4}\n",
            "\n",
            "1 Var Declarations\n",
            "    x : Size=5, Index=x_index\n",
            "        Key : Lower : Value : Upper : Fixed : Stale : Domain\n",
            "          0 :     0 :   1.0 :  None : False : False : NonNegativeIntegers\n",
            "          1 :     0 :   0.0 :  None : False : False : NonNegativeIntegers\n",
            "          2 :     0 :   7.0 :  None : False : False : NonNegativeIntegers\n",
            "          3 :     0 :   0.0 :  None : False : False : NonNegativeIntegers\n",
            "          4 :     0 :   0.0 :  None : False : False : NonNegativeIntegers\n",
            "\n",
            "1 Objective Declarations\n",
            "    objective : Size=1, Index=None, Active=True\n",
            "        Key  : Active : Sense    : Expression\n",
            "        None :   True : maximize : 15*x[0] + 10*x[1] + 20*x[2] + 10*x[3] + 15*x[4]\n",
            "\n",
            "1 Constraint Declarations\n",
            "    constraints : Size=6, Index=constraints_index, Active=True\n",
            "        Key : Lower : Body                                                   : Upper : Active\n",
            "          1 :  -Inf :   4.0*x[0] + 3.5*x[1] + 5.0*x[2] + 4.0*x[3] + 4.5*x[4] :  41.0 :  False\n",
            "          2 :  -Inf : 3.0*x[0] + 3.25*x[1] + 4.0*x[2] + 2.75*x[3] + 2.5*x[4] :  47.0 :  False\n",
            "          3 :  -Inf :   4.0*x[0] + 3.5*x[1] + 5.0*x[2] + 4.0*x[3] + 4.5*x[4] :  39.0 :  False\n",
            "          4 :  -Inf : 3.0*x[0] + 3.25*x[1] + 4.0*x[2] + 2.75*x[3] + 2.5*x[4] :  49.0 :  False\n",
            "          5 :  -Inf :   4.0*x[0] + 3.5*x[1] + 5.0*x[2] + 4.0*x[3] + 4.5*x[4] :  37.0 :   True\n",
            "          6 :  -Inf : 3.0*x[0] + 3.25*x[1] + 4.0*x[2] + 2.75*x[3] + 2.5*x[4] :  51.0 :   True\n",
            "\n",
            "5 Declarations: x_index x objective constraints_index constraints\n"
          ],
          "name": "stdout"
        }
      ]
    },
    {
      "cell_type": "code",
      "metadata": {
        "id": "6OQSkUe6ydZi"
      },
      "source": [
        "!apt-get install -y -qq coinor-cbc"
      ],
      "execution_count": null,
      "outputs": []
    },
    {
      "cell_type": "code",
      "metadata": {
        "id": "vhWWudd0ymJX"
      },
      "source": [
        "opt_cbc_2 = SolverFactory('cbc')"
      ],
      "execution_count": null,
      "outputs": []
    },
    {
      "cell_type": "code",
      "metadata": {
        "id": "c4hKPsu-yrZh"
      },
      "source": [
        "result_2 = opt_cbc_1.solve(model_2)"
      ],
      "execution_count": null,
      "outputs": []
    },
    {
      "cell_type": "code",
      "metadata": {
        "id": "0BSeeZhSy7Bq",
        "colab": {
          "base_uri": "https://localhost:8080/",
          "height": 170
        },
        "outputId": "b8432d6a-a49d-47d4-e725-c8979155b35e"
      },
      "source": [
        "# display solution\n",
        "print('\\nObjective = ', model_2.objective())\n",
        "\n",
        "print('\\nDecision Variables')\n",
        "for i in col_indices:\n",
        "  print('Number of ',data_csvfile['Model'][i],' drones ', model_2.x[i].value)"
      ],
      "execution_count": null,
      "outputs": [
        {
          "output_type": "stream",
          "text": [
            "\n",
            "Objective =  145.0\n",
            "\n",
            "Decision Variables\n",
            "Number of  SANKALP  drones  3.0\n",
            "Number of  KARTAV  drones  0.0\n",
            "Number of  SAAHAS  drones  5.0\n",
            "Number of  VIJAY  drones  0.0\n",
            "Number of  LAKSHYA  drones  0.0\n"
          ],
          "name": "stdout"
        }
      ]
    },
    {
      "cell_type": "code",
      "metadata": {
        "id": "_NAbT5vhy9Ut"
      },
      "source": [
        "model_2.constraints[5].deactivate()\n",
        "model_2.constraints[6].deactivate()"
      ],
      "execution_count": null,
      "outputs": []
    },
    {
      "cell_type": "code",
      "metadata": {
        "id": "tjBoyv19zRXp",
        "colab": {
          "base_uri": "https://localhost:8080/",
          "height": 34
        },
        "outputId": "83d9de9d-614f-45b1-a8f5-c424ddc64444"
      },
      "source": [
        "model_2.constraints.add(summation(data_csvfile['Cost(in Crores)'], model_2.x) <= 35)\n",
        "model_2.constraints.add(summation(data_csvfile['Park_Space'], model_2.x) <= 53)"
      ],
      "execution_count": null,
      "outputs": [
        {
          "output_type": "execute_result",
          "data": {
            "text/plain": [
              "<pyomo.core.base.constraint._GeneralConstraintData at 0x7f8dc8b0bb88>"
            ]
          },
          "metadata": {
            "tags": []
          },
          "execution_count": 98
        }
      ]
    },
    {
      "cell_type": "code",
      "metadata": {
        "id": "isEaWZfjzgSZ",
        "colab": {
          "base_uri": "https://localhost:8080/",
          "height": 632
        },
        "outputId": "2b95de10-818a-4d71-f5d9-bf429dca0bde"
      },
      "source": [
        "model_2.pprint()"
      ],
      "execution_count": null,
      "outputs": [
        {
          "output_type": "stream",
          "text": [
            "2 Set Declarations\n",
            "    constraints_index : Size=1, Index=None, Ordered=Insertion\n",
            "        Key  : Dimen : Domain : Size : Members\n",
            "        None :     1 :    Any :    8 : {1, 2, 3, 4, 5, 6, 7, 8}\n",
            "    x_index : Size=1, Index=None, Ordered=False\n",
            "        Key  : Dimen : Domain : Size : Members\n",
            "        None :     1 :    Any :    5 : {0, 1, 2, 3, 4}\n",
            "\n",
            "1 Var Declarations\n",
            "    x : Size=5, Index=x_index\n",
            "        Key : Lower : Value : Upper : Fixed : Stale : Domain\n",
            "          0 :     0 :   3.0 :  None : False : False : NonNegativeIntegers\n",
            "          1 :     0 :   0.0 :  None : False : False : NonNegativeIntegers\n",
            "          2 :     0 :   5.0 :  None : False : False : NonNegativeIntegers\n",
            "          3 :     0 :   0.0 :  None : False : False : NonNegativeIntegers\n",
            "          4 :     0 :   0.0 :  None : False : False : NonNegativeIntegers\n",
            "\n",
            "1 Objective Declarations\n",
            "    objective : Size=1, Index=None, Active=True\n",
            "        Key  : Active : Sense    : Expression\n",
            "        None :   True : maximize : 15*x[0] + 10*x[1] + 20*x[2] + 10*x[3] + 15*x[4]\n",
            "\n",
            "1 Constraint Declarations\n",
            "    constraints : Size=8, Index=constraints_index, Active=True\n",
            "        Key : Lower : Body                                                   : Upper : Active\n",
            "          1 :  -Inf :   4.0*x[0] + 3.5*x[1] + 5.0*x[2] + 4.0*x[3] + 4.5*x[4] :  41.0 :  False\n",
            "          2 :  -Inf : 3.0*x[0] + 3.25*x[1] + 4.0*x[2] + 2.75*x[3] + 2.5*x[4] :  47.0 :  False\n",
            "          3 :  -Inf :   4.0*x[0] + 3.5*x[1] + 5.0*x[2] + 4.0*x[3] + 4.5*x[4] :  39.0 :  False\n",
            "          4 :  -Inf : 3.0*x[0] + 3.25*x[1] + 4.0*x[2] + 2.75*x[3] + 2.5*x[4] :  49.0 :  False\n",
            "          5 :  -Inf :   4.0*x[0] + 3.5*x[1] + 5.0*x[2] + 4.0*x[3] + 4.5*x[4] :  37.0 :  False\n",
            "          6 :  -Inf : 3.0*x[0] + 3.25*x[1] + 4.0*x[2] + 2.75*x[3] + 2.5*x[4] :  51.0 :  False\n",
            "          7 :  -Inf :   4.0*x[0] + 3.5*x[1] + 5.0*x[2] + 4.0*x[3] + 4.5*x[4] :  35.0 :   True\n",
            "          8 :  -Inf : 3.0*x[0] + 3.25*x[1] + 4.0*x[2] + 2.75*x[3] + 2.5*x[4] :  53.0 :   True\n",
            "\n",
            "5 Declarations: x_index x objective constraints_index constraints\n"
          ],
          "name": "stdout"
        }
      ]
    },
    {
      "cell_type": "code",
      "metadata": {
        "id": "MsaOmeiszmbb"
      },
      "source": [
        "!apt-get install -y -qq coinor-cbc"
      ],
      "execution_count": null,
      "outputs": []
    },
    {
      "cell_type": "code",
      "metadata": {
        "id": "jbe4dtHUzv9T"
      },
      "source": [
        "opt_cbc_2 = SolverFactory('cbc')"
      ],
      "execution_count": null,
      "outputs": []
    },
    {
      "cell_type": "code",
      "metadata": {
        "id": "0BbFybTKz1iC"
      },
      "source": [
        "result_2 = opt_cbc_1.solve(model_2)"
      ],
      "execution_count": null,
      "outputs": []
    },
    {
      "cell_type": "code",
      "metadata": {
        "id": "EZwonmYTz5ow",
        "colab": {
          "base_uri": "https://localhost:8080/",
          "height": 170
        },
        "outputId": "f31c1345-c20a-438e-9ee4-5db4eacab1e4"
      },
      "source": [
        "# display solution\n",
        "print('\\nObjective = ', model_2.objective())\n",
        "\n",
        "print('\\nDecision Variables')\n",
        "for i in col_indices:\n",
        "  print('Number of ',data_csvfile['Model'][i],' drones ', model_2.x[i].value)"
      ],
      "execution_count": null,
      "outputs": [
        {
          "output_type": "stream",
          "text": [
            "\n",
            "Objective =  140.0\n",
            "\n",
            "Decision Variables\n",
            "Number of  SANKALP  drones  0.0\n",
            "Number of  KARTAV  drones  0.0\n",
            "Number of  SAAHAS  drones  7.0\n",
            "Number of  VIJAY  drones  0.0\n",
            "Number of  LAKSHYA  drones  0.0\n"
          ],
          "name": "stdout"
        }
      ]
    },
    {
      "cell_type": "code",
      "metadata": {
        "id": "lU6jOTnbz_Z9"
      },
      "source": [
        "model_2.constraints[7].deactivate()\n",
        "model_2.constraints[8].deactivate()"
      ],
      "execution_count": null,
      "outputs": []
    },
    {
      "cell_type": "code",
      "metadata": {
        "id": "VUD49yb-0LqV",
        "colab": {
          "base_uri": "https://localhost:8080/",
          "height": 34
        },
        "outputId": "11e1bb03-7fa4-42ff-a8a7-e24956ea68df"
      },
      "source": [
        "model_2.constraints.add(summation(data_csvfile['Cost(in Crores)'], model_2.x) <= 33)\n",
        "model_2.constraints.add(summation(data_csvfile['Park_Space'], model_2.x) <= 55)"
      ],
      "execution_count": null,
      "outputs": [
        {
          "output_type": "execute_result",
          "data": {
            "text/plain": [
              "<pyomo.core.base.constraint._GeneralConstraintData at 0x7f8dc8a9d228>"
            ]
          },
          "metadata": {
            "tags": []
          },
          "execution_count": 105
        }
      ]
    },
    {
      "cell_type": "code",
      "metadata": {
        "id": "Kd_f-XtZ0Vtx",
        "colab": {
          "base_uri": "https://localhost:8080/",
          "height": 666
        },
        "outputId": "b8cfb5f1-470c-46d1-eb8c-4ee3b34d3fa0"
      },
      "source": [
        "model_2.pprint()"
      ],
      "execution_count": null,
      "outputs": [
        {
          "output_type": "stream",
          "text": [
            "2 Set Declarations\n",
            "    constraints_index : Size=1, Index=None, Ordered=Insertion\n",
            "        Key  : Dimen : Domain : Size : Members\n",
            "        None :     1 :    Any :   10 : {1, 2, 3, 4, 5, 6, 7, 8, 9, 10}\n",
            "    x_index : Size=1, Index=None, Ordered=False\n",
            "        Key  : Dimen : Domain : Size : Members\n",
            "        None :     1 :    Any :    5 : {0, 1, 2, 3, 4}\n",
            "\n",
            "1 Var Declarations\n",
            "    x : Size=5, Index=x_index\n",
            "        Key : Lower : Value : Upper : Fixed : Stale : Domain\n",
            "          0 :     0 :   0.0 :  None : False : False : NonNegativeIntegers\n",
            "          1 :     0 :   0.0 :  None : False : False : NonNegativeIntegers\n",
            "          2 :     0 :   7.0 :  None : False : False : NonNegativeIntegers\n",
            "          3 :     0 :   0.0 :  None : False : False : NonNegativeIntegers\n",
            "          4 :     0 :   0.0 :  None : False : False : NonNegativeIntegers\n",
            "\n",
            "1 Objective Declarations\n",
            "    objective : Size=1, Index=None, Active=True\n",
            "        Key  : Active : Sense    : Expression\n",
            "        None :   True : maximize : 15*x[0] + 10*x[1] + 20*x[2] + 10*x[3] + 15*x[4]\n",
            "\n",
            "1 Constraint Declarations\n",
            "    constraints : Size=10, Index=constraints_index, Active=True\n",
            "        Key : Lower : Body                                                   : Upper : Active\n",
            "          1 :  -Inf :   4.0*x[0] + 3.5*x[1] + 5.0*x[2] + 4.0*x[3] + 4.5*x[4] :  41.0 :  False\n",
            "          2 :  -Inf : 3.0*x[0] + 3.25*x[1] + 4.0*x[2] + 2.75*x[3] + 2.5*x[4] :  47.0 :  False\n",
            "          3 :  -Inf :   4.0*x[0] + 3.5*x[1] + 5.0*x[2] + 4.0*x[3] + 4.5*x[4] :  39.0 :  False\n",
            "          4 :  -Inf : 3.0*x[0] + 3.25*x[1] + 4.0*x[2] + 2.75*x[3] + 2.5*x[4] :  49.0 :  False\n",
            "          5 :  -Inf :   4.0*x[0] + 3.5*x[1] + 5.0*x[2] + 4.0*x[3] + 4.5*x[4] :  37.0 :  False\n",
            "          6 :  -Inf : 3.0*x[0] + 3.25*x[1] + 4.0*x[2] + 2.75*x[3] + 2.5*x[4] :  51.0 :  False\n",
            "          7 :  -Inf :   4.0*x[0] + 3.5*x[1] + 5.0*x[2] + 4.0*x[3] + 4.5*x[4] :  35.0 :  False\n",
            "          8 :  -Inf : 3.0*x[0] + 3.25*x[1] + 4.0*x[2] + 2.75*x[3] + 2.5*x[4] :  53.0 :  False\n",
            "          9 :  -Inf :   4.0*x[0] + 3.5*x[1] + 5.0*x[2] + 4.0*x[3] + 4.5*x[4] :  33.0 :   True\n",
            "         10 :  -Inf : 3.0*x[0] + 3.25*x[1] + 4.0*x[2] + 2.75*x[3] + 2.5*x[4] :  55.0 :   True\n",
            "\n",
            "5 Declarations: x_index x objective constraints_index constraints\n"
          ],
          "name": "stdout"
        }
      ]
    },
    {
      "cell_type": "code",
      "metadata": {
        "id": "Nu6EyExx0aUF"
      },
      "source": [
        "!apt-get install -y -qq coinor-cbc"
      ],
      "execution_count": null,
      "outputs": []
    },
    {
      "cell_type": "code",
      "metadata": {
        "id": "cta5oi4Y0s58"
      },
      "source": [
        "opt_cbc_2 = SolverFactory('cbc')"
      ],
      "execution_count": null,
      "outputs": []
    },
    {
      "cell_type": "code",
      "metadata": {
        "id": "uIfZtMoq0yWb"
      },
      "source": [
        "result_2 = opt_cbc_1.solve(model_2)"
      ],
      "execution_count": null,
      "outputs": []
    },
    {
      "cell_type": "code",
      "metadata": {
        "id": "kAuJd02P00Yl",
        "colab": {
          "base_uri": "https://localhost:8080/",
          "height": 170
        },
        "outputId": "6a8118a0-3f2f-40e7-c100-8236c279b091"
      },
      "source": [
        "# display solution\n",
        "print('\\nObjective = ', model_2.objective())\n",
        "\n",
        "print('\\nDecision Variables')\n",
        "for i in col_indices:\n",
        "  print('Number of ',data_csvfile['Model'][i],' drones ', model_2.x[i].value)"
      ],
      "execution_count": null,
      "outputs": [
        {
          "output_type": "stream",
          "text": [
            "\n",
            "Objective =  130.0\n",
            "\n",
            "Decision Variables\n",
            "Number of  SANKALP  drones  2.0\n",
            "Number of  KARTAV  drones  0.0\n",
            "Number of  SAAHAS  drones  5.0\n",
            "Number of  VIJAY  drones  0.0\n",
            "Number of  LAKSHYA  drones  0.0\n"
          ],
          "name": "stdout"
        }
      ]
    },
    {
      "cell_type": "markdown",
      "metadata": {
        "id": "fjs7n1Qy3F7B"
      },
      "source": [
        "9. and 10. Answer:\n",
        "for (budget,parking space) limits  (41,47), (39,49) ,(37,51), (35,53), (33,55).We have the following pair (LP,MILP) values for objective function (164,160), (156,155), (148,145),(140,140), (132,130)."
      ]
    }
  ]
}