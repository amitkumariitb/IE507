{
  "nbformat": 4,
  "nbformat_minor": 0,
  "metadata": {
    "colab": {
      "name": "20i190005_IE507_Lab2_Ex1.ipynb",
      "provenance": []
    },
    "kernelspec": {
      "name": "python3",
      "display_name": "Python 3"
    }
  },
  "cells": [
    {
      "cell_type": "code",
      "metadata": {
        "id": "AfsTOHA5voEi",
        "colab": {
          "base_uri": "https://localhost:8080/",
          "height": 34
        },
        "outputId": "b0e6f595-f30c-493b-a17d-b4ccc444bd65"
      },
      "source": [
        "print('Welcome to IE507_Lab2_Ex1_Solution!!')"
      ],
      "execution_count": null,
      "outputs": [
        {
          "output_type": "stream",
          "text": [
            "Welcome to IE507_Lab2_Ex1_Solution!!\n"
          ],
          "name": "stdout"
        }
      ]
    },
    {
      "cell_type": "code",
      "metadata": {
        "id": "8k7X66k5ypfg",
        "colab": {
          "base_uri": "https://localhost:8080/",
          "height": 85
        },
        "outputId": "e4a41e35-269e-4f51-f320-32170d54b4fd"
      },
      "source": [
        "!pip install -q pyomo"
      ],
      "execution_count": null,
      "outputs": [
        {
          "output_type": "stream",
          "text": [
            "\u001b[K     |████████████████████████████████| 9.0MB 2.5MB/s \n",
            "\u001b[K     |████████████████████████████████| 51kB 6.8MB/s \n",
            "\u001b[K     |████████████████████████████████| 256kB 45.7MB/s \n",
            "\u001b[K     |████████████████████████████████| 163kB 50.9MB/s \n",
            "\u001b[?25h"
          ],
          "name": "stdout"
        }
      ]
    },
    {
      "cell_type": "code",
      "metadata": {
        "id": "3qGHmxpz3yPC"
      },
      "source": [
        "from pyomo.environ import *"
      ],
      "execution_count": null,
      "outputs": []
    },
    {
      "cell_type": "code",
      "metadata": {
        "id": "HmGEYcpL30kx"
      },
      "source": [
        "import numpy as np"
      ],
      "execution_count": null,
      "outputs": []
    },
    {
      "cell_type": "code",
      "metadata": {
        "id": "_yqbx-Xt3_NS"
      },
      "source": [
        "# create a model\n",
        "model = ConcreteModel()"
      ],
      "execution_count": null,
      "outputs": []
    },
    {
      "cell_type": "code",
      "metadata": {
        "id": "KMnJfV1z4R2X"
      },
      "source": [
        "obj_coef_c = np.array([-10.1, 20.15, 60.5, 80.05, 0.15, 40.5, -0.05, -30.02, 40.65, 0.125])"
      ],
      "execution_count": null,
      "outputs": []
    },
    {
      "cell_type": "code",
      "metadata": {
        "id": "xz0T_w-A6gMP"
      },
      "source": [
        "constr1_coef_s = np.array([1, 1, 1, 1, 1, 1, 1, 1, 1, 1])\n",
        "constr2_coef_w = np.array([0, 1.6, -2.02, 0, 1.01, -2.005, 0, 1.39, 1, -1.214])\n",
        "\n",
        "#declaring RHS of the constraints as variables\n",
        "constr1_rhs_b1 = 151.2\n",
        "constr2_rhs_b2 = 44.6"
      ],
      "execution_count": null,
      "outputs": []
    },
    {
      "cell_type": "code",
      "metadata": {
        "id": "TyHqcPQ99pXn"
      },
      "source": [
        "#setting the lower bound and upper bounds for the variables\n",
        "lower_bound = np.array([-np.inf, 1, 0, 0, 7, 0,-np.inf, -np.inf, 1, 1])\n",
        "upper_bound = np.array([4, 3, np.inf, 2, 10, np.inf, 13, 20, np.inf, 21])"
      ],
      "execution_count": null,
      "outputs": []
    },
    {
      "cell_type": "code",
      "metadata": {
        "id": "7DggJU4zAMnU",
        "colab": {
          "base_uri": "https://localhost:8080/",
          "height": 34
        },
        "outputId": "3cae3ed0-8a72-4e3e-f715-172bcb5fb20e"
      },
      "source": [
        "# set of column indices: since we have N=10 variables, we can take column indices to be the list [0,1,2,...,10]\n",
        "col_indices = np.arange(10)\n",
        "print(col_indices)"
      ],
      "execution_count": null,
      "outputs": [
        {
          "output_type": "stream",
          "text": [
            "[0 1 2 3 4 5 6 7 8 9]\n"
          ],
          "name": "stdout"
        }
      ]
    },
    {
      "cell_type": "code",
      "metadata": {
        "id": "pl0BkJv7Agpn"
      },
      "source": [
        "#declaration of the decision variables in the model.\n",
        "model.x = Var(col_indices)"
      ],
      "execution_count": null,
      "outputs": []
    },
    {
      "cell_type": "code",
      "metadata": {
        "id": "TtcpmklIA_mn"
      },
      "source": [
        "# creation a ConstraintList to hold multiple constraints\n",
        "model.constraints = ConstraintList()"
      ],
      "execution_count": null,
      "outputs": []
    },
    {
      "cell_type": "code",
      "metadata": {
        "id": "axpDXlkWBkru",
        "colab": {
          "base_uri": "https://localhost:8080/",
          "height": 34
        },
        "outputId": "b90ebbac-7aec-4d53-bc84-f796955b317f"
      },
      "source": [
        "#add model constraints one by one to the list \n",
        "#first adding the constraint s1*x1+ s2*x2+...+ sN*xN <= b1 \n",
        "model.constraints.add(sum(constr1_coef_s[j]*model.x[j] for j in col_indices) <= constr1_rhs_b1)"
      ],
      "execution_count": null,
      "outputs": [
        {
          "output_type": "execute_result",
          "data": {
            "text/plain": [
              "<pyomo.core.base.constraint._GeneralConstraintData at 0x7f839f9bedc8>"
            ]
          },
          "metadata": {
            "tags": []
          },
          "execution_count": 13
        }
      ]
    },
    {
      "cell_type": "code",
      "metadata": {
        "id": "kS7snnY0CFm7",
        "colab": {
          "base_uri": "https://localhost:8080/",
          "height": 34
        },
        "outputId": "39211345-f8d1-42d8-b1e2-632565404620"
      },
      "source": [
        "#subsequently adding the constraint w1*x1 + w2*x2 + ...+  wN*xN = b2\n",
        "model.constraints.add(sum(constr2_coef_w[j]*model.x[j] for j in col_indices) == constr2_rhs_b2)"
      ],
      "execution_count": null,
      "outputs": [
        {
          "output_type": "execute_result",
          "data": {
            "text/plain": [
              "<pyomo.core.base.constraint._GeneralConstraintData at 0x7f839f9bee28>"
            ]
          },
          "metadata": {
            "tags": []
          },
          "execution_count": 14
        }
      ]
    },
    {
      "cell_type": "code",
      "metadata": {
        "id": "3nXwvEJFEDyX"
      },
      "source": [
        "#adding the upper bound and lower bounds for the variables\n",
        "for j in col_indices:\n",
        "  model.x[j].setlb(lower_bound[j])\n",
        "  model.x[j].setub(upper_bound[j])"
      ],
      "execution_count": null,
      "outputs": []
    },
    {
      "cell_type": "code",
      "metadata": {
        "id": "y9oudkSpEYPC"
      },
      "source": [
        "#adding the model objective\n",
        "model.objective = Objective(expr = sum(obj_coef_c[j]*model.x[j] for j in col_indices), sense=minimize)"
      ],
      "execution_count": null,
      "outputs": []
    },
    {
      "cell_type": "code",
      "metadata": {
        "id": "uOeHFC_vEvFE",
        "colab": {
          "base_uri": "https://localhost:8080/",
          "height": 612
        },
        "outputId": "0ce18733-f725-4b64-ac4a-4661b050c68d"
      },
      "source": [
        "model.pprint()"
      ],
      "execution_count": null,
      "outputs": [
        {
          "output_type": "stream",
          "text": [
            "2 Set Declarations\n",
            "    constraints_index : Size=1, Index=None, Ordered=Insertion\n",
            "        Key  : Dimen : Domain : Size : Members\n",
            "        None :     1 :    Any :    3 : {1, 2, 3}\n",
            "    x_index : Size=1, Index=None, Ordered=False\n",
            "        Key  : Dimen : Domain : Size : Members\n",
            "        None :     1 :    Any :   10 : {0, 1, 2, 3, 4, 5, 6, 7, 8, 9}\n",
            "\n",
            "1 Var Declarations\n",
            "    x : Size=10, Index=x_index\n",
            "        Key : Lower : Value : Upper : Fixed : Stale : Domain\n",
            "          0 :  -inf :  None :   4.0 : False :  True :  Reals\n",
            "          1 :   1.0 :  None :   3.0 : False :  True :  Reals\n",
            "          2 :   0.0 :  None :   inf : False :  True :  Reals\n",
            "          3 :   0.0 :  None :   2.0 : False :  True :  Reals\n",
            "          4 :   7.0 :  None :  10.0 : False :  True :  Reals\n",
            "          5 :   0.0 :  None :   inf : False :  True :  Reals\n",
            "          6 :  -inf :  None :  13.0 : False :  True :  Reals\n",
            "          7 :  -inf :  None :  20.0 : False :  True :  Reals\n",
            "          8 :   1.0 :  None :   inf : False :  True :  Reals\n",
            "          9 :   1.0 :  None :  21.0 : False :  True :  Reals\n",
            "\n",
            "1 Objective Declarations\n",
            "    objective : Size=1, Index=None, Active=True\n",
            "        Key  : Active : Sense    : Expression\n",
            "        None :   True : minimize : -10.1*x[0] + 20.15*x[1] + 60.5*x[2] + 80.05*x[3] + 0.15*x[4] + 40.5*x[5] - 0.05*x[6] - 30.02*x[7] + 40.65*x[8] + 0.125*x[9]\n",
            "\n",
            "1 Constraint Declarations\n",
            "    constraints : Size=3, Index=constraints_index, Active=True\n",
            "        Key : Lower : Body                                                                          : Upper : Active\n",
            "          1 :  -Inf :           x[0] + x[1] + x[2] + x[3] + x[4] + x[5] + x[6] + x[7] + x[8] + x[9] : 151.2 :   True\n",
            "          2 :  -Inf :           x[0] + x[1] + x[2] + x[3] + x[4] + x[5] + x[6] + x[7] + x[8] + x[9] : 151.2 :   True\n",
            "          3 :  44.6 : 1.6*x[1] - 2.02*x[2] + 1.01*x[4] - 2.005*x[5] + 1.39*x[7] + x[8] - 1.214*x[9] :  44.6 :   True\n",
            "\n",
            "5 Declarations: x_index x constraints_index constraints objective\n"
          ],
          "name": "stdout"
        }
      ]
    },
    {
      "cell_type": "code",
      "metadata": {
        "id": "9cRxz35fJkq0",
        "colab": {
          "base_uri": "https://localhost:8080/",
          "height": 442
        },
        "outputId": "1a107ed7-2d4a-4b62-ac0a-2d04b1860463"
      },
      "source": [
        "!apt-get install -y -qq glpk-utils"
      ],
      "execution_count": null,
      "outputs": [
        {
          "output_type": "stream",
          "text": [
            "Selecting previously unselected package libsuitesparseconfig5:amd64.\n",
            "(Reading database ... 144556 files and directories currently installed.)\n",
            "Preparing to unpack .../libsuitesparseconfig5_1%3a5.1.2-2_amd64.deb ...\n",
            "Unpacking libsuitesparseconfig5:amd64 (1:5.1.2-2) ...\n",
            "Selecting previously unselected package libamd2:amd64.\n",
            "Preparing to unpack .../libamd2_1%3a5.1.2-2_amd64.deb ...\n",
            "Unpacking libamd2:amd64 (1:5.1.2-2) ...\n",
            "Selecting previously unselected package libcolamd2:amd64.\n",
            "Preparing to unpack .../libcolamd2_1%3a5.1.2-2_amd64.deb ...\n",
            "Unpacking libcolamd2:amd64 (1:5.1.2-2) ...\n",
            "Selecting previously unselected package libglpk40:amd64.\n",
            "Preparing to unpack .../libglpk40_4.65-1_amd64.deb ...\n",
            "Unpacking libglpk40:amd64 (4.65-1) ...\n",
            "Selecting previously unselected package glpk-utils.\n",
            "Preparing to unpack .../glpk-utils_4.65-1_amd64.deb ...\n",
            "Unpacking glpk-utils (4.65-1) ...\n",
            "Setting up libsuitesparseconfig5:amd64 (1:5.1.2-2) ...\n",
            "Setting up libcolamd2:amd64 (1:5.1.2-2) ...\n",
            "Setting up libamd2:amd64 (1:5.1.2-2) ...\n",
            "Setting up libglpk40:amd64 (4.65-1) ...\n",
            "Setting up glpk-utils (4.65-1) ...\n",
            "Processing triggers for libc-bin (2.27-3ubuntu1) ...\n",
            "/sbin/ldconfig.real: /usr/local/lib/python3.6/dist-packages/ideep4py/lib/libmkldnn.so.0 is not a symbolic link\n",
            "\n",
            "Processing triggers for man-db (2.8.3-2ubuntu0.1) ...\n"
          ],
          "name": "stdout"
        }
      ]
    },
    {
      "cell_type": "code",
      "metadata": {
        "id": "TaKmlv1iKZiR",
        "colab": {
          "base_uri": "https://localhost:8080/",
          "height": 578
        },
        "outputId": "6e1f16ff-5f05-44e6-dac1-7d1ae0d13202"
      },
      "source": [
        "SolverFactory('glpk', executable='/usr/bin/glpsol').solve(model).write()"
      ],
      "execution_count": null,
      "outputs": [
        {
          "output_type": "stream",
          "text": [
            "# ==========================================================\n",
            "# = Solver Results                                         =\n",
            "# ==========================================================\n",
            "# ----------------------------------------------------------\n",
            "#   Problem Information\n",
            "# ----------------------------------------------------------\n",
            "Problem: \n",
            "- Name: unknown\n",
            "  Lower bound: -452.7909\n",
            "  Upper bound: -452.7909\n",
            "  Number of objectives: 1\n",
            "  Number of constraints: 4\n",
            "  Number of variables: 11\n",
            "  Number of nonzeros: 28\n",
            "  Sense: minimize\n",
            "# ----------------------------------------------------------\n",
            "#   Solver Information\n",
            "# ----------------------------------------------------------\n",
            "Solver: \n",
            "- Status: ok\n",
            "  Termination condition: optimal\n",
            "  Statistics: \n",
            "    Branch and bound: \n",
            "      Number of bounded subproblems: 0\n",
            "      Number of created subproblems: 0\n",
            "  Error rc: 0\n",
            "  Time: 0.010019779205322266\n",
            "# ----------------------------------------------------------\n",
            "#   Solution Information\n",
            "# ----------------------------------------------------------\n",
            "Solution: \n",
            "- number of solutions: 0\n",
            "  number of solutions displayed: 0\n"
          ],
          "name": "stdout"
        }
      ]
    },
    {
      "cell_type": "code",
      "metadata": {
        "id": "RRye50E1KjLg",
        "colab": {
          "base_uri": "https://localhost:8080/",
          "height": 374
        },
        "outputId": "dea0c4c5-41e8-4176-b4ad-e39e80c2589f"
      },
      "source": [
        "# display solution\n",
        "print('\\nObjective = ', model.objective())\n",
        "\n",
        "print('\\nDecision Variables')\n",
        "for i in col_indices:\n",
        "  print('x[',i,'] = ', model.x[i].value)\n",
        "\n",
        "print('\\nConstraints')\n",
        "model.constraints.display()"
      ],
      "execution_count": null,
      "outputs": [
        {
          "output_type": "stream",
          "text": [
            "\n",
            "Objective =  -452.7909\n",
            "\n",
            "Decision Variables\n",
            "x[ 0 ] =  4.0\n",
            "x[ 1 ] =  3.0\n",
            "x[ 2 ] =  0.0\n",
            "x[ 3 ] =  0.0\n",
            "x[ 4 ] =  10.0\n",
            "x[ 5 ] =  0.0\n",
            "x[ 6 ] =  13.0\n",
            "x[ 7 ] =  20.0\n",
            "x[ 8 ] =  3.114\n",
            "x[ 9 ] =  1.0\n",
            "\n",
            "Constraints\n",
            "constraints : Size=3\n",
            "    Key : Lower : Body               : Upper\n",
            "      1 :  None :             54.114 : 151.2\n",
            "      2 :  None :             54.114 : 151.2\n",
            "      3 :  44.6 : 44.599999999999994 :  44.6\n"
          ],
          "name": "stdout"
        }
      ]
    },
    {
      "cell_type": "markdown",
      "metadata": {
        "id": "dJElWoLcOrMG"
      },
      "source": [
        "The optimal solution and the vale of objective function are:\n",
        "x1=4.0,x2 =  3.0,\n",
        "x3 =  0.0,\n",
        "x4 =  0.0,\n",
        "x5 =  10.0,\n",
        "x6 =  0.0,\n",
        "x7 =  13.0,\n",
        "x8 =  20.0,\n",
        "x9=  3.114,\n",
        "x10 =  1.0\n",
        "and Objective = -452.7909"
      ]
    }
  ]
}