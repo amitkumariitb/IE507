{
  "nbformat": 4,
  "nbformat_minor": 0,
  "metadata": {
    "colab": {
      "name": "20i190005_IE507_Lab10.ipynb",
      "provenance": [],
      "collapsed_sections": []
    },
    "kernelspec": {
      "display_name": "Python 3",
      "name": "python3"
    }
  },
  "cells": [
    {
      "cell_type": "markdown",
      "metadata": {
        "id": "8iuGmcLocsub"
      },
      "source": [
        "**1.ANSWER**"
      ]
    },
    {
      "cell_type": "code",
      "metadata": {
        "id": "jFy5pCRlfw8R",
        "outputId": "ace8ef6d-8b70-4689-bb4b-06647667fbb7",
        "colab": {
          "base_uri": "https://localhost:8080/",
          "height": 465
        }
      },
      "source": [
        "import random \n",
        "import matplotlib.pyplot as plt  # for plotting.\n",
        "from collections import deque\n",
        "from statistics import stdev\n",
        "\n",
        "# First create a data structure for a truck\n",
        "class Truck:\n",
        "  id = -1\n",
        "  reach_bridge = 0\n",
        "  start_bridge = -1\n",
        "  exit_bridge = -1\n",
        "\n",
        "  def __init__(self, id):\n",
        "    self.id = id\n",
        " \n",
        "\n",
        "# Main program\n",
        "TOTAL_TRUCKS = 20\n",
        "INTER_ARRIVAL_TIME = 0.4/40*3600 # in seconds   ##36.0\n",
        "SERVICE_TIME = 0.5/20*3600 # in seconds         ##90.0\n",
        "MY_INF = 1000000000\n",
        "#print(INTER_ARRIVAL_TIME, SERVICE_TIME)\n",
        "\n",
        "# start the simulation\n",
        "before_bridge = deque()     #Empty queue at the beginning of the bridge  ## deque is a container class in Python which can hold a collection of python objects.\n",
        "reach_bridge = deque()\n",
        "waiting_times = []\n",
        "event_times = []                            #This list will be containing the arrival and departure times sequentially.\n",
        "num_in_sys = []\n",
        "\n",
        "next_arrival = 0\n",
        "next_id = 1\n",
        "next_departure = MY_INF\n",
        "total_served = 0\n",
        "busy = False\n",
        "\n",
        "while (total_served<TOTAL_TRUCKS):\n",
        "  if (next_arrival<=next_departure):       \n",
        "    time = next_arrival\n",
        "    reach_bridge.append(time)\n",
        "    tr = Truck(next_id)                     # 'tr' is the object reference variable.##here we have passed the argument next_id, assigning it to 'id' \n",
        "    before_bridge.append(tr)                # 'tr' being an obect reference variable, denotes the address of the object.   \n",
        "    next_id += 1                            ##next_id += 1 => next_id = next_id + 1\n",
        "    #print(time, \"ARRIVAL\", tr.id)\n",
        "    if (tr.id>=TOTAL_TRUCKS):               # as soon as 20th truck reaches bridge,we have no more truks left with...so no more arrivals(or undefined)!!\n",
        "      next_arrival = MY_INF                 #when all the trucks are exhusted,we dont know when will be the \"next arrival of a new truck\"??\n",
        "    else:\n",
        "      next_arrival += INTER_ARRIVAL_TIME     \n",
        "    if (not busy):\n",
        "      tr_serve = before_bridge.popleft()    #remove from the queue # before_bridge.popleft(): this returns an element which we have removed.\n",
        "      #print(\"tr_serve :\",tr_serve)\n",
        "      tr_serve.start_bridge = time\n",
        "      waiting_times.append(tr_serve.start_bridge-reach_bridge.popleft())\n",
        "      busy = True                           #as soon as a truck starts moving over the bridge, system acts busy, until it exits the system.\n",
        "      #print(time, \"SERVICE\", tr_serve.id)\n",
        "      next_departure = time+SERVICE_TIME    # the moment a truck leves/exit the system, is the moment a new truck starts moving over the bridge.     \n",
        "    event_times.append(time)                #appending the arrival times as long as it is <= departure times. \n",
        "    num_in_sys.append(len(before_bridge))   #adding the number of trucks before bridge\n",
        "  else:                                     #when all the trucks are exhusted,we dont know when will be the \"next arrival of a new truck\"??\n",
        "    time = next_departure                   # actually it gives the exit time of the truck.\n",
        "    tr_serve.exit_bridge = time\n",
        "    total_served += 1\n",
        "    #print(time, \"DEPARTURE\", tr_serve.id)    \n",
        "    next_departure = MY_INF                 # setting this value allows us to enter above if block. \n",
        "    if (len(before_bridge)>0):\n",
        "      tr_serve = before_bridge.popleft() # remove from the queue\n",
        "      tr_serve.start_bridge = time\n",
        "      waiting_times.append(tr_serve.start_bridge-reach_bridge.popleft())\n",
        "      busy = True\n",
        "      #print(time, \"SERVICE\", tr_serve.id)\n",
        "      next_departure = time+SERVICE_TIME\n",
        "    event_times.append(time)\n",
        "    num_in_sys.append(len(before_bridge))\n",
        "    \n",
        "print(\"\\nNumber of trucks in queue at various times :\")\n",
        "print(num_in_sys)\n",
        "print(\"\\nAll trucks served in time\", time/3600, \"hours\")\n",
        "\n",
        "    \n",
        "fig = plt.figure()\n",
        "ax = fig.add_subplot(1,1,1)\n",
        "ax.set_title('Number of trucks in queue as a function of time')\n",
        "ax.set_ylabel('No. of trucks in queue')\n",
        "ax.set_xlabel('Time (seconds)')\n",
        "ax.step(event_times, num_in_sys, color='tab:blue')\n",
        "\n",
        "plt.show()\n",
        "\n",
        "print(\"waiting_times_list = \",waiting_times)\n",
        "mean = sum(waiting_times)/len(waiting_times)\n",
        "print(\"\\naverage waiting time = \", mean)\n",
        "print(\"\\nStandard deviation of waiting times is = \",stdev(waiting_times))"
      ],
      "execution_count": null,
      "outputs": [
        {
          "output_type": "stream",
          "text": [
            "\n",
            "Number of trucks in queue at various times :\n",
            "[0, 1, 2, 1, 2, 3, 4, 3, 4, 5, 4, 5, 6, 7, 6, 7, 8, 7, 8, 9, 10, 9, 10, 11, 10, 11, 12, 11, 10, 9, 8, 7, 6, 5, 4, 3, 2, 1, 0, 0]\n",
            "\n",
            "All trucks served in time 0.5 hours\n"
          ],
          "name": "stdout"
        },
        {
          "output_type": "display_data",
          "data": {
            "image/png": "[encoded data removed]",
            "text/plain": [
              "<Figure size 432x288 with 1 Axes>"
            ]
          },
          "metadata": {
            "tags": [],
            "needs_background": "light"
          }
        },
        {
          "output_type": "stream",
          "text": [
            "waiting_times_list =  [0, 54.0, 108.0, 162.0, 216.0, 270.0, 324.0, 378.0, 432.0, 486.0, 540.0, 594.0, 648.0, 702.0, 756.0, 810.0, 864.0, 918.0, 972.0, 1026.0]\n",
            "\n",
            "average waiting time =  513.0\n",
            "\n",
            "Standard deviation of waiting times is =  319.4683082873793\n"
          ],
          "name": "stdout"
        }
      ]
    },
    {
      "cell_type": "markdown",
      "metadata": {
        "id": "f_1t-agVJQAR"
      },
      "source": [
        "Q.4 Suppose there is an option of adding a new lane on the bridge so that it can serve two trucks at a time (assume all traffic is one direction). In the new setting, the mean travel time increases to 240 seconds and standard deviation 50. Simulate the new system and check whether it performs better than the single lane system."
      ]
    },
    {
      "cell_type": "markdown",
      "metadata": {
        "id": "yTFUqlrG8mEf"
      },
      "source": [
        "**2.ANSWER** \\\\\n",
        "$$For \\ \\ Last-in-first-out $$"
      ]
    },
    {
      "cell_type": "code",
      "metadata": {
        "id": "OFdh_eKjuijp",
        "outputId": "c951e329-2539-4a61-acc4-373d0a935cd2",
        "colab": {
          "base_uri": "https://localhost:8080/",
          "height": 482
        }
      },
      "source": [
        "# First create a data structure for a truck\n",
        "class Truck:\n",
        "  id = -1\n",
        "  start_bridge = -1\n",
        "  exit_bridge = -1\n",
        "\n",
        "  def __init__(self, id):\n",
        "    self.id = id\n",
        " \n",
        "\n",
        "# Main program\n",
        "TOTAL_TRUCKS = 20\n",
        "INTER_ARRIVAL_TIME = 0.4/40*3600 # in seconds   ##36.0\n",
        "SERVICE_TIME = 0.5/20*3600 # in seconds         ##90.0\n",
        "MY_INF = 1000000000\n",
        "#print(INTER_ARRIVAL_TIME, SERVICE_TIME)\n",
        "\n",
        "# start the simulation\n",
        "before_bridge = deque()     \n",
        "reach_bridge = deque()\n",
        "waiting_times = []\n",
        "event_times = []                            \n",
        "num_in_sys = []\n",
        "\n",
        "next_arrival = 0\n",
        "next_id = 1\n",
        "next_departure = MY_INF\n",
        "total_served = 0\n",
        "busy = False\n",
        "\n",
        "while (total_served<TOTAL_TRUCKS):\n",
        "  if (next_arrival<=next_departure):       \n",
        "    time = next_arrival\n",
        "    reach_bridge.append(time)\n",
        "    tr = Truck(next_id)                     \n",
        "    before_bridge.append(tr)                \n",
        "    next_id += 1                           \n",
        "    #print(time, \"ARRIVAL\", tr.id)\n",
        "    if (tr.id>=TOTAL_TRUCKS):              \n",
        "      next_arrival = MY_INF          \n",
        "    else:\n",
        "      next_arrival += INTER_ARRIVAL_TIME     \n",
        "    if (not busy):\n",
        "      tr_serve = before_bridge.pop()    \n",
        "      #print(\"tr_serve :\",tr_serve,',',tr)\n",
        "      tr_serve.start_bridge = time\n",
        "      waiting_times.append(tr_serve.start_bridge-reach_bridge.pop())\n",
        "      busy = True                           \n",
        "      #print(time, \"SERVICE\", tr_serve.id)\n",
        "      next_departure = time+SERVICE_TIME     \n",
        "    event_times.append(time)                \n",
        "    num_in_sys.append(len(before_bridge))   \n",
        "  else:                                  \n",
        "    time = next_departure                  \n",
        "    tr_serve.exit_bridge = time\n",
        "    total_served += 1\n",
        "    #print(time, \"DEPARTURE\", tr_serve.id)    \n",
        "    next_departure = MY_INF                 \n",
        "    if (len(before_bridge)>0):\n",
        "      tr_serve = before_bridge.pop() # remove from the queue\n",
        "      tr_serve.start_bridge = time\n",
        "      waiting_times.append(tr_serve.start_bridge-reach_bridge.pop())\n",
        "      busy = True\n",
        "      #print(time, \"SERVICE\", tr_serve.id)\n",
        "      next_departure = time+SERVICE_TIME\n",
        "    event_times.append(time)\n",
        "    num_in_sys.append(len(before_bridge))\n",
        "\n",
        "print(\"waiting_times = \",waiting_times)\n",
        "print(\"\\naverage waiting time = \",sum(waiting_times)/len(waiting_times))\n",
        "print(\"\\nStandard deviation of waiting times is \",stdev(waiting_times))\n",
        "print()\n",
        "print(\"\\nNumber of trucks in queue at various times :\")\n",
        "print(num_in_sys)\n",
        "print(\"\\nAll trucks served in time\", time/3600, \"hours\")\n",
        "\n",
        "fig = plt.figure()\n",
        "ax = fig.add_subplot(1,1,1)\n",
        "ax.set_title('Number of trucks in queue as a function of time')\n",
        "ax.set_ylabel('No. of trucks in queue')\n",
        "ax.set_xlabel('Time (seconds)')\n",
        "ax.step(event_times, num_in_sys, color='tab:blue')\n",
        "\n",
        "plt.show()"
      ],
      "execution_count": null,
      "outputs": [
        {
          "output_type": "stream",
          "text": [
            "waiting_times =  [0, 18.0, 0.0, 18.0, 0.0, 18.0, 0.0, 18.0, 36.0, 162.0, 324.0, 486.0, 612.0, 774.0, 936.0, 1062.0, 1224.0, 1386.0, 1512.0, 1674.0]\n",
            "\n",
            "average waiting time =  513.0\n",
            "\n",
            "Standard deviation of waiting times is  589.0125545976794\n",
            "\n",
            "\n",
            "Number of trucks in queue at various times :\n",
            "[0, 1, 2, 1, 2, 3, 4, 3, 4, 5, 4, 5, 6, 7, 6, 7, 8, 7, 8, 9, 10, 9, 10, 11, 10, 11, 12, 11, 10, 9, 8, 7, 6, 5, 4, 3, 2, 1, 0, 0]\n",
            "\n",
            "All trucks served in time 0.5 hours\n"
          ],
          "name": "stdout"
        },
        {
          "output_type": "display_data",
          "data": {
            "image/png": "[encoded data removed]",
            "text/plain": [
              "<Figure size 432x288 with 1 Axes>"
            ]
          },
          "metadata": {
            "tags": [],
            "needs_background": "light"
          }
        }
      ]
    },
    {
      "cell_type": "markdown",
      "metadata": {
        "id": "xcglGP-NiyF0"
      },
      "source": [
        "So, from the graph it is clear that **the plot of number of trucks in the queue is unaltered.** \\\\\n",
        "**Average waiting time also remains same that is = 513,** \\\\\n",
        "Only stndard deviation of the waiting time  changes"
      ]
    },
    {
      "cell_type": "markdown",
      "metadata": {
        "id": "6_N8cKsF-Iiz"
      },
      "source": [
        "**3.ANSWER**"
      ]
    },
    {
      "cell_type": "code",
      "metadata": {
        "id": "xvTu3idbGKKk",
        "outputId": "34fd6862-5339-4573-8d02-9741618ef5b0",
        "colab": {
          "base_uri": "https://localhost:8080/",
          "height": 553
        }
      },
      "source": [
        "# First create a data structure for a truck\n",
        "class Truck:\n",
        "  id = -1\n",
        "  start_bridge = -1\n",
        "  exit_bridge = -1\n",
        "  def __init__(self, id):\n",
        "    self.id = id\n",
        " \n",
        "# Main program\n",
        "TOTAL_TRUCKS = 20\n",
        "INTER_ARRIVAL_TIME = random.expovariate(1/150)   \n",
        "SERVICE_TIME =  random.normalvariate(mu=120, sigma=30)\n",
        "MY_INF = 1000000000\n",
        "#print(INTER_ARRIVAL_TIME, SERVICE_TIME)\n",
        "\n",
        "# start the simulation\n",
        "before_bridge = deque()     \n",
        "reach_bridge = deque()\n",
        "waiting_times = []\n",
        "system_times = []\n",
        "event_times = []                            \n",
        "num_in_sys = []\n",
        "\n",
        "next_arrival = 0\n",
        "next_id = 1\n",
        "next_departure = MY_INF\n",
        "total_served = 0\n",
        "busy = False\n",
        "\n",
        "while (total_served<TOTAL_TRUCKS):\n",
        "  if (next_arrival<=next_departure):        \n",
        "    time = next_arrival\n",
        "    reach_bridge.append(time)\n",
        "    tr = Truck(next_id)                    \n",
        "    before_bridge.append(tr)               \n",
        "    next_id += 1                            \n",
        "    #print(time, \"ARRIVAL\", tr.id)\n",
        "    if (tr.id>=TOTAL_TRUCKS):               \n",
        "      next_arrival = MY_INF               \n",
        "    else:\n",
        "      next_arrival += INTER_ARRIVAL_TIME     \n",
        "    if (not busy):\n",
        "      tr_serve = before_bridge.popleft()    \n",
        "      #print(\"tr_serve :\",tr_serve,',',tr)\n",
        "      tr_serve.start_bridge = time\n",
        "      waiting_times.append(tr_serve.start_bridge-reach_bridge.popleft())\n",
        "      system_times.append(waiting_times[-1]+SERVICE_TIME)\n",
        "      busy = True                           \n",
        "      #print(time, \"SERVICE\", tr_serve.id)\n",
        "      next_departure = time+SERVICE_TIME         \n",
        "    event_times.append(time)                 \n",
        "    num_in_sys.append(len(before_bridge))   \n",
        "  else:                                     \n",
        "    time = next_departure                   \n",
        "    tr_serve.exit_bridge = time\n",
        "    total_served += 1\n",
        "    #print(time, \"DEPARTURE\", tr_serve.id)    \n",
        "    next_departure = MY_INF                 \n",
        "    if (len(before_bridge)>0):\n",
        "      tr_serve = before_bridge.popleft() # remove from the queue\n",
        "      tr_serve.start_bridge = time\n",
        "      waiting_times.append(tr_serve.start_bridge-reach_bridge.popleft())\n",
        "      system_times.append(waiting_times[-1]+SERVICE_TIME)\n",
        "      busy = True\n",
        "      #print(time, \"SERVICE\", tr_serve.id)\n",
        "      next_departure = time+SERVICE_TIME\n",
        "    event_times.append(time)\n",
        "    num_in_sys.append(len(before_bridge))\n",
        "\n",
        "print(\"waiting_times = \",waiting_times)\n",
        "print(\"system_times = \",system_times)\n",
        "print(\"\\naverage waiting time = \",sum(waiting_times)/len(waiting_times))\n",
        "print(\"\\nStandard deviation of waiting times is \",stdev(waiting_times))\n",
        "print(\"\\naverage time spent by trucks in the system = \",sum(system_times)/len(system_times))\n",
        "print(\"\\nstandard dev. of time spent by trucks in the system = \",stdev(system_times))\n",
        "print()\n",
        "print(\"\\nNumber of trucks in queue at various times :\")\n",
        "print(num_in_sys)\n",
        "#print(\"\\nAll trucks served in time\", time/3600, \"hours\")\n",
        "\n",
        "fig = plt.figure()\n",
        "ax = fig.add_subplot(1,1,1)\n",
        "ax.set_title('Number of trucks in queue as a function of time')\n",
        "ax.set_ylabel('No. of trucks in queue')\n",
        "ax.set_xlabel('Time (seconds)')\n",
        "ax.step(event_times, num_in_sys, color='tab:blue')\n",
        "\n",
        "plt.show()"
      ],
      "execution_count": null,
      "outputs": [
        {
          "output_type": "stream",
          "text": [
            "waiting_times =  [0, 80.33190844605619, 160.66381689211238, 240.9957253381685, 321.32763378422476, 401.659542230281, 481.99145067633714, 562.3233591223934, 642.6552675684495, 722.9871760145058, 803.319084460562, 883.650992906618, 963.982901352674, 1044.31480979873, 1124.6467182447864, 1204.9786266908422, 1285.3105351368986, 1365.6424435829545, 1445.9743520290108, 1526.3062604750667]\n",
            "system_times =  [127.02747663537147, 207.35938508142766, 287.6912935274838, 368.02320197354, 448.35511041959626, 528.6870188656525, 609.0189273117086, 689.3508357577649, 769.682744203821, 850.0146526498773, 930.3465610959335, 1010.6784695419894, 1091.0103779880455, 1171.3422864341014, 1251.6741948801578, 1332.0061033262136, 1412.33801177227, 1492.6699202183258, 1573.0018286643822, 1653.333737110438]\n",
            "\n",
            "average waiting time =  763.1531302375336\n",
            "\n",
            "Standard deviation of waiting times is  475.24997949552204\n",
            "\n",
            "average time spent by trucks in the system =  890.1806068729051\n",
            "\n",
            "standard dev. of time spent by trucks in the system =  475.249979495522\n",
            "\n",
            "\n",
            "Number of trucks in queue at various times :\n",
            "[0, 1, 2, 1, 2, 3, 4, 3, 4, 5, 6, 5, 6, 7, 6, 7, 8, 9, 8, 9, 10, 11, 10, 11, 12, 13, 12, 11, 10, 9, 8, 7, 6, 5, 4, 3, 2, 1, 0, 0]\n"
          ],
          "name": "stdout"
        },
        {
          "output_type": "display_data",
          "data": {
            "image/png": "[encoded data removed]",
            "text/plain": [
              "<Figure size 432x288 with 1 Axes>"
            ]
          },
          "metadata": {
            "tags": [],
            "needs_background": "light"
          }
        }
      ]
    },
    {
      "cell_type": "markdown",
      "metadata": {
        "id": "vKAqxD7CgTRB"
      },
      "source": [
        "**4.ANSWER** "
      ]
    },
    {
      "cell_type": "code",
      "metadata": {
        "id": "W58UpQSNoFow"
      },
      "source": [
        "# First create a data structure for a truck\n",
        "class Truck:\n",
        "  id = -1\n",
        "  start_bridge = -1\n",
        "  exit_bridge = -1\n",
        "  def __init__(self, id):\n",
        "    self.id = id\n",
        " \n",
        "# Main program\n",
        "TOTAL_TRUCKS = 20\n",
        "INTER_ARRIVAL_TIME = random.expovariate(1/150)   \n",
        "SERVICE_TIME =  random.normalvariate(mu=240, sigma=50)\n",
        "MY_INF = 1000000000\n",
        "#print(INTER_ARRIVAL_TIME, SERVICE_TIME)\n",
        "\n",
        "# start the simulation\n",
        "before_bridge = deque()     \n",
        "reach_bridge = deque()\n",
        "waiting_times = []\n",
        "system_times = []\n",
        "event_times = []                            \n",
        "num_in_sys = []\n",
        "\n",
        "next_arrival = 0\n",
        "next_id = 1\n",
        "next_departure1 = MY_INF\n",
        "next_departure2 = MY_INF\n",
        "total_served = 0\n",
        "lane1_busy = False\n",
        "lane2_busy = False\n",
        "\n",
        "while (total_served<TOTAL_TRUCKS):\n",
        "  if (next_arrival<=min(next_departure1,next_departure2)):        \n",
        "    time = next_arrival\n",
        "    reach_bridge.append(time)\n",
        "    tr = Truck(next_id)                    \n",
        "    before_bridge.append(tr)               \n",
        "    next_id += 1                            \n",
        "    #print(time, \"ARRIVAL\", tr.id)\n",
        "    if (tr.id>=TOTAL_TRUCKS):               \n",
        "      next_arrival = MY_INF               \n",
        "    else:\n",
        "      next_arrival += INTER_ARRIVAL_TIME     \n",
        "    if (not lane1_busy):\n",
        "      tr_serve = before_bridge.popleft()    \n",
        "      #print(\"tr_serve :\",tr_serve,',',tr)\n",
        "      tr_serve.start_bridge = time\n",
        "      waiting_times.append(tr_serve.start_bridge-reach_bridge.popleft())\n",
        "      #system_times.append(waiting_times[-1]+SERVICE_TIME)\n",
        "      lane1_busy = True                           \n",
        "      #print(time, \"SERVICE\", tr_serve.id)\n",
        "      next_departure1 = time+SERVICE_TIME\n",
        "    event_times.append(time)\n",
        "    num_in_sys.append(len(before_bridge))     \n",
        "    time = next_arrival\n",
        "    reach_bridge.append(time)\n",
        "    tr = Truck(next_id)                    \n",
        "    before_bridge.append(tr)               \n",
        "    next_id += 1                            \n",
        "    #print(time, \"ARRIVAL\", tr.id)\n",
        "    if (tr.id>=TOTAL_TRUCKS):               \n",
        "      next_arrival = MY_INF               \n",
        "    else:\n",
        "      next_arrival += INTER_ARRIVAL_TIME \n",
        "    if (not lane2_busy):\n",
        "      tr_serve = before_bridge.popleft()    \n",
        "      #print(\"tr_serve :\",tr_serve,',',tr)\n",
        "      tr_serve.start_bridge = time\n",
        "      waiting_times.append(tr_serve.start_bridge-reach_bridge.popleft())\n",
        "      #system_times.append(waiting_times[-1]+SERVICE_TIME)\n",
        "      lane2_busy = True                           \n",
        "      #print(time, \"SERVICE\", tr_serve.id)\n",
        "      next_departure2 = time+SERVICE_TIME         \n",
        "    event_times.append(time)                 \n",
        "    num_in_sys.append(len(before_bridge))   \n",
        "  else:                                     \n",
        "    if time == next_departure1:                   \n",
        "      tr_serve.exit_bridge = time\n",
        "      total_served += 1       \n",
        "      next_departure = MY_INF                 \n",
        "      if (len(before_bridge)>0):\n",
        "        tr_serve = before_bridge.popleft() # remove from the queue\n",
        "        tr_serve.start_bridge = time\n",
        "        waiting_times.append(tr_serve.start_bridge-reach_bridge.popleft())\n",
        "        system_times.append(waiting_times[-1]+SERVICE_TIME)\n",
        "        lane1_busy = True\n",
        "        next_departure = time+SERVICE_TIME\n",
        "      event_times.append(time)\n",
        "      num_in_sys.append(len(before_bridge))\n",
        "    if time == next_departure2:\n",
        "      tr_serve.exit_bridge = time\n",
        "      total_served += 1       \n",
        "      next_departure = MY_INF                 \n",
        "      if (len(before_bridge)>0):\n",
        "        tr_serve = before_bridge.popleft() # remove from the queue\n",
        "        tr_serve.start_bridge = time\n",
        "        waiting_times.append(tr_serve.start_bridge-reach_bridge.popleft())\n",
        "        lane1_busy = True\n",
        "        next_departure = time+SERVICE_TIME\n",
        "      event_times.append(time)\n",
        "      num_in_sys.append(len(before_bridge))\n",
        "\n",
        "print(\"\\naverage waiting time = \",sum(waiting_times)/len(waiting_times))\n",
        "print(\"\\nStandard deviation of waiting times is \",stdev(waiting_times))\n",
        "print()\n",
        "print(\"\\nNumber of trucks in queue at various times :\")\n",
        "print(num_in_sys)\n",
        "\n",
        "fig = plt.figure()\n",
        "ax = fig.add_subplot(1,1,1)\n",
        "ax.set_title('Number of trucks in queue as a function of time')\n",
        "ax.set_ylabel('No. of trucks in queue')\n",
        "ax.set_xlabel('Time (seconds)')\n",
        "ax.step(event_times, num_in_sys, color='tab:blue')\n",
        "\n",
        "plt.show()"
      ],
      "execution_count": null,
      "outputs": []
    },
    {
      "cell_type": "markdown",
      "metadata": {
        "id": "r6uuXaoIm5JJ"
      },
      "source": [
        "double lane system performs well."
      ]
    }
  ]
}